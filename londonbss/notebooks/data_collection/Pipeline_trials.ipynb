{
 "cells": [
  {
   "cell_type": "code",
   "execution_count": null,
   "id": "c7976f1b-4cbe-4024-948b-fee631a7098e",
   "metadata": {},
   "outputs": [],
   "source": [
    "%load_ext autoreload\n",
    "%autoreload 2"
   ]
  },
  {
   "cell_type": "code",
   "execution_count": null,
   "id": "07337fd6-d09d-417e-a44b-d79c5144d242",
   "metadata": {},
   "outputs": [],
   "source": [
    "from preproc import *"
   ]
  },
  {
   "cell_type": "code",
   "execution_count": null,
   "id": "429ddf95-cc40-4d4f-a680-4c7f3ecf69e7",
   "metadata": {},
   "outputs": [],
   "source": [
    "X = pd.read_csv(\"../../../raw_data/final_features_df.csv\")"
   ]
  },
  {
   "cell_type": "code",
   "execution_count": null,
   "id": "705e306e-ba48-4548-8dfb-29e600ca348a",
   "metadata": {
    "scrolled": true
   },
   "outputs": [],
   "source": [
    "X.head()"
   ]
  },
  {
   "cell_type": "code",
   "execution_count": null,
   "id": "04890cd1-919c-437a-a580-4314a2faa3ba",
   "metadata": {},
   "outputs": [],
   "source": [
    "fit_transform_features(X, \"train\")"
   ]
  },
  {
   "cell_type": "code",
   "execution_count": null,
   "id": "fd2c531b-d279-4577-ab3e-4eb3d9219cec",
   "metadata": {},
   "outputs": [],
   "source": []
  },
  {
   "cell_type": "code",
   "execution_count": null,
   "id": "20cc6829-2438-4a34-b9fb-bffa229b972c",
   "metadata": {},
   "outputs": [],
   "source": []
  }
 ],
 "metadata": {
  "kernelspec": {
   "display_name": "Python 3 (ipykernel)",
   "language": "python",
   "name": "python3"
  },
  "language_info": {
   "codemirror_mode": {
    "name": "ipython",
    "version": 3
   },
   "file_extension": ".py",
   "mimetype": "text/x-python",
   "name": "python",
   "nbconvert_exporter": "python",
   "pygments_lexer": "ipython3",
   "version": "3.10.6"
  }
 },
 "nbformat": 4,
 "nbformat_minor": 5
}
