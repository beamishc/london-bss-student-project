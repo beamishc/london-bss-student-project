{
  "cells": [
    {
      "cell_type": "code",
      "execution_count": 1,
      "metadata": {
        "colab": {
          "base_uri": "https://localhost:8080/"
        },
        "id": "chnFhoympfXU",
        "outputId": "f5976d9c-840d-4d3e-f905-adbcd7719a13"
      },
      "outputs": [],
      "source": [
        "import pandas as pd\n",
        "import numpy as np\n",
        "from bs4 import BeautifulSoup\n",
        "import requests\n",
        "import io\n",
        "from datetime import datetime\n",
        "import matplotlib.pyplot as plt\n",
        "import seaborn as sns\n",
        "# from google.colab import drive\n",
        "# drive.mount('/content/drive')"
      ]
    },
    {
      "cell_type": "code",
      "execution_count": 2,
      "metadata": {
        "id": "-qh-SzhUL9cx"
      },
      "outputs": [],
      "source": [
        "# import os\n",
        "# os.chdir('/content/drive/MyDrive/Colab Notebooks')"
      ]
    },
    {
      "cell_type": "code",
      "execution_count": 3,
      "metadata": {
        "colab": {
          "base_uri": "https://localhost:8080/"
        },
        "id": "iKjECtKJL--b",
        "outputId": "adcfbfac-4528-43f2-f40d-b9b8235fe572"
      },
      "outputs": [],
      "source": [
        "# ls"
      ]
    },
    {
      "cell_type": "code",
      "execution_count": 12,
      "metadata": {
        "id": "R4jGMWZMqYtg"
      },
      "outputs": [],
      "source": [
        "# data_path = '../../../raw_data/tripcsvbame-1_year.csv'"
      ]
    },
    {
      "cell_type": "code",
      "execution_count": 13,
      "metadata": {
        "id": "1R5xMSJ3qBON"
      },
      "outputs": [],
      "source": [
        "# data=pd.read_csv(data_path)"
      ]
    },
    {
      "cell_type": "code",
      "execution_count": 14,
      "metadata": {
        "colab": {
          "base_uri": "https://localhost:8080/"
        },
        "id": "l2cdyZmbo3T_",
        "outputId": "a772e23d-d07b-4ca6-e316-a2c535a4ffbb"
      },
      "outputs": [
        {
          "data": {
            "text/plain": [
              "pandas.core.frame.DataFrame"
            ]
          },
          "execution_count": 14,
          "metadata": {},
          "output_type": "execute_result"
        }
      ],
      "source": [
        "# type(data)"
      ]
    },
    {
      "cell_type": "code",
      "execution_count": 15,
      "metadata": {
        "id": "qPLWDNHLpfXV"
      },
      "outputs": [],
      "source": [
        "# data['usage-stats/'][301:306]"
      ]
    },
    {
      "cell_type": "code",
      "execution_count": 16,
      "metadata": {
        "colab": {
          "base_uri": "https://localhost:8080/",
          "height": 35
        },
        "id": "lPycdiPMOo3e",
        "outputId": "d30d4653-df0c-4e1d-81de-d6a3eff9ce88"
      },
      "outputs": [
        {
          "data": {
            "text/plain": [
              "' 299JourneyDataExtract05Jan2022-11Jan2022.csv'"
            ]
          },
          "execution_count": 16,
          "metadata": {},
          "output_type": "execute_result"
        }
      ],
      "source": [
        "# data['usage-stats/'][0]"
      ]
    },
    {
      "cell_type": "code",
      "execution_count": 38,
      "metadata": {
        "colab": {
          "base_uri": "https://localhost:8080/",
          "height": 802
        },
        "id": "Omw6leYvP2qP",
        "outputId": "c4c6a6cb-29a4-4735-aac9-deb17ba59461"
      },
      "outputs": [
        {
          "data": {
            "text/html": [
              "<div>\n",
              "<style scoped>\n",
              "    .dataframe tbody tr th:only-of-type {\n",
              "        vertical-align: middle;\n",
              "    }\n",
              "\n",
              "    .dataframe tbody tr th {\n",
              "        vertical-align: top;\n",
              "    }\n",
              "\n",
              "    .dataframe thead th {\n",
              "        text-align: right;\n",
              "    }\n",
              "</style>\n",
              "<table border=\"1\" class=\"dataframe\">\n",
              "  <thead>\n",
              "    <tr style=\"text-align: right;\">\n",
              "      <th></th>\n",
              "      <th>usage-stats/</th>\n",
              "    </tr>\n",
              "  </thead>\n",
              "  <tbody>\n",
              "    <tr>\n",
              "      <th>0</th>\n",
              "      <td>299JourneyDataExtract05Jan2022-11Jan2022.csv</td>\n",
              "    </tr>\n",
              "    <tr>\n",
              "      <th>1</th>\n",
              "      <td>300JourneyDataExtract12Jan2022-18Jan2022.csv</td>\n",
              "    </tr>\n",
              "    <tr>\n",
              "      <th>2</th>\n",
              "      <td>301JourneyDataExtract19Jan2022-25Jan2022.csv</td>\n",
              "    </tr>\n",
              "    <tr>\n",
              "      <th>3</th>\n",
              "      <td>302JourneyDataExtract26Jan2022-01Feb2022.csv</td>\n",
              "    </tr>\n",
              "    <tr>\n",
              "      <th>4</th>\n",
              "      <td>303JourneyDataExtract02Feb2022-08Feb2022.csv</td>\n",
              "    </tr>\n",
              "    <tr>\n",
              "      <th>5</th>\n",
              "      <td>304JourneyDataExtract09Feb2022-15Feb2022.csv</td>\n",
              "    </tr>\n",
              "    <tr>\n",
              "      <th>6</th>\n",
              "      <td>305JourneyDataExtract16Feb2022-22Feb2022.csv</td>\n",
              "    </tr>\n",
              "    <tr>\n",
              "      <th>7</th>\n",
              "      <td>306JourneyDataExtract23Feb2022-01Mar2022.csv</td>\n",
              "    </tr>\n",
              "    <tr>\n",
              "      <th>8</th>\n",
              "      <td>307JourneyDataExtract02Mar2022-08Mar2022.csv</td>\n",
              "    </tr>\n",
              "    <tr>\n",
              "      <th>9</th>\n",
              "      <td>308JourneyDataExtract09Mar2022-15Mar2022.csv</td>\n",
              "    </tr>\n",
              "    <tr>\n",
              "      <th>10</th>\n",
              "      <td>309JourneyDataExtract16Mar2022-22Mar2022.csv</td>\n",
              "    </tr>\n",
              "    <tr>\n",
              "      <th>11</th>\n",
              "      <td>310JourneyDataExtract23Mar2022-29Mar2022.csv</td>\n",
              "    </tr>\n",
              "    <tr>\n",
              "      <th>12</th>\n",
              "      <td>311JourneyDataExtract30Mar2022-05Apr2022.csv</td>\n",
              "    </tr>\n",
              "    <tr>\n",
              "      <th>13</th>\n",
              "      <td>312JourneyDataExtract06Apr2022-12Apr2022.csv</td>\n",
              "    </tr>\n",
              "    <tr>\n",
              "      <th>14</th>\n",
              "      <td>313JourneyDataExtract13Apr2022-19Apr2022.csv</td>\n",
              "    </tr>\n",
              "    <tr>\n",
              "      <th>15</th>\n",
              "      <td>314JourneyDataExtract20Apr2022-26Apr2022.csv</td>\n",
              "    </tr>\n",
              "    <tr>\n",
              "      <th>16</th>\n",
              "      <td>315JourneyDataExtract27Apr2022-03May2022.csv</td>\n",
              "    </tr>\n",
              "    <tr>\n",
              "      <th>17</th>\n",
              "      <td>316JourneyDataExtract04May2022-10May2022.csv</td>\n",
              "    </tr>\n",
              "    <tr>\n",
              "      <th>18</th>\n",
              "      <td>317JourneyDataExtract11May2022-17May2022.csv</td>\n",
              "    </tr>\n",
              "    <tr>\n",
              "      <th>19</th>\n",
              "      <td>318JourneyDataExtract18May2022-24May2022.csv</td>\n",
              "    </tr>\n",
              "    <tr>\n",
              "      <th>20</th>\n",
              "      <td>319JourneyDataExtract25May2022-31May2022.csv</td>\n",
              "    </tr>\n",
              "    <tr>\n",
              "      <th>21</th>\n",
              "      <td>320JourneyDataExtract01Jun2022-07Jun2022.csv</td>\n",
              "    </tr>\n",
              "    <tr>\n",
              "      <th>22</th>\n",
              "      <td>321JourneyDataExtract08Jun2022-14Jun2022.csv</td>\n",
              "    </tr>\n",
              "    <tr>\n",
              "      <th>23</th>\n",
              "      <td>322JourneyDataExtract15Jun2022-21Jun2022.csv</td>\n",
              "    </tr>\n",
              "    <tr>\n",
              "      <th>24</th>\n",
              "      <td>323JourneyDataExtract22Jun2022-28Jun2022.csv</td>\n",
              "    </tr>\n",
              "    <tr>\n",
              "      <th>25</th>\n",
              "      <td>324JourneyDataExtract29Jun2022-05Jul2022.csv</td>\n",
              "    </tr>\n",
              "    <tr>\n",
              "      <th>26</th>\n",
              "      <td>325JourneyDataExtract06Jul2022-12Jul2022.csv</td>\n",
              "    </tr>\n",
              "    <tr>\n",
              "      <th>27</th>\n",
              "      <td>326JourneyDataExtract13Jul2022-19Jul2022.csv</td>\n",
              "    </tr>\n",
              "    <tr>\n",
              "      <th>28</th>\n",
              "      <td>327JourneyDataExtract20Jul2022-26Jul2022.csv</td>\n",
              "    </tr>\n",
              "    <tr>\n",
              "      <th>29</th>\n",
              "      <td>328JourneyDataExtract27Jul2022-02Aug2022.csv</td>\n",
              "    </tr>\n",
              "    <tr>\n",
              "      <th>30</th>\n",
              "      <td>329JourneyDataExtract03Aug2022-09Aug2022.csv</td>\n",
              "    </tr>\n",
              "    <tr>\n",
              "      <th>31</th>\n",
              "      <td>330JourneyDataExtract10Aug2022-16Aug2022.csv</td>\n",
              "    </tr>\n",
              "    <tr>\n",
              "      <th>32</th>\n",
              "      <td>331JourneyDataExtract17Aug2022-23Aug2022.csv</td>\n",
              "    </tr>\n",
              "    <tr>\n",
              "      <th>33</th>\n",
              "      <td>332JourneyDataExtract24Aug2022-30Aug2022.csv</td>\n",
              "    </tr>\n",
              "    <tr>\n",
              "      <th>34</th>\n",
              "      <td>333JourneyDataExtract31Aug2022-06Sep2022.csv</td>\n",
              "    </tr>\n",
              "    <tr>\n",
              "      <th>35</th>\n",
              "      <td>334JourneyDataExtract07Sep2022-11Sep2022.csv</td>\n",
              "    </tr>\n",
              "    <tr>\n",
              "      <th>36</th>\n",
              "      <td>335JourneyDataExtract12Sep2022-18Sep2022.csv</td>\n",
              "    </tr>\n",
              "    <tr>\n",
              "      <th>37</th>\n",
              "      <td>336JourneyDataExtract19Sep2022-25Sep2022.csv</td>\n",
              "    </tr>\n",
              "    <tr>\n",
              "      <th>38</th>\n",
              "      <td>337JourneyDataExtract26Sep2022-02Oct2022.csv</td>\n",
              "    </tr>\n",
              "    <tr>\n",
              "      <th>39</th>\n",
              "      <td>338JourneyDataExtract03Oct2022-09Oct2022.csv</td>\n",
              "    </tr>\n",
              "    <tr>\n",
              "      <th>40</th>\n",
              "      <td>339JourneyDataExtract10Oct2022-16Oct2022.csv</td>\n",
              "    </tr>\n",
              "    <tr>\n",
              "      <th>41</th>\n",
              "      <td>340JourneyDataExtract17Oct2022-23Oct2022.csv</td>\n",
              "    </tr>\n",
              "    <tr>\n",
              "      <th>42</th>\n",
              "      <td>341JourneyDataExtract24Oct2022-30Oct2022.csv</td>\n",
              "    </tr>\n",
              "    <tr>\n",
              "      <th>43</th>\n",
              "      <td>342JourneyDataExtract31Oct2022-06Nov2022.csv</td>\n",
              "    </tr>\n",
              "    <tr>\n",
              "      <th>44</th>\n",
              "      <td>343JourneyDataExtract07Nov2022-13Nov2022.csv</td>\n",
              "    </tr>\n",
              "    <tr>\n",
              "      <th>45</th>\n",
              "      <td>344JourneyDataExtract14Nov2022-20Nov2022.csv</td>\n",
              "    </tr>\n",
              "    <tr>\n",
              "      <th>46</th>\n",
              "      <td>345JourneyDataExtract21Nov2022-27Nov2022.csv</td>\n",
              "    </tr>\n",
              "    <tr>\n",
              "      <th>47</th>\n",
              "      <td>346JourneyDataExtract28Nov2022-04Dec2022.csv</td>\n",
              "    </tr>\n",
              "    <tr>\n",
              "      <th>48</th>\n",
              "      <td>347JourneyDataExtract05Dec2022-11Dec2022.csv</td>\n",
              "    </tr>\n",
              "    <tr>\n",
              "      <th>49</th>\n",
              "      <td>348JourneyDataExtract12Dec2022-18Dec2022.csv</td>\n",
              "    </tr>\n",
              "    <tr>\n",
              "      <th>50</th>\n",
              "      <td>349JourneyDataExtract19Dec2022-25Dec2022.csv</td>\n",
              "    </tr>\n",
              "    <tr>\n",
              "      <th>51</th>\n",
              "      <td>350JourneyDataExtract26Dec2022-01Jan2023.csv</td>\n",
              "    </tr>\n",
              "  </tbody>\n",
              "</table>\n",
              "</div>"
            ],
            "text/plain": [
              "                                    usage-stats/\n",
              "0   299JourneyDataExtract05Jan2022-11Jan2022.csv\n",
              "1   300JourneyDataExtract12Jan2022-18Jan2022.csv\n",
              "2   301JourneyDataExtract19Jan2022-25Jan2022.csv\n",
              "3   302JourneyDataExtract26Jan2022-01Feb2022.csv\n",
              "4   303JourneyDataExtract02Feb2022-08Feb2022.csv\n",
              "5   304JourneyDataExtract09Feb2022-15Feb2022.csv\n",
              "6   305JourneyDataExtract16Feb2022-22Feb2022.csv\n",
              "7   306JourneyDataExtract23Feb2022-01Mar2022.csv\n",
              "8   307JourneyDataExtract02Mar2022-08Mar2022.csv\n",
              "9   308JourneyDataExtract09Mar2022-15Mar2022.csv\n",
              "10  309JourneyDataExtract16Mar2022-22Mar2022.csv\n",
              "11  310JourneyDataExtract23Mar2022-29Mar2022.csv\n",
              "12  311JourneyDataExtract30Mar2022-05Apr2022.csv\n",
              "13  312JourneyDataExtract06Apr2022-12Apr2022.csv\n",
              "14  313JourneyDataExtract13Apr2022-19Apr2022.csv\n",
              "15  314JourneyDataExtract20Apr2022-26Apr2022.csv\n",
              "16  315JourneyDataExtract27Apr2022-03May2022.csv\n",
              "17  316JourneyDataExtract04May2022-10May2022.csv\n",
              "18  317JourneyDataExtract11May2022-17May2022.csv\n",
              "19  318JourneyDataExtract18May2022-24May2022.csv\n",
              "20  319JourneyDataExtract25May2022-31May2022.csv\n",
              "21  320JourneyDataExtract01Jun2022-07Jun2022.csv\n",
              "22  321JourneyDataExtract08Jun2022-14Jun2022.csv\n",
              "23  322JourneyDataExtract15Jun2022-21Jun2022.csv\n",
              "24  323JourneyDataExtract22Jun2022-28Jun2022.csv\n",
              "25  324JourneyDataExtract29Jun2022-05Jul2022.csv\n",
              "26  325JourneyDataExtract06Jul2022-12Jul2022.csv\n",
              "27  326JourneyDataExtract13Jul2022-19Jul2022.csv\n",
              "28  327JourneyDataExtract20Jul2022-26Jul2022.csv\n",
              "29  328JourneyDataExtract27Jul2022-02Aug2022.csv\n",
              "30  329JourneyDataExtract03Aug2022-09Aug2022.csv\n",
              "31  330JourneyDataExtract10Aug2022-16Aug2022.csv\n",
              "32  331JourneyDataExtract17Aug2022-23Aug2022.csv\n",
              "33  332JourneyDataExtract24Aug2022-30Aug2022.csv\n",
              "34  333JourneyDataExtract31Aug2022-06Sep2022.csv\n",
              "35  334JourneyDataExtract07Sep2022-11Sep2022.csv\n",
              "36  335JourneyDataExtract12Sep2022-18Sep2022.csv\n",
              "37  336JourneyDataExtract19Sep2022-25Sep2022.csv\n",
              "38  337JourneyDataExtract26Sep2022-02Oct2022.csv\n",
              "39  338JourneyDataExtract03Oct2022-09Oct2022.csv\n",
              "40  339JourneyDataExtract10Oct2022-16Oct2022.csv\n",
              "41  340JourneyDataExtract17Oct2022-23Oct2022.csv\n",
              "42  341JourneyDataExtract24Oct2022-30Oct2022.csv\n",
              "43  342JourneyDataExtract31Oct2022-06Nov2022.csv\n",
              "44  343JourneyDataExtract07Nov2022-13Nov2022.csv\n",
              "45  344JourneyDataExtract14Nov2022-20Nov2022.csv\n",
              "46  345JourneyDataExtract21Nov2022-27Nov2022.csv\n",
              "47  346JourneyDataExtract28Nov2022-04Dec2022.csv\n",
              "48  347JourneyDataExtract05Dec2022-11Dec2022.csv\n",
              "49  348JourneyDataExtract12Dec2022-18Dec2022.csv\n",
              "50  349JourneyDataExtract19Dec2022-25Dec2022.csv\n",
              "51  350JourneyDataExtract26Dec2022-01Jan2023.csv"
            ]
          },
          "execution_count": 38,
          "metadata": {},
          "output_type": "execute_result"
        }
      ],
      "source": [
        "# data['usage-stats/']=data['usage-stats/'].apply(lambda x: x.strip())\n",
        "# data"
      ]
    },
    {
      "cell_type": "code",
      "execution_count": 20,
      "metadata": {},
      "outputs": [],
      "source": [
        "# def read_url(url):\n",
        "#     s=requests.get(url).content\n",
        "#     c=pd.read_csv(io.StringIO(s.decode('utf-8')))\n",
        "#     return c"
      ]
    },
    {
      "cell_type": "code",
      "execution_count": 46,
      "metadata": {},
      "outputs": [],
      "source": [
        "# data"
      ]
    },
    {
      "cell_type": "code",
      "execution_count": 47,
      "metadata": {
        "colab": {
          "base_uri": "https://localhost:8080/"
        },
        "id": "owqqKgmhpfXW",
        "outputId": "9d663964-0a3e-4f2c-ba23-add40d6a9909"
      },
      "outputs": [],
      "source": [
        "# data_2023=data\n",
        "# frames=[]\n",
        "# link=\"https://cycling.data.tfl.gov.uk/usage-stats/\"\n",
        "# #for x in data_2023.index:\n",
        "# #    file=link+item[1:]\n",
        "# #    frame.append(read_url(file))\n",
        "#   # print((data_path + data_2023['usage-stats/'][x]).replace(' ',''))\n",
        "# #  frames.append(pd.read_csv(data_path + data_2023['usage-stats/'][x]))\n",
        "\n",
        "# for item in data_2023['usage-stats/']:\n",
        "#     file=link+item\n",
        "#     frames.append(read_url(file))\n",
        "# result = pd.concat(frames)\n",
        "# result"
      ]
    },
    {
      "cell_type": "code",
      "execution_count": 48,
      "metadata": {
        "id": "9XjGzlSbPz4f"
      },
      "outputs": [],
      "source": [
        "# data_2023.iloc[0]"
      ]
    },
    {
      "cell_type": "code",
      "execution_count": 49,
      "metadata": {
        "id": "AcGbPeh7q7BI"
      },
      "outputs": [],
      "source": [
        "dict_columns = {\n",
        "    \"Number\": \"Rental Id\",\n",
        "    \"Total duration (ms)\": \"Duration\",\n",
        "    \"Bike number\" : \"Bike Id\",\n",
        "    \"Start station\" : 'StartStation Name',\n",
        "    'End station': 'EndStation Name',\n",
        "    'End Date': 'End date',\n",
        "    'Start Date': 'Start date'\n",
        "}"
      ]
    },
    {
      "cell_type": "code",
      "execution_count": 50,
      "metadata": {
        "colab": {
          "base_uri": "https://localhost:8080/",
          "height": 806
        },
        "id": "BiS5vXMfsSoe",
        "outputId": "7809d953-f7c1-4ba4-d435-61a1a32aad46"
      },
      "outputs": [],
      "source": [
        "# result_general = result.rename(columns=dict_columns)\n",
        "# result_general['Duration'] = result_general['Duration']/1000\n",
        "# result_general"
      ]
    },
    {
      "cell_type": "code",
      "execution_count": 51,
      "metadata": {
        "colab": {
          "base_uri": "https://localhost:8080/",
          "height": 806
        },
        "id": "beHB_M4QpfXW",
        "outputId": "17986df3-1312-4b22-aa00-41eacf2b71ab"
      },
      "outputs": [],
      "source": [
        "# date_format = '%d/%m/%Y %H:%M:%S'\n",
        "# result_general['End date']=pd.to_datetime(result_general['End date'])\n",
        "# result_general['Start date']=pd.to_datetime(result_general['Start date'])\n",
        "# result_general"
      ]
    },
    {
      "cell_type": "code",
      "execution_count": 52,
      "metadata": {
        "id": "uov5lld3pfXW"
      },
      "outputs": [],
      "source": [
        "# results_f = result_general[result_general['Duration']<3600]"
      ]
    },
    {
      "cell_type": "code",
      "execution_count": 53,
      "metadata": {
        "colab": {
          "base_uri": "https://localhost:8080/",
          "height": 806
        },
        "id": "9y66xrDqpfXW",
        "outputId": "ac5cea66-d45a-4ca2-8050-f71607ce026f"
      },
      "outputs": [],
      "source": [
        "# results_f"
      ]
    },
    {
      "cell_type": "code",
      "execution_count": 16,
      "metadata": {
        "colab": {
          "base_uri": "https://localhost:8080/"
        },
        "id": "4ngIbHiPF2sQ",
        "outputId": "320abd28-6e06-4b2f-cd08-dcebf0db7f2f"
      },
      "outputs": [
        {
          "data": {
            "text/plain": [
              "3784861"
            ]
          },
          "execution_count": 16,
          "metadata": {},
          "output_type": "execute_result"
        }
      ],
      "source": [
        "# len(result_general)"
      ]
    },
    {
      "cell_type": "code",
      "execution_count": 17,
      "metadata": {
        "colab": {
          "base_uri": "https://localhost:8080/"
        },
        "id": "TPks7I9mF6f9",
        "outputId": "61ece640-b43b-4456-9063-da153f952611"
      },
      "outputs": [
        {
          "data": {
            "text/plain": [
              "3685263"
            ]
          },
          "execution_count": 17,
          "metadata": {},
          "output_type": "execute_result"
        }
      ],
      "source": [
        "# len(results_f)"
      ]
    },
    {
      "cell_type": "code",
      "execution_count": 54,
      "metadata": {
        "colab": {
          "base_uri": "https://localhost:8080/",
          "height": 646
        },
        "id": "oFznpFTjpfXW",
        "outputId": "2a6a3f8b-01f1-45c0-fa89-ed8a5f98593e"
      },
      "outputs": [],
      "source": [
        "# result=results_f.dropna()\n",
        "# new_result=result.set_index('Start date').groupby([pd.Grouper(freq='h'), 'StartStation Name', 'EndStation Name']).count()\n",
        "# new_result"
      ]
    },
    {
      "cell_type": "code",
      "execution_count": 55,
      "metadata": {
        "colab": {
          "base_uri": "https://localhost:8080/"
        },
        "id": "_FTnF0yxuJcm",
        "outputId": "aed0a3b6-8efd-4b15-da95-54d4f63cad71"
      },
      "outputs": [],
      "source": [
        "# new_result.columns"
      ]
    },
    {
      "cell_type": "code",
      "execution_count": 20,
      "metadata": {
        "id": "IuFJUVbdua1l"
      },
      "outputs": [],
      "source": [
        "# new_result['No of trips']=new_result['Duration']"
      ]
    },
    {
      "cell_type": "code",
      "execution_count": 56,
      "metadata": {
        "colab": {
          "base_uri": "https://localhost:8080/",
          "height": 663
        },
        "id": "HXP1TEZ-usLS",
        "outputId": "99d10ea7-9896-4cb3-870e-cace20c16f02"
      },
      "outputs": [],
      "source": [
        "# new_result"
      ]
    },
    {
      "cell_type": "code",
      "execution_count": 22,
      "metadata": {
        "id": "SGYSsko_udO_"
      },
      "outputs": [],
      "source": [
        "# new_result = new_result[['No of trips']]"
      ]
    },
    {
      "cell_type": "code",
      "execution_count": 3,
      "metadata": {},
      "outputs": [
        {
          "ename": "KeyboardInterrupt",
          "evalue": "",
          "output_type": "error",
          "traceback": [
            "\u001b[0;31m---------------------------------------------------------------------------\u001b[0m",
            "\u001b[0;31mKeyboardInterrupt\u001b[0m                         Traceback (most recent call last)",
            "Cell \u001b[0;32mIn[3], line 6\u001b[0m\n\u001b[1;32m      1\u001b[0m \u001b[39mimport\u001b[39;00m \u001b[39mpandas\u001b[39;00m \u001b[39mas\u001b[39;00m \u001b[39mpd\u001b[39;00m\n\u001b[1;32m      2\u001b[0m query \u001b[39m=\u001b[39m \u001b[39m'''\u001b[39m\n\u001b[1;32m      3\u001b[0m \u001b[39m  SELECT *\u001b[39m\n\u001b[1;32m      4\u001b[0m \u001b[39m  FROM `wagon-bootcamp-396316.londonbss.data2022`\u001b[39m\n\u001b[1;32m      5\u001b[0m \u001b[39m'''\u001b[39m\n\u001b[0;32m----> 6\u001b[0m df \u001b[39m=\u001b[39m pd\u001b[39m.\u001b[39;49mread_gbq(query, project_id\u001b[39m=\u001b[39;49m\u001b[39m\"\u001b[39;49m\u001b[39mwagon-bootcamp-396316\u001b[39;49m\u001b[39m\"\u001b[39;49m)\n\u001b[1;32m      7\u001b[0m df\n",
            "File \u001b[0;32m~/.pyenv/versions/3.10.6/envs/london-bss/lib/python3.10/site-packages/pandas/io/gbq.py:186\u001b[0m, in \u001b[0;36mread_gbq\u001b[0;34m(query, project_id, index_col, col_order, reauth, auth_local_webserver, dialect, location, configuration, credentials, use_bqstorage_api, max_results, progress_bar_type)\u001b[0m\n\u001b[1;32m    183\u001b[0m kwargs[\u001b[39m\"\u001b[39m\u001b[39mprogress_bar_type\u001b[39m\u001b[39m\"\u001b[39m] \u001b[39m=\u001b[39m progress_bar_type\n\u001b[1;32m    184\u001b[0m \u001b[39m# END: new kwargs\u001b[39;00m\n\u001b[0;32m--> 186\u001b[0m \u001b[39mreturn\u001b[39;00m pandas_gbq\u001b[39m.\u001b[39;49mread_gbq(\n\u001b[1;32m    187\u001b[0m     query,\n\u001b[1;32m    188\u001b[0m     project_id\u001b[39m=\u001b[39;49mproject_id,\n\u001b[1;32m    189\u001b[0m     index_col\u001b[39m=\u001b[39;49mindex_col,\n\u001b[1;32m    190\u001b[0m     col_order\u001b[39m=\u001b[39;49mcol_order,\n\u001b[1;32m    191\u001b[0m     reauth\u001b[39m=\u001b[39;49mreauth,\n\u001b[1;32m    192\u001b[0m     auth_local_webserver\u001b[39m=\u001b[39;49mauth_local_webserver,\n\u001b[1;32m    193\u001b[0m     dialect\u001b[39m=\u001b[39;49mdialect,\n\u001b[1;32m    194\u001b[0m     location\u001b[39m=\u001b[39;49mlocation,\n\u001b[1;32m    195\u001b[0m     configuration\u001b[39m=\u001b[39;49mconfiguration,\n\u001b[1;32m    196\u001b[0m     credentials\u001b[39m=\u001b[39;49mcredentials,\n\u001b[1;32m    197\u001b[0m     \u001b[39m*\u001b[39;49m\u001b[39m*\u001b[39;49mkwargs,\n\u001b[1;32m    198\u001b[0m )\n",
            "File \u001b[0;32m~/.pyenv/versions/3.10.6/envs/london-bss/lib/python3.10/site-packages/pandas_gbq/gbq.py:943\u001b[0m, in \u001b[0;36mread_gbq\u001b[0;34m(query_or_table, project_id, index_col, col_order, reauth, auth_local_webserver, dialect, location, configuration, credentials, use_bqstorage_api, max_results, verbose, private_key, progress_bar_type, dtypes, auth_redirect_uri, client_id, client_secret)\u001b[0m\n\u001b[1;32m    928\u001b[0m connector \u001b[39m=\u001b[39m GbqConnector(\n\u001b[1;32m    929\u001b[0m     project_id,\n\u001b[1;32m    930\u001b[0m     reauth\u001b[39m=\u001b[39mreauth,\n\u001b[0;32m   (...)\u001b[0m\n\u001b[1;32m    939\u001b[0m     client_secret\u001b[39m=\u001b[39mclient_secret,\n\u001b[1;32m    940\u001b[0m )\n\u001b[1;32m    942\u001b[0m \u001b[39mif\u001b[39;00m _is_query(query_or_table):\n\u001b[0;32m--> 943\u001b[0m     final_df \u001b[39m=\u001b[39m connector\u001b[39m.\u001b[39;49mrun_query(\n\u001b[1;32m    944\u001b[0m         query_or_table,\n\u001b[1;32m    945\u001b[0m         configuration\u001b[39m=\u001b[39;49mconfiguration,\n\u001b[1;32m    946\u001b[0m         max_results\u001b[39m=\u001b[39;49mmax_results,\n\u001b[1;32m    947\u001b[0m         progress_bar_type\u001b[39m=\u001b[39;49mprogress_bar_type,\n\u001b[1;32m    948\u001b[0m         dtypes\u001b[39m=\u001b[39;49mdtypes,\n\u001b[1;32m    949\u001b[0m     )\n\u001b[1;32m    950\u001b[0m \u001b[39melse\u001b[39;00m:\n\u001b[1;32m    951\u001b[0m     final_df \u001b[39m=\u001b[39m connector\u001b[39m.\u001b[39mdownload_table(\n\u001b[1;32m    952\u001b[0m         query_or_table,\n\u001b[1;32m    953\u001b[0m         max_results\u001b[39m=\u001b[39mmax_results,\n\u001b[1;32m    954\u001b[0m         progress_bar_type\u001b[39m=\u001b[39mprogress_bar_type,\n\u001b[1;32m    955\u001b[0m         dtypes\u001b[39m=\u001b[39mdtypes,\n\u001b[1;32m    956\u001b[0m     )\n",
            "File \u001b[0;32m~/.pyenv/versions/3.10.6/envs/london-bss/lib/python3.10/site-packages/pandas_gbq/gbq.py:539\u001b[0m, in \u001b[0;36mGbqConnector.run_query\u001b[0;34m(self, query, max_results, progress_bar_type, **kwargs)\u001b[0m\n\u001b[1;32m    534\u001b[0m     \u001b[39mreturn\u001b[39;00m pandas\u001b[39m.\u001b[39mDataFrame()\n\u001b[1;32m    536\u001b[0m rows_iter \u001b[39m=\u001b[39m \u001b[39mself\u001b[39m\u001b[39m.\u001b[39mclient\u001b[39m.\u001b[39mlist_rows(\n\u001b[1;32m    537\u001b[0m     query_reply\u001b[39m.\u001b[39mdestination, max_results\u001b[39m=\u001b[39mmax_results\n\u001b[1;32m    538\u001b[0m )\n\u001b[0;32m--> 539\u001b[0m \u001b[39mreturn\u001b[39;00m \u001b[39mself\u001b[39;49m\u001b[39m.\u001b[39;49m_download_results(\n\u001b[1;32m    540\u001b[0m     rows_iter,\n\u001b[1;32m    541\u001b[0m     max_results\u001b[39m=\u001b[39;49mmax_results,\n\u001b[1;32m    542\u001b[0m     progress_bar_type\u001b[39m=\u001b[39;49mprogress_bar_type,\n\u001b[1;32m    543\u001b[0m     user_dtypes\u001b[39m=\u001b[39;49mdtypes,\n\u001b[1;32m    544\u001b[0m )\n",
            "File \u001b[0;32m~/.pyenv/versions/3.10.6/envs/london-bss/lib/python3.10/site-packages/pandas_gbq/gbq.py:572\u001b[0m, in \u001b[0;36mGbqConnector._download_results\u001b[0;34m(self, rows_iter, max_results, progress_bar_type, user_dtypes)\u001b[0m\n\u001b[1;32m    570\u001b[0m     conversion_dtypes \u001b[39m=\u001b[39m _bqschema_to_nullsafe_dtypes(schema_fields)\n\u001b[1;32m    571\u001b[0m     conversion_dtypes\u001b[39m.\u001b[39mupdate(user_dtypes)\n\u001b[0;32m--> 572\u001b[0m     df \u001b[39m=\u001b[39m rows_iter\u001b[39m.\u001b[39;49mto_dataframe(\n\u001b[1;32m    573\u001b[0m         dtypes\u001b[39m=\u001b[39;49mconversion_dtypes,\n\u001b[1;32m    574\u001b[0m         progress_bar_type\u001b[39m=\u001b[39;49mprogress_bar_type,\n\u001b[1;32m    575\u001b[0m         create_bqstorage_client\u001b[39m=\u001b[39;49mcreate_bqstorage_client,\n\u001b[1;32m    576\u001b[0m         \u001b[39m*\u001b[39;49m\u001b[39m*\u001b[39;49mto_dataframe_kwargs,\n\u001b[1;32m    577\u001b[0m     )\n\u001b[1;32m    578\u001b[0m \u001b[39mexcept\u001b[39;00m \u001b[39mself\u001b[39m\u001b[39m.\u001b[39mhttp_error \u001b[39mas\u001b[39;00m ex:\n\u001b[1;32m    579\u001b[0m     \u001b[39mself\u001b[39m\u001b[39m.\u001b[39mprocess_http_error(ex)\n",
            "File \u001b[0;32m~/.pyenv/versions/3.10.6/envs/london-bss/lib/python3.10/site-packages/google/cloud/bigquery/table.py:2155\u001b[0m, in \u001b[0;36mRowIterator.to_dataframe\u001b[0;34m(self, bqstorage_client, dtypes, progress_bar_type, create_bqstorage_client, geography_as_object, bool_dtype, int_dtype, float_dtype, string_dtype, date_dtype, datetime_dtype, time_dtype, timestamp_dtype)\u001b[0m\n\u001b[1;32m   2152\u001b[0m     create_bqstorage_client \u001b[39m=\u001b[39m \u001b[39mFalse\u001b[39;00m\n\u001b[1;32m   2153\u001b[0m     bqstorage_client \u001b[39m=\u001b[39m \u001b[39mNone\u001b[39;00m\n\u001b[0;32m-> 2155\u001b[0m record_batch \u001b[39m=\u001b[39m \u001b[39mself\u001b[39;49m\u001b[39m.\u001b[39;49mto_arrow(\n\u001b[1;32m   2156\u001b[0m     progress_bar_type\u001b[39m=\u001b[39;49mprogress_bar_type,\n\u001b[1;32m   2157\u001b[0m     bqstorage_client\u001b[39m=\u001b[39;49mbqstorage_client,\n\u001b[1;32m   2158\u001b[0m     create_bqstorage_client\u001b[39m=\u001b[39;49mcreate_bqstorage_client,\n\u001b[1;32m   2159\u001b[0m )\n\u001b[1;32m   2161\u001b[0m \u001b[39m# Default date dtype is `db_dtypes.DateDtype()` that could cause out of bounds error,\u001b[39;00m\n\u001b[1;32m   2162\u001b[0m \u001b[39m# when pyarrow converts date values to nanosecond precision. To avoid the error, we\u001b[39;00m\n\u001b[1;32m   2163\u001b[0m \u001b[39m# set the date_as_object parameter to True, if necessary.\u001b[39;00m\n\u001b[1;32m   2164\u001b[0m date_as_object \u001b[39m=\u001b[39m \u001b[39mFalse\u001b[39;00m\n",
            "File \u001b[0;32m~/.pyenv/versions/3.10.6/envs/london-bss/lib/python3.10/site-packages/google/cloud/bigquery/table.py:1825\u001b[0m, in \u001b[0;36mRowIterator.to_arrow\u001b[0;34m(self, progress_bar_type, bqstorage_client, create_bqstorage_client)\u001b[0m\n\u001b[1;32m   1820\u001b[0m progress_bar \u001b[39m=\u001b[39m get_progress_bar(\n\u001b[1;32m   1821\u001b[0m     progress_bar_type, \u001b[39m\"\u001b[39m\u001b[39mDownloading\u001b[39m\u001b[39m\"\u001b[39m, \u001b[39mself\u001b[39m\u001b[39m.\u001b[39mtotal_rows, \u001b[39m\"\u001b[39m\u001b[39mrows\u001b[39m\u001b[39m\"\u001b[39m\n\u001b[1;32m   1822\u001b[0m )\n\u001b[1;32m   1824\u001b[0m record_batches \u001b[39m=\u001b[39m []\n\u001b[0;32m-> 1825\u001b[0m \u001b[39mfor\u001b[39;00m record_batch \u001b[39min\u001b[39;00m \u001b[39mself\u001b[39m\u001b[39m.\u001b[39mto_arrow_iterable(\n\u001b[1;32m   1826\u001b[0m     bqstorage_client\u001b[39m=\u001b[39mbqstorage_client\n\u001b[1;32m   1827\u001b[0m ):\n\u001b[1;32m   1828\u001b[0m     record_batches\u001b[39m.\u001b[39mappend(record_batch)\n\u001b[1;32m   1830\u001b[0m     \u001b[39mif\u001b[39;00m progress_bar \u001b[39mis\u001b[39;00m \u001b[39mnot\u001b[39;00m \u001b[39mNone\u001b[39;00m:\n\u001b[1;32m   1831\u001b[0m         \u001b[39m# In some cases, the number of total rows is not populated\u001b[39;00m\n\u001b[1;32m   1832\u001b[0m         \u001b[39m# until the first page of rows is fetched. Update the\u001b[39;00m\n\u001b[1;32m   1833\u001b[0m         \u001b[39m# progress bar's total to keep an accurate count.\u001b[39;00m\n",
            "File \u001b[0;32m~/.pyenv/versions/3.10.6/envs/london-bss/lib/python3.10/site-packages/google/cloud/bigquery/table.py:1688\u001b[0m, in \u001b[0;36mRowIterator._to_page_iterable\u001b[0;34m(self, bqstorage_download, tabledata_list_download, bqstorage_client)\u001b[0m\n\u001b[1;32m   1681\u001b[0m     bqstorage_client \u001b[39m=\u001b[39m \u001b[39mNone\u001b[39;00m\n\u001b[1;32m   1683\u001b[0m result_pages \u001b[39m=\u001b[39m (\n\u001b[1;32m   1684\u001b[0m     bqstorage_download()\n\u001b[1;32m   1685\u001b[0m     \u001b[39mif\u001b[39;00m bqstorage_client \u001b[39mis\u001b[39;00m \u001b[39mnot\u001b[39;00m \u001b[39mNone\u001b[39;00m\n\u001b[1;32m   1686\u001b[0m     \u001b[39melse\u001b[39;00m tabledata_list_download()\n\u001b[1;32m   1687\u001b[0m )\n\u001b[0;32m-> 1688\u001b[0m \u001b[39myield from\u001b[39;00m result_pages\n",
            "File \u001b[0;32m~/.pyenv/versions/3.10.6/envs/london-bss/lib/python3.10/site-packages/google/cloud/bigquery/_pandas_helpers.py:764\u001b[0m, in \u001b[0;36mdownload_arrow_row_iterator\u001b[0;34m(pages, bq_schema)\u001b[0m\n\u001b[1;32m    761\u001b[0m arrow_types \u001b[39m=\u001b[39m [bq_to_arrow_data_type(field) \u001b[39mfor\u001b[39;00m field \u001b[39min\u001b[39;00m bq_schema]\n\u001b[1;32m    763\u001b[0m \u001b[39mfor\u001b[39;00m page \u001b[39min\u001b[39;00m pages:\n\u001b[0;32m--> 764\u001b[0m     \u001b[39myield\u001b[39;00m _row_iterator_page_to_arrow(page, column_names, arrow_types)\n",
            "File \u001b[0;32m~/.pyenv/versions/3.10.6/envs/london-bss/lib/python3.10/site-packages/google/cloud/bigquery/_pandas_helpers.py:737\u001b[0m, in \u001b[0;36m_row_iterator_page_to_arrow\u001b[0;34m(page, column_names, arrow_types)\u001b[0m\n\u001b[1;32m    735\u001b[0m arrays \u001b[39m=\u001b[39m []\n\u001b[1;32m    736\u001b[0m \u001b[39mfor\u001b[39;00m column_index, arrow_type \u001b[39min\u001b[39;00m \u001b[39menumerate\u001b[39m(arrow_types):\n\u001b[0;32m--> 737\u001b[0m     arrays\u001b[39m.\u001b[39mappend(pyarrow\u001b[39m.\u001b[39;49marray(page\u001b[39m.\u001b[39;49m_columns[column_index], \u001b[39mtype\u001b[39;49m\u001b[39m=\u001b[39;49marrow_type))\n\u001b[1;32m    739\u001b[0m \u001b[39mif\u001b[39;00m \u001b[39misinstance\u001b[39m(column_names, pyarrow\u001b[39m.\u001b[39mSchema):\n\u001b[1;32m    740\u001b[0m     \u001b[39mreturn\u001b[39;00m pyarrow\u001b[39m.\u001b[39mRecordBatch\u001b[39m.\u001b[39mfrom_arrays(arrays, schema\u001b[39m=\u001b[39mcolumn_names)\n",
            "\u001b[0;31mKeyboardInterrupt\u001b[0m: "
          ]
        }
      ],
      "source": [
        "import pandas as pd\n",
        "query = '''\n",
        "  SELECT *\n",
        "  FROM `wagon-bootcamp-396316.londonbss.data2022`\n",
        "'''\n",
        "df = pd.read_gbq(query, project_id=\"wagon-bootcamp-396316\")\n",
        "df"
      ]
    },
    {
      "cell_type": "code",
      "execution_count": 2,
      "metadata": {
        "colab": {
          "base_uri": "https://localhost:8080/",
          "height": 455
        },
        "id": "ikL36P0LvAlP",
        "outputId": "360975c6-aeb0-4255-aa92-b3464d99f3d8"
      },
      "outputs": [
        {
          "ename": "NameError",
          "evalue": "name 'df' is not defined",
          "output_type": "error",
          "traceback": [
            "\u001b[0;31m---------------------------------------------------------------------------\u001b[0m",
            "\u001b[0;31mNameError\u001b[0m                                 Traceback (most recent call last)",
            "Cell \u001b[0;32mIn[2], line 1\u001b[0m\n\u001b[0;32m----> 1\u001b[0m df\u001b[39m.\u001b[39mcolumns\n",
            "\u001b[0;31mNameError\u001b[0m: name 'df' is not defined"
          ]
        }
      ],
      "source": [
        "df.columns"
      ]
    },
    {
      "cell_type": "code",
      "execution_count": 58,
      "metadata": {},
      "outputs": [
        {
          "data": {
            "text/html": [
              "<div>\n",
              "<style scoped>\n",
              "    .dataframe tbody tr th:only-of-type {\n",
              "        vertical-align: middle;\n",
              "    }\n",
              "\n",
              "    .dataframe tbody tr th {\n",
              "        vertical-align: top;\n",
              "    }\n",
              "\n",
              "    .dataframe thead th {\n",
              "        text-align: right;\n",
              "    }\n",
              "</style>\n",
              "<table border=\"1\" class=\"dataframe\">\n",
              "  <thead>\n",
              "    <tr style=\"text-align: right;\">\n",
              "      <th></th>\n",
              "      <th>StartDate</th>\n",
              "      <th>StartStationName</th>\n",
              "      <th>EndStationName</th>\n",
              "      <th>Nooftrips</th>\n",
              "    </tr>\n",
              "  </thead>\n",
              "  <tbody>\n",
              "    <tr>\n",
              "      <th>0</th>\n",
              "      <td>2022-10-04 18:00:00</td>\n",
              "      <td>Somerset House, Strand</td>\n",
              "      <td>Fournier Street, Whitechapel</td>\n",
              "      <td>1</td>\n",
              "    </tr>\n",
              "    <tr>\n",
              "      <th>1</th>\n",
              "      <td>2022-10-04 18:00:00</td>\n",
              "      <td>Sardinia Street, Holborn</td>\n",
              "      <td>Westferry Circus, Canary Wharf</td>\n",
              "      <td>1</td>\n",
              "    </tr>\n",
              "    <tr>\n",
              "      <th>2</th>\n",
              "      <td>2022-10-04 18:00:00</td>\n",
              "      <td>Portugal Street, Holborn</td>\n",
              "      <td>Rampayne Street, Pimlico</td>\n",
              "      <td>1</td>\n",
              "    </tr>\n",
              "    <tr>\n",
              "      <th>3</th>\n",
              "      <td>2022-10-04 18:00:00</td>\n",
              "      <td>Bouverie Street, Temple</td>\n",
              "      <td>Vauxhall Walk, Vauxhall</td>\n",
              "      <td>1</td>\n",
              "    </tr>\n",
              "    <tr>\n",
              "      <th>4</th>\n",
              "      <td>2022-10-04 18:00:00</td>\n",
              "      <td>Wenlock Road , Hoxton</td>\n",
              "      <td>Endsleigh Gardens, Euston</td>\n",
              "      <td>1</td>\n",
              "    </tr>\n",
              "    <tr>\n",
              "      <th>...</th>\n",
              "      <td>...</td>\n",
              "      <td>...</td>\n",
              "      <td>...</td>\n",
              "      <td>...</td>\n",
              "    </tr>\n",
              "    <tr>\n",
              "      <th>9822518</th>\n",
              "      <td>2022-07-05 21:00:00</td>\n",
              "      <td>Frith Street, Soho</td>\n",
              "      <td>Columbia Road, Shoreditch</td>\n",
              "      <td>1</td>\n",
              "    </tr>\n",
              "    <tr>\n",
              "      <th>9822519</th>\n",
              "      <td>2022-07-05 21:00:00</td>\n",
              "      <td>Bunhill Row, Moorgate</td>\n",
              "      <td>Breams Buildings, Holborn</td>\n",
              "      <td>1</td>\n",
              "    </tr>\n",
              "    <tr>\n",
              "      <th>9822520</th>\n",
              "      <td>2022-07-05 21:00:00</td>\n",
              "      <td>Clarkson Street, Bethnal Green</td>\n",
              "      <td>Russell Square Station, Bloomsbury</td>\n",
              "      <td>1</td>\n",
              "    </tr>\n",
              "    <tr>\n",
              "      <th>9822521</th>\n",
              "      <td>2022-07-05 21:00:00</td>\n",
              "      <td>Lambeth Road, Vauxhall</td>\n",
              "      <td>Lambeth North Station, Waterloo</td>\n",
              "      <td>1</td>\n",
              "    </tr>\n",
              "    <tr>\n",
              "      <th>9822522</th>\n",
              "      <td>2022-07-05 21:00:00</td>\n",
              "      <td>Wellington Street , Strand</td>\n",
              "      <td>Wardour Street, Soho</td>\n",
              "      <td>2</td>\n",
              "    </tr>\n",
              "  </tbody>\n",
              "</table>\n",
              "<p>9822523 rows × 4 columns</p>\n",
              "</div>"
            ],
            "text/plain": [
              "                  StartDate                StartStationName  \\\n",
              "0       2022-10-04 18:00:00          Somerset House, Strand   \n",
              "1       2022-10-04 18:00:00        Sardinia Street, Holborn   \n",
              "2       2022-10-04 18:00:00        Portugal Street, Holborn   \n",
              "3       2022-10-04 18:00:00         Bouverie Street, Temple   \n",
              "4       2022-10-04 18:00:00           Wenlock Road , Hoxton   \n",
              "...                     ...                             ...   \n",
              "9822518 2022-07-05 21:00:00              Frith Street, Soho   \n",
              "9822519 2022-07-05 21:00:00           Bunhill Row, Moorgate   \n",
              "9822520 2022-07-05 21:00:00  Clarkson Street, Bethnal Green   \n",
              "9822521 2022-07-05 21:00:00          Lambeth Road, Vauxhall   \n",
              "9822522 2022-07-05 21:00:00      Wellington Street , Strand   \n",
              "\n",
              "                             EndStationName  Nooftrips  \n",
              "0              Fournier Street, Whitechapel          1  \n",
              "1            Westferry Circus, Canary Wharf          1  \n",
              "2                  Rampayne Street, Pimlico          1  \n",
              "3                   Vauxhall Walk, Vauxhall          1  \n",
              "4                 Endsleigh Gardens, Euston          1  \n",
              "...                                     ...        ...  \n",
              "9822518           Columbia Road, Shoreditch          1  \n",
              "9822519           Breams Buildings, Holborn          1  \n",
              "9822520  Russell Square Station, Bloomsbury          1  \n",
              "9822521     Lambeth North Station, Waterloo          1  \n",
              "9822522                Wardour Street, Soho          2  \n",
              "\n",
              "[9822523 rows x 4 columns]"
            ]
          },
          "execution_count": 58,
          "metadata": {},
          "output_type": "execute_result"
        }
      ],
      "source": [
        "new_names={}\n",
        "for column_name in df.columns:\n",
        "    new_names[column_name]=column_name.replace('_','').lstrip().replace(' ','')\n",
        "new_names\n",
        "df=df.rename(columns=new_names)\n",
        "df\n"
      ]
    },
    {
      "cell_type": "code",
      "execution_count": 77,
      "metadata": {},
      "outputs": [
        {
          "data": {
            "text/html": [
              "<div>\n",
              "<style scoped>\n",
              "    .dataframe tbody tr th:only-of-type {\n",
              "        vertical-align: middle;\n",
              "    }\n",
              "\n",
              "    .dataframe tbody tr th {\n",
              "        vertical-align: top;\n",
              "    }\n",
              "\n",
              "    .dataframe thead th {\n",
              "        text-align: right;\n",
              "    }\n",
              "</style>\n",
              "<table border=\"1\" class=\"dataframe\">\n",
              "  <thead>\n",
              "    <tr style=\"text-align: right;\">\n",
              "      <th></th>\n",
              "      <th>StartDate</th>\n",
              "      <th>StartStationName</th>\n",
              "      <th>EndStationName</th>\n",
              "      <th>Nooftrips</th>\n",
              "    </tr>\n",
              "  </thead>\n",
              "  <tbody>\n",
              "    <tr>\n",
              "      <th>0</th>\n",
              "      <td>2022-01-01</td>\n",
              "      <td>Wellington Arch, Hyde Park</td>\n",
              "      <td>Eastbourne Mews, Paddington</td>\n",
              "      <td>2</td>\n",
              "    </tr>\n",
              "    <tr>\n",
              "      <th>1</th>\n",
              "      <td>2022-01-01</td>\n",
              "      <td>Abingdon Green, Westminster</td>\n",
              "      <td>Bayswater Road, Hyde Park</td>\n",
              "      <td>2</td>\n",
              "    </tr>\n",
              "    <tr>\n",
              "      <th>2</th>\n",
              "      <td>2022-01-01</td>\n",
              "      <td>Erin Close, Walham Green</td>\n",
              "      <td>Westfield Southern Terrace ,Shepherd's Bush</td>\n",
              "      <td>1</td>\n",
              "    </tr>\n",
              "    <tr>\n",
              "      <th>3</th>\n",
              "      <td>2022-01-01</td>\n",
              "      <td>Waterloo Bridge, South Bank</td>\n",
              "      <td>Bayley Street , Bloomsbury</td>\n",
              "      <td>2</td>\n",
              "    </tr>\n",
              "    <tr>\n",
              "      <th>4</th>\n",
              "      <td>2022-01-01</td>\n",
              "      <td>Somerset House, Strand</td>\n",
              "      <td>Southampton Street, Strand</td>\n",
              "      <td>4</td>\n",
              "    </tr>\n",
              "  </tbody>\n",
              "</table>\n",
              "</div>"
            ],
            "text/plain": [
              "   StartDate             StartStationName  \\\n",
              "0 2022-01-01   Wellington Arch, Hyde Park   \n",
              "1 2022-01-01  Abingdon Green, Westminster   \n",
              "2 2022-01-01     Erin Close, Walham Green   \n",
              "3 2022-01-01  Waterloo Bridge, South Bank   \n",
              "4 2022-01-01       Somerset House, Strand   \n",
              "\n",
              "                                EndStationName  Nooftrips  \n",
              "0                  Eastbourne Mews, Paddington          2  \n",
              "1                    Bayswater Road, Hyde Park          2  \n",
              "2  Westfield Southern Terrace ,Shepherd's Bush          1  \n",
              "3                   Bayley Street , Bloomsbury          2  \n",
              "4                   Southampton Street, Strand          4  "
            ]
          },
          "execution_count": 77,
          "metadata": {},
          "output_type": "execute_result"
        }
      ],
      "source": [
        "#df=df.drop(columns=['index'])\n",
        "#df.head()"
      ]
    },
    {
      "cell_type": "code",
      "execution_count": 78,
      "metadata": {
        "colab": {
          "base_uri": "https://localhost:8080/",
          "height": 424
        },
        "id": "afrgx57ApfXX",
        "outputId": "26c1c6be-102f-40f6-ed6b-9b687e91c9e2"
      },
      "outputs": [
        {
          "data": {
            "text/html": [
              "<div>\n",
              "<style scoped>\n",
              "    .dataframe tbody tr th:only-of-type {\n",
              "        vertical-align: middle;\n",
              "    }\n",
              "\n",
              "    .dataframe tbody tr th {\n",
              "        vertical-align: top;\n",
              "    }\n",
              "\n",
              "    .dataframe thead th {\n",
              "        text-align: right;\n",
              "    }\n",
              "</style>\n",
              "<table border=\"1\" class=\"dataframe\">\n",
              "  <thead>\n",
              "    <tr style=\"text-align: right;\">\n",
              "      <th></th>\n",
              "      <th>StartDate</th>\n",
              "      <th>StartStationName</th>\n",
              "      <th>EndStationName</th>\n",
              "      <th>Nooftrips</th>\n",
              "    </tr>\n",
              "  </thead>\n",
              "  <tbody>\n",
              "    <tr>\n",
              "      <th>0</th>\n",
              "      <td>2022-01-01</td>\n",
              "      <td>Wellington Arch, Hyde Park</td>\n",
              "      <td>Eastbourne Mews, Paddington</td>\n",
              "      <td>2</td>\n",
              "    </tr>\n",
              "    <tr>\n",
              "      <th>1</th>\n",
              "      <td>2022-01-01</td>\n",
              "      <td>Abingdon Green, Westminster</td>\n",
              "      <td>Bayswater Road, Hyde Park</td>\n",
              "      <td>2</td>\n",
              "    </tr>\n",
              "    <tr>\n",
              "      <th>2</th>\n",
              "      <td>2022-01-01</td>\n",
              "      <td>Erin Close, Walham Green</td>\n",
              "      <td>Westfield Southern Terrace ,Shepherd's Bush</td>\n",
              "      <td>1</td>\n",
              "    </tr>\n",
              "    <tr>\n",
              "      <th>3</th>\n",
              "      <td>2022-01-01</td>\n",
              "      <td>Waterloo Bridge, South Bank</td>\n",
              "      <td>Bayley Street , Bloomsbury</td>\n",
              "      <td>2</td>\n",
              "    </tr>\n",
              "    <tr>\n",
              "      <th>4</th>\n",
              "      <td>2022-01-01</td>\n",
              "      <td>Somerset House, Strand</td>\n",
              "      <td>Southampton Street, Strand</td>\n",
              "      <td>4</td>\n",
              "    </tr>\n",
              "    <tr>\n",
              "      <th>...</th>\n",
              "      <td>...</td>\n",
              "      <td>...</td>\n",
              "      <td>...</td>\n",
              "      <td>...</td>\n",
              "    </tr>\n",
              "    <tr>\n",
              "      <th>9822518</th>\n",
              "      <td>2022-12-31</td>\n",
              "      <td>Kensington Church Street, Kensington</td>\n",
              "      <td>Parsons Green Station, Parsons Green</td>\n",
              "      <td>1</td>\n",
              "    </tr>\n",
              "    <tr>\n",
              "      <th>9822519</th>\n",
              "      <td>2022-12-31</td>\n",
              "      <td>Westfield Ariel Way, White City</td>\n",
              "      <td>Westfield Ariel Way, White City</td>\n",
              "      <td>1</td>\n",
              "    </tr>\n",
              "    <tr>\n",
              "      <th>9822520</th>\n",
              "      <td>2022-12-31</td>\n",
              "      <td>Belgrove Street , King's Cross</td>\n",
              "      <td>Horseferry Road, Westminster</td>\n",
              "      <td>2</td>\n",
              "    </tr>\n",
              "    <tr>\n",
              "      <th>9822521</th>\n",
              "      <td>2022-12-31</td>\n",
              "      <td>Clifford Street, Mayfair</td>\n",
              "      <td>Albany Street, The Regent's Park</td>\n",
              "      <td>3</td>\n",
              "    </tr>\n",
              "    <tr>\n",
              "      <th>9822522</th>\n",
              "      <td>2022-12-31</td>\n",
              "      <td>Gloucester Road (Central), South Kensington</td>\n",
              "      <td>Westbourne Grove, Bayswater</td>\n",
              "      <td>2</td>\n",
              "    </tr>\n",
              "  </tbody>\n",
              "</table>\n",
              "<p>9822523 rows × 4 columns</p>\n",
              "</div>"
            ],
            "text/plain": [
              "         StartDate                             StartStationName  \\\n",
              "0       2022-01-01                   Wellington Arch, Hyde Park   \n",
              "1       2022-01-01                  Abingdon Green, Westminster   \n",
              "2       2022-01-01                     Erin Close, Walham Green   \n",
              "3       2022-01-01                  Waterloo Bridge, South Bank   \n",
              "4       2022-01-01                       Somerset House, Strand   \n",
              "...            ...                                          ...   \n",
              "9822518 2022-12-31         Kensington Church Street, Kensington   \n",
              "9822519 2022-12-31              Westfield Ariel Way, White City   \n",
              "9822520 2022-12-31               Belgrove Street , King's Cross   \n",
              "9822521 2022-12-31                     Clifford Street, Mayfair   \n",
              "9822522 2022-12-31  Gloucester Road (Central), South Kensington   \n",
              "\n",
              "                                      EndStationName  Nooftrips  \n",
              "0                        Eastbourne Mews, Paddington          2  \n",
              "1                          Bayswater Road, Hyde Park          2  \n",
              "2        Westfield Southern Terrace ,Shepherd's Bush          1  \n",
              "3                         Bayley Street , Bloomsbury          2  \n",
              "4                         Southampton Street, Strand          4  \n",
              "...                                              ...        ...  \n",
              "9822518         Parsons Green Station, Parsons Green          1  \n",
              "9822519              Westfield Ariel Way, White City          1  \n",
              "9822520                 Horseferry Road, Westminster          2  \n",
              "9822521             Albany Street, The Regent's Park          3  \n",
              "9822522                  Westbourne Grove, Bayswater          2  \n",
              "\n",
              "[9822523 rows x 4 columns]"
            ]
          },
          "execution_count": 78,
          "metadata": {},
          "output_type": "execute_result"
        }
      ],
      "source": [
        "df = df.reset_index(drop=True)\n",
        "df = df.sort_values(by=['StartDate'])\n",
        "df = df.reset_index(drop=True)"
      ]
    },
    {
      "cell_type": "code",
      "execution_count": 79,
      "metadata": {
        "colab": {
          "base_uri": "https://localhost:8080/"
        },
        "id": "Y3CyaZ70pfXX",
        "outputId": "45b3b0c2-27f6-4d54-916f-8794069d5f70"
      },
      "outputs": [
        {
          "data": {
            "text/plain": [
              "816"
            ]
          },
          "execution_count": 79,
          "metadata": {},
          "output_type": "execute_result"
        }
      ],
      "source": [
        "total_stations = pd.concat([df['StartStationName'],df['EndStationName']])\n",
        "total_uniq_stations = np.unique(total_stations).tolist()\n",
        "len(total_uniq_stations)"
      ]
    },
    {
      "cell_type": "code",
      "execution_count": 80,
      "metadata": {
        "colab": {
          "base_uri": "https://localhost:8080/"
        },
        "id": "gqhFwu2WpfXX",
        "outputId": "669c122a-e6cb-4cb7-9678-a40c8ac4b36e"
      },
      "outputs": [
        {
          "data": {
            "text/plain": [
              "8684"
            ]
          },
          "execution_count": 80,
          "metadata": {},
          "output_type": "execute_result"
        }
      ],
      "source": [
        "total_hours = np.unique(df['StartDate']).tolist()\n",
        "len(total_hours)"
      ]
    },
    {
      "cell_type": "code",
      "execution_count": 81,
      "metadata": {
        "id": "F5gG97VupfXY"
      },
      "outputs": [],
      "source": [
        "i = len(total_uniq_stations)\n",
        "k = len(total_hours)\n",
        "trips_3darray = np.zeros((i,i,k))\n",
        "trips_3darray=trips_3darray.astype(np.int8)"
      ]
    },
    {
      "cell_type": "code",
      "execution_count": 70,
      "metadata": {},
      "outputs": [
        {
          "data": {
            "text/plain": [
              "(9822523, 6)"
            ]
          },
          "execution_count": 70,
          "metadata": {},
          "output_type": "execute_result"
        }
      ],
      "source": [
        "df.shape"
      ]
    },
    {
      "cell_type": "code",
      "execution_count": 82,
      "metadata": {
        "id": "WLQaf49HpfXY"
      },
      "outputs": [],
      "source": [
        "timeframe_pos = 0\n",
        "for trip in df.index:\n",
        "    so = total_uniq_stations.index(df['StartStationName'][trip])\n",
        "    sd = total_uniq_stations.index(df['EndStationName'][trip])\n",
        "    trips_3darray[so][sd][timeframe_pos] += 1\n",
        "    if trip < df.index[-1]:\n",
        "       if df['StartDate'][trip] != df['StartDate'][trip+1]:\n",
        "           timeframe_pos += 1"
      ]
    },
    {
      "cell_type": "code",
      "execution_count": null,
      "metadata": {},
      "outputs": [],
      "source": []
    },
    {
      "cell_type": "code",
      "execution_count": 83,
      "metadata": {
        "colab": {
          "base_uri": "https://localhost:8080/"
        },
        "id": "wpttUyrPpfXY",
        "outputId": "39deae1d-8895-43b5-e76a-4750cda02376"
      },
      "outputs": [
        {
          "data": {
            "text/plain": [
              "array([[[0, 1, 0, ..., 0, 0, 0],\n",
              "        [0, 0, 0, ..., 0, 0, 0],\n",
              "        [0, 0, 0, ..., 0, 0, 0],\n",
              "        ...,\n",
              "        [0, 0, 0, ..., 0, 0, 0],\n",
              "        [0, 0, 0, ..., 0, 0, 0],\n",
              "        [0, 0, 0, ..., 0, 0, 0]],\n",
              "\n",
              "       [[0, 0, 0, ..., 0, 0, 0],\n",
              "        [0, 0, 0, ..., 0, 0, 0],\n",
              "        [0, 0, 0, ..., 0, 0, 0],\n",
              "        ...,\n",
              "        [0, 0, 0, ..., 0, 0, 0],\n",
              "        [0, 0, 0, ..., 0, 0, 0],\n",
              "        [0, 0, 0, ..., 0, 0, 0]],\n",
              "\n",
              "       [[0, 0, 0, ..., 0, 0, 0],\n",
              "        [0, 0, 0, ..., 0, 0, 0],\n",
              "        [0, 0, 0, ..., 0, 0, 0],\n",
              "        ...,\n",
              "        [0, 0, 0, ..., 0, 0, 0],\n",
              "        [0, 0, 0, ..., 0, 0, 0],\n",
              "        [0, 0, 0, ..., 0, 0, 0]],\n",
              "\n",
              "       ...,\n",
              "\n",
              "       [[0, 0, 0, ..., 0, 0, 0],\n",
              "        [0, 0, 0, ..., 0, 0, 0],\n",
              "        [0, 0, 0, ..., 0, 0, 0],\n",
              "        ...,\n",
              "        [0, 0, 0, ..., 0, 0, 0],\n",
              "        [0, 0, 0, ..., 0, 0, 0],\n",
              "        [0, 0, 0, ..., 0, 0, 0]],\n",
              "\n",
              "       [[0, 0, 0, ..., 0, 0, 0],\n",
              "        [0, 0, 0, ..., 0, 0, 0],\n",
              "        [0, 0, 0, ..., 0, 0, 0],\n",
              "        ...,\n",
              "        [0, 0, 0, ..., 0, 0, 0],\n",
              "        [0, 0, 1, ..., 0, 0, 0],\n",
              "        [0, 0, 0, ..., 0, 0, 0]],\n",
              "\n",
              "       [[0, 0, 0, ..., 0, 0, 0],\n",
              "        [0, 0, 0, ..., 0, 0, 0],\n",
              "        [0, 0, 0, ..., 0, 0, 0],\n",
              "        ...,\n",
              "        [0, 0, 0, ..., 0, 0, 0],\n",
              "        [0, 0, 0, ..., 0, 0, 0],\n",
              "        [0, 0, 0, ..., 0, 0, 0]]], dtype=int8)"
            ]
          },
          "execution_count": 83,
          "metadata": {},
          "output_type": "execute_result"
        }
      ],
      "source": [
        "trips_3darray"
      ]
    },
    {
      "cell_type": "code",
      "execution_count": 84,
      "metadata": {
        "colab": {
          "base_uri": "https://localhost:8080/"
        },
        "id": "Wpg5o4V8pfXY",
        "outputId": "126f6022-dcb3-4b7d-828c-0f6eb072584e"
      },
      "outputs": [
        {
          "data": {
            "text/plain": [
              "865"
            ]
          },
          "execution_count": 84,
          "metadata": {},
          "output_type": "execute_result"
        }
      ],
      "source": [
        "trips_3darray[:,:,1].sum()"
      ]
    },
    {
      "cell_type": "code",
      "execution_count": 85,
      "metadata": {
        "colab": {
          "base_uri": "https://localhost:8080/"
        },
        "id": "z6qLeNLiGjr5",
        "outputId": "b70e2b2f-b7b0-48f9-cd9b-8712741f5aa4"
      },
      "outputs": [
        {
          "data": {
            "text/plain": [
              "(816, 816, 8684)"
            ]
          },
          "execution_count": 85,
          "metadata": {},
          "output_type": "execute_result"
        }
      ],
      "source": [
        "trips_3darray.shape"
      ]
    },
    {
      "cell_type": "code",
      "execution_count": 86,
      "metadata": {
        "colab": {
          "base_uri": "https://localhost:8080/"
        },
        "id": "_Z2BetSepfXY",
        "outputId": "8c5373f6-9f51-48dd-ec93-fcab45205a2f"
      },
      "outputs": [
        {
          "data": {
            "text/plain": [
              "array([[0, 0, 0, ..., 0, 0, 0],\n",
              "       [0, 0, 0, ..., 0, 0, 0],\n",
              "       [0, 0, 0, ..., 0, 0, 0],\n",
              "       ...,\n",
              "       [0, 0, 0, ..., 0, 0, 0],\n",
              "       [0, 0, 0, ..., 0, 0, 0],\n",
              "       [0, 0, 0, ..., 0, 0, 0]], dtype=int8)"
            ]
          },
          "execution_count": 86,
          "metadata": {},
          "output_type": "execute_result"
        }
      ],
      "source": [
        "all_trips=trips_3darray[:,:,0]\n",
        "all_trips"
      ]
    },
    {
      "cell_type": "code",
      "execution_count": 87,
      "metadata": {
        "colab": {
          "base_uri": "https://localhost:8080/",
          "height": 422
        },
        "id": "86y_95DRpfXY",
        "outputId": "06fc1a3f-2a2c-42b2-fe1c-9ec1079817e9"
      },
      "outputs": [
        {
          "data": {
            "image/png": "[encoded data removed]",
            "text/plain": [
              "<Figure size 480x480 with 2 Axes>"
            ]
          },
          "metadata": {},
          "output_type": "display_data"
        }
      ],
      "source": [
        "plt.matshow(all_trips)\n",
        "plt.colorbar()\n",
        "plt.show()"
      ]
    },
    {
      "cell_type": "markdown",
      "metadata": {
        "id": "pLJo4oK0pfXZ"
      },
      "source": [
        "## Tensor Decomposition"
      ]
    },
    {
      "cell_type": "code",
      "execution_count": 88,
      "metadata": {
        "colab": {
          "base_uri": "https://localhost:8080/"
        },
        "id": "fJwPohyArj39",
        "outputId": "944a3f01-f30e-470a-87d7-3b51bbc419cc"
      },
      "outputs": [
        {
          "name": "stdout",
          "output_type": "stream",
          "text": [
            "Requirement already satisfied: tensorly in /Users/thammadoltansrivorarat/.pyenv/versions/3.10.6/envs/london-bss/lib/python3.10/site-packages (0.8.1)\n",
            "Requirement already satisfied: numpy in /Users/thammadoltansrivorarat/.pyenv/versions/3.10.6/envs/london-bss/lib/python3.10/site-packages (from tensorly) (1.24.3)\n",
            "Requirement already satisfied: scipy in /Users/thammadoltansrivorarat/.pyenv/versions/3.10.6/envs/london-bss/lib/python3.10/site-packages (from tensorly) (1.11.2)\n"
          ]
        }
      ],
      "source": [
        "!pip install tensorly"
      ]
    },
    {
      "cell_type": "code",
      "execution_count": 89,
      "metadata": {
        "id": "rtlKnLZ2pfXZ"
      },
      "outputs": [],
      "source": [
        "import tensorly as tl\n",
        "from tensorly.decomposition import tucker"
      ]
    },
    {
      "cell_type": "code",
      "execution_count": 90,
      "metadata": {
        "id": "Zt8_2okupfXZ"
      },
      "outputs": [],
      "source": [
        "#Represent the trips as a tensor\n",
        "tensor_trip = tl.tensor(trips_3darray, dtype='float32')"
      ]
    },
    {
      "cell_type": "code",
      "execution_count": 91,
      "metadata": {
        "colab": {
          "base_uri": "https://localhost:8080/"
        },
        "id": "ioVySftgpfXa",
        "outputId": "f2fedbb5-54d9-4b35-c0dc-d1865c2daf94"
      },
      "outputs": [
        {
          "data": {
            "text/plain": [
              "(816, 816, 8684)"
            ]
          },
          "execution_count": 91,
          "metadata": {},
          "output_type": "execute_result"
        }
      ],
      "source": [
        "tensor_trip.shape"
      ]
    },
    {
      "cell_type": "code",
      "execution_count": 92,
      "metadata": {
        "id": "aCSySMUEpfXa"
      },
      "outputs": [],
      "source": [
        "# Rank of Tucker decomposition\n",
        "tucker_rank = [30, 30, 35]"
      ]
    },
    {
      "cell_type": "code",
      "execution_count": 93,
      "metadata": {
        "id": "mvZZzr9dpfXa"
      },
      "outputs": [
        {
          "name": "stdout",
          "output_type": "stream",
          "text": [
            "CPU times: user 6min 27s, sys: 4min 46s, total: 11min 14s\n",
            "Wall time: 3min 17s\n"
          ]
        }
      ],
      "source": [
        "%%time\n",
        "core, factors = tucker(tensor_trip, rank=tucker_rank, init='random', tol=10e-5,random_state=12345)"
      ]
    },
    {
      "cell_type": "code",
      "execution_count": 94,
      "metadata": {
        "id": "66eTBSDZ2zzw"
      },
      "outputs": [
        {
          "ename": "",
          "evalue": "",
          "output_type": "error",
          "traceback": [
            "\u001b[1;31mCannot execute code, session has been disposed. Please try restarting the Kernel."
          ]
        },
        {
          "ename": "",
          "evalue": "",
          "output_type": "error",
          "traceback": [
            "\u001b[1;31mThe Kernel crashed while executing code in the the current cell or a previous cell. Please review the code in the cell(s) to identify a possible cause of the failure. Click <a href='https://aka.ms/vscodeJupyterKernelCrash'>here</a> for more info. View Jupyter <a href='command:jupyter.viewOutput'>log</a> for further details."
          ]
        }
      ],
      "source": [
        "#Convert the tucker tensor into a full tensor\n",
        "tucker_rec = tl.tucker_to_tensor((core, factors))"
      ]
    },
    {
      "cell_type": "code",
      "execution_count": null,
      "metadata": {
        "id": "l_au-OTHvwZQ"
      },
      "outputs": [],
      "source": [
        "factors[0].shape"
      ]
    },
    {
      "cell_type": "code",
      "execution_count": null,
      "metadata": {
        "id": "YmONxKMowyu-"
      },
      "outputs": [],
      "source": [
        "factors[1].shape"
      ]
    },
    {
      "cell_type": "code",
      "execution_count": null,
      "metadata": {
        "id": "HcPBciL1w0PR"
      },
      "outputs": [],
      "source": [
        "factors[2].shape"
      ]
    },
    {
      "cell_type": "code",
      "execution_count": null,
      "metadata": {
        "id": "2qwZnFbDJxLt"
      },
      "outputs": [],
      "source": [
        "import requests"
      ]
    },
    {
      "cell_type": "code",
      "execution_count": null,
      "metadata": {
        "id": "QcQGY-roK9eJ"
      },
      "outputs": [],
      "source": [
        "response= requests.get('https://api.tfl.gov.uk/BikePoint/')\n",
        "stations = response.json()"
      ]
    },
    {
      "cell_type": "code",
      "execution_count": null,
      "metadata": {
        "id": "YfbkxBD8K_xv"
      },
      "outputs": [],
      "source": [
        "data =  pd.DataFrame()\n",
        "s_names = []\n",
        "s_lat = []\n",
        "s_lon = []\n",
        "\n",
        "NbBikes = []\n",
        "NbEmptyDocks = []\n",
        "NbDocks = []\n",
        "NbStandardBikes = []\n",
        "NbEBikes = []\n",
        "s_id = []"
      ]
    },
    {
      "cell_type": "code",
      "execution_count": null,
      "metadata": {
        "id": "z20KZGdoLANJ"
      },
      "outputs": [],
      "source": [
        "len_lat = 0\n",
        "for station in stations:\n",
        "    s_names.append(station['commonName'])\n",
        "    s_lat.append(float(station['lat']))\n",
        "    s_lon.append(float(station['lon']))\n",
        "    for add_property in station['additionalProperties']:\n",
        "        if add_property['key'] == 'NbBikes':\n",
        "            NbBikes.append(int(add_property['value']))\n",
        "        if add_property['key'] == 'NbEmptyDocks':\n",
        "            NbEmptyDocks.append(int(add_property['value']))\n",
        "        if add_property['key'] == 'NbDocks':\n",
        "            NbDocks.append(int(add_property['value']))\n",
        "        if add_property['key'] == 'NbStandardBikes':\n",
        "            NbStandardBikes.append(int(add_property['value']))\n",
        "        if add_property['key'] == 'NbEBikes':\n",
        "            NbEBikes.append(int(add_property['value']))\n",
        "        if add_property['key'] == 'TerminalName':\n",
        "            s_id.append(int(add_property['value']))\n"
      ]
    },
    {
      "cell_type": "code",
      "execution_count": null,
      "metadata": {
        "id": "ZjAp3HbJLELH"
      },
      "outputs": [],
      "source": [
        "data['Station_name'] = s_names\n",
        "data['s_lat'] = s_lat\n",
        "data['s_lon'] = s_lon\n",
        "data['s_num_bikes'] = NbBikes\n",
        "data['s_num_empty_docks'] = NbEmptyDocks\n",
        "data['s_num_std_bikes'] = NbStandardBikes\n",
        "data['s_num_e-bikes'] = NbEBikes\n",
        "data['s_num_docks'] = data['s_num_bikes'] + data['s_num_empty_docks']\n",
        "data['s_id'] = s_id"
      ]
    },
    {
      "cell_type": "code",
      "execution_count": null,
      "metadata": {
        "id": "h6yRBKMdLEh2"
      },
      "outputs": [],
      "source": [
        "data"
      ]
    },
    {
      "cell_type": "code",
      "execution_count": null,
      "metadata": {
        "id": "VSpn1FqyLEtr"
      },
      "outputs": [],
      "source": [
        "# South East limits\n",
        "se_limit_lat = 51.523811 # everthing lower than this value is south east\n",
        "se_limit_lon = -0.101342 # everything greater than this value is south east\n",
        "\n",
        "# East limits\n",
        "e_limit_lat = 51.523811 # everything greater than this value is east\n",
        "e_limit_lon = -0.022306 # everything greater than this is east\n",
        "\n",
        "# South West limits\n",
        "sw_limit_lat = 51.501631 # everthing lower than this value is south east\n",
        "sw_limit_lon = -0.101342 # everything lower than this value is south east\n",
        "\n",
        "# West limits\n",
        "w_limit_lat = 51.501072  # everthing greater than this value is south east\n",
        "w_limit_lon = -0.182406  # everthing lower than this value is south east\n",
        "\n",
        "# Central limits\n",
        "c_toplimit_lat = 51.501072 # everthing greater than this value is central\n",
        "c_lowlimit_lat = 51.523811 # everything lower than this value is central\n",
        "\n",
        "c_toplimit_lon = -0.101342 # everything lower than this value is central\n",
        "c_lowlimit_lon = -0.182406 # everthing greater than this value is central\n",
        "\n",
        "# North limits\n",
        "n_toplimit_lon = -0.022306 # everything lower than this value is central\n",
        "n_lowlimit_lon = -0.182406 # everthing greater than this value is central\n",
        "\n",
        "n_lowlimit_lat = 51.523811 # everthing greater than this value is central"
      ]
    },
    {
      "cell_type": "code",
      "execution_count": null,
      "metadata": {
        "id": "UnqOovyVLE0Y"
      },
      "outputs": [],
      "source": [
        "loc = []"
      ]
    },
    {
      "cell_type": "code",
      "execution_count": null,
      "metadata": {
        "id": "57eU0PwtLE5r"
      },
      "outputs": [],
      "source": [
        "for station in data.index:\n",
        "    if data['s_lat'][station] > c_toplimit_lat and data['s_lat'][station]< c_lowlimit_lat and data['s_lon'][station]< c_toplimit_lon and data['s_lon'][station]>c_lowlimit_lon:\n",
        "        loc.append(1) # Central\n",
        "    elif data['s_lon'][station] < n_toplimit_lon and data['s_lon'][station] > n_lowlimit_lon and data['s_lat'][station] > n_lowlimit_lat:\n",
        "        loc.append(2) # North\n",
        "    elif data['s_lon'][station] < w_limit_lon and data['s_lat'][station] > w_limit_lat:\n",
        "        loc.append(3) # West\n",
        "    elif data['s_lon'][station] < sw_limit_lon and data['s_lat'][station] < sw_limit_lat:\n",
        "        loc.append(4)  # South_West\n",
        "    elif data['s_lon'][station] > e_limit_lon and data['s_lat'][station] > e_limit_lat:\n",
        "        loc.append(5) # East\n",
        "    elif data['s_lon'][station] > se_limit_lon and data['s_lat'][station] < se_limit_lat:\n",
        "        loc.append(6) # South East\n",
        "    else:\n",
        "        loc.append('Other')"
      ]
    },
    {
      "cell_type": "code",
      "execution_count": null,
      "metadata": {
        "id": "EkTmca63LE-L"
      },
      "outputs": [],
      "source": [
        "data['Area_loc'] = loc"
      ]
    },
    {
      "cell_type": "code",
      "execution_count": null,
      "metadata": {
        "id": "VAsSkRLioeMQ"
      },
      "outputs": [],
      "source": [
        "data"
      ]
    },
    {
      "cell_type": "code",
      "execution_count": null,
      "metadata": {
        "id": "jZcdr85apjGl"
      },
      "outputs": [],
      "source": [
        "data.loc[data.Station_name == 'Chepstow Villas, Notting Hill'].values[0][9]"
      ]
    },
    {
      "cell_type": "code",
      "execution_count": null,
      "metadata": {
        "id": "cA15POAitjYi"
      },
      "outputs": [],
      "source": [
        "color_stations = []\n",
        "for station in total_uniq_stations:\n",
        "  info_val = data.loc[data.Station_name == station].values\n",
        "  if len(info_val)>0:\n",
        "    color_stations.append(data.loc[data.Station_name == station].values[0][9])\n",
        "  else:\n",
        "    color_stations.append(7)"
      ]
    },
    {
      "cell_type": "code",
      "execution_count": null,
      "metadata": {
        "id": "6Mo1sKJh0v13"
      },
      "outputs": [],
      "source": [
        "len(color_stations)"
      ]
    },
    {
      "cell_type": "code",
      "execution_count": null,
      "metadata": {
        "id": "peod0ei91lIO"
      },
      "outputs": [],
      "source": [
        "fig, axs = plt.subplots(5, 3)\n",
        "fig.set_size_inches(18.5, 10.5)\n",
        "axs[0, 0].scatter(x=range(len(factors[0])), y=np.transpose(factors[0])[0], c=color_stations)\n",
        "axs[0, 1].scatter(x=range(len(factors[1])), y=np.transpose(factors[1])[0], c=color_stations)\n",
        "axs[0, 2].plot(np.transpose(factors[2])[0])\n",
        "\n",
        "axs[1, 0].scatter(x=range(len(factors[0])), y=np.transpose(factors[0])[1], c=color_stations)\n",
        "axs[1, 1].scatter(x=range(len(factors[1])), y=np.transpose(factors[1])[1], c=color_stations)\n",
        "axs[1, 2].plot(np.transpose(factors[2])[1])\n",
        "\n",
        "axs[2, 0].scatter(x=range(len(factors[0])), y=np.transpose(factors[0])[2], c=color_stations)\n",
        "axs[2, 1].scatter(x=range(len(factors[1])), y=np.transpose(factors[1])[2], c=color_stations)\n",
        "axs[2, 2].plot(np.transpose(factors[2])[2])\n",
        "\n",
        "axs[3, 0].scatter(x=range(len(factors[0])), y=np.transpose(factors[0])[3], c=color_stations)\n",
        "axs[3, 1].scatter(x=range(len(factors[1])), y=np.transpose(factors[1])[3], c=color_stations)\n",
        "axs[3, 2].plot(np.transpose(factors[2])[3])\n",
        "\n",
        "axs[4, 0].scatter(x=range(len(factors[0])), y=np.transpose(factors[0])[4], c=color_stations)\n",
        "axs[4, 1].scatter(x=range(len(factors[1])), y=np.transpose(factors[1])[4], c=color_stations)\n",
        "axs[4, 2].plot(np.transpose(factors[2])[4])"
      ]
    },
    {
      "cell_type": "code",
      "execution_count": null,
      "metadata": {
        "id": "e3lorkE9vXDW"
      },
      "outputs": [],
      "source": [
        "factors[2].shape"
      ]
    },
    {
      "cell_type": "code",
      "execution_count": null,
      "metadata": {
        "id": "9prrd64vXnYB"
      },
      "outputs": [],
      "source": [
        "type(factors[2])"
      ]
    },
    {
      "cell_type": "code",
      "execution_count": null,
      "metadata": {
        "id": "vrhyP1WEYyLd"
      },
      "outputs": [],
      "source": [
        "from google.colab import files"
      ]
    },
    {
      "cell_type": "code",
      "execution_count": null,
      "metadata": {
        "id": "7eeIEG7SX_5B"
      },
      "outputs": [],
      "source": [
        "# convert array into dataframe\n",
        "result_df = pd.DataFrame(factors[2])"
      ]
    },
    {
      "cell_type": "code",
      "execution_count": null,
      "metadata": {
        "id": "V1BK-9tPZJt1"
      },
      "outputs": [],
      "source": [
        "result_df['timestamp'] = pd.to_datetime(total_hours)"
      ]
    },
    {
      "cell_type": "code",
      "execution_count": null,
      "metadata": {
        "id": "7ZwVi0KMYJ7h"
      },
      "outputs": [],
      "source": [
        "# result_df.to_csv('filename.csv')\n",
        "# files.download('filename.csv')"
      ]
    },
    {
      "cell_type": "code",
      "execution_count": null,
      "metadata": {
        "id": "cISDzBSJYMXT"
      },
      "outputs": [],
      "source": []
    }
  ],
  "metadata": {
    "accelerator": "TPU",
    "colab": {
      "machine_shape": "hm",
      "provenance": []
    },
    "kernelspec": {
      "display_name": "Python 3",
      "name": "python3"
    },
    "language_info": {
      "codemirror_mode": {
        "name": "ipython",
        "version": 3
      },
      "file_extension": ".py",
      "mimetype": "text/x-python",
      "name": "python",
      "nbconvert_exporter": "python",
      "pygments_lexer": "ipython3",
      "version": "3.10.6"
    },
    "orig_nbformat": 4
  },
  "nbformat": 4,
  "nbformat_minor": 0
}
