{
 "cells": [
  {
   "cell_type": "code",
   "execution_count": 1,
   "metadata": {},
   "outputs": [],
   "source": [
    "import pandas as pd\n",
    "import sparse\n",
    "from datetime import datetime\n",
    "import numpy as np\n",
    "import requests\n",
    "import io"
   ]
  },
  {
   "cell_type": "code",
   "execution_count": 2,
   "metadata": {},
   "outputs": [],
   "source": [
    "data=pd.read_csv('../../../raw_data/6months/tripcsvbame.csv')"
   ]
  },
  {
   "cell_type": "code",
   "execution_count": 3,
   "metadata": {},
   "outputs": [],
   "source": [
    "data_path = 'https://cycling.data.tfl.gov.uk/usage-stats/'\n"
   ]
  },
  {
   "cell_type": "code",
   "execution_count": 4,
   "metadata": {},
   "outputs": [],
   "source": [
    "data['usage-stats/']  = data['usage-stats/'].apply(lambda x: x.strip())"
   ]
  },
  {
   "cell_type": "code",
   "execution_count": 5,
   "metadata": {},
   "outputs": [],
   "source": [
    "def read_url(url):\n",
    "    s=requests.get(url).content\n",
    "    c=pd.read_csv(io.StringIO(s.decode('utf-8')))\n",
    "    return c"
   ]
  },
  {
   "cell_type": "code",
   "execution_count": 6,
   "metadata": {},
   "outputs": [
    {
     "name": "stderr",
     "output_type": "stream",
     "text": [
      "/tmp/ipykernel_370015/2089846217.py:3: DtypeWarning: Columns (2,5) have mixed types. Specify dtype option on import or set low_memory=False.\n",
      "  c=pd.read_csv(io.StringIO(s.decode('utf-8')))\n"
     ]
    },
    {
     "data": {
      "text/plain": [
       "Index(['Rental Id', 'Duration', 'Bike Id', 'End Date', 'EndStation Id',\n",
       "       'EndStation Name', 'Start Date', 'StartStation Id', 'StartStation Name',\n",
       "       'Number', 'Start date', 'Start station number', 'Start station',\n",
       "       'End date', 'End station number', 'End station', 'Bike number',\n",
       "       'Bike model', 'Total duration', 'Total duration (ms)'],\n",
       "      dtype='object')"
      ]
     },
     "execution_count": 6,
     "metadata": {},
     "output_type": "execute_result"
    }
   ],
   "source": [
    "frames = []\n",
    "for x in data['usage-stats/']:\n",
    "    frames.append(read_url(data_path + x))\n",
    "\n",
    "result = pd.concat(frames)\n",
    "result.columns"
   ]
  },
  {
   "cell_type": "code",
   "execution_count": 7,
   "metadata": {},
   "outputs": [],
   "source": [
    "result['Total duration (ms)'] = result['Total duration (ms)']/1000"
   ]
  },
  {
   "cell_type": "code",
   "execution_count": 8,
   "metadata": {},
   "outputs": [
    {
     "data": {
      "text/html": [
       "<div>\n",
       "<style scoped>\n",
       "    .dataframe tbody tr th:only-of-type {\n",
       "        vertical-align: middle;\n",
       "    }\n",
       "\n",
       "    .dataframe tbody tr th {\n",
       "        vertical-align: top;\n",
       "    }\n",
       "\n",
       "    .dataframe thead th {\n",
       "        text-align: right;\n",
       "    }\n",
       "</style>\n",
       "<table border=\"1\" class=\"dataframe\">\n",
       "  <thead>\n",
       "    <tr style=\"text-align: right;\">\n",
       "      <th></th>\n",
       "      <th>Rental Id</th>\n",
       "      <th>Duration</th>\n",
       "      <th>Bike Id</th>\n",
       "      <th>End Date</th>\n",
       "      <th>EndStation Id</th>\n",
       "      <th>EndStation Name</th>\n",
       "      <th>Start Date</th>\n",
       "      <th>StartStation Id</th>\n",
       "      <th>StartStation Name</th>\n",
       "      <th>Number</th>\n",
       "      <th>Start date</th>\n",
       "      <th>Start station number</th>\n",
       "      <th>Start station</th>\n",
       "      <th>End date</th>\n",
       "      <th>End station number</th>\n",
       "      <th>End station</th>\n",
       "      <th>Bike number</th>\n",
       "      <th>Bike model</th>\n",
       "      <th>Total duration</th>\n",
       "      <th>Total duration (ms)</th>\n",
       "    </tr>\n",
       "  </thead>\n",
       "  <tbody>\n",
       "    <tr>\n",
       "      <th>0</th>\n",
       "      <td>116119313.0</td>\n",
       "      <td>540.0</td>\n",
       "      <td>20949.0</td>\n",
       "      <td>10/01/2022 10:12</td>\n",
       "      <td>654.0</td>\n",
       "      <td>Ashmole Estate, Oval</td>\n",
       "      <td>10/01/2022 10:03</td>\n",
       "      <td>624.0</td>\n",
       "      <td>Courland Grove, Wandsworth Road</td>\n",
       "      <td>NaN</td>\n",
       "      <td>NaN</td>\n",
       "      <td>NaN</td>\n",
       "      <td>NaN</td>\n",
       "      <td>NaN</td>\n",
       "      <td>NaN</td>\n",
       "      <td>NaN</td>\n",
       "      <td>NaN</td>\n",
       "      <td>NaN</td>\n",
       "      <td>NaN</td>\n",
       "      <td>NaN</td>\n",
       "    </tr>\n",
       "    <tr>\n",
       "      <th>1</th>\n",
       "      <td>116121468.0</td>\n",
       "      <td>420.0</td>\n",
       "      <td>19266.0</td>\n",
       "      <td>10/01/2022 12:35</td>\n",
       "      <td>437.0</td>\n",
       "      <td>Vauxhall Walk, Vauxhall</td>\n",
       "      <td>10/01/2022 12:28</td>\n",
       "      <td>149.0</td>\n",
       "      <td>Kennington Road Post Office, Oval</td>\n",
       "      <td>NaN</td>\n",
       "      <td>NaN</td>\n",
       "      <td>NaN</td>\n",
       "      <td>NaN</td>\n",
       "      <td>NaN</td>\n",
       "      <td>NaN</td>\n",
       "      <td>NaN</td>\n",
       "      <td>NaN</td>\n",
       "      <td>NaN</td>\n",
       "      <td>NaN</td>\n",
       "      <td>NaN</td>\n",
       "    </tr>\n",
       "    <tr>\n",
       "      <th>2</th>\n",
       "      <td>116059863.0</td>\n",
       "      <td>660.0</td>\n",
       "      <td>17066.0</td>\n",
       "      <td>06/01/2022 08:28</td>\n",
       "      <td>517.0</td>\n",
       "      <td>Ford Road, Old Ford</td>\n",
       "      <td>06/01/2022 08:17</td>\n",
       "      <td>486.0</td>\n",
       "      <td>Granby Street, Shoreditch</td>\n",
       "      <td>NaN</td>\n",
       "      <td>NaN</td>\n",
       "      <td>NaN</td>\n",
       "      <td>NaN</td>\n",
       "      <td>NaN</td>\n",
       "      <td>NaN</td>\n",
       "      <td>NaN</td>\n",
       "      <td>NaN</td>\n",
       "      <td>NaN</td>\n",
       "      <td>NaN</td>\n",
       "      <td>NaN</td>\n",
       "    </tr>\n",
       "    <tr>\n",
       "      <th>3</th>\n",
       "      <td>116066020.0</td>\n",
       "      <td>180.0</td>\n",
       "      <td>18652.0</td>\n",
       "      <td>06/01/2022 17:11</td>\n",
       "      <td>18.0</td>\n",
       "      <td>Drury Lane, Covent Garden</td>\n",
       "      <td>06/01/2022 17:08</td>\n",
       "      <td>335.0</td>\n",
       "      <td>Tavistock Street, Covent Garden</td>\n",
       "      <td>NaN</td>\n",
       "      <td>NaN</td>\n",
       "      <td>NaN</td>\n",
       "      <td>NaN</td>\n",
       "      <td>NaN</td>\n",
       "      <td>NaN</td>\n",
       "      <td>NaN</td>\n",
       "      <td>NaN</td>\n",
       "      <td>NaN</td>\n",
       "      <td>NaN</td>\n",
       "      <td>NaN</td>\n",
       "    </tr>\n",
       "    <tr>\n",
       "      <th>4</th>\n",
       "      <td>116034391.0</td>\n",
       "      <td>60.0</td>\n",
       "      <td>20134.0</td>\n",
       "      <td>05/01/2022 17:44</td>\n",
       "      <td>66.0</td>\n",
       "      <td>Holborn Circus, Holborn</td>\n",
       "      <td>05/01/2022 17:43</td>\n",
       "      <td>17.0</td>\n",
       "      <td>Hatton Wall, Holborn</td>\n",
       "      <td>NaN</td>\n",
       "      <td>NaN</td>\n",
       "      <td>NaN</td>\n",
       "      <td>NaN</td>\n",
       "      <td>NaN</td>\n",
       "      <td>NaN</td>\n",
       "      <td>NaN</td>\n",
       "      <td>NaN</td>\n",
       "      <td>NaN</td>\n",
       "      <td>NaN</td>\n",
       "      <td>NaN</td>\n",
       "    </tr>\n",
       "  </tbody>\n",
       "</table>\n",
       "</div>"
      ],
      "text/plain": [
       "     Rental Id  Duration  Bike Id          End Date  EndStation Id  \\\n",
       "0  116119313.0     540.0  20949.0  10/01/2022 10:12          654.0   \n",
       "1  116121468.0     420.0  19266.0  10/01/2022 12:35          437.0   \n",
       "2  116059863.0     660.0  17066.0  06/01/2022 08:28          517.0   \n",
       "3  116066020.0     180.0  18652.0  06/01/2022 17:11           18.0   \n",
       "4  116034391.0      60.0  20134.0  05/01/2022 17:44           66.0   \n",
       "\n",
       "             EndStation Name        Start Date  StartStation Id  \\\n",
       "0       Ashmole Estate, Oval  10/01/2022 10:03            624.0   \n",
       "1    Vauxhall Walk, Vauxhall  10/01/2022 12:28            149.0   \n",
       "2        Ford Road, Old Ford  06/01/2022 08:17            486.0   \n",
       "3  Drury Lane, Covent Garden  06/01/2022 17:08            335.0   \n",
       "4    Holborn Circus, Holborn  05/01/2022 17:43             17.0   \n",
       "\n",
       "                   StartStation Name  Number Start date Start station number  \\\n",
       "0    Courland Grove, Wandsworth Road     NaN        NaN                  NaN   \n",
       "1  Kennington Road Post Office, Oval     NaN        NaN                  NaN   \n",
       "2          Granby Street, Shoreditch     NaN        NaN                  NaN   \n",
       "3    Tavistock Street, Covent Garden     NaN        NaN                  NaN   \n",
       "4               Hatton Wall, Holborn     NaN        NaN                  NaN   \n",
       "\n",
       "  Start station End date End station number End station  Bike number  \\\n",
       "0           NaN      NaN                NaN         NaN          NaN   \n",
       "1           NaN      NaN                NaN         NaN          NaN   \n",
       "2           NaN      NaN                NaN         NaN          NaN   \n",
       "3           NaN      NaN                NaN         NaN          NaN   \n",
       "4           NaN      NaN                NaN         NaN          NaN   \n",
       "\n",
       "  Bike model Total duration  Total duration (ms)  \n",
       "0        NaN            NaN                  NaN  \n",
       "1        NaN            NaN                  NaN  \n",
       "2        NaN            NaN                  NaN  \n",
       "3        NaN            NaN                  NaN  \n",
       "4        NaN            NaN                  NaN  "
      ]
     },
     "execution_count": 8,
     "metadata": {},
     "output_type": "execute_result"
    }
   ],
   "source": [
    "result.head()"
   ]
  },
  {
   "cell_type": "code",
   "execution_count": 13,
   "metadata": {},
   "outputs": [],
   "source": [
    "# combining values\n",
    "result['RentalId'] = result['Rental Id'].fillna(result['Number'])\n",
    "result['duration'] = result['Duration'].fillna(result['Total duration (ms)'])\n",
    "result['endstationName'] = result['EndStation Name'].fillna(result['End station'])\n",
    "result['startstationName'] = result['StartStation Name'].fillna(result['Start station'])\n",
    "result['startdate'] = result['Start Date'].fillna(result['Start date'])"
   ]
  },
  {
   "cell_type": "code",
   "execution_count": 14,
   "metadata": {},
   "outputs": [
    {
     "data": {
      "text/html": [
       "<div>\n",
       "<style scoped>\n",
       "    .dataframe tbody tr th:only-of-type {\n",
       "        vertical-align: middle;\n",
       "    }\n",
       "\n",
       "    .dataframe tbody tr th {\n",
       "        vertical-align: top;\n",
       "    }\n",
       "\n",
       "    .dataframe thead th {\n",
       "        text-align: right;\n",
       "    }\n",
       "</style>\n",
       "<table border=\"1\" class=\"dataframe\">\n",
       "  <thead>\n",
       "    <tr style=\"text-align: right;\">\n",
       "      <th></th>\n",
       "      <th>Rental Id</th>\n",
       "      <th>Duration</th>\n",
       "      <th>Bike Id</th>\n",
       "      <th>End Date</th>\n",
       "      <th>EndStation Id</th>\n",
       "      <th>EndStation Name</th>\n",
       "      <th>Start Date</th>\n",
       "      <th>StartStation Id</th>\n",
       "      <th>StartStation Name</th>\n",
       "      <th>Number</th>\n",
       "      <th>...</th>\n",
       "      <th>End station</th>\n",
       "      <th>Bike number</th>\n",
       "      <th>Bike model</th>\n",
       "      <th>Total duration</th>\n",
       "      <th>Total duration (ms)</th>\n",
       "      <th>RentalId</th>\n",
       "      <th>duration</th>\n",
       "      <th>endstationName</th>\n",
       "      <th>startstationName</th>\n",
       "      <th>startdate</th>\n",
       "    </tr>\n",
       "  </thead>\n",
       "  <tbody>\n",
       "    <tr>\n",
       "      <th>0</th>\n",
       "      <td>116119313.0</td>\n",
       "      <td>540.0</td>\n",
       "      <td>20949.0</td>\n",
       "      <td>10/01/2022 10:12</td>\n",
       "      <td>654.0</td>\n",
       "      <td>Ashmole Estate, Oval</td>\n",
       "      <td>10/01/2022 10:03</td>\n",
       "      <td>624.0</td>\n",
       "      <td>Courland Grove, Wandsworth Road</td>\n",
       "      <td>NaN</td>\n",
       "      <td>...</td>\n",
       "      <td>NaN</td>\n",
       "      <td>NaN</td>\n",
       "      <td>NaN</td>\n",
       "      <td>NaN</td>\n",
       "      <td>NaN</td>\n",
       "      <td>116119313.0</td>\n",
       "      <td>540.0</td>\n",
       "      <td>Ashmole Estate, Oval</td>\n",
       "      <td>Courland Grove, Wandsworth Road</td>\n",
       "      <td>10/01/2022 10:03</td>\n",
       "    </tr>\n",
       "    <tr>\n",
       "      <th>1</th>\n",
       "      <td>116121468.0</td>\n",
       "      <td>420.0</td>\n",
       "      <td>19266.0</td>\n",
       "      <td>10/01/2022 12:35</td>\n",
       "      <td>437.0</td>\n",
       "      <td>Vauxhall Walk, Vauxhall</td>\n",
       "      <td>10/01/2022 12:28</td>\n",
       "      <td>149.0</td>\n",
       "      <td>Kennington Road Post Office, Oval</td>\n",
       "      <td>NaN</td>\n",
       "      <td>...</td>\n",
       "      <td>NaN</td>\n",
       "      <td>NaN</td>\n",
       "      <td>NaN</td>\n",
       "      <td>NaN</td>\n",
       "      <td>NaN</td>\n",
       "      <td>116121468.0</td>\n",
       "      <td>420.0</td>\n",
       "      <td>Vauxhall Walk, Vauxhall</td>\n",
       "      <td>Kennington Road Post Office, Oval</td>\n",
       "      <td>10/01/2022 12:28</td>\n",
       "    </tr>\n",
       "    <tr>\n",
       "      <th>2</th>\n",
       "      <td>116059863.0</td>\n",
       "      <td>660.0</td>\n",
       "      <td>17066.0</td>\n",
       "      <td>06/01/2022 08:28</td>\n",
       "      <td>517.0</td>\n",
       "      <td>Ford Road, Old Ford</td>\n",
       "      <td>06/01/2022 08:17</td>\n",
       "      <td>486.0</td>\n",
       "      <td>Granby Street, Shoreditch</td>\n",
       "      <td>NaN</td>\n",
       "      <td>...</td>\n",
       "      <td>NaN</td>\n",
       "      <td>NaN</td>\n",
       "      <td>NaN</td>\n",
       "      <td>NaN</td>\n",
       "      <td>NaN</td>\n",
       "      <td>116059863.0</td>\n",
       "      <td>660.0</td>\n",
       "      <td>Ford Road, Old Ford</td>\n",
       "      <td>Granby Street, Shoreditch</td>\n",
       "      <td>06/01/2022 08:17</td>\n",
       "    </tr>\n",
       "    <tr>\n",
       "      <th>3</th>\n",
       "      <td>116066020.0</td>\n",
       "      <td>180.0</td>\n",
       "      <td>18652.0</td>\n",
       "      <td>06/01/2022 17:11</td>\n",
       "      <td>18.0</td>\n",
       "      <td>Drury Lane, Covent Garden</td>\n",
       "      <td>06/01/2022 17:08</td>\n",
       "      <td>335.0</td>\n",
       "      <td>Tavistock Street, Covent Garden</td>\n",
       "      <td>NaN</td>\n",
       "      <td>...</td>\n",
       "      <td>NaN</td>\n",
       "      <td>NaN</td>\n",
       "      <td>NaN</td>\n",
       "      <td>NaN</td>\n",
       "      <td>NaN</td>\n",
       "      <td>116066020.0</td>\n",
       "      <td>180.0</td>\n",
       "      <td>Drury Lane, Covent Garden</td>\n",
       "      <td>Tavistock Street, Covent Garden</td>\n",
       "      <td>06/01/2022 17:08</td>\n",
       "    </tr>\n",
       "    <tr>\n",
       "      <th>4</th>\n",
       "      <td>116034391.0</td>\n",
       "      <td>60.0</td>\n",
       "      <td>20134.0</td>\n",
       "      <td>05/01/2022 17:44</td>\n",
       "      <td>66.0</td>\n",
       "      <td>Holborn Circus, Holborn</td>\n",
       "      <td>05/01/2022 17:43</td>\n",
       "      <td>17.0</td>\n",
       "      <td>Hatton Wall, Holborn</td>\n",
       "      <td>NaN</td>\n",
       "      <td>...</td>\n",
       "      <td>NaN</td>\n",
       "      <td>NaN</td>\n",
       "      <td>NaN</td>\n",
       "      <td>NaN</td>\n",
       "      <td>NaN</td>\n",
       "      <td>116034391.0</td>\n",
       "      <td>60.0</td>\n",
       "      <td>Holborn Circus, Holborn</td>\n",
       "      <td>Hatton Wall, Holborn</td>\n",
       "      <td>05/01/2022 17:43</td>\n",
       "    </tr>\n",
       "  </tbody>\n",
       "</table>\n",
       "<p>5 rows × 25 columns</p>\n",
       "</div>"
      ],
      "text/plain": [
       "     Rental Id  Duration  Bike Id          End Date  EndStation Id  \\\n",
       "0  116119313.0     540.0  20949.0  10/01/2022 10:12          654.0   \n",
       "1  116121468.0     420.0  19266.0  10/01/2022 12:35          437.0   \n",
       "2  116059863.0     660.0  17066.0  06/01/2022 08:28          517.0   \n",
       "3  116066020.0     180.0  18652.0  06/01/2022 17:11           18.0   \n",
       "4  116034391.0      60.0  20134.0  05/01/2022 17:44           66.0   \n",
       "\n",
       "             EndStation Name        Start Date  StartStation Id  \\\n",
       "0       Ashmole Estate, Oval  10/01/2022 10:03            624.0   \n",
       "1    Vauxhall Walk, Vauxhall  10/01/2022 12:28            149.0   \n",
       "2        Ford Road, Old Ford  06/01/2022 08:17            486.0   \n",
       "3  Drury Lane, Covent Garden  06/01/2022 17:08            335.0   \n",
       "4    Holborn Circus, Holborn  05/01/2022 17:43             17.0   \n",
       "\n",
       "                   StartStation Name  Number  ... End station Bike number  \\\n",
       "0    Courland Grove, Wandsworth Road     NaN  ...         NaN         NaN   \n",
       "1  Kennington Road Post Office, Oval     NaN  ...         NaN         NaN   \n",
       "2          Granby Street, Shoreditch     NaN  ...         NaN         NaN   \n",
       "3    Tavistock Street, Covent Garden     NaN  ...         NaN         NaN   \n",
       "4               Hatton Wall, Holborn     NaN  ...         NaN         NaN   \n",
       "\n",
       "  Bike model Total duration Total duration (ms)     RentalId  duration  \\\n",
       "0        NaN            NaN                 NaN  116119313.0     540.0   \n",
       "1        NaN            NaN                 NaN  116121468.0     420.0   \n",
       "2        NaN            NaN                 NaN  116059863.0     660.0   \n",
       "3        NaN            NaN                 NaN  116066020.0     180.0   \n",
       "4        NaN            NaN                 NaN  116034391.0      60.0   \n",
       "\n",
       "              endstationName                   startstationName  \\\n",
       "0       Ashmole Estate, Oval    Courland Grove, Wandsworth Road   \n",
       "1    Vauxhall Walk, Vauxhall  Kennington Road Post Office, Oval   \n",
       "2        Ford Road, Old Ford          Granby Street, Shoreditch   \n",
       "3  Drury Lane, Covent Garden    Tavistock Street, Covent Garden   \n",
       "4    Holborn Circus, Holborn               Hatton Wall, Holborn   \n",
       "\n",
       "          startdate  \n",
       "0  10/01/2022 10:03  \n",
       "1  10/01/2022 12:28  \n",
       "2  06/01/2022 08:17  \n",
       "3  06/01/2022 17:08  \n",
       "4  05/01/2022 17:43  \n",
       "\n",
       "[5 rows x 25 columns]"
      ]
     },
     "execution_count": 14,
     "metadata": {},
     "output_type": "execute_result"
    }
   ],
   "source": [
    "result.head()"
   ]
  },
  {
   "cell_type": "code",
   "execution_count": null,
   "metadata": {},
   "outputs": [],
   "source": [
    "dict_columns = {\n",
    "    \"Number\": \"Rental Id\",\n",
    "    \"Total duration (ms)\": \"Duration\",\n",
    "    \"Bike number\" : \"Bike Id\",\n",
    "    \"Start station\" : 'StartStation Name',\n",
    "    'End station': 'EndStation Name',\n",
    "    'End Date': 'End date',\n",
    "    'Start Date': 'Start date'\n",
    "}"
   ]
  },
  {
   "cell_type": "code",
   "execution_count": null,
   "metadata": {},
   "outputs": [],
   "source": [
    "result_general = result.rename(columns=dict_columns)\n",
    "result_general['Duration'] = result_general['Duration']/1000\n",
    "result_general"
   ]
  },
  {
   "cell_type": "code",
   "execution_count": 15,
   "metadata": {},
   "outputs": [
    {
     "data": {
      "text/plain": [
       "Index(['Rental Id', 'Duration', 'Bike Id', 'End Date', 'EndStation Id',\n",
       "       'EndStation Name', 'Start Date', 'StartStation Id', 'StartStation Name',\n",
       "       'Number', 'Start date', 'Start station number', 'Start station',\n",
       "       'End date', 'End station number', 'End station', 'Bike number',\n",
       "       'Bike model', 'Total duration', 'Total duration (ms)', 'RentalId',\n",
       "       'duration', 'endstationName', 'startstationName', 'startdate'],\n",
       "      dtype='object')"
      ]
     },
     "execution_count": 15,
     "metadata": {},
     "output_type": "execute_result"
    }
   ],
   "source": [
    "result.columns"
   ]
  },
  {
   "cell_type": "code",
   "execution_count": 16,
   "metadata": {},
   "outputs": [],
   "source": [
    "result_general = result[['RentalId','duration','endstationName','startstationName','startdate']]"
   ]
  },
  {
   "cell_type": "code",
   "execution_count": null,
   "metadata": {},
   "outputs": [],
   "source": [
    "date_format = '%d/%m/%Y %H:%M:%S'\n",
    "result_general['End date']=pd.to_datetime(result_general['End date'])\n",
    "result_general['Start date']=pd.to_datetime(result_general['Start date'])\n",
    "result_general"
   ]
  },
  {
   "cell_type": "code",
   "execution_count": 17,
   "metadata": {},
   "outputs": [],
   "source": [
    "results_f = result_general[result_general['duration']<3600]"
   ]
  },
  {
   "cell_type": "code",
   "execution_count": 18,
   "metadata": {},
   "outputs": [
    {
     "data": {
      "text/plain": [
       "10994590"
      ]
     },
     "execution_count": 18,
     "metadata": {},
     "output_type": "execute_result"
    }
   ],
   "source": [
    "len(results_f)"
   ]
  },
  {
   "cell_type": "code",
   "execution_count": 19,
   "metadata": {},
   "outputs": [
    {
     "ename": "",
     "evalue": "",
     "output_type": "error",
     "traceback": [
      "\u001b[1;31mCannot execute code, session has been disposed. Please try restarting the Kernel."
     ]
    },
    {
     "ename": "",
     "evalue": "",
     "output_type": "error",
     "traceback": [
      "\u001b[1;31mThe Kernel crashed while executing code in the the current cell or a previous cell. Please review the code in the cell(s) to identify a possible cause of the failure. Click <a href='https://aka.ms/vscodeJupyterKernelCrash'>here</a> for more info. View Jupyter <a href='command:jupyter.viewOutput'>log</a> for further details."
     ]
    }
   ],
   "source": [
    "result=results_f.dropna()\n",
    "new_result=result.set_index('startdate').groupby([pd.Grouper(freq='h'), 'startstationName', 'endstationName']).count()\n",
    "new_result"
   ]
  },
  {
   "cell_type": "code",
   "execution_count": null,
   "metadata": {},
   "outputs": [],
   "source": [
    "new_result['Nooftrips']=new_result['duration']"
   ]
  },
  {
   "cell_type": "code",
   "execution_count": null,
   "metadata": {},
   "outputs": [],
   "source": [
    "new_result = new_result[['Nooftrips']]"
   ]
  },
  {
   "cell_type": "code",
   "execution_count": null,
   "metadata": {},
   "outputs": [],
   "source": [
    "new_result"
   ]
  },
  {
   "cell_type": "code",
   "execution_count": null,
   "metadata": {},
   "outputs": [],
   "source": [
    "df = new_result.reset_index()\n",
    "df = df.sort_values(by=['Start date'])\n",
    "df = new_result.reset_index()\n",
    "df"
   ]
  },
  {
   "cell_type": "code",
   "execution_count": null,
   "metadata": {},
   "outputs": [],
   "source": [
    "df['Start date'] = df['Start date'].apply(lambda x: x.strftime(date_format))"
   ]
  },
  {
   "cell_type": "code",
   "execution_count": null,
   "metadata": {},
   "outputs": [],
   "source": [
    "df"
   ]
  },
  {
   "cell_type": "code",
   "execution_count": null,
   "metadata": {},
   "outputs": [],
   "source": [
    "df.dtypes"
   ]
  },
  {
   "cell_type": "code",
   "execution_count": null,
   "metadata": {},
   "outputs": [],
   "source": [
    "from sklearn.preprocessing import OrdinalEncoder"
   ]
  },
  {
   "cell_type": "code",
   "execution_count": null,
   "metadata": {},
   "outputs": [],
   "source": [
    "df[\"date_code\"] = 0\n",
    "df[\"so_code\"] = 0\n",
    "df[\"sd_code\"] = 0\n",
    "ord_enc = OrdinalEncoder()\n",
    "df[\"date_code\"] = ord_enc.fit_transform(df[[\"Start date\"]])\n",
    "df[\"so_code\"] = ord_enc.fit_transform(df[[\"StartStation Name\"]])\n",
    "df[\"sd_code\"] = ord_enc.fit_transform(df[[\"EndStation Name\"]])"
   ]
  },
  {
   "cell_type": "code",
   "execution_count": null,
   "metadata": {},
   "outputs": [],
   "source": [
    "df"
   ]
  },
  {
   "cell_type": "code",
   "execution_count": null,
   "metadata": {},
   "outputs": [],
   "source": [
    "obj_df = df.select_dtypes(include=['object']).copy()"
   ]
  },
  {
   "cell_type": "code",
   "execution_count": null,
   "metadata": {},
   "outputs": [],
   "source": [
    "obj_df.head()"
   ]
  },
  {
   "cell_type": "code",
   "execution_count": null,
   "metadata": {},
   "outputs": [],
   "source": [
    "coords = df[['so_code','sd_code','date_code']]"
   ]
  },
  {
   "cell_type": "code",
   "execution_count": null,
   "metadata": {},
   "outputs": [],
   "source": [
    "coords.shape"
   ]
  },
  {
   "cell_type": "code",
   "execution_count": null,
   "metadata": {},
   "outputs": [],
   "source": [
    "values = df['No of trips']"
   ]
  },
  {
   "cell_type": "code",
   "execution_count": null,
   "metadata": {},
   "outputs": [],
   "source": [
    "values.shape"
   ]
  },
  {
   "cell_type": "code",
   "execution_count": null,
   "metadata": {},
   "outputs": [],
   "source": [
    "coords = np.array(coords, dtype=np.int32).T\n",
    "values = np.array(values, dtype=np.float64)"
   ]
  },
  {
   "cell_type": "code",
   "execution_count": null,
   "metadata": {},
   "outputs": [],
   "source": [
    "tensor = sparse.COO(coords, data=values)"
   ]
  },
  {
   "cell_type": "code",
   "execution_count": null,
   "metadata": {},
   "outputs": [],
   "source": [
    "print(tensor)"
   ]
  },
  {
   "cell_type": "code",
   "execution_count": null,
   "metadata": {},
   "outputs": [],
   "source": [
    "type(tensor)"
   ]
  },
  {
   "cell_type": "code",
   "execution_count": null,
   "metadata": {},
   "outputs": [],
   "source": [
    "tensor.nbytes / 1e9 "
   ]
  },
  {
   "cell_type": "code",
   "execution_count": null,
   "metadata": {},
   "outputs": [],
   "source": [
    "import tensorly as tl\n",
    "from tensorly.decomposition import tucker"
   ]
  },
  {
   "cell_type": "code",
   "execution_count": null,
   "metadata": {},
   "outputs": [],
   "source": [
    "# Rank of Tucker decomposition\n",
    "tucker_rank = [100, 100, 150]"
   ]
  },
  {
   "cell_type": "code",
   "execution_count": null,
   "metadata": {},
   "outputs": [],
   "source": [
    "core, factors = tucker(tensor, rank=tucker_rank, init='random', tol=10e-5,random_state=12345)"
   ]
  },
  {
   "cell_type": "code",
   "execution_count": null,
   "metadata": {},
   "outputs": [],
   "source": [
    "fig, axs = plt.subplots(5, 3)\n",
    "fig.set_size_inches(18.5, 10.5)\n",
    "axs[0, 0].scatter(x=range(len(factors[0])), y=np.transpose(factors[0])[0])\n",
    "axs[0, 1].scatter(x=range(len(factors[1])), y=np.transpose(factors[1])[0])\n",
    "axs[0, 2].plot(np.transpose(factors[2])[0])\n",
    "\n",
    "axs[1, 0].scatter(x=range(len(factors[0])), y=np.transpose(factors[0])[1])\n",
    "axs[1, 1].scatter(x=range(len(factors[1])), y=np.transpose(factors[1])[1])\n",
    "axs[1, 2].plot(np.transpose(factors[2])[1])\n",
    "\n",
    "axs[2, 0].scatter(x=range(len(factors[0])), y=np.transpose(factors[0])[2])\n",
    "axs[2, 1].scatter(x=range(len(factors[1])), y=np.transpose(factors[1])[2])\n",
    "axs[2, 2].plot(np.transpose(factors[2])[2])\n",
    "\n",
    "axs[3, 0].scatter(x=range(len(factors[0])), y=np.transpose(factors[0])[3])\n",
    "axs[3, 1].scatter(x=range(len(factors[1])), y=np.transpose(factors[1])[3])\n",
    "axs[3, 2].plot(np.transpose(factors[2])[3])\n",
    "\n",
    "axs[4, 0].scatter(x=range(len(factors[0])), y=np.transpose(factors[0])[4])\n",
    "axs[4, 1].scatter(x=range(len(factors[1])), y=np.transpose(factors[1])[4])\n",
    "axs[4, 2].plot(np.transpose(factors[2])[4])"
   ]
  }
 ],
 "metadata": {
  "kernelspec": {
   "display_name": "london-bss",
   "language": "python",
   "name": "python3"
  },
  "language_info": {
   "codemirror_mode": {
    "name": "ipython",
    "version": 3
   },
   "file_extension": ".py",
   "mimetype": "text/x-python",
   "name": "python",
   "nbconvert_exporter": "python",
   "pygments_lexer": "ipython3",
   "version": "3.10.6"
  },
  "orig_nbformat": 4
 },
 "nbformat": 4,
 "nbformat_minor": 2
}
