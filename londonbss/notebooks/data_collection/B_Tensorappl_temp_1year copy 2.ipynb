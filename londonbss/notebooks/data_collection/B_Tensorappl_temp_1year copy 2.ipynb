{
  "cells": [
    {
      "cell_type": "code",
      "execution_count": 4,
      "metadata": {
        "colab": {
          "base_uri": "https://localhost:8080/"
        },
        "id": "chnFhoympfXU",
        "outputId": "f5976d9c-840d-4d3e-f905-adbcd7719a13"
      },
      "outputs": [],
      "source": [
        "import pandas as pd\n",
        "import numpy as np\n",
        "from bs4 import BeautifulSoup\n",
        "import requests\n",
        "import io\n",
        "from datetime import datetime\n",
        "import matplotlib.pyplot as plt\n",
        "import seaborn as sns\n",
        "# from google.colab import drive\n",
        "# drive.mount('/content/drive')"
      ]
    },
    {
      "cell_type": "code",
      "execution_count": 3,
      "metadata": {
        "id": "-qh-SzhUL9cx"
      },
      "outputs": [],
      "source": [
        "# import os\n",
        "# os.chdir('/content/drive/MyDrive/Colab Notebooks')"
      ]
    },
    {
      "cell_type": "code",
      "execution_count": 4,
      "metadata": {
        "colab": {
          "base_uri": "https://localhost:8080/"
        },
        "id": "iKjECtKJL--b",
        "outputId": "adcfbfac-4528-43f2-f40d-b9b8235fe572"
      },
      "outputs": [],
      "source": [
        "# ls"
      ]
    },
    {
      "cell_type": "code",
      "execution_count": 5,
      "metadata": {
        "id": "R4jGMWZMqYtg"
      },
      "outputs": [],
      "source": [
        "# data_path = '../../../raw_data/tripcsvbame-1_year.csv'"
      ]
    },
    {
      "cell_type": "code",
      "execution_count": 6,
      "metadata": {
        "id": "1R5xMSJ3qBON"
      },
      "outputs": [],
      "source": [
        "# data=pd.read_csv(data_path)"
      ]
    },
    {
      "cell_type": "code",
      "execution_count": 7,
      "metadata": {
        "colab": {
          "base_uri": "https://localhost:8080/"
        },
        "id": "l2cdyZmbo3T_",
        "outputId": "a772e23d-d07b-4ca6-e316-a2c535a4ffbb"
      },
      "outputs": [],
      "source": [
        "# type(data)"
      ]
    },
    {
      "cell_type": "code",
      "execution_count": 8,
      "metadata": {
        "id": "qPLWDNHLpfXV"
      },
      "outputs": [],
      "source": [
        "# data['usage-stats/'][301:306]"
      ]
    },
    {
      "cell_type": "code",
      "execution_count": 9,
      "metadata": {
        "colab": {
          "base_uri": "https://localhost:8080/",
          "height": 35
        },
        "id": "lPycdiPMOo3e",
        "outputId": "d30d4653-df0c-4e1d-81de-d6a3eff9ce88"
      },
      "outputs": [],
      "source": [
        "# data['usage-stats/'][0]"
      ]
    },
    {
      "cell_type": "code",
      "execution_count": 10,
      "metadata": {
        "colab": {
          "base_uri": "https://localhost:8080/",
          "height": 802
        },
        "id": "Omw6leYvP2qP",
        "outputId": "c4c6a6cb-29a4-4735-aac9-deb17ba59461"
      },
      "outputs": [],
      "source": [
        "# data['usage-stats/']=data['usage-stats/'].apply(lambda x: x.strip())\n",
        "# data"
      ]
    },
    {
      "cell_type": "code",
      "execution_count": 11,
      "metadata": {},
      "outputs": [],
      "source": [
        "# def read_url(url):\n",
        "#     s=requests.get(url).content\n",
        "#     c=pd.read_csv(io.StringIO(s.decode('utf-8')))\n",
        "#     return c"
      ]
    },
    {
      "cell_type": "code",
      "execution_count": 12,
      "metadata": {},
      "outputs": [],
      "source": [
        "# data"
      ]
    },
    {
      "cell_type": "code",
      "execution_count": 13,
      "metadata": {
        "colab": {
          "base_uri": "https://localhost:8080/"
        },
        "id": "owqqKgmhpfXW",
        "outputId": "9d663964-0a3e-4f2c-ba23-add40d6a9909"
      },
      "outputs": [],
      "source": [
        "# data_2023=data\n",
        "# frames=[]\n",
        "# link=\"https://cycling.data.tfl.gov.uk/usage-stats/\"\n",
        "# #for x in data_2023.index:\n",
        "# #    file=link+item[1:]\n",
        "# #    frame.append(read_url(file))\n",
        "#   # print((data_path + data_2023['usage-stats/'][x]).replace(' ',''))\n",
        "# #  frames.append(pd.read_csv(data_path + data_2023['usage-stats/'][x]))\n",
        "\n",
        "# for item in data_2023['usage-stats/']:\n",
        "#     file=link+item\n",
        "#     frames.append(read_url(file))\n",
        "# result = pd.concat(frames)\n",
        "# result"
      ]
    },
    {
      "cell_type": "code",
      "execution_count": 14,
      "metadata": {
        "id": "9XjGzlSbPz4f"
      },
      "outputs": [],
      "source": [
        "# data_2023.iloc[0]"
      ]
    },
    {
      "cell_type": "code",
      "execution_count": 15,
      "metadata": {
        "id": "AcGbPeh7q7BI"
      },
      "outputs": [],
      "source": [
        "dict_columns = {\n",
        "    \"Number\": \"Rental Id\",\n",
        "    \"Total duration (ms)\": \"Duration\",\n",
        "    \"Bike number\" : \"Bike Id\",\n",
        "    \"Start station\" : 'StartStation Name',\n",
        "    'End station': 'EndStation Name',\n",
        "    'End Date': 'End date',\n",
        "    'Start Date': 'Start date'\n",
        "}"
      ]
    },
    {
      "cell_type": "code",
      "execution_count": 16,
      "metadata": {
        "colab": {
          "base_uri": "https://localhost:8080/",
          "height": 806
        },
        "id": "BiS5vXMfsSoe",
        "outputId": "7809d953-f7c1-4ba4-d435-61a1a32aad46"
      },
      "outputs": [],
      "source": [
        "# result_general = result.rename(columns=dict_columns)\n",
        "# result_general['Duration'] = result_general['Duration']/1000\n",
        "# result_general"
      ]
    },
    {
      "cell_type": "code",
      "execution_count": 17,
      "metadata": {
        "colab": {
          "base_uri": "https://localhost:8080/",
          "height": 806
        },
        "id": "beHB_M4QpfXW",
        "outputId": "17986df3-1312-4b22-aa00-41eacf2b71ab"
      },
      "outputs": [],
      "source": [
        "# date_format = '%d/%m/%Y %H:%M:%S'\n",
        "# result_general['End date']=pd.to_datetime(result_general['End date'])\n",
        "# result_general['Start date']=pd.to_datetime(result_general['Start date'])\n",
        "# result_general"
      ]
    },
    {
      "cell_type": "code",
      "execution_count": 18,
      "metadata": {
        "id": "uov5lld3pfXW"
      },
      "outputs": [],
      "source": [
        "# results_f = result_general[result_general['Duration']<3600]"
      ]
    },
    {
      "cell_type": "code",
      "execution_count": 19,
      "metadata": {
        "colab": {
          "base_uri": "https://localhost:8080/",
          "height": 806
        },
        "id": "9y66xrDqpfXW",
        "outputId": "ac5cea66-d45a-4ca2-8050-f71607ce026f"
      },
      "outputs": [],
      "source": [
        "# results_f"
      ]
    },
    {
      "cell_type": "code",
      "execution_count": 20,
      "metadata": {
        "colab": {
          "base_uri": "https://localhost:8080/"
        },
        "id": "4ngIbHiPF2sQ",
        "outputId": "320abd28-6e06-4b2f-cd08-dcebf0db7f2f"
      },
      "outputs": [],
      "source": [
        "# len(result_general)"
      ]
    },
    {
      "cell_type": "code",
      "execution_count": 21,
      "metadata": {
        "colab": {
          "base_uri": "https://localhost:8080/"
        },
        "id": "TPks7I9mF6f9",
        "outputId": "61ece640-b43b-4456-9063-da153f952611"
      },
      "outputs": [],
      "source": [
        "# len(results_f)"
      ]
    },
    {
      "cell_type": "code",
      "execution_count": 22,
      "metadata": {
        "colab": {
          "base_uri": "https://localhost:8080/",
          "height": 646
        },
        "id": "oFznpFTjpfXW",
        "outputId": "2a6a3f8b-01f1-45c0-fa89-ed8a5f98593e"
      },
      "outputs": [],
      "source": [
        "# result=results_f.dropna()\n",
        "# new_result=result.set_index('Start date').groupby([pd.Grouper(freq='h'), 'StartStation Name', 'EndStation Name']).count()\n",
        "# new_result"
      ]
    },
    {
      "cell_type": "code",
      "execution_count": 23,
      "metadata": {
        "colab": {
          "base_uri": "https://localhost:8080/"
        },
        "id": "_FTnF0yxuJcm",
        "outputId": "aed0a3b6-8efd-4b15-da95-54d4f63cad71"
      },
      "outputs": [],
      "source": [
        "# new_result.columns"
      ]
    },
    {
      "cell_type": "code",
      "execution_count": 24,
      "metadata": {
        "id": "IuFJUVbdua1l"
      },
      "outputs": [],
      "source": [
        "# new_result['No of trips']=new_result['Duration']"
      ]
    },
    {
      "cell_type": "code",
      "execution_count": 25,
      "metadata": {
        "colab": {
          "base_uri": "https://localhost:8080/",
          "height": 663
        },
        "id": "HXP1TEZ-usLS",
        "outputId": "99d10ea7-9896-4cb3-870e-cace20c16f02"
      },
      "outputs": [],
      "source": [
        "# new_result"
      ]
    },
    {
      "cell_type": "code",
      "execution_count": 26,
      "metadata": {
        "id": "SGYSsko_udO_"
      },
      "outputs": [],
      "source": [
        "# new_result = new_result[['No of trips']]"
      ]
    },
    {
      "cell_type": "code",
      "execution_count": 1,
      "metadata": {},
      "outputs": [
        {
          "ename": "KeyboardInterrupt",
          "evalue": "",
          "output_type": "error",
          "traceback": [
            "\u001b[0;31m---------------------------------------------------------------------------\u001b[0m",
            "\u001b[0;31mKeyboardInterrupt\u001b[0m                         Traceback (most recent call last)",
            "Cell \u001b[0;32mIn[1], line 6\u001b[0m\n\u001b[1;32m      1\u001b[0m \u001b[39mimport\u001b[39;00m \u001b[39mpandas\u001b[39;00m \u001b[39mas\u001b[39;00m \u001b[39mpd\u001b[39;00m\n\u001b[1;32m      2\u001b[0m query \u001b[39m=\u001b[39m \u001b[39m'''\u001b[39m\n\u001b[1;32m      3\u001b[0m \u001b[39m  SELECT *\u001b[39m\n\u001b[1;32m      4\u001b[0m \u001b[39m  FROM `wagon-bootcamp-396316.londonbss.data2022`\u001b[39m\n\u001b[1;32m      5\u001b[0m \u001b[39m'''\u001b[39m\n\u001b[0;32m----> 6\u001b[0m df \u001b[39m=\u001b[39m pd\u001b[39m.\u001b[39;49mread_gbq(query, project_id\u001b[39m=\u001b[39;49m\u001b[39m\"\u001b[39;49m\u001b[39mwagon-bootcamp-396316\u001b[39;49m\u001b[39m\"\u001b[39;49m)\n\u001b[1;32m      7\u001b[0m df\n",
            "File \u001b[0;32m~/.pyenv/versions/3.10.6/envs/london-bss/lib/python3.10/site-packages/pandas/io/gbq.py:186\u001b[0m, in \u001b[0;36mread_gbq\u001b[0;34m(query, project_id, index_col, col_order, reauth, auth_local_webserver, dialect, location, configuration, credentials, use_bqstorage_api, max_results, progress_bar_type)\u001b[0m\n\u001b[1;32m    183\u001b[0m kwargs[\u001b[39m\"\u001b[39m\u001b[39mprogress_bar_type\u001b[39m\u001b[39m\"\u001b[39m] \u001b[39m=\u001b[39m progress_bar_type\n\u001b[1;32m    184\u001b[0m \u001b[39m# END: new kwargs\u001b[39;00m\n\u001b[0;32m--> 186\u001b[0m \u001b[39mreturn\u001b[39;00m pandas_gbq\u001b[39m.\u001b[39;49mread_gbq(\n\u001b[1;32m    187\u001b[0m     query,\n\u001b[1;32m    188\u001b[0m     project_id\u001b[39m=\u001b[39;49mproject_id,\n\u001b[1;32m    189\u001b[0m     index_col\u001b[39m=\u001b[39;49mindex_col,\n\u001b[1;32m    190\u001b[0m     col_order\u001b[39m=\u001b[39;49mcol_order,\n\u001b[1;32m    191\u001b[0m     reauth\u001b[39m=\u001b[39;49mreauth,\n\u001b[1;32m    192\u001b[0m     auth_local_webserver\u001b[39m=\u001b[39;49mauth_local_webserver,\n\u001b[1;32m    193\u001b[0m     dialect\u001b[39m=\u001b[39;49mdialect,\n\u001b[1;32m    194\u001b[0m     location\u001b[39m=\u001b[39;49mlocation,\n\u001b[1;32m    195\u001b[0m     configuration\u001b[39m=\u001b[39;49mconfiguration,\n\u001b[1;32m    196\u001b[0m     credentials\u001b[39m=\u001b[39;49mcredentials,\n\u001b[1;32m    197\u001b[0m     \u001b[39m*\u001b[39;49m\u001b[39m*\u001b[39;49mkwargs,\n\u001b[1;32m    198\u001b[0m )\n",
            "File \u001b[0;32m~/.pyenv/versions/3.10.6/envs/london-bss/lib/python3.10/site-packages/pandas_gbq/gbq.py:943\u001b[0m, in \u001b[0;36mread_gbq\u001b[0;34m(query_or_table, project_id, index_col, col_order, reauth, auth_local_webserver, dialect, location, configuration, credentials, use_bqstorage_api, max_results, verbose, private_key, progress_bar_type, dtypes, auth_redirect_uri, client_id, client_secret)\u001b[0m\n\u001b[1;32m    928\u001b[0m connector \u001b[39m=\u001b[39m GbqConnector(\n\u001b[1;32m    929\u001b[0m     project_id,\n\u001b[1;32m    930\u001b[0m     reauth\u001b[39m=\u001b[39mreauth,\n\u001b[0;32m   (...)\u001b[0m\n\u001b[1;32m    939\u001b[0m     client_secret\u001b[39m=\u001b[39mclient_secret,\n\u001b[1;32m    940\u001b[0m )\n\u001b[1;32m    942\u001b[0m \u001b[39mif\u001b[39;00m _is_query(query_or_table):\n\u001b[0;32m--> 943\u001b[0m     final_df \u001b[39m=\u001b[39m connector\u001b[39m.\u001b[39;49mrun_query(\n\u001b[1;32m    944\u001b[0m         query_or_table,\n\u001b[1;32m    945\u001b[0m         configuration\u001b[39m=\u001b[39;49mconfiguration,\n\u001b[1;32m    946\u001b[0m         max_results\u001b[39m=\u001b[39;49mmax_results,\n\u001b[1;32m    947\u001b[0m         progress_bar_type\u001b[39m=\u001b[39;49mprogress_bar_type,\n\u001b[1;32m    948\u001b[0m         dtypes\u001b[39m=\u001b[39;49mdtypes,\n\u001b[1;32m    949\u001b[0m     )\n\u001b[1;32m    950\u001b[0m \u001b[39melse\u001b[39;00m:\n\u001b[1;32m    951\u001b[0m     final_df \u001b[39m=\u001b[39m connector\u001b[39m.\u001b[39mdownload_table(\n\u001b[1;32m    952\u001b[0m         query_or_table,\n\u001b[1;32m    953\u001b[0m         max_results\u001b[39m=\u001b[39mmax_results,\n\u001b[1;32m    954\u001b[0m         progress_bar_type\u001b[39m=\u001b[39mprogress_bar_type,\n\u001b[1;32m    955\u001b[0m         dtypes\u001b[39m=\u001b[39mdtypes,\n\u001b[1;32m    956\u001b[0m     )\n",
            "File \u001b[0;32m~/.pyenv/versions/3.10.6/envs/london-bss/lib/python3.10/site-packages/pandas_gbq/gbq.py:479\u001b[0m, in \u001b[0;36mGbqConnector.run_query\u001b[0;34m(self, query, max_results, progress_bar_type, **kwargs)\u001b[0m\n\u001b[1;32m    477\u001b[0m \u001b[39mtry\u001b[39;00m:\n\u001b[1;32m    478\u001b[0m     logger\u001b[39m.\u001b[39mdebug(\u001b[39m\"\u001b[39m\u001b[39mRequesting query... \u001b[39m\u001b[39m\"\u001b[39m)\n\u001b[0;32m--> 479\u001b[0m     query_reply \u001b[39m=\u001b[39m \u001b[39mself\u001b[39;49m\u001b[39m.\u001b[39;49mclient\u001b[39m.\u001b[39;49mquery(\n\u001b[1;32m    480\u001b[0m         query,\n\u001b[1;32m    481\u001b[0m         job_config\u001b[39m=\u001b[39;49mbigquery\u001b[39m.\u001b[39;49mQueryJobConfig\u001b[39m.\u001b[39;49mfrom_api_repr(job_config),\n\u001b[1;32m    482\u001b[0m         location\u001b[39m=\u001b[39;49m\u001b[39mself\u001b[39;49m\u001b[39m.\u001b[39;49mlocation,\n\u001b[1;32m    483\u001b[0m         project\u001b[39m=\u001b[39;49m\u001b[39mself\u001b[39;49m\u001b[39m.\u001b[39;49mproject_id,\n\u001b[1;32m    484\u001b[0m     )\n\u001b[1;32m    485\u001b[0m     logger\u001b[39m.\u001b[39mdebug(\u001b[39m\"\u001b[39m\u001b[39mQuery running...\u001b[39m\u001b[39m\"\u001b[39m)\n\u001b[1;32m    486\u001b[0m \u001b[39mexcept\u001b[39;00m (RefreshError, \u001b[39mValueError\u001b[39;00m):\n",
            "File \u001b[0;32m~/.pyenv/versions/3.10.6/envs/london-bss/lib/python3.10/site-packages/google/cloud/bigquery/client.py:3408\u001b[0m, in \u001b[0;36mClient.query\u001b[0;34m(self, query, job_config, job_id, job_id_prefix, location, project, retry, timeout, job_retry, api_method)\u001b[0m\n\u001b[1;32m   3397\u001b[0m     \u001b[39mreturn\u001b[39;00m _job_helpers\u001b[39m.\u001b[39mquery_jobs_query(\n\u001b[1;32m   3398\u001b[0m         \u001b[39mself\u001b[39m,\n\u001b[1;32m   3399\u001b[0m         query,\n\u001b[0;32m   (...)\u001b[0m\n\u001b[1;32m   3405\u001b[0m         job_retry,\n\u001b[1;32m   3406\u001b[0m     )\n\u001b[1;32m   3407\u001b[0m \u001b[39melif\u001b[39;00m api_method \u001b[39m==\u001b[39m enums\u001b[39m.\u001b[39mQueryApiMethod\u001b[39m.\u001b[39mINSERT:\n\u001b[0;32m-> 3408\u001b[0m     \u001b[39mreturn\u001b[39;00m _job_helpers\u001b[39m.\u001b[39;49mquery_jobs_insert(\n\u001b[1;32m   3409\u001b[0m         \u001b[39mself\u001b[39;49m,\n\u001b[1;32m   3410\u001b[0m         query,\n\u001b[1;32m   3411\u001b[0m         job_config,\n\u001b[1;32m   3412\u001b[0m         job_id,\n\u001b[1;32m   3413\u001b[0m         job_id_prefix,\n\u001b[1;32m   3414\u001b[0m         location,\n\u001b[1;32m   3415\u001b[0m         project,\n\u001b[1;32m   3416\u001b[0m         retry,\n\u001b[1;32m   3417\u001b[0m         timeout,\n\u001b[1;32m   3418\u001b[0m         job_retry,\n\u001b[1;32m   3419\u001b[0m     )\n\u001b[1;32m   3420\u001b[0m \u001b[39melse\u001b[39;00m:\n\u001b[1;32m   3421\u001b[0m     \u001b[39mraise\u001b[39;00m \u001b[39mValueError\u001b[39;00m(\u001b[39mf\u001b[39m\u001b[39m\"\u001b[39m\u001b[39mGot unexpected value for api_method: \u001b[39m\u001b[39m{\u001b[39;00m\u001b[39mrepr\u001b[39m(api_method)\u001b[39m}\u001b[39;00m\u001b[39m\"\u001b[39m)\n",
            "File \u001b[0;32m~/.pyenv/versions/3.10.6/envs/london-bss/lib/python3.10/site-packages/google/cloud/bigquery/_job_helpers.py:114\u001b[0m, in \u001b[0;36mquery_jobs_insert\u001b[0;34m(client, query, job_config, job_id, job_id_prefix, location, project, retry, timeout, job_retry)\u001b[0m\n\u001b[1;32m    111\u001b[0m     \u001b[39melse\u001b[39;00m:\n\u001b[1;32m    112\u001b[0m         \u001b[39mreturn\u001b[39;00m query_job\n\u001b[0;32m--> 114\u001b[0m future \u001b[39m=\u001b[39m do_query()\n\u001b[1;32m    115\u001b[0m \u001b[39m# The future might be in a failed state now, but if it's\u001b[39;00m\n\u001b[1;32m    116\u001b[0m \u001b[39m# unrecoverable, we'll find out when we ask for it's result, at which\u001b[39;00m\n\u001b[1;32m    117\u001b[0m \u001b[39m# point, we may retry.\u001b[39;00m\n\u001b[1;32m    118\u001b[0m \u001b[39mif\u001b[39;00m \u001b[39mnot\u001b[39;00m job_id_given:\n",
            "File \u001b[0;32m~/.pyenv/versions/3.10.6/envs/london-bss/lib/python3.10/site-packages/google/cloud/bigquery/_job_helpers.py:91\u001b[0m, in \u001b[0;36mquery_jobs_insert.<locals>.do_query\u001b[0;34m()\u001b[0m\n\u001b[1;32m     88\u001b[0m query_job \u001b[39m=\u001b[39m job\u001b[39m.\u001b[39mQueryJob(job_ref, query, client\u001b[39m=\u001b[39mclient, job_config\u001b[39m=\u001b[39mjob_config)\n\u001b[1;32m     90\u001b[0m \u001b[39mtry\u001b[39;00m:\n\u001b[0;32m---> 91\u001b[0m     query_job\u001b[39m.\u001b[39;49m_begin(retry\u001b[39m=\u001b[39;49mretry, timeout\u001b[39m=\u001b[39;49mtimeout)\n\u001b[1;32m     92\u001b[0m \u001b[39mexcept\u001b[39;00m core_exceptions\u001b[39m.\u001b[39mConflict \u001b[39mas\u001b[39;00m create_exc:\n\u001b[1;32m     93\u001b[0m     \u001b[39m# The thought is if someone is providing their own job IDs and they get\u001b[39;00m\n\u001b[1;32m     94\u001b[0m     \u001b[39m# their job ID generation wrong, this could end up returning results for\u001b[39;00m\n\u001b[1;32m     95\u001b[0m     \u001b[39m# the wrong query. We thus only try to recover if job ID was not given.\u001b[39;00m\n\u001b[1;32m     96\u001b[0m     \u001b[39mif\u001b[39;00m job_id_given:\n",
            "File \u001b[0;32m~/.pyenv/versions/3.10.6/envs/london-bss/lib/python3.10/site-packages/google/cloud/bigquery/job/query.py:1310\u001b[0m, in \u001b[0;36mQueryJob._begin\u001b[0;34m(self, client, retry, timeout)\u001b[0m\n\u001b[1;32m   1290\u001b[0m \u001b[39m\u001b[39m\u001b[39m\"\"\"API call:  begin the job via a POST request\u001b[39;00m\n\u001b[1;32m   1291\u001b[0m \n\u001b[1;32m   1292\u001b[0m \u001b[39mSee\u001b[39;00m\n\u001b[0;32m   (...)\u001b[0m\n\u001b[1;32m   1306\u001b[0m \u001b[39m    ValueError: If the job has already begun.\u001b[39;00m\n\u001b[1;32m   1307\u001b[0m \u001b[39m\"\"\"\u001b[39;00m\n\u001b[1;32m   1309\u001b[0m \u001b[39mtry\u001b[39;00m:\n\u001b[0;32m-> 1310\u001b[0m     \u001b[39msuper\u001b[39;49m(QueryJob, \u001b[39mself\u001b[39;49m)\u001b[39m.\u001b[39;49m_begin(client\u001b[39m=\u001b[39;49mclient, retry\u001b[39m=\u001b[39;49mretry, timeout\u001b[39m=\u001b[39;49mtimeout)\n\u001b[1;32m   1311\u001b[0m \u001b[39mexcept\u001b[39;00m exceptions\u001b[39m.\u001b[39mGoogleAPICallError \u001b[39mas\u001b[39;00m exc:\n\u001b[1;32m   1312\u001b[0m     exc\u001b[39m.\u001b[39mmessage \u001b[39m=\u001b[39m _EXCEPTION_FOOTER_TEMPLATE\u001b[39m.\u001b[39mformat(\n\u001b[1;32m   1313\u001b[0m         message\u001b[39m=\u001b[39mexc\u001b[39m.\u001b[39mmessage, location\u001b[39m=\u001b[39m\u001b[39mself\u001b[39m\u001b[39m.\u001b[39mlocation, job_id\u001b[39m=\u001b[39m\u001b[39mself\u001b[39m\u001b[39m.\u001b[39mjob_id\n\u001b[1;32m   1314\u001b[0m     )\n",
            "File \u001b[0;32m~/.pyenv/versions/3.10.6/envs/london-bss/lib/python3.10/site-packages/google/cloud/bigquery/job/base.py:693\u001b[0m, in \u001b[0;36m_AsyncJob._begin\u001b[0;34m(self, client, retry, timeout)\u001b[0m\n\u001b[1;32m    690\u001b[0m \u001b[39m# jobs.insert is idempotent because we ensure that every new\u001b[39;00m\n\u001b[1;32m    691\u001b[0m \u001b[39m# job has an ID.\u001b[39;00m\n\u001b[1;32m    692\u001b[0m span_attributes \u001b[39m=\u001b[39m {\u001b[39m\"\u001b[39m\u001b[39mpath\u001b[39m\u001b[39m\"\u001b[39m: path}\n\u001b[0;32m--> 693\u001b[0m api_response \u001b[39m=\u001b[39m client\u001b[39m.\u001b[39;49m_call_api(\n\u001b[1;32m    694\u001b[0m     retry,\n\u001b[1;32m    695\u001b[0m     span_name\u001b[39m=\u001b[39;49m\u001b[39m\"\u001b[39;49m\u001b[39mBigQuery.job.begin\u001b[39;49m\u001b[39m\"\u001b[39;49m,\n\u001b[1;32m    696\u001b[0m     span_attributes\u001b[39m=\u001b[39;49mspan_attributes,\n\u001b[1;32m    697\u001b[0m     job_ref\u001b[39m=\u001b[39;49m\u001b[39mself\u001b[39;49m,\n\u001b[1;32m    698\u001b[0m     method\u001b[39m=\u001b[39;49m\u001b[39m\"\u001b[39;49m\u001b[39mPOST\u001b[39;49m\u001b[39m\"\u001b[39;49m,\n\u001b[1;32m    699\u001b[0m     path\u001b[39m=\u001b[39;49mpath,\n\u001b[1;32m    700\u001b[0m     data\u001b[39m=\u001b[39;49m\u001b[39mself\u001b[39;49m\u001b[39m.\u001b[39;49mto_api_repr(),\n\u001b[1;32m    701\u001b[0m     timeout\u001b[39m=\u001b[39;49mtimeout,\n\u001b[1;32m    702\u001b[0m )\n\u001b[1;32m    703\u001b[0m \u001b[39mself\u001b[39m\u001b[39m.\u001b[39m_set_properties(api_response)\n",
            "File \u001b[0;32m~/.pyenv/versions/3.10.6/envs/london-bss/lib/python3.10/site-packages/google/cloud/bigquery/client.py:816\u001b[0m, in \u001b[0;36mClient._call_api\u001b[0;34m(self, retry, span_name, span_attributes, job_ref, headers, **kwargs)\u001b[0m\n\u001b[1;32m    812\u001b[0m \u001b[39mif\u001b[39;00m span_name \u001b[39mis\u001b[39;00m \u001b[39mnot\u001b[39;00m \u001b[39mNone\u001b[39;00m:\n\u001b[1;32m    813\u001b[0m     \u001b[39mwith\u001b[39;00m create_span(\n\u001b[1;32m    814\u001b[0m         name\u001b[39m=\u001b[39mspan_name, attributes\u001b[39m=\u001b[39mspan_attributes, client\u001b[39m=\u001b[39m\u001b[39mself\u001b[39m, job_ref\u001b[39m=\u001b[39mjob_ref\n\u001b[1;32m    815\u001b[0m     ):\n\u001b[0;32m--> 816\u001b[0m         \u001b[39mreturn\u001b[39;00m call()\n\u001b[1;32m    818\u001b[0m \u001b[39mreturn\u001b[39;00m call()\n",
            "File \u001b[0;32m~/.pyenv/versions/3.10.6/envs/london-bss/lib/python3.10/site-packages/google/api_core/retry.py:349\u001b[0m, in \u001b[0;36mRetry.__call__.<locals>.retry_wrapped_func\u001b[0;34m(*args, **kwargs)\u001b[0m\n\u001b[1;32m    345\u001b[0m target \u001b[39m=\u001b[39m functools\u001b[39m.\u001b[39mpartial(func, \u001b[39m*\u001b[39margs, \u001b[39m*\u001b[39m\u001b[39m*\u001b[39mkwargs)\n\u001b[1;32m    346\u001b[0m sleep_generator \u001b[39m=\u001b[39m exponential_sleep_generator(\n\u001b[1;32m    347\u001b[0m     \u001b[39mself\u001b[39m\u001b[39m.\u001b[39m_initial, \u001b[39mself\u001b[39m\u001b[39m.\u001b[39m_maximum, multiplier\u001b[39m=\u001b[39m\u001b[39mself\u001b[39m\u001b[39m.\u001b[39m_multiplier\n\u001b[1;32m    348\u001b[0m )\n\u001b[0;32m--> 349\u001b[0m \u001b[39mreturn\u001b[39;00m retry_target(\n\u001b[1;32m    350\u001b[0m     target,\n\u001b[1;32m    351\u001b[0m     \u001b[39mself\u001b[39;49m\u001b[39m.\u001b[39;49m_predicate,\n\u001b[1;32m    352\u001b[0m     sleep_generator,\n\u001b[1;32m    353\u001b[0m     \u001b[39mself\u001b[39;49m\u001b[39m.\u001b[39;49m_timeout,\n\u001b[1;32m    354\u001b[0m     on_error\u001b[39m=\u001b[39;49mon_error,\n\u001b[1;32m    355\u001b[0m )\n",
            "File \u001b[0;32m~/.pyenv/versions/3.10.6/envs/london-bss/lib/python3.10/site-packages/google/api_core/retry.py:191\u001b[0m, in \u001b[0;36mretry_target\u001b[0;34m(target, predicate, sleep_generator, timeout, on_error, **kwargs)\u001b[0m\n\u001b[1;32m    189\u001b[0m \u001b[39mfor\u001b[39;00m sleep \u001b[39min\u001b[39;00m sleep_generator:\n\u001b[1;32m    190\u001b[0m     \u001b[39mtry\u001b[39;00m:\n\u001b[0;32m--> 191\u001b[0m         \u001b[39mreturn\u001b[39;00m target()\n\u001b[1;32m    193\u001b[0m     \u001b[39m# pylint: disable=broad-except\u001b[39;00m\n\u001b[1;32m    194\u001b[0m     \u001b[39m# This function explicitly must deal with broad exceptions.\u001b[39;00m\n\u001b[1;32m    195\u001b[0m     \u001b[39mexcept\u001b[39;00m \u001b[39mException\u001b[39;00m \u001b[39mas\u001b[39;00m exc:\n",
            "File \u001b[0;32m~/.pyenv/versions/3.10.6/envs/london-bss/lib/python3.10/site-packages/google/cloud/_http/__init__.py:482\u001b[0m, in \u001b[0;36mJSONConnection.api_request\u001b[0;34m(self, method, path, query_params, data, content_type, headers, api_base_url, api_version, expect_json, _target_object, timeout, extra_api_info)\u001b[0m\n\u001b[1;32m    479\u001b[0m     data \u001b[39m=\u001b[39m json\u001b[39m.\u001b[39mdumps(data)\n\u001b[1;32m    480\u001b[0m     content_type \u001b[39m=\u001b[39m \u001b[39m\"\u001b[39m\u001b[39mapplication/json\u001b[39m\u001b[39m\"\u001b[39m\n\u001b[0;32m--> 482\u001b[0m response \u001b[39m=\u001b[39m \u001b[39mself\u001b[39;49m\u001b[39m.\u001b[39;49m_make_request(\n\u001b[1;32m    483\u001b[0m     method\u001b[39m=\u001b[39;49mmethod,\n\u001b[1;32m    484\u001b[0m     url\u001b[39m=\u001b[39;49murl,\n\u001b[1;32m    485\u001b[0m     data\u001b[39m=\u001b[39;49mdata,\n\u001b[1;32m    486\u001b[0m     content_type\u001b[39m=\u001b[39;49mcontent_type,\n\u001b[1;32m    487\u001b[0m     headers\u001b[39m=\u001b[39;49mheaders,\n\u001b[1;32m    488\u001b[0m     target_object\u001b[39m=\u001b[39;49m_target_object,\n\u001b[1;32m    489\u001b[0m     timeout\u001b[39m=\u001b[39;49mtimeout,\n\u001b[1;32m    490\u001b[0m     extra_api_info\u001b[39m=\u001b[39;49mextra_api_info,\n\u001b[1;32m    491\u001b[0m )\n\u001b[1;32m    493\u001b[0m \u001b[39mif\u001b[39;00m \u001b[39mnot\u001b[39;00m \u001b[39m200\u001b[39m \u001b[39m<\u001b[39m\u001b[39m=\u001b[39m response\u001b[39m.\u001b[39mstatus_code \u001b[39m<\u001b[39m \u001b[39m300\u001b[39m:\n\u001b[1;32m    494\u001b[0m     \u001b[39mraise\u001b[39;00m exceptions\u001b[39m.\u001b[39mfrom_http_response(response)\n",
            "File \u001b[0;32m~/.pyenv/versions/3.10.6/envs/london-bss/lib/python3.10/site-packages/google/cloud/_http/__init__.py:341\u001b[0m, in \u001b[0;36mJSONConnection._make_request\u001b[0;34m(self, method, url, data, content_type, headers, target_object, timeout, extra_api_info)\u001b[0m\n\u001b[1;32m    338\u001b[0m     headers[CLIENT_INFO_HEADER] \u001b[39m=\u001b[39m \u001b[39mself\u001b[39m\u001b[39m.\u001b[39muser_agent\n\u001b[1;32m    339\u001b[0m headers[\u001b[39m\"\u001b[39m\u001b[39mUser-Agent\u001b[39m\u001b[39m\"\u001b[39m] \u001b[39m=\u001b[39m \u001b[39mself\u001b[39m\u001b[39m.\u001b[39muser_agent\n\u001b[0;32m--> 341\u001b[0m \u001b[39mreturn\u001b[39;00m \u001b[39mself\u001b[39;49m\u001b[39m.\u001b[39;49m_do_request(\n\u001b[1;32m    342\u001b[0m     method, url, headers, data, target_object, timeout\u001b[39m=\u001b[39;49mtimeout\n\u001b[1;32m    343\u001b[0m )\n",
            "File \u001b[0;32m~/.pyenv/versions/3.10.6/envs/london-bss/lib/python3.10/site-packages/google/cloud/_http/__init__.py:379\u001b[0m, in \u001b[0;36mJSONConnection._do_request\u001b[0;34m(self, method, url, headers, data, target_object, timeout)\u001b[0m\n\u001b[1;32m    345\u001b[0m \u001b[39mdef\u001b[39;00m \u001b[39m_do_request\u001b[39m(\n\u001b[1;32m    346\u001b[0m     \u001b[39mself\u001b[39m, method, url, headers, data, target_object, timeout\u001b[39m=\u001b[39m_DEFAULT_TIMEOUT\n\u001b[1;32m    347\u001b[0m ):  \u001b[39m# pylint: disable=unused-argument\u001b[39;00m\n\u001b[1;32m    348\u001b[0m \u001b[39m    \u001b[39m\u001b[39m\"\"\"Low-level helper:  perform the actual API request over HTTP.\u001b[39;00m\n\u001b[1;32m    349\u001b[0m \n\u001b[1;32m    350\u001b[0m \u001b[39m    Allows batch context managers to override and defer a request.\u001b[39;00m\n\u001b[0;32m   (...)\u001b[0m\n\u001b[1;32m    377\u001b[0m \u001b[39m    :returns: The HTTP response.\u001b[39;00m\n\u001b[1;32m    378\u001b[0m \u001b[39m    \"\"\"\u001b[39;00m\n\u001b[0;32m--> 379\u001b[0m     \u001b[39mreturn\u001b[39;00m \u001b[39mself\u001b[39;49m\u001b[39m.\u001b[39;49mhttp\u001b[39m.\u001b[39;49mrequest(\n\u001b[1;32m    380\u001b[0m         url\u001b[39m=\u001b[39;49murl, method\u001b[39m=\u001b[39;49mmethod, headers\u001b[39m=\u001b[39;49mheaders, data\u001b[39m=\u001b[39;49mdata, timeout\u001b[39m=\u001b[39;49mtimeout\n\u001b[1;32m    381\u001b[0m     )\n",
            "File \u001b[0;32m~/.pyenv/versions/3.10.6/envs/london-bss/lib/python3.10/site-packages/google/auth/transport/requests.py:549\u001b[0m, in \u001b[0;36mAuthorizedSession.request\u001b[0;34m(self, method, url, data, headers, max_allowed_time, timeout, **kwargs)\u001b[0m\n\u001b[1;32m    546\u001b[0m remaining_time \u001b[39m=\u001b[39m guard\u001b[39m.\u001b[39mremaining_timeout\n\u001b[1;32m    548\u001b[0m \u001b[39mwith\u001b[39;00m TimeoutGuard(remaining_time) \u001b[39mas\u001b[39;00m guard:\n\u001b[0;32m--> 549\u001b[0m     response \u001b[39m=\u001b[39m \u001b[39msuper\u001b[39;49m(AuthorizedSession, \u001b[39mself\u001b[39;49m)\u001b[39m.\u001b[39;49mrequest(\n\u001b[1;32m    550\u001b[0m         method,\n\u001b[1;32m    551\u001b[0m         url,\n\u001b[1;32m    552\u001b[0m         data\u001b[39m=\u001b[39;49mdata,\n\u001b[1;32m    553\u001b[0m         headers\u001b[39m=\u001b[39;49mrequest_headers,\n\u001b[1;32m    554\u001b[0m         timeout\u001b[39m=\u001b[39;49mtimeout,\n\u001b[1;32m    555\u001b[0m         \u001b[39m*\u001b[39;49m\u001b[39m*\u001b[39;49mkwargs\n\u001b[1;32m    556\u001b[0m     )\n\u001b[1;32m    557\u001b[0m remaining_time \u001b[39m=\u001b[39m guard\u001b[39m.\u001b[39mremaining_timeout\n\u001b[1;32m    559\u001b[0m \u001b[39m# If the response indicated that the credentials needed to be\u001b[39;00m\n\u001b[1;32m    560\u001b[0m \u001b[39m# refreshed, then refresh the credentials and re-attempt the\u001b[39;00m\n\u001b[1;32m    561\u001b[0m \u001b[39m# request.\u001b[39;00m\n\u001b[1;32m    562\u001b[0m \u001b[39m# A stored token may expire between the time it is retrieved and\u001b[39;00m\n\u001b[1;32m    563\u001b[0m \u001b[39m# the time the request is made, so we may need to try twice.\u001b[39;00m\n",
            "File \u001b[0;32m~/.pyenv/versions/3.10.6/envs/london-bss/lib/python3.10/site-packages/requests/sessions.py:589\u001b[0m, in \u001b[0;36mSession.request\u001b[0;34m(self, method, url, params, data, headers, cookies, files, auth, timeout, allow_redirects, proxies, hooks, stream, verify, cert, json)\u001b[0m\n\u001b[1;32m    584\u001b[0m send_kwargs \u001b[39m=\u001b[39m {\n\u001b[1;32m    585\u001b[0m     \u001b[39m\"\u001b[39m\u001b[39mtimeout\u001b[39m\u001b[39m\"\u001b[39m: timeout,\n\u001b[1;32m    586\u001b[0m     \u001b[39m\"\u001b[39m\u001b[39mallow_redirects\u001b[39m\u001b[39m\"\u001b[39m: allow_redirects,\n\u001b[1;32m    587\u001b[0m }\n\u001b[1;32m    588\u001b[0m send_kwargs\u001b[39m.\u001b[39mupdate(settings)\n\u001b[0;32m--> 589\u001b[0m resp \u001b[39m=\u001b[39m \u001b[39mself\u001b[39;49m\u001b[39m.\u001b[39;49msend(prep, \u001b[39m*\u001b[39;49m\u001b[39m*\u001b[39;49msend_kwargs)\n\u001b[1;32m    591\u001b[0m \u001b[39mreturn\u001b[39;00m resp\n",
            "File \u001b[0;32m~/.pyenv/versions/3.10.6/envs/london-bss/lib/python3.10/site-packages/requests/sessions.py:703\u001b[0m, in \u001b[0;36mSession.send\u001b[0;34m(self, request, **kwargs)\u001b[0m\n\u001b[1;32m    700\u001b[0m start \u001b[39m=\u001b[39m preferred_clock()\n\u001b[1;32m    702\u001b[0m \u001b[39m# Send the request\u001b[39;00m\n\u001b[0;32m--> 703\u001b[0m r \u001b[39m=\u001b[39m adapter\u001b[39m.\u001b[39;49msend(request, \u001b[39m*\u001b[39;49m\u001b[39m*\u001b[39;49mkwargs)\n\u001b[1;32m    705\u001b[0m \u001b[39m# Total elapsed time of the request (approximately)\u001b[39;00m\n\u001b[1;32m    706\u001b[0m elapsed \u001b[39m=\u001b[39m preferred_clock() \u001b[39m-\u001b[39m start\n",
            "File \u001b[0;32m~/.pyenv/versions/3.10.6/envs/london-bss/lib/python3.10/site-packages/requests/adapters.py:486\u001b[0m, in \u001b[0;36mHTTPAdapter.send\u001b[0;34m(self, request, stream, timeout, verify, cert, proxies)\u001b[0m\n\u001b[1;32m    483\u001b[0m     timeout \u001b[39m=\u001b[39m TimeoutSauce(connect\u001b[39m=\u001b[39mtimeout, read\u001b[39m=\u001b[39mtimeout)\n\u001b[1;32m    485\u001b[0m \u001b[39mtry\u001b[39;00m:\n\u001b[0;32m--> 486\u001b[0m     resp \u001b[39m=\u001b[39m conn\u001b[39m.\u001b[39;49murlopen(\n\u001b[1;32m    487\u001b[0m         method\u001b[39m=\u001b[39;49mrequest\u001b[39m.\u001b[39;49mmethod,\n\u001b[1;32m    488\u001b[0m         url\u001b[39m=\u001b[39;49murl,\n\u001b[1;32m    489\u001b[0m         body\u001b[39m=\u001b[39;49mrequest\u001b[39m.\u001b[39;49mbody,\n\u001b[1;32m    490\u001b[0m         headers\u001b[39m=\u001b[39;49mrequest\u001b[39m.\u001b[39;49mheaders,\n\u001b[1;32m    491\u001b[0m         redirect\u001b[39m=\u001b[39;49m\u001b[39mFalse\u001b[39;49;00m,\n\u001b[1;32m    492\u001b[0m         assert_same_host\u001b[39m=\u001b[39;49m\u001b[39mFalse\u001b[39;49;00m,\n\u001b[1;32m    493\u001b[0m         preload_content\u001b[39m=\u001b[39;49m\u001b[39mFalse\u001b[39;49;00m,\n\u001b[1;32m    494\u001b[0m         decode_content\u001b[39m=\u001b[39;49m\u001b[39mFalse\u001b[39;49;00m,\n\u001b[1;32m    495\u001b[0m         retries\u001b[39m=\u001b[39;49m\u001b[39mself\u001b[39;49m\u001b[39m.\u001b[39;49mmax_retries,\n\u001b[1;32m    496\u001b[0m         timeout\u001b[39m=\u001b[39;49mtimeout,\n\u001b[1;32m    497\u001b[0m         chunked\u001b[39m=\u001b[39;49mchunked,\n\u001b[1;32m    498\u001b[0m     )\n\u001b[1;32m    500\u001b[0m \u001b[39mexcept\u001b[39;00m (ProtocolError, \u001b[39mOSError\u001b[39;00m) \u001b[39mas\u001b[39;00m err:\n\u001b[1;32m    501\u001b[0m     \u001b[39mraise\u001b[39;00m \u001b[39mConnectionError\u001b[39;00m(err, request\u001b[39m=\u001b[39mrequest)\n",
            "File \u001b[0;32m~/.pyenv/versions/3.10.6/envs/london-bss/lib/python3.10/site-packages/urllib3/connectionpool.py:714\u001b[0m, in \u001b[0;36mHTTPConnectionPool.urlopen\u001b[0;34m(self, method, url, body, headers, retries, redirect, assert_same_host, timeout, pool_timeout, release_conn, chunked, body_pos, **response_kw)\u001b[0m\n\u001b[1;32m    711\u001b[0m     \u001b[39mself\u001b[39m\u001b[39m.\u001b[39m_prepare_proxy(conn)\n\u001b[1;32m    713\u001b[0m \u001b[39m# Make the request on the httplib connection object.\u001b[39;00m\n\u001b[0;32m--> 714\u001b[0m httplib_response \u001b[39m=\u001b[39m \u001b[39mself\u001b[39;49m\u001b[39m.\u001b[39;49m_make_request(\n\u001b[1;32m    715\u001b[0m     conn,\n\u001b[1;32m    716\u001b[0m     method,\n\u001b[1;32m    717\u001b[0m     url,\n\u001b[1;32m    718\u001b[0m     timeout\u001b[39m=\u001b[39;49mtimeout_obj,\n\u001b[1;32m    719\u001b[0m     body\u001b[39m=\u001b[39;49mbody,\n\u001b[1;32m    720\u001b[0m     headers\u001b[39m=\u001b[39;49mheaders,\n\u001b[1;32m    721\u001b[0m     chunked\u001b[39m=\u001b[39;49mchunked,\n\u001b[1;32m    722\u001b[0m )\n\u001b[1;32m    724\u001b[0m \u001b[39m# If we're going to release the connection in ``finally:``, then\u001b[39;00m\n\u001b[1;32m    725\u001b[0m \u001b[39m# the response doesn't need to know about the connection. Otherwise\u001b[39;00m\n\u001b[1;32m    726\u001b[0m \u001b[39m# it will also try to release it and we'll have a double-release\u001b[39;00m\n\u001b[1;32m    727\u001b[0m \u001b[39m# mess.\u001b[39;00m\n\u001b[1;32m    728\u001b[0m response_conn \u001b[39m=\u001b[39m conn \u001b[39mif\u001b[39;00m \u001b[39mnot\u001b[39;00m release_conn \u001b[39melse\u001b[39;00m \u001b[39mNone\u001b[39;00m\n",
            "File \u001b[0;32m~/.pyenv/versions/3.10.6/envs/london-bss/lib/python3.10/site-packages/urllib3/connectionpool.py:466\u001b[0m, in \u001b[0;36mHTTPConnectionPool._make_request\u001b[0;34m(self, conn, method, url, timeout, chunked, **httplib_request_kw)\u001b[0m\n\u001b[1;32m    461\u001b[0m             httplib_response \u001b[39m=\u001b[39m conn\u001b[39m.\u001b[39mgetresponse()\n\u001b[1;32m    462\u001b[0m         \u001b[39mexcept\u001b[39;00m \u001b[39mBaseException\u001b[39;00m \u001b[39mas\u001b[39;00m e:\n\u001b[1;32m    463\u001b[0m             \u001b[39m# Remove the TypeError from the exception chain in\u001b[39;00m\n\u001b[1;32m    464\u001b[0m             \u001b[39m# Python 3 (including for exceptions like SystemExit).\u001b[39;00m\n\u001b[1;32m    465\u001b[0m             \u001b[39m# Otherwise it looks like a bug in the code.\u001b[39;00m\n\u001b[0;32m--> 466\u001b[0m             six\u001b[39m.\u001b[39;49mraise_from(e, \u001b[39mNone\u001b[39;49;00m)\n\u001b[1;32m    467\u001b[0m \u001b[39mexcept\u001b[39;00m (SocketTimeout, BaseSSLError, SocketError) \u001b[39mas\u001b[39;00m e:\n\u001b[1;32m    468\u001b[0m     \u001b[39mself\u001b[39m\u001b[39m.\u001b[39m_raise_timeout(err\u001b[39m=\u001b[39me, url\u001b[39m=\u001b[39murl, timeout_value\u001b[39m=\u001b[39mread_timeout)\n",
            "File \u001b[0;32m<string>:3\u001b[0m, in \u001b[0;36mraise_from\u001b[0;34m(value, from_value)\u001b[0m\n",
            "File \u001b[0;32m~/.pyenv/versions/3.10.6/envs/london-bss/lib/python3.10/site-packages/urllib3/connectionpool.py:461\u001b[0m, in \u001b[0;36mHTTPConnectionPool._make_request\u001b[0;34m(self, conn, method, url, timeout, chunked, **httplib_request_kw)\u001b[0m\n\u001b[1;32m    458\u001b[0m \u001b[39mexcept\u001b[39;00m \u001b[39mTypeError\u001b[39;00m:\n\u001b[1;32m    459\u001b[0m     \u001b[39m# Python 3\u001b[39;00m\n\u001b[1;32m    460\u001b[0m     \u001b[39mtry\u001b[39;00m:\n\u001b[0;32m--> 461\u001b[0m         httplib_response \u001b[39m=\u001b[39m conn\u001b[39m.\u001b[39;49mgetresponse()\n\u001b[1;32m    462\u001b[0m     \u001b[39mexcept\u001b[39;00m \u001b[39mBaseException\u001b[39;00m \u001b[39mas\u001b[39;00m e:\n\u001b[1;32m    463\u001b[0m         \u001b[39m# Remove the TypeError from the exception chain in\u001b[39;00m\n\u001b[1;32m    464\u001b[0m         \u001b[39m# Python 3 (including for exceptions like SystemExit).\u001b[39;00m\n\u001b[1;32m    465\u001b[0m         \u001b[39m# Otherwise it looks like a bug in the code.\u001b[39;00m\n\u001b[1;32m    466\u001b[0m         six\u001b[39m.\u001b[39mraise_from(e, \u001b[39mNone\u001b[39;00m)\n",
            "File \u001b[0;32m~/.pyenv/versions/3.10.6/lib/python3.10/http/client.py:1374\u001b[0m, in \u001b[0;36mHTTPConnection.getresponse\u001b[0;34m(self)\u001b[0m\n\u001b[1;32m   1372\u001b[0m \u001b[39mtry\u001b[39;00m:\n\u001b[1;32m   1373\u001b[0m     \u001b[39mtry\u001b[39;00m:\n\u001b[0;32m-> 1374\u001b[0m         response\u001b[39m.\u001b[39;49mbegin()\n\u001b[1;32m   1375\u001b[0m     \u001b[39mexcept\u001b[39;00m \u001b[39mConnectionError\u001b[39;00m:\n\u001b[1;32m   1376\u001b[0m         \u001b[39mself\u001b[39m\u001b[39m.\u001b[39mclose()\n",
            "File \u001b[0;32m~/.pyenv/versions/3.10.6/lib/python3.10/http/client.py:318\u001b[0m, in \u001b[0;36mHTTPResponse.begin\u001b[0;34m(self)\u001b[0m\n\u001b[1;32m    316\u001b[0m \u001b[39m# read until we get a non-100 response\u001b[39;00m\n\u001b[1;32m    317\u001b[0m \u001b[39mwhile\u001b[39;00m \u001b[39mTrue\u001b[39;00m:\n\u001b[0;32m--> 318\u001b[0m     version, status, reason \u001b[39m=\u001b[39m \u001b[39mself\u001b[39;49m\u001b[39m.\u001b[39;49m_read_status()\n\u001b[1;32m    319\u001b[0m     \u001b[39mif\u001b[39;00m status \u001b[39m!=\u001b[39m CONTINUE:\n\u001b[1;32m    320\u001b[0m         \u001b[39mbreak\u001b[39;00m\n",
            "File \u001b[0;32m~/.pyenv/versions/3.10.6/lib/python3.10/http/client.py:279\u001b[0m, in \u001b[0;36mHTTPResponse._read_status\u001b[0;34m(self)\u001b[0m\n\u001b[1;32m    278\u001b[0m \u001b[39mdef\u001b[39;00m \u001b[39m_read_status\u001b[39m(\u001b[39mself\u001b[39m):\n\u001b[0;32m--> 279\u001b[0m     line \u001b[39m=\u001b[39m \u001b[39mstr\u001b[39m(\u001b[39mself\u001b[39;49m\u001b[39m.\u001b[39;49mfp\u001b[39m.\u001b[39;49mreadline(_MAXLINE \u001b[39m+\u001b[39;49m \u001b[39m1\u001b[39;49m), \u001b[39m\"\u001b[39m\u001b[39miso-8859-1\u001b[39m\u001b[39m\"\u001b[39m)\n\u001b[1;32m    280\u001b[0m     \u001b[39mif\u001b[39;00m \u001b[39mlen\u001b[39m(line) \u001b[39m>\u001b[39m _MAXLINE:\n\u001b[1;32m    281\u001b[0m         \u001b[39mraise\u001b[39;00m LineTooLong(\u001b[39m\"\u001b[39m\u001b[39mstatus line\u001b[39m\u001b[39m\"\u001b[39m)\n",
            "File \u001b[0;32m~/.pyenv/versions/3.10.6/lib/python3.10/socket.py:705\u001b[0m, in \u001b[0;36mSocketIO.readinto\u001b[0;34m(self, b)\u001b[0m\n\u001b[1;32m    703\u001b[0m \u001b[39mwhile\u001b[39;00m \u001b[39mTrue\u001b[39;00m:\n\u001b[1;32m    704\u001b[0m     \u001b[39mtry\u001b[39;00m:\n\u001b[0;32m--> 705\u001b[0m         \u001b[39mreturn\u001b[39;00m \u001b[39mself\u001b[39;49m\u001b[39m.\u001b[39;49m_sock\u001b[39m.\u001b[39;49mrecv_into(b)\n\u001b[1;32m    706\u001b[0m     \u001b[39mexcept\u001b[39;00m timeout:\n\u001b[1;32m    707\u001b[0m         \u001b[39mself\u001b[39m\u001b[39m.\u001b[39m_timeout_occurred \u001b[39m=\u001b[39m \u001b[39mTrue\u001b[39;00m\n",
            "File \u001b[0;32m~/.pyenv/versions/3.10.6/lib/python3.10/ssl.py:1274\u001b[0m, in \u001b[0;36mSSLSocket.recv_into\u001b[0;34m(self, buffer, nbytes, flags)\u001b[0m\n\u001b[1;32m   1270\u001b[0m     \u001b[39mif\u001b[39;00m flags \u001b[39m!=\u001b[39m \u001b[39m0\u001b[39m:\n\u001b[1;32m   1271\u001b[0m         \u001b[39mraise\u001b[39;00m \u001b[39mValueError\u001b[39;00m(\n\u001b[1;32m   1272\u001b[0m           \u001b[39m\"\u001b[39m\u001b[39mnon-zero flags not allowed in calls to recv_into() on \u001b[39m\u001b[39m%s\u001b[39;00m\u001b[39m\"\u001b[39m \u001b[39m%\u001b[39m\n\u001b[1;32m   1273\u001b[0m           \u001b[39mself\u001b[39m\u001b[39m.\u001b[39m\u001b[39m__class__\u001b[39m)\n\u001b[0;32m-> 1274\u001b[0m     \u001b[39mreturn\u001b[39;00m \u001b[39mself\u001b[39;49m\u001b[39m.\u001b[39;49mread(nbytes, buffer)\n\u001b[1;32m   1275\u001b[0m \u001b[39melse\u001b[39;00m:\n\u001b[1;32m   1276\u001b[0m     \u001b[39mreturn\u001b[39;00m \u001b[39msuper\u001b[39m()\u001b[39m.\u001b[39mrecv_into(buffer, nbytes, flags)\n",
            "File \u001b[0;32m~/.pyenv/versions/3.10.6/lib/python3.10/ssl.py:1130\u001b[0m, in \u001b[0;36mSSLSocket.read\u001b[0;34m(self, len, buffer)\u001b[0m\n\u001b[1;32m   1128\u001b[0m \u001b[39mtry\u001b[39;00m:\n\u001b[1;32m   1129\u001b[0m     \u001b[39mif\u001b[39;00m buffer \u001b[39mis\u001b[39;00m \u001b[39mnot\u001b[39;00m \u001b[39mNone\u001b[39;00m:\n\u001b[0;32m-> 1130\u001b[0m         \u001b[39mreturn\u001b[39;00m \u001b[39mself\u001b[39;49m\u001b[39m.\u001b[39;49m_sslobj\u001b[39m.\u001b[39;49mread(\u001b[39mlen\u001b[39;49m, buffer)\n\u001b[1;32m   1131\u001b[0m     \u001b[39melse\u001b[39;00m:\n\u001b[1;32m   1132\u001b[0m         \u001b[39mreturn\u001b[39;00m \u001b[39mself\u001b[39m\u001b[39m.\u001b[39m_sslobj\u001b[39m.\u001b[39mread(\u001b[39mlen\u001b[39m)\n",
            "\u001b[0;31mKeyboardInterrupt\u001b[0m: "
          ]
        }
      ],
      "source": [
        "import pandas as pd\n",
        "query = '''\n",
        "  SELECT *\n",
        "  FROM `wagon-bootcamp-396316.londonbss.data2022`\n",
        "'''\n",
        "df = pd.read_gbq(query, project_id=\"wagon-bootcamp-396316\")\n",
        "df"
      ]
    },
    {
      "cell_type": "code",
      "execution_count": 28,
      "metadata": {},
      "outputs": [],
      "source": [
        "df2=df"
      ]
    },
    {
      "cell_type": "code",
      "execution_count": 29,
      "metadata": {},
      "outputs": [],
      "source": [
        "df=df2"
      ]
    },
    {
      "cell_type": "code",
      "execution_count": 30,
      "metadata": {
        "colab": {
          "base_uri": "https://localhost:8080/",
          "height": 455
        },
        "id": "ikL36P0LvAlP",
        "outputId": "360975c6-aeb0-4255-aa92-b3464d99f3d8"
      },
      "outputs": [
        {
          "data": {
            "text/plain": [
              "Index(['_StartDate', '_StartStationName', '_EndStationName', '_Nooftrips'], dtype='object')"
            ]
          },
          "execution_count": 30,
          "metadata": {},
          "output_type": "execute_result"
        }
      ],
      "source": [
        "df.columns"
      ]
    },
    {
      "cell_type": "code",
      "execution_count": 31,
      "metadata": {},
      "outputs": [
        {
          "data": {
            "text/html": [
              "<div>\n",
              "<style scoped>\n",
              "    .dataframe tbody tr th:only-of-type {\n",
              "        vertical-align: middle;\n",
              "    }\n",
              "\n",
              "    .dataframe tbody tr th {\n",
              "        vertical-align: top;\n",
              "    }\n",
              "\n",
              "    .dataframe thead th {\n",
              "        text-align: right;\n",
              "    }\n",
              "</style>\n",
              "<table border=\"1\" class=\"dataframe\">\n",
              "  <thead>\n",
              "    <tr style=\"text-align: right;\">\n",
              "      <th></th>\n",
              "      <th>StartDate</th>\n",
              "      <th>StartStationName</th>\n",
              "      <th>EndStationName</th>\n",
              "      <th>Nooftrips</th>\n",
              "    </tr>\n",
              "  </thead>\n",
              "  <tbody>\n",
              "    <tr>\n",
              "      <th>0</th>\n",
              "      <td>2022-10-04 18:00:00</td>\n",
              "      <td>Somerset House, Strand</td>\n",
              "      <td>Fournier Street, Whitechapel</td>\n",
              "      <td>1</td>\n",
              "    </tr>\n",
              "    <tr>\n",
              "      <th>1</th>\n",
              "      <td>2022-10-04 18:00:00</td>\n",
              "      <td>Sardinia Street, Holborn</td>\n",
              "      <td>Westferry Circus, Canary Wharf</td>\n",
              "      <td>1</td>\n",
              "    </tr>\n",
              "    <tr>\n",
              "      <th>2</th>\n",
              "      <td>2022-10-04 18:00:00</td>\n",
              "      <td>Portugal Street, Holborn</td>\n",
              "      <td>Rampayne Street, Pimlico</td>\n",
              "      <td>1</td>\n",
              "    </tr>\n",
              "    <tr>\n",
              "      <th>3</th>\n",
              "      <td>2022-10-04 18:00:00</td>\n",
              "      <td>Bouverie Street, Temple</td>\n",
              "      <td>Vauxhall Walk, Vauxhall</td>\n",
              "      <td>1</td>\n",
              "    </tr>\n",
              "    <tr>\n",
              "      <th>4</th>\n",
              "      <td>2022-10-04 18:00:00</td>\n",
              "      <td>Wenlock Road , Hoxton</td>\n",
              "      <td>Endsleigh Gardens, Euston</td>\n",
              "      <td>1</td>\n",
              "    </tr>\n",
              "    <tr>\n",
              "      <th>...</th>\n",
              "      <td>...</td>\n",
              "      <td>...</td>\n",
              "      <td>...</td>\n",
              "      <td>...</td>\n",
              "    </tr>\n",
              "    <tr>\n",
              "      <th>9822518</th>\n",
              "      <td>2022-07-05 21:00:00</td>\n",
              "      <td>Frith Street, Soho</td>\n",
              "      <td>Columbia Road, Shoreditch</td>\n",
              "      <td>1</td>\n",
              "    </tr>\n",
              "    <tr>\n",
              "      <th>9822519</th>\n",
              "      <td>2022-07-05 21:00:00</td>\n",
              "      <td>Bunhill Row, Moorgate</td>\n",
              "      <td>Breams Buildings, Holborn</td>\n",
              "      <td>1</td>\n",
              "    </tr>\n",
              "    <tr>\n",
              "      <th>9822520</th>\n",
              "      <td>2022-07-05 21:00:00</td>\n",
              "      <td>Clarkson Street, Bethnal Green</td>\n",
              "      <td>Russell Square Station, Bloomsbury</td>\n",
              "      <td>1</td>\n",
              "    </tr>\n",
              "    <tr>\n",
              "      <th>9822521</th>\n",
              "      <td>2022-07-05 21:00:00</td>\n",
              "      <td>Lambeth Road, Vauxhall</td>\n",
              "      <td>Lambeth North Station, Waterloo</td>\n",
              "      <td>1</td>\n",
              "    </tr>\n",
              "    <tr>\n",
              "      <th>9822522</th>\n",
              "      <td>2022-07-05 21:00:00</td>\n",
              "      <td>Wellington Street , Strand</td>\n",
              "      <td>Wardour Street, Soho</td>\n",
              "      <td>2</td>\n",
              "    </tr>\n",
              "  </tbody>\n",
              "</table>\n",
              "<p>9822523 rows × 4 columns</p>\n",
              "</div>"
            ],
            "text/plain": [
              "                  StartDate                StartStationName  \\\n",
              "0       2022-10-04 18:00:00          Somerset House, Strand   \n",
              "1       2022-10-04 18:00:00        Sardinia Street, Holborn   \n",
              "2       2022-10-04 18:00:00        Portugal Street, Holborn   \n",
              "3       2022-10-04 18:00:00         Bouverie Street, Temple   \n",
              "4       2022-10-04 18:00:00           Wenlock Road , Hoxton   \n",
              "...                     ...                             ...   \n",
              "9822518 2022-07-05 21:00:00              Frith Street, Soho   \n",
              "9822519 2022-07-05 21:00:00           Bunhill Row, Moorgate   \n",
              "9822520 2022-07-05 21:00:00  Clarkson Street, Bethnal Green   \n",
              "9822521 2022-07-05 21:00:00          Lambeth Road, Vauxhall   \n",
              "9822522 2022-07-05 21:00:00      Wellington Street , Strand   \n",
              "\n",
              "                             EndStationName  Nooftrips  \n",
              "0              Fournier Street, Whitechapel          1  \n",
              "1            Westferry Circus, Canary Wharf          1  \n",
              "2                  Rampayne Street, Pimlico          1  \n",
              "3                   Vauxhall Walk, Vauxhall          1  \n",
              "4                 Endsleigh Gardens, Euston          1  \n",
              "...                                     ...        ...  \n",
              "9822518           Columbia Road, Shoreditch          1  \n",
              "9822519           Breams Buildings, Holborn          1  \n",
              "9822520  Russell Square Station, Bloomsbury          1  \n",
              "9822521     Lambeth North Station, Waterloo          1  \n",
              "9822522                Wardour Street, Soho          2  \n",
              "\n",
              "[9822523 rows x 4 columns]"
            ]
          },
          "execution_count": 31,
          "metadata": {},
          "output_type": "execute_result"
        }
      ],
      "source": [
        "new_names={}\n",
        "for column_name in df.columns:\n",
        "    new_names[column_name]=column_name.replace('_','').lstrip().replace(' ','')\n",
        "new_names\n",
        "df=df.rename(columns=new_names)\n",
        "df\n"
      ]
    },
    {
      "cell_type": "code",
      "execution_count": 32,
      "metadata": {},
      "outputs": [],
      "source": [
        "#df=df.drop(columns=['index'])\n",
        "#df.head()"
      ]
    },
    {
      "cell_type": "code",
      "execution_count": 33,
      "metadata": {},
      "outputs": [
        {
          "name": "stdout",
          "output_type": "stream",
          "text": [
            "<class 'pandas.core.frame.DataFrame'>\n",
            "RangeIndex: 9822523 entries, 0 to 9822522\n",
            "Data columns (total 4 columns):\n",
            " #   Column            Dtype         \n",
            "---  ------            -----         \n",
            " 0   StartDate         datetime64[us]\n",
            " 1   StartStationName  object        \n",
            " 2   EndStationName    object        \n",
            " 3   Nooftrips         Int64         \n",
            "dtypes: Int64(1), datetime64[us](1), object(2)\n",
            "memory usage: 309.1+ MB\n"
          ]
        }
      ],
      "source": [
        "df.info()"
      ]
    },
    {
      "cell_type": "code",
      "execution_count": 34,
      "metadata": {
        "colab": {
          "base_uri": "https://localhost:8080/",
          "height": 424
        },
        "id": "afrgx57ApfXX",
        "outputId": "26c1c6be-102f-40f6-ed6b-9b687e91c9e2"
      },
      "outputs": [],
      "source": [
        "df = df.reset_index(drop=True)\n",
        "df = df.sort_values(by=['StartDate'])\n",
        "df = df.reset_index(drop=True)"
      ]
    },
    {
      "cell_type": "code",
      "execution_count": 35,
      "metadata": {
        "colab": {
          "base_uri": "https://localhost:8080/"
        },
        "id": "Y3CyaZ70pfXX",
        "outputId": "45b3b0c2-27f6-4d54-916f-8794069d5f70"
      },
      "outputs": [
        {
          "data": {
            "text/plain": [
              "816"
            ]
          },
          "execution_count": 35,
          "metadata": {},
          "output_type": "execute_result"
        }
      ],
      "source": [
        "total_stations = pd.concat([df['StartStationName'],df['EndStationName']])\n",
        "total_uniq_stations = np.unique(total_stations).tolist()\n",
        "len(total_uniq_stations)"
      ]
    },
    {
      "cell_type": "code",
      "execution_count": 36,
      "metadata": {
        "colab": {
          "base_uri": "https://localhost:8080/"
        },
        "id": "gqhFwu2WpfXX",
        "outputId": "669c122a-e6cb-4cb7-9678-a40c8ac4b36e"
      },
      "outputs": [
        {
          "data": {
            "text/plain": [
              "8684"
            ]
          },
          "execution_count": 36,
          "metadata": {},
          "output_type": "execute_result"
        }
      ],
      "source": [
        "total_hours = np.unique(df['StartDate']).tolist()\n",
        "len(total_hours)"
      ]
    },
    {
      "cell_type": "code",
      "execution_count": 37,
      "metadata": {
        "id": "F5gG97VupfXY"
      },
      "outputs": [],
      "source": [
        "i = len(total_uniq_stations)\n",
        "k = len(total_hours)\n",
        "trips_3darray = np.zeros((i,i,k))\n",
        "trips_3darray=trips_3darray.astype(np.int8)"
      ]
    },
    {
      "cell_type": "code",
      "execution_count": 38,
      "metadata": {},
      "outputs": [
        {
          "data": {
            "text/plain": [
              "(9822523, 4)"
            ]
          },
          "execution_count": 38,
          "metadata": {},
          "output_type": "execute_result"
        }
      ],
      "source": [
        "df.shape"
      ]
    },
    {
      "cell_type": "code",
      "execution_count": 39,
      "metadata": {},
      "outputs": [
        {
          "data": {
            "text/html": [
              "<div>\n",
              "<style scoped>\n",
              "    .dataframe tbody tr th:only-of-type {\n",
              "        vertical-align: middle;\n",
              "    }\n",
              "\n",
              "    .dataframe tbody tr th {\n",
              "        vertical-align: top;\n",
              "    }\n",
              "\n",
              "    .dataframe thead th {\n",
              "        text-align: right;\n",
              "    }\n",
              "</style>\n",
              "<table border=\"1\" class=\"dataframe\">\n",
              "  <thead>\n",
              "    <tr style=\"text-align: right;\">\n",
              "      <th></th>\n",
              "      <th>StartDate</th>\n",
              "      <th>StartStationName</th>\n",
              "      <th>EndStationName</th>\n",
              "      <th>Nooftrips</th>\n",
              "      <th>date_code</th>\n",
              "      <th>so_code</th>\n",
              "      <th>sd_code</th>\n",
              "    </tr>\n",
              "  </thead>\n",
              "  <tbody>\n",
              "    <tr>\n",
              "      <th>0</th>\n",
              "      <td>2022-01-01</td>\n",
              "      <td>Wellington Arch, Hyde Park</td>\n",
              "      <td>Eastbourne Mews, Paddington</td>\n",
              "      <td>2</td>\n",
              "      <td>0.0</td>\n",
              "      <td>777.0</td>\n",
              "      <td>223.0</td>\n",
              "    </tr>\n",
              "    <tr>\n",
              "      <th>1</th>\n",
              "      <td>2022-01-01</td>\n",
              "      <td>Abingdon Green, Westminster</td>\n",
              "      <td>Bayswater Road, Hyde Park</td>\n",
              "      <td>2</td>\n",
              "      <td>0.0</td>\n",
              "      <td>4.0</td>\n",
              "      <td>53.0</td>\n",
              "    </tr>\n",
              "    <tr>\n",
              "      <th>2</th>\n",
              "      <td>2022-01-01</td>\n",
              "      <td>Erin Close, Walham Green</td>\n",
              "      <td>Westfield Southern Terrace ,Shepherd's Bush</td>\n",
              "      <td>1</td>\n",
              "      <td>0.0</td>\n",
              "      <td>236.0</td>\n",
              "      <td>796.0</td>\n",
              "    </tr>\n",
              "    <tr>\n",
              "      <th>3</th>\n",
              "      <td>2022-01-01</td>\n",
              "      <td>Waterloo Bridge, South Bank</td>\n",
              "      <td>Bayley Street , Bloomsbury</td>\n",
              "      <td>2</td>\n",
              "      <td>0.0</td>\n",
              "      <td>768.0</td>\n",
              "      <td>51.0</td>\n",
              "    </tr>\n",
              "    <tr>\n",
              "      <th>4</th>\n",
              "      <td>2022-01-01</td>\n",
              "      <td>Somerset House, Strand</td>\n",
              "      <td>Southampton Street, Strand</td>\n",
              "      <td>4</td>\n",
              "      <td>0.0</td>\n",
              "      <td>643.0</td>\n",
              "      <td>656.0</td>\n",
              "    </tr>\n",
              "    <tr>\n",
              "      <th>...</th>\n",
              "      <td>...</td>\n",
              "      <td>...</td>\n",
              "      <td>...</td>\n",
              "      <td>...</td>\n",
              "      <td>...</td>\n",
              "      <td>...</td>\n",
              "      <td>...</td>\n",
              "    </tr>\n",
              "    <tr>\n",
              "      <th>9822518</th>\n",
              "      <td>2022-12-31</td>\n",
              "      <td>Kensington Church Street, Kensington</td>\n",
              "      <td>Parsons Green Station, Parsons Green</td>\n",
              "      <td>1</td>\n",
              "      <td>8683.0</td>\n",
              "      <td>394.0</td>\n",
              "      <td>535.0</td>\n",
              "    </tr>\n",
              "    <tr>\n",
              "      <th>9822519</th>\n",
              "      <td>2022-12-31</td>\n",
              "      <td>Westfield Ariel Way, White City</td>\n",
              "      <td>Westfield Ariel Way, White City</td>\n",
              "      <td>1</td>\n",
              "      <td>8683.0</td>\n",
              "      <td>792.0</td>\n",
              "      <td>794.0</td>\n",
              "    </tr>\n",
              "    <tr>\n",
              "      <th>9822520</th>\n",
              "      <td>2022-12-31</td>\n",
              "      <td>Belgrove Street , King's Cross</td>\n",
              "      <td>Horseferry Road, Westminster</td>\n",
              "      <td>2</td>\n",
              "      <td>8683.0</td>\n",
              "      <td>59.0</td>\n",
              "      <td>363.0</td>\n",
              "    </tr>\n",
              "    <tr>\n",
              "      <th>9822521</th>\n",
              "      <td>2022-12-31</td>\n",
              "      <td>Clifford Street, Mayfair</td>\n",
              "      <td>Albany Street, The Regent's Park</td>\n",
              "      <td>3</td>\n",
              "      <td>8683.0</td>\n",
              "      <td>166.0</td>\n",
              "      <td>11.0</td>\n",
              "    </tr>\n",
              "    <tr>\n",
              "      <th>9822522</th>\n",
              "      <td>2022-12-31</td>\n",
              "      <td>Gloucester Road (Central), South Kensington</td>\n",
              "      <td>Westbourne Grove, Bayswater</td>\n",
              "      <td>2</td>\n",
              "      <td>8683.0</td>\n",
              "      <td>289.0</td>\n",
              "      <td>789.0</td>\n",
              "    </tr>\n",
              "  </tbody>\n",
              "</table>\n",
              "<p>9822523 rows × 7 columns</p>\n",
              "</div>"
            ],
            "text/plain": [
              "         StartDate                             StartStationName  \\\n",
              "0       2022-01-01                   Wellington Arch, Hyde Park   \n",
              "1       2022-01-01                  Abingdon Green, Westminster   \n",
              "2       2022-01-01                     Erin Close, Walham Green   \n",
              "3       2022-01-01                  Waterloo Bridge, South Bank   \n",
              "4       2022-01-01                       Somerset House, Strand   \n",
              "...            ...                                          ...   \n",
              "9822518 2022-12-31         Kensington Church Street, Kensington   \n",
              "9822519 2022-12-31              Westfield Ariel Way, White City   \n",
              "9822520 2022-12-31               Belgrove Street , King's Cross   \n",
              "9822521 2022-12-31                     Clifford Street, Mayfair   \n",
              "9822522 2022-12-31  Gloucester Road (Central), South Kensington   \n",
              "\n",
              "                                      EndStationName  Nooftrips  date_code  \\\n",
              "0                        Eastbourne Mews, Paddington          2        0.0   \n",
              "1                          Bayswater Road, Hyde Park          2        0.0   \n",
              "2        Westfield Southern Terrace ,Shepherd's Bush          1        0.0   \n",
              "3                         Bayley Street , Bloomsbury          2        0.0   \n",
              "4                         Southampton Street, Strand          4        0.0   \n",
              "...                                              ...        ...        ...   \n",
              "9822518         Parsons Green Station, Parsons Green          1     8683.0   \n",
              "9822519              Westfield Ariel Way, White City          1     8683.0   \n",
              "9822520                 Horseferry Road, Westminster          2     8683.0   \n",
              "9822521             Albany Street, The Regent's Park          3     8683.0   \n",
              "9822522                  Westbourne Grove, Bayswater          2     8683.0   \n",
              "\n",
              "         so_code  sd_code  \n",
              "0          777.0    223.0  \n",
              "1            4.0     53.0  \n",
              "2          236.0    796.0  \n",
              "3          768.0     51.0  \n",
              "4          643.0    656.0  \n",
              "...          ...      ...  \n",
              "9822518    394.0    535.0  \n",
              "9822519    792.0    794.0  \n",
              "9822520     59.0    363.0  \n",
              "9822521    166.0     11.0  \n",
              "9822522    289.0    789.0  \n",
              "\n",
              "[9822523 rows x 7 columns]"
            ]
          },
          "execution_count": 39,
          "metadata": {},
          "output_type": "execute_result"
        }
      ],
      "source": [
        "from sklearn.preprocessing import OrdinalEncoder\n",
        "df[\"date_code\"] = 0\n",
        "df[\"so_code\"] = 0\n",
        "df[\"sd_code\"] = 0\n",
        "ord_enc = OrdinalEncoder()\n",
        "df[\"date_code\"] = ord_enc.fit_transform(df[[\"StartDate\"]])\n",
        "df[\"so_code\"] = ord_enc.fit_transform(df[[\"StartStationName\"]])\n",
        "df[\"sd_code\"] = ord_enc.fit_transform(df[[\"EndStationName\"]])\n",
        "df\n"
      ]
    },
    {
      "cell_type": "code",
      "execution_count": 2,
      "metadata": {},
      "outputs": [],
      "source": [
        "df=pd.read_csv('year_data.csv')"
      ]
    },
    {
      "cell_type": "code",
      "execution_count": 7,
      "metadata": {},
      "outputs": [],
      "source": [
        "df=df.drop(['Unnamed: 0','index'],axis=1)"
      ]
    },
    {
      "cell_type": "code",
      "execution_count": 8,
      "metadata": {},
      "outputs": [
        {
          "data": {
            "text/html": [
              "<div>\n",
              "<style scoped>\n",
              "    .dataframe tbody tr th:only-of-type {\n",
              "        vertical-align: middle;\n",
              "    }\n",
              "\n",
              "    .dataframe tbody tr th {\n",
              "        vertical-align: top;\n",
              "    }\n",
              "\n",
              "    .dataframe thead th {\n",
              "        text-align: right;\n",
              "    }\n",
              "</style>\n",
              "<table border=\"1\" class=\"dataframe\">\n",
              "  <thead>\n",
              "    <tr style=\"text-align: right;\">\n",
              "      <th></th>\n",
              "      <th>StartDate</th>\n",
              "      <th>StartStationName</th>\n",
              "      <th>EndStationName</th>\n",
              "      <th>Nooftrips</th>\n",
              "      <th>date_code</th>\n",
              "      <th>so_code</th>\n",
              "      <th>sd_code</th>\n",
              "    </tr>\n",
              "  </thead>\n",
              "  <tbody>\n",
              "    <tr>\n",
              "      <th>0</th>\n",
              "      <td>2022-01-01 00:00:00</td>\n",
              "      <td>Wellington Arch, Hyde Park</td>\n",
              "      <td>Eastbourne Mews, Paddington</td>\n",
              "      <td>2</td>\n",
              "      <td>0.0</td>\n",
              "      <td>777.0</td>\n",
              "      <td>223.0</td>\n",
              "    </tr>\n",
              "    <tr>\n",
              "      <th>1</th>\n",
              "      <td>2022-01-01 00:00:00</td>\n",
              "      <td>Abingdon Green, Westminster</td>\n",
              "      <td>Bayswater Road, Hyde Park</td>\n",
              "      <td>2</td>\n",
              "      <td>0.0</td>\n",
              "      <td>4.0</td>\n",
              "      <td>53.0</td>\n",
              "    </tr>\n",
              "    <tr>\n",
              "      <th>2</th>\n",
              "      <td>2022-01-01 00:00:00</td>\n",
              "      <td>Erin Close, Walham Green</td>\n",
              "      <td>Westfield Southern Terrace ,Shepherd's Bush</td>\n",
              "      <td>1</td>\n",
              "      <td>0.0</td>\n",
              "      <td>236.0</td>\n",
              "      <td>796.0</td>\n",
              "    </tr>\n",
              "    <tr>\n",
              "      <th>3</th>\n",
              "      <td>2022-01-01 00:00:00</td>\n",
              "      <td>Waterloo Bridge, South Bank</td>\n",
              "      <td>Bayley Street , Bloomsbury</td>\n",
              "      <td>2</td>\n",
              "      <td>0.0</td>\n",
              "      <td>768.0</td>\n",
              "      <td>51.0</td>\n",
              "    </tr>\n",
              "    <tr>\n",
              "      <th>4</th>\n",
              "      <td>2022-01-01 00:00:00</td>\n",
              "      <td>Somerset House, Strand</td>\n",
              "      <td>Southampton Street, Strand</td>\n",
              "      <td>4</td>\n",
              "      <td>0.0</td>\n",
              "      <td>643.0</td>\n",
              "      <td>656.0</td>\n",
              "    </tr>\n",
              "    <tr>\n",
              "      <th>...</th>\n",
              "      <td>...</td>\n",
              "      <td>...</td>\n",
              "      <td>...</td>\n",
              "      <td>...</td>\n",
              "      <td>...</td>\n",
              "      <td>...</td>\n",
              "      <td>...</td>\n",
              "    </tr>\n",
              "    <tr>\n",
              "      <th>9822448</th>\n",
              "      <td>2022-12-31 00:00:00</td>\n",
              "      <td>Kensington Church Street, Kensington</td>\n",
              "      <td>Parsons Green Station, Parsons Green</td>\n",
              "      <td>1</td>\n",
              "      <td>8683.0</td>\n",
              "      <td>394.0</td>\n",
              "      <td>535.0</td>\n",
              "    </tr>\n",
              "    <tr>\n",
              "      <th>9822449</th>\n",
              "      <td>2022-12-31 00:00:00</td>\n",
              "      <td>Westfield Ariel Way, White City</td>\n",
              "      <td>Westfield Ariel Way, White City</td>\n",
              "      <td>1</td>\n",
              "      <td>8683.0</td>\n",
              "      <td>792.0</td>\n",
              "      <td>794.0</td>\n",
              "    </tr>\n",
              "    <tr>\n",
              "      <th>9822450</th>\n",
              "      <td>2022-12-31 00:00:00</td>\n",
              "      <td>Belgrove Street , King's Cross</td>\n",
              "      <td>Horseferry Road, Westminster</td>\n",
              "      <td>2</td>\n",
              "      <td>8683.0</td>\n",
              "      <td>59.0</td>\n",
              "      <td>363.0</td>\n",
              "    </tr>\n",
              "    <tr>\n",
              "      <th>9822451</th>\n",
              "      <td>2022-12-31 00:00:00</td>\n",
              "      <td>Clifford Street, Mayfair</td>\n",
              "      <td>Albany Street, The Regent's Park</td>\n",
              "      <td>3</td>\n",
              "      <td>8683.0</td>\n",
              "      <td>166.0</td>\n",
              "      <td>11.0</td>\n",
              "    </tr>\n",
              "    <tr>\n",
              "      <th>9822452</th>\n",
              "      <td>2022-12-31 00:00:00</td>\n",
              "      <td>Gloucester Road (Central), South Kensington</td>\n",
              "      <td>Westbourne Grove, Bayswater</td>\n",
              "      <td>2</td>\n",
              "      <td>8683.0</td>\n",
              "      <td>289.0</td>\n",
              "      <td>789.0</td>\n",
              "    </tr>\n",
              "  </tbody>\n",
              "</table>\n",
              "<p>9822453 rows × 7 columns</p>\n",
              "</div>"
            ],
            "text/plain": [
              "                   StartDate                             StartStationName  \\\n",
              "0        2022-01-01 00:00:00                   Wellington Arch, Hyde Park   \n",
              "1        2022-01-01 00:00:00                  Abingdon Green, Westminster   \n",
              "2        2022-01-01 00:00:00                     Erin Close, Walham Green   \n",
              "3        2022-01-01 00:00:00                  Waterloo Bridge, South Bank   \n",
              "4        2022-01-01 00:00:00                       Somerset House, Strand   \n",
              "...                      ...                                          ...   \n",
              "9822448  2022-12-31 00:00:00         Kensington Church Street, Kensington   \n",
              "9822449  2022-12-31 00:00:00              Westfield Ariel Way, White City   \n",
              "9822450  2022-12-31 00:00:00               Belgrove Street , King's Cross   \n",
              "9822451  2022-12-31 00:00:00                     Clifford Street, Mayfair   \n",
              "9822452  2022-12-31 00:00:00  Gloucester Road (Central), South Kensington   \n",
              "\n",
              "                                      EndStationName  Nooftrips  date_code  \\\n",
              "0                        Eastbourne Mews, Paddington          2        0.0   \n",
              "1                          Bayswater Road, Hyde Park          2        0.0   \n",
              "2        Westfield Southern Terrace ,Shepherd's Bush          1        0.0   \n",
              "3                         Bayley Street , Bloomsbury          2        0.0   \n",
              "4                         Southampton Street, Strand          4        0.0   \n",
              "...                                              ...        ...        ...   \n",
              "9822448         Parsons Green Station, Parsons Green          1     8683.0   \n",
              "9822449              Westfield Ariel Way, White City          1     8683.0   \n",
              "9822450                 Horseferry Road, Westminster          2     8683.0   \n",
              "9822451             Albany Street, The Regent's Park          3     8683.0   \n",
              "9822452                  Westbourne Grove, Bayswater          2     8683.0   \n",
              "\n",
              "         so_code  sd_code  \n",
              "0          777.0    223.0  \n",
              "1            4.0     53.0  \n",
              "2          236.0    796.0  \n",
              "3          768.0     51.0  \n",
              "4          643.0    656.0  \n",
              "...          ...      ...  \n",
              "9822448    394.0    535.0  \n",
              "9822449    792.0    794.0  \n",
              "9822450     59.0    363.0  \n",
              "9822451    166.0     11.0  \n",
              "9822452    289.0    789.0  \n",
              "\n",
              "[9822453 rows x 7 columns]"
            ]
          },
          "execution_count": 8,
          "metadata": {},
          "output_type": "execute_result"
        }
      ],
      "source": [
        "df"
      ]
    },
    {
      "cell_type": "code",
      "execution_count": 42,
      "metadata": {},
      "outputs": [],
      "source": [
        "df=df[df.EndStationName!='Mechanical Workshop Clapham']"
      ]
    },
    {
      "cell_type": "code",
      "execution_count": 43,
      "metadata": {},
      "outputs": [],
      "source": [
        "df=df[df.EndStationName!='Mechanical Workshop Penton']"
      ]
    },
    {
      "cell_type": "code",
      "execution_count": 44,
      "metadata": {},
      "outputs": [],
      "source": [
        "#new_row=pd.DataFrame({'StartDate':'2022-01-01','StartStationName':'Mechanical Workshop Penton','EndStationName':'Westbourne Grove, Bayswater','Nooftrips':0,'date_code':0,'so_code':456.0,'sd_code':789.0},index=[0])"
      ]
    },
    {
      "cell_type": "code",
      "execution_count": 45,
      "metadata": {},
      "outputs": [],
      "source": [
        "#df=pd.concat([new_row,df.loc[:]]).reset_index(drop=True)\n",
        "df=df.reset_index()"
      ]
    },
    {
      "cell_type": "code",
      "execution_count": 9,
      "metadata": {},
      "outputs": [],
      "source": [
        "df.to_csv('year_data.csv')"
      ]
    },
    {
      "cell_type": "code",
      "execution_count": 16,
      "metadata": {},
      "outputs": [
        {
          "data": {
            "text/html": [
              "<div>\n",
              "<style scoped>\n",
              "    .dataframe tbody tr th:only-of-type {\n",
              "        vertical-align: middle;\n",
              "    }\n",
              "\n",
              "    .dataframe tbody tr th {\n",
              "        vertical-align: top;\n",
              "    }\n",
              "\n",
              "    .dataframe thead th {\n",
              "        text-align: right;\n",
              "    }\n",
              "</style>\n",
              "<table border=\"1\" class=\"dataframe\">\n",
              "  <thead>\n",
              "    <tr style=\"text-align: right;\">\n",
              "      <th></th>\n",
              "      <th>StartDate</th>\n",
              "      <th>StartStationName</th>\n",
              "      <th>EndStationName</th>\n",
              "      <th>Nooftrips</th>\n",
              "      <th>date_code</th>\n",
              "      <th>so_code</th>\n",
              "      <th>sd_code</th>\n",
              "    </tr>\n",
              "  </thead>\n",
              "  <tbody>\n",
              "    <tr>\n",
              "      <th>0</th>\n",
              "      <td>2022-01-01 00:00:00</td>\n",
              "      <td>Wellington Arch, Hyde Park</td>\n",
              "      <td>Eastbourne Mews, Paddington</td>\n",
              "      <td>2</td>\n",
              "      <td>0.0</td>\n",
              "      <td>777.0</td>\n",
              "      <td>223.0</td>\n",
              "    </tr>\n",
              "    <tr>\n",
              "      <th>1</th>\n",
              "      <td>2022-01-01 00:00:00</td>\n",
              "      <td>Abingdon Green, Westminster</td>\n",
              "      <td>Bayswater Road, Hyde Park</td>\n",
              "      <td>2</td>\n",
              "      <td>0.0</td>\n",
              "      <td>4.0</td>\n",
              "      <td>53.0</td>\n",
              "    </tr>\n",
              "    <tr>\n",
              "      <th>2</th>\n",
              "      <td>2022-01-01 00:00:00</td>\n",
              "      <td>Erin Close, Walham Green</td>\n",
              "      <td>Westfield Southern Terrace ,Shepherd's Bush</td>\n",
              "      <td>1</td>\n",
              "      <td>0.0</td>\n",
              "      <td>236.0</td>\n",
              "      <td>796.0</td>\n",
              "    </tr>\n",
              "    <tr>\n",
              "      <th>3</th>\n",
              "      <td>2022-01-01 00:00:00</td>\n",
              "      <td>Waterloo Bridge, South Bank</td>\n",
              "      <td>Bayley Street , Bloomsbury</td>\n",
              "      <td>2</td>\n",
              "      <td>0.0</td>\n",
              "      <td>768.0</td>\n",
              "      <td>51.0</td>\n",
              "    </tr>\n",
              "    <tr>\n",
              "      <th>4</th>\n",
              "      <td>2022-01-01 00:00:00</td>\n",
              "      <td>Somerset House, Strand</td>\n",
              "      <td>Southampton Street, Strand</td>\n",
              "      <td>4</td>\n",
              "      <td>0.0</td>\n",
              "      <td>643.0</td>\n",
              "      <td>656.0</td>\n",
              "    </tr>\n",
              "    <tr>\n",
              "      <th>...</th>\n",
              "      <td>...</td>\n",
              "      <td>...</td>\n",
              "      <td>...</td>\n",
              "      <td>...</td>\n",
              "      <td>...</td>\n",
              "      <td>...</td>\n",
              "      <td>...</td>\n",
              "    </tr>\n",
              "    <tr>\n",
              "      <th>9822448</th>\n",
              "      <td>2022-12-31 00:00:00</td>\n",
              "      <td>Kensington Church Street, Kensington</td>\n",
              "      <td>Parsons Green Station, Parsons Green</td>\n",
              "      <td>1</td>\n",
              "      <td>8683.0</td>\n",
              "      <td>394.0</td>\n",
              "      <td>535.0</td>\n",
              "    </tr>\n",
              "    <tr>\n",
              "      <th>9822449</th>\n",
              "      <td>2022-12-31 00:00:00</td>\n",
              "      <td>Westfield Ariel Way, White City</td>\n",
              "      <td>Westfield Ariel Way, White City</td>\n",
              "      <td>1</td>\n",
              "      <td>8683.0</td>\n",
              "      <td>792.0</td>\n",
              "      <td>794.0</td>\n",
              "    </tr>\n",
              "    <tr>\n",
              "      <th>9822450</th>\n",
              "      <td>2022-12-31 00:00:00</td>\n",
              "      <td>Belgrove Street , King's Cross</td>\n",
              "      <td>Horseferry Road, Westminster</td>\n",
              "      <td>2</td>\n",
              "      <td>8683.0</td>\n",
              "      <td>59.0</td>\n",
              "      <td>363.0</td>\n",
              "    </tr>\n",
              "    <tr>\n",
              "      <th>9822451</th>\n",
              "      <td>2022-12-31 00:00:00</td>\n",
              "      <td>Clifford Street, Mayfair</td>\n",
              "      <td>Albany Street, The Regent's Park</td>\n",
              "      <td>3</td>\n",
              "      <td>8683.0</td>\n",
              "      <td>166.0</td>\n",
              "      <td>11.0</td>\n",
              "    </tr>\n",
              "    <tr>\n",
              "      <th>9822452</th>\n",
              "      <td>2022-12-31 00:00:00</td>\n",
              "      <td>Gloucester Road (Central), South Kensington</td>\n",
              "      <td>Westbourne Grove, Bayswater</td>\n",
              "      <td>2</td>\n",
              "      <td>8683.0</td>\n",
              "      <td>289.0</td>\n",
              "      <td>789.0</td>\n",
              "    </tr>\n",
              "  </tbody>\n",
              "</table>\n",
              "<p>9822453 rows × 7 columns</p>\n",
              "</div>"
            ],
            "text/plain": [
              "                   StartDate                             StartStationName  \\\n",
              "0        2022-01-01 00:00:00                   Wellington Arch, Hyde Park   \n",
              "1        2022-01-01 00:00:00                  Abingdon Green, Westminster   \n",
              "2        2022-01-01 00:00:00                     Erin Close, Walham Green   \n",
              "3        2022-01-01 00:00:00                  Waterloo Bridge, South Bank   \n",
              "4        2022-01-01 00:00:00                       Somerset House, Strand   \n",
              "...                      ...                                          ...   \n",
              "9822448  2022-12-31 00:00:00         Kensington Church Street, Kensington   \n",
              "9822449  2022-12-31 00:00:00              Westfield Ariel Way, White City   \n",
              "9822450  2022-12-31 00:00:00               Belgrove Street , King's Cross   \n",
              "9822451  2022-12-31 00:00:00                     Clifford Street, Mayfair   \n",
              "9822452  2022-12-31 00:00:00  Gloucester Road (Central), South Kensington   \n",
              "\n",
              "                                      EndStationName  Nooftrips  date_code  \\\n",
              "0                        Eastbourne Mews, Paddington          2        0.0   \n",
              "1                          Bayswater Road, Hyde Park          2        0.0   \n",
              "2        Westfield Southern Terrace ,Shepherd's Bush          1        0.0   \n",
              "3                         Bayley Street , Bloomsbury          2        0.0   \n",
              "4                         Southampton Street, Strand          4        0.0   \n",
              "...                                              ...        ...        ...   \n",
              "9822448         Parsons Green Station, Parsons Green          1     8683.0   \n",
              "9822449              Westfield Ariel Way, White City          1     8683.0   \n",
              "9822450                 Horseferry Road, Westminster          2     8683.0   \n",
              "9822451             Albany Street, The Regent's Park          3     8683.0   \n",
              "9822452                  Westbourne Grove, Bayswater          2     8683.0   \n",
              "\n",
              "         so_code  sd_code  \n",
              "0          777.0    223.0  \n",
              "1            4.0     53.0  \n",
              "2          236.0    796.0  \n",
              "3          768.0     51.0  \n",
              "4          643.0    656.0  \n",
              "...          ...      ...  \n",
              "9822448    394.0    535.0  \n",
              "9822449    792.0    794.0  \n",
              "9822450     59.0    363.0  \n",
              "9822451    166.0     11.0  \n",
              "9822452    289.0    789.0  \n",
              "\n",
              "[9822453 rows x 7 columns]"
            ]
          },
          "execution_count": 16,
          "metadata": {},
          "output_type": "execute_result"
        }
      ],
      "source": [
        "df"
      ]
    },
    {
      "cell_type": "code",
      "execution_count": 15,
      "metadata": {},
      "outputs": [],
      "source": [
        "df=df.drop('Unnamed: 0.1',axis=1)\n",
        "df=df.drop('Unnamed: 0',axis=1)\n",
        "df=df.drop('index',axis=1)\n",
        "# tationName':'Mechanical Workshop Clapham','EndStationName':'Westbourne Grove, Bayswater','Nooftrips':0,'date_code':0,'so_code':455.0,'sd_code':789},index=[0])"
      ]
    },
    {
      "cell_type": "markdown",
      "metadata": {},
      "source": []
    },
    {
      "cell_type": "code",
      "execution_count": 10,
      "metadata": {},
      "outputs": [],
      "source": [
        "#df=pd.concat([new_row,df.loc[:]]).reset_index(drop=True)\n",
        "df=pd.read_csv('year_data.csv')"
      ]
    },
    {
      "cell_type": "code",
      "execution_count": 6,
      "metadata": {},
      "outputs": [
        {
          "data": {
            "text/plain": [
              "814"
            ]
          },
          "execution_count": 6,
          "metadata": {},
          "output_type": "execute_result"
        }
      ],
      "source": [
        "len(df['EndStationName'].unique())"
      ]
    },
    {
      "cell_type": "code",
      "execution_count": 7,
      "metadata": {},
      "outputs": [],
      "source": [
        "arr=np.zeros((816,816,744))\n",
        "\n",
        "for index, row in df.iterrows():\n",
        "    if row['date_code']<=743:\n",
        "        x=row['so_code']\n",
        "        y=row['sd_code']\n",
        "        z=row['date_code']\n",
        "        x=int(x)\n",
        "        y=int(y)\n",
        "        z=int(z)\n",
        "        arr[x,y,z]+=1\n",
        "    else:\n",
        "        break"
      ]
    },
    {
      "cell_type": "code",
      "execution_count": 46,
      "metadata": {},
      "outputs": [],
      "source": [
        "import tensorflow as tf\n",
        "#coords = df[['so_code','sd_code','date_code']]\n",
        "tensor_dense = tf.convert_to_tensor(arr)"
      ]
    },
    {
      "cell_type": "code",
      "execution_count": 60,
      "metadata": {},
      "outputs": [
        {
          "data": {
            "text/plain": [
              "810.9593084736126"
            ]
          },
          "execution_count": 60,
          "metadata": {},
          "output_type": "execute_result"
        }
      ],
      "source": [
        "tl.norm(tensor_dense, 2)"
      ]
    },
    {
      "cell_type": "code",
      "execution_count": 48,
      "metadata": {},
      "outputs": [],
      "source": [
        "tensor_sparse = tf.sparse.from_dense(tensor_dense)"
      ]
    },
    {
      "cell_type": "code",
      "execution_count": 53,
      "metadata": {},
      "outputs": [
        {
          "data": {
            "text/plain": [
              "TensorShape([816, 816, 744])"
            ]
          },
          "execution_count": 53,
          "metadata": {},
          "output_type": "execute_result"
        }
      ],
      "source": [
        "tensor_sparse.shape"
      ]
    },
    {
      "cell_type": "code",
      "execution_count": 58,
      "metadata": {},
      "outputs": [
        {
          "ename": "AttributeError",
          "evalue": "'SparseTensor' object has no attribute 'ndim'",
          "output_type": "error",
          "traceback": [
            "\u001b[0;31m---------------------------------------------------------------------------\u001b[0m",
            "\u001b[0;31mAttributeError\u001b[0m                            Traceback (most recent call last)",
            "Cell \u001b[0;32mIn[58], line 1\u001b[0m\n\u001b[0;32m----> 1\u001b[0m tensor_sparse\u001b[39m.\u001b[39;49mndim\n",
            "\u001b[0;31mAttributeError\u001b[0m: 'SparseTensor' object has no attribute 'ndim'"
          ]
        }
      ],
      "source": [
        "tensor_sparse.ndim"
      ]
    },
    {
      "cell_type": "code",
      "execution_count": 61,
      "metadata": {},
      "outputs": [
        {
          "name": "stderr",
          "output_type": "stream",
          "text": [
            "/Users/thammadoltansrivorarat/.pyenv/versions/3.10.6/envs/london-bss/lib/python3.10/site-packages/tensorly/tucker_tensor.py:425: RuntimeWarning: Given only one int for 'rank' for decomposition a tensor of order 3. Using this rank for all modes.\n",
            "  warnings.warn(message, RuntimeWarning)\n"
          ]
        },
        {
          "ename": "",
          "evalue": "",
          "output_type": "error",
          "traceback": [
            "\u001b[1;31mCannot execute code, session has been disposed. Please try restarting the Kernel."
          ]
        },
        {
          "ename": "",
          "evalue": "",
          "output_type": "error",
          "traceback": [
            "\u001b[1;31mThe Kernel crashed while executing code in the the current cell or a previous cell. Please review the code in the cell(s) to identify a possible cause of the failure. Click <a href='https://aka.ms/vscodeJupyterKernelCrash'>here</a> for more info. View Jupyter <a href='command:jupyter.viewOutput'>log</a> for further details."
          ]
        }
      ],
      "source": [
        "import tensorly\n",
        "from tensorly.decomposition import tucker as dense_t\n",
        "\n",
        "cores, factors = dense_t(tensor_dense,30)"
      ]
    },
    {
      "cell_type": "code",
      "execution_count": 186,
      "metadata": {},
      "outputs": [
        {
          "data": {
            "text/html": [
              "<div>\n",
              "<style scoped>\n",
              "    .dataframe tbody tr th:only-of-type {\n",
              "        vertical-align: middle;\n",
              "    }\n",
              "\n",
              "    .dataframe tbody tr th {\n",
              "        vertical-align: top;\n",
              "    }\n",
              "\n",
              "    .dataframe thead th {\n",
              "        text-align: right;\n",
              "    }\n",
              "</style>\n",
              "<table border=\"1\" class=\"dataframe\">\n",
              "  <thead>\n",
              "    <tr style=\"text-align: right;\">\n",
              "      <th></th>\n",
              "      <th>so_code</th>\n",
              "      <th>sd_code</th>\n",
              "      <th>date_code</th>\n",
              "    </tr>\n",
              "  </thead>\n",
              "  <tbody>\n",
              "    <tr>\n",
              "      <th>0</th>\n",
              "      <td>777.0</td>\n",
              "      <td>223.0</td>\n",
              "      <td>0.0</td>\n",
              "    </tr>\n",
              "    <tr>\n",
              "      <th>1</th>\n",
              "      <td>4.0</td>\n",
              "      <td>53.0</td>\n",
              "      <td>0.0</td>\n",
              "    </tr>\n",
              "    <tr>\n",
              "      <th>2</th>\n",
              "      <td>236.0</td>\n",
              "      <td>796.0</td>\n",
              "      <td>0.0</td>\n",
              "    </tr>\n",
              "    <tr>\n",
              "      <th>3</th>\n",
              "      <td>768.0</td>\n",
              "      <td>51.0</td>\n",
              "      <td>0.0</td>\n",
              "    </tr>\n",
              "    <tr>\n",
              "      <th>4</th>\n",
              "      <td>643.0</td>\n",
              "      <td>656.0</td>\n",
              "      <td>0.0</td>\n",
              "    </tr>\n",
              "    <tr>\n",
              "      <th>...</th>\n",
              "      <td>...</td>\n",
              "      <td>...</td>\n",
              "      <td>...</td>\n",
              "    </tr>\n",
              "    <tr>\n",
              "      <th>9822448</th>\n",
              "      <td>394.0</td>\n",
              "      <td>535.0</td>\n",
              "      <td>8683.0</td>\n",
              "    </tr>\n",
              "    <tr>\n",
              "      <th>9822449</th>\n",
              "      <td>792.0</td>\n",
              "      <td>794.0</td>\n",
              "      <td>8683.0</td>\n",
              "    </tr>\n",
              "    <tr>\n",
              "      <th>9822450</th>\n",
              "      <td>59.0</td>\n",
              "      <td>363.0</td>\n",
              "      <td>8683.0</td>\n",
              "    </tr>\n",
              "    <tr>\n",
              "      <th>9822451</th>\n",
              "      <td>166.0</td>\n",
              "      <td>11.0</td>\n",
              "      <td>8683.0</td>\n",
              "    </tr>\n",
              "    <tr>\n",
              "      <th>9822452</th>\n",
              "      <td>289.0</td>\n",
              "      <td>789.0</td>\n",
              "      <td>8683.0</td>\n",
              "    </tr>\n",
              "  </tbody>\n",
              "</table>\n",
              "<p>9822453 rows × 3 columns</p>\n",
              "</div>"
            ],
            "text/plain": [
              "         so_code  sd_code  date_code\n",
              "0          777.0    223.0        0.0\n",
              "1            4.0     53.0        0.0\n",
              "2          236.0    796.0        0.0\n",
              "3          768.0     51.0        0.0\n",
              "4          643.0    656.0        0.0\n",
              "...          ...      ...        ...\n",
              "9822448    394.0    535.0     8683.0\n",
              "9822449    792.0    794.0     8683.0\n",
              "9822450     59.0    363.0     8683.0\n",
              "9822451    166.0     11.0     8683.0\n",
              "9822452    289.0    789.0     8683.0\n",
              "\n",
              "[9822453 rows x 3 columns]"
            ]
          },
          "execution_count": 186,
          "metadata": {},
          "output_type": "execute_result"
        }
      ],
      "source": [
        "coords = df[['so_code','sd_code','date_code']]\n",
        "coords"
      ]
    },
    {
      "cell_type": "code",
      "execution_count": 190,
      "metadata": {},
      "outputs": [
        {
          "ename": "",
          "evalue": "",
          "output_type": "error",
          "traceback": [
            "\u001b[1;31mCannot execute code, session has been disposed. Please try restarting the Kernel."
          ]
        },
        {
          "ename": "",
          "evalue": "",
          "output_type": "error",
          "traceback": [
            "\u001b[1;31mThe Kernel crashed while executing code in the the current cell or a previous cell. Please review the code in the cell(s) to identify a possible cause of the failure. Click <a href='https://aka.ms/vscodeJupyterKernelCrash'>here</a> for more info. View Jupyter <a href='command:jupyter.viewOutput'>log</a> for further details."
          ]
        }
      ],
      "source": [
        "pd.DataFrame(columns = coords['sd_code'], index=coords['so_code'])"
      ]
    },
    {
      "cell_type": "code",
      "execution_count": 36,
      "metadata": {},
      "outputs": [
        {
          "data": {
            "text/plain": [
              "0          2\n",
              "1          2\n",
              "2          1\n",
              "3          2\n",
              "4          4\n",
              "          ..\n",
              "9822448    1\n",
              "9822449    1\n",
              "9822450    2\n",
              "9822451    3\n",
              "9822452    2\n",
              "Name: Nooftrips, Length: 9822453, dtype: int64"
            ]
          },
          "execution_count": 36,
          "metadata": {},
          "output_type": "execute_result"
        }
      ],
      "source": [
        "values = df['Nooftrips']\n",
        "values"
      ]
    },
    {
      "cell_type": "code",
      "execution_count": 146,
      "metadata": {},
      "outputs": [],
      "source": [
        "coords = np.array(coords, dtype=int).T\n",
        "values = np.array(values, dtype=float)"
      ]
    },
    {
      "cell_type": "code",
      "execution_count": 184,
      "metadata": {},
      "outputs": [],
      "source": [
        "import tensorflow as tf\n",
        "tensor_dense = tf.convert_to_tensor(coords)"
      ]
    },
    {
      "cell_type": "code",
      "execution_count": 185,
      "metadata": {},
      "outputs": [
        {
          "data": {
            "text/plain": [
              "TensorShape([9822453, 3])"
            ]
          },
          "execution_count": 185,
          "metadata": {},
          "output_type": "execute_result"
        }
      ],
      "source": [
        "tensor_dense.shape"
      ]
    },
    {
      "cell_type": "code",
      "execution_count": 148,
      "metadata": {},
      "outputs": [],
      "source": [
        "tensor_sparse = tf.sparse.from_dense(tensor_dense)"
      ]
    },
    {
      "cell_type": "code",
      "execution_count": 149,
      "metadata": {},
      "outputs": [
        {
          "name": "stdout",
          "output_type": "stream",
          "text": [
            "SparseTensor(indices=tf.Tensor(\n",
            "[[      0       0]\n",
            " [      0       1]\n",
            " [      1       0]\n",
            " ...\n",
            " [9822452       0]\n",
            " [9822452       1]\n",
            " [9822452       2]], shape=(29437788, 2), dtype=int64), values=tf.Tensor([7.770e+02 2.230e+02 4.000e+00 ... 2.890e+02 7.890e+02 8.683e+03], shape=(29437788,), dtype=float64), dense_shape=tf.Tensor([9822453       3], shape=(2,), dtype=int64))\n"
          ]
        }
      ],
      "source": [
        "print(tensor_sparse)"
      ]
    },
    {
      "cell_type": "code",
      "execution_count": 150,
      "metadata": {},
      "outputs": [
        {
          "data": {
            "text/plain": [
              "tensorflow.python.framework.sparse_tensor.SparseTensor"
            ]
          },
          "execution_count": 150,
          "metadata": {},
          "output_type": "execute_result"
        }
      ],
      "source": [
        "type(tensor_sparse)"
      ]
    },
    {
      "cell_type": "code",
      "execution_count": null,
      "metadata": {},
      "outputs": [],
      "source": []
    },
    {
      "cell_type": "code",
      "execution_count": 33,
      "metadata": {},
      "outputs": [],
      "source": [
        "import tensorly as tl\n",
        "from tensorly.contrib.sparse.decomposition import partial_tucker as sparse_pt"
      ]
    },
    {
      "cell_type": "code",
      "execution_count": 34,
      "metadata": {},
      "outputs": [],
      "source": [
        "tucker_rank = [30, 30, 35]"
      ]
    },
    {
      "cell_type": "code",
      "execution_count": 35,
      "metadata": {},
      "outputs": [
        {
          "ename": "NameError",
          "evalue": "name 'tensor_sparse' is not defined",
          "output_type": "error",
          "traceback": [
            "\u001b[0;31m---------------------------------------------------------------------------\u001b[0m",
            "\u001b[0;31mNameError\u001b[0m                                 Traceback (most recent call last)",
            "Cell \u001b[0;32mIn[35], line 1\u001b[0m\n\u001b[0;32m----> 1\u001b[0m tensor_sparse\u001b[39m.\u001b[39mshape\n",
            "\u001b[0;31mNameError\u001b[0m: name 'tensor_sparse' is not defined"
          ]
        }
      ],
      "source": [
        "tensor_sparse.shape\n"
      ]
    },
    {
      "cell_type": "code",
      "execution_count": 49,
      "metadata": {},
      "outputs": [
        {
          "ename": "NameError",
          "evalue": "name 'tensor_sparse' is not defined",
          "output_type": "error",
          "traceback": [
            "\u001b[0;31m---------------------------------------------------------------------------\u001b[0m",
            "\u001b[0;31mNameError\u001b[0m                                 Traceback (most recent call last)",
            "Cell \u001b[0;32mIn[49], line 1\u001b[0m\n\u001b[0;32m----> 1\u001b[0m cp_result \u001b[39m=\u001b[39m sparse_pt(tensor_sparse,\u001b[39m30\u001b[39m)\n",
            "\u001b[0;31mNameError\u001b[0m: name 'tensor_sparse' is not defined"
          ]
        }
      ],
      "source": [
        "cp_result = sparse_pt(tensor_sparse,30)"
      ]
    },
    {
      "cell_type": "code",
      "execution_count": 172,
      "metadata": {},
      "outputs": [
        {
          "ename": "NameError",
          "evalue": "name 'core' is not defined",
          "output_type": "error",
          "traceback": [
            "\u001b[0;31m---------------------------------------------------------------------------\u001b[0m",
            "\u001b[0;31mNameError\u001b[0m                                 Traceback (most recent call last)",
            "Cell \u001b[0;32mIn[172], line 1\u001b[0m\n\u001b[0;32m----> 1\u001b[0m tucker_rec \u001b[39m=\u001b[39m tl\u001b[39m.\u001b[39mtucker_to_tensor((core, factors))\n",
            "\u001b[0;31mNameError\u001b[0m: name 'core' is not defined"
          ]
        }
      ],
      "source": [
        "tucker_rec = tl.tucker_to_tensor((core, factors))"
      ]
    },
    {
      "cell_type": "code",
      "execution_count": 82,
      "metadata": {
        "id": "WLQaf49HpfXY"
      },
      "outputs": [],
      "source": [
        "timeframe_pos = 0\n",
        "for trip in df.index:\n",
        "    so = total_uniq_stations.index(df['StartStationName'][trip])\n",
        "    sd = total_uniq_stations.index(df['EndStationName'][trip])\n",
        "    trips_3darray[so][sd][timeframe_pos] += 1\n",
        "    if trip < df.index[-1]:\n",
        "       if df['StartDate'][trip] != df['StartDate'][trip+1]:\n",
        "           timeframe_pos += 1"
      ]
    },
    {
      "cell_type": "code",
      "execution_count": null,
      "metadata": {},
      "outputs": [],
      "source": []
    },
    {
      "cell_type": "code",
      "execution_count": 83,
      "metadata": {
        "colab": {
          "base_uri": "https://localhost:8080/"
        },
        "id": "wpttUyrPpfXY",
        "outputId": "39deae1d-8895-43b5-e76a-4750cda02376"
      },
      "outputs": [
        {
          "data": {
            "text/plain": [
              "array([[[0, 1, 0, ..., 0, 0, 0],\n",
              "        [0, 0, 0, ..., 0, 0, 0],\n",
              "        [0, 0, 0, ..., 0, 0, 0],\n",
              "        ...,\n",
              "        [0, 0, 0, ..., 0, 0, 0],\n",
              "        [0, 0, 0, ..., 0, 0, 0],\n",
              "        [0, 0, 0, ..., 0, 0, 0]],\n",
              "\n",
              "       [[0, 0, 0, ..., 0, 0, 0],\n",
              "        [0, 0, 0, ..., 0, 0, 0],\n",
              "        [0, 0, 0, ..., 0, 0, 0],\n",
              "        ...,\n",
              "        [0, 0, 0, ..., 0, 0, 0],\n",
              "        [0, 0, 0, ..., 0, 0, 0],\n",
              "        [0, 0, 0, ..., 0, 0, 0]],\n",
              "\n",
              "       [[0, 0, 0, ..., 0, 0, 0],\n",
              "        [0, 0, 0, ..., 0, 0, 0],\n",
              "        [0, 0, 0, ..., 0, 0, 0],\n",
              "        ...,\n",
              "        [0, 0, 0, ..., 0, 0, 0],\n",
              "        [0, 0, 0, ..., 0, 0, 0],\n",
              "        [0, 0, 0, ..., 0, 0, 0]],\n",
              "\n",
              "       ...,\n",
              "\n",
              "       [[0, 0, 0, ..., 0, 0, 0],\n",
              "        [0, 0, 0, ..., 0, 0, 0],\n",
              "        [0, 0, 0, ..., 0, 0, 0],\n",
              "        ...,\n",
              "        [0, 0, 0, ..., 0, 0, 0],\n",
              "        [0, 0, 0, ..., 0, 0, 0],\n",
              "        [0, 0, 0, ..., 0, 0, 0]],\n",
              "\n",
              "       [[0, 0, 0, ..., 0, 0, 0],\n",
              "        [0, 0, 0, ..., 0, 0, 0],\n",
              "        [0, 0, 0, ..., 0, 0, 0],\n",
              "        ...,\n",
              "        [0, 0, 0, ..., 0, 0, 0],\n",
              "        [0, 0, 1, ..., 0, 0, 0],\n",
              "        [0, 0, 0, ..., 0, 0, 0]],\n",
              "\n",
              "       [[0, 0, 0, ..., 0, 0, 0],\n",
              "        [0, 0, 0, ..., 0, 0, 0],\n",
              "        [0, 0, 0, ..., 0, 0, 0],\n",
              "        ...,\n",
              "        [0, 0, 0, ..., 0, 0, 0],\n",
              "        [0, 0, 0, ..., 0, 0, 0],\n",
              "        [0, 0, 0, ..., 0, 0, 0]]], dtype=int8)"
            ]
          },
          "execution_count": 83,
          "metadata": {},
          "output_type": "execute_result"
        }
      ],
      "source": [
        "trips_3darray"
      ]
    },
    {
      "cell_type": "code",
      "execution_count": 84,
      "metadata": {
        "colab": {
          "base_uri": "https://localhost:8080/"
        },
        "id": "Wpg5o4V8pfXY",
        "outputId": "126f6022-dcb3-4b7d-828c-0f6eb072584e"
      },
      "outputs": [
        {
          "data": {
            "text/plain": [
              "865"
            ]
          },
          "execution_count": 84,
          "metadata": {},
          "output_type": "execute_result"
        }
      ],
      "source": [
        "trips_3darray[:,:,1].sum()"
      ]
    },
    {
      "cell_type": "code",
      "execution_count": 85,
      "metadata": {
        "colab": {
          "base_uri": "https://localhost:8080/"
        },
        "id": "z6qLeNLiGjr5",
        "outputId": "b70e2b2f-b7b0-48f9-cd9b-8712741f5aa4"
      },
      "outputs": [
        {
          "data": {
            "text/plain": [
              "(816, 816, 8684)"
            ]
          },
          "execution_count": 85,
          "metadata": {},
          "output_type": "execute_result"
        }
      ],
      "source": [
        "trips_3darray.shape"
      ]
    },
    {
      "cell_type": "code",
      "execution_count": 86,
      "metadata": {
        "colab": {
          "base_uri": "https://localhost:8080/"
        },
        "id": "_Z2BetSepfXY",
        "outputId": "8c5373f6-9f51-48dd-ec93-fcab45205a2f"
      },
      "outputs": [
        {
          "data": {
            "text/plain": [
              "array([[0, 0, 0, ..., 0, 0, 0],\n",
              "       [0, 0, 0, ..., 0, 0, 0],\n",
              "       [0, 0, 0, ..., 0, 0, 0],\n",
              "       ...,\n",
              "       [0, 0, 0, ..., 0, 0, 0],\n",
              "       [0, 0, 0, ..., 0, 0, 0],\n",
              "       [0, 0, 0, ..., 0, 0, 0]], dtype=int8)"
            ]
          },
          "execution_count": 86,
          "metadata": {},
          "output_type": "execute_result"
        }
      ],
      "source": [
        "all_trips=trips_3darray[:,:,0]\n",
        "all_trips"
      ]
    },
    {
      "cell_type": "code",
      "execution_count": 87,
      "metadata": {
        "colab": {
          "base_uri": "https://localhost:8080/",
          "height": 422
        },
        "id": "86y_95DRpfXY",
        "outputId": "06fc1a3f-2a2c-42b2-fe1c-9ec1079817e9"
      },
      "outputs": [
        {
          "data": {
            "image/png": "[encoded data removed]",
            "text/plain": [
              "<Figure size 480x480 with 2 Axes>"
            ]
          },
          "metadata": {},
          "output_type": "display_data"
        }
      ],
      "source": [
        "plt.matshow(all_trips)\n",
        "plt.colorbar()\n",
        "plt.show()"
      ]
    },
    {
      "cell_type": "markdown",
      "metadata": {
        "id": "pLJo4oK0pfXZ"
      },
      "source": [
        "## Tensor Decomposition"
      ]
    },
    {
      "cell_type": "code",
      "execution_count": 88,
      "metadata": {
        "colab": {
          "base_uri": "https://localhost:8080/"
        },
        "id": "fJwPohyArj39",
        "outputId": "944a3f01-f30e-470a-87d7-3b51bbc419cc"
      },
      "outputs": [
        {
          "name": "stdout",
          "output_type": "stream",
          "text": [
            "Requirement already satisfied: tensorly in /Users/thammadoltansrivorarat/.pyenv/versions/3.10.6/envs/london-bss/lib/python3.10/site-packages (0.8.1)\n",
            "Requirement already satisfied: numpy in /Users/thammadoltansrivorarat/.pyenv/versions/3.10.6/envs/london-bss/lib/python3.10/site-packages (from tensorly) (1.24.3)\n",
            "Requirement already satisfied: scipy in /Users/thammadoltansrivorarat/.pyenv/versions/3.10.6/envs/london-bss/lib/python3.10/site-packages (from tensorly) (1.11.2)\n"
          ]
        }
      ],
      "source": [
        "!pip install tensorly"
      ]
    },
    {
      "cell_type": "code",
      "execution_count": 1,
      "metadata": {
        "id": "rtlKnLZ2pfXZ"
      },
      "outputs": [],
      "source": [
        "import tensorly as tl\n",
        "from tensorly.contrib.sparse.decomposition import tucker"
      ]
    },
    {
      "cell_type": "code",
      "execution_count": 90,
      "metadata": {
        "id": "Zt8_2okupfXZ"
      },
      "outputs": [],
      "source": [
        "#Represent the trips as a tensor\n",
        "tensor_trip = tl.tensor(trips_3darray, dtype='float32')"
      ]
    },
    {
      "cell_type": "code",
      "execution_count": 91,
      "metadata": {
        "colab": {
          "base_uri": "https://localhost:8080/"
        },
        "id": "ioVySftgpfXa",
        "outputId": "f2fedbb5-54d9-4b35-c0dc-d1865c2daf94"
      },
      "outputs": [
        {
          "data": {
            "text/plain": [
              "(816, 816, 8684)"
            ]
          },
          "execution_count": 91,
          "metadata": {},
          "output_type": "execute_result"
        }
      ],
      "source": [
        "tensor_trip.shape"
      ]
    },
    {
      "cell_type": "code",
      "execution_count": 92,
      "metadata": {
        "id": "aCSySMUEpfXa"
      },
      "outputs": [],
      "source": [
        "# Rank of Tucker decomposition\n",
        "tucker_rank = [30, 30, 35]"
      ]
    },
    {
      "cell_type": "code",
      "execution_count": 93,
      "metadata": {
        "id": "mvZZzr9dpfXa"
      },
      "outputs": [
        {
          "name": "stdout",
          "output_type": "stream",
          "text": [
            "CPU times: user 6min 27s, sys: 4min 46s, total: 11min 14s\n",
            "Wall time: 3min 17s\n"
          ]
        }
      ],
      "source": [
        "%%time\n",
        "core, factors = tucker(tensor_trip, rank=tucker_rank, init='random', tol=10e-5,random_state=12345)"
      ]
    },
    {
      "cell_type": "code",
      "execution_count": 94,
      "metadata": {
        "id": "66eTBSDZ2zzw"
      },
      "outputs": [
        {
          "ename": "",
          "evalue": "",
          "output_type": "error",
          "traceback": [
            "\u001b[1;31mCannot execute code, session has been disposed. Please try restarting the Kernel."
          ]
        },
        {
          "ename": "",
          "evalue": "",
          "output_type": "error",
          "traceback": [
            "\u001b[1;31mThe Kernel crashed while executing code in the the current cell or a previous cell. Please review the code in the cell(s) to identify a possible cause of the failure. Click <a href='https://aka.ms/vscodeJupyterKernelCrash'>here</a> for more info. View Jupyter <a href='command:jupyter.viewOutput'>log</a> for further details."
          ]
        }
      ],
      "source": [
        "#Convert the tucker tensor into a full tensor\n",
        "tucker_rec = tl.tucker_to_tensor((core, factors))"
      ]
    },
    {
      "cell_type": "code",
      "execution_count": null,
      "metadata": {
        "id": "l_au-OTHvwZQ"
      },
      "outputs": [],
      "source": [
        "factors[0].shape"
      ]
    },
    {
      "cell_type": "code",
      "execution_count": null,
      "metadata": {
        "id": "YmONxKMowyu-"
      },
      "outputs": [],
      "source": [
        "factors[1].shape"
      ]
    },
    {
      "cell_type": "code",
      "execution_count": null,
      "metadata": {
        "id": "HcPBciL1w0PR"
      },
      "outputs": [],
      "source": [
        "factors[2].shape"
      ]
    },
    {
      "cell_type": "code",
      "execution_count": null,
      "metadata": {
        "id": "2qwZnFbDJxLt"
      },
      "outputs": [],
      "source": [
        "import requests"
      ]
    },
    {
      "cell_type": "code",
      "execution_count": null,
      "metadata": {
        "id": "QcQGY-roK9eJ"
      },
      "outputs": [],
      "source": [
        "response= requests.get('https://api.tfl.gov.uk/BikePoint/')\n",
        "stations = response.json()"
      ]
    },
    {
      "cell_type": "code",
      "execution_count": null,
      "metadata": {
        "id": "YfbkxBD8K_xv"
      },
      "outputs": [],
      "source": [
        "data =  pd.DataFrame()\n",
        "s_names = []\n",
        "s_lat = []\n",
        "s_lon = []\n",
        "\n",
        "NbBikes = []\n",
        "NbEmptyDocks = []\n",
        "NbDocks = []\n",
        "NbStandardBikes = []\n",
        "NbEBikes = []\n",
        "s_id = []"
      ]
    },
    {
      "cell_type": "code",
      "execution_count": null,
      "metadata": {
        "id": "z20KZGdoLANJ"
      },
      "outputs": [],
      "source": [
        "len_lat = 0\n",
        "for station in stations:\n",
        "    s_names.append(station['commonName'])\n",
        "    s_lat.append(float(station['lat']))\n",
        "    s_lon.append(float(station['lon']))\n",
        "    for add_property in station['additionalProperties']:\n",
        "        if add_property['key'] == 'NbBikes':\n",
        "            NbBikes.append(int(add_property['value']))\n",
        "        if add_property['key'] == 'NbEmptyDocks':\n",
        "            NbEmptyDocks.append(int(add_property['value']))\n",
        "        if add_property['key'] == 'NbDocks':\n",
        "            NbDocks.append(int(add_property['value']))\n",
        "        if add_property['key'] == 'NbStandardBikes':\n",
        "            NbStandardBikes.append(int(add_property['value']))\n",
        "        if add_property['key'] == 'NbEBikes':\n",
        "            NbEBikes.append(int(add_property['value']))\n",
        "        if add_property['key'] == 'TerminalName':\n",
        "            s_id.append(int(add_property['value']))\n"
      ]
    },
    {
      "cell_type": "code",
      "execution_count": null,
      "metadata": {
        "id": "ZjAp3HbJLELH"
      },
      "outputs": [],
      "source": [
        "data['Station_name'] = s_names\n",
        "data['s_lat'] = s_lat\n",
        "data['s_lon'] = s_lon\n",
        "data['s_num_bikes'] = NbBikes\n",
        "data['s_num_empty_docks'] = NbEmptyDocks\n",
        "data['s_num_std_bikes'] = NbStandardBikes\n",
        "data['s_num_e-bikes'] = NbEBikes\n",
        "data['s_num_docks'] = data['s_num_bikes'] + data['s_num_empty_docks']\n",
        "data['s_id'] = s_id"
      ]
    },
    {
      "cell_type": "code",
      "execution_count": null,
      "metadata": {
        "id": "h6yRBKMdLEh2"
      },
      "outputs": [],
      "source": [
        "data"
      ]
    },
    {
      "cell_type": "code",
      "execution_count": null,
      "metadata": {
        "id": "VSpn1FqyLEtr"
      },
      "outputs": [],
      "source": [
        "# South East limits\n",
        "se_limit_lat = 51.523811 # everthing lower than this value is south east\n",
        "se_limit_lon = -0.101342 # everything greater than this value is south east\n",
        "\n",
        "# East limits\n",
        "e_limit_lat = 51.523811 # everything greater than this value is east\n",
        "e_limit_lon = -0.022306 # everything greater than this is east\n",
        "\n",
        "# South West limits\n",
        "sw_limit_lat = 51.501631 # everthing lower than this value is south east\n",
        "sw_limit_lon = -0.101342 # everything lower than this value is south east\n",
        "\n",
        "# West limits\n",
        "w_limit_lat = 51.501072  # everthing greater than this value is south east\n",
        "w_limit_lon = -0.182406  # everthing lower than this value is south east\n",
        "\n",
        "# Central limits\n",
        "c_toplimit_lat = 51.501072 # everthing greater than this value is central\n",
        "c_lowlimit_lat = 51.523811 # everything lower than this value is central\n",
        "\n",
        "c_toplimit_lon = -0.101342 # everything lower than this value is central\n",
        "c_lowlimit_lon = -0.182406 # everthing greater than this value is central\n",
        "\n",
        "# North limits\n",
        "n_toplimit_lon = -0.022306 # everything lower than this value is central\n",
        "n_lowlimit_lon = -0.182406 # everthing greater than this value is central\n",
        "\n",
        "n_lowlimit_lat = 51.523811 # everthing greater than this value is central"
      ]
    },
    {
      "cell_type": "code",
      "execution_count": null,
      "metadata": {
        "id": "UnqOovyVLE0Y"
      },
      "outputs": [],
      "source": [
        "loc = []"
      ]
    },
    {
      "cell_type": "code",
      "execution_count": null,
      "metadata": {
        "id": "57eU0PwtLE5r"
      },
      "outputs": [],
      "source": [
        "for station in data.index:\n",
        "    if data['s_lat'][station] > c_toplimit_lat and data['s_lat'][station]< c_lowlimit_lat and data['s_lon'][station]< c_toplimit_lon and data['s_lon'][station]>c_lowlimit_lon:\n",
        "        loc.append(1) # Central\n",
        "    elif data['s_lon'][station] < n_toplimit_lon and data['s_lon'][station] > n_lowlimit_lon and data['s_lat'][station] > n_lowlimit_lat:\n",
        "        loc.append(2) # North\n",
        "    elif data['s_lon'][station] < w_limit_lon and data['s_lat'][station] > w_limit_lat:\n",
        "        loc.append(3) # West\n",
        "    elif data['s_lon'][station] < sw_limit_lon and data['s_lat'][station] < sw_limit_lat:\n",
        "        loc.append(4)  # South_West\n",
        "    elif data['s_lon'][station] > e_limit_lon and data['s_lat'][station] > e_limit_lat:\n",
        "        loc.append(5) # East\n",
        "    elif data['s_lon'][station] > se_limit_lon and data['s_lat'][station] < se_limit_lat:\n",
        "        loc.append(6) # South East\n",
        "    else:\n",
        "        loc.append('Other')"
      ]
    },
    {
      "cell_type": "code",
      "execution_count": null,
      "metadata": {
        "id": "EkTmca63LE-L"
      },
      "outputs": [],
      "source": [
        "data['Area_loc'] = loc"
      ]
    },
    {
      "cell_type": "code",
      "execution_count": null,
      "metadata": {
        "id": "VAsSkRLioeMQ"
      },
      "outputs": [],
      "source": [
        "data"
      ]
    },
    {
      "cell_type": "code",
      "execution_count": null,
      "metadata": {
        "id": "jZcdr85apjGl"
      },
      "outputs": [],
      "source": [
        "data.loc[data.Station_name == 'Chepstow Villas, Notting Hill'].values[0][9]"
      ]
    },
    {
      "cell_type": "code",
      "execution_count": null,
      "metadata": {
        "id": "cA15POAitjYi"
      },
      "outputs": [],
      "source": [
        "color_stations = []\n",
        "for station in total_uniq_stations:\n",
        "  info_val = data.loc[data.Station_name == station].values\n",
        "  if len(info_val)>0:\n",
        "    color_stations.append(data.loc[data.Station_name == station].values[0][9])\n",
        "  else:\n",
        "    color_stations.append(7)"
      ]
    },
    {
      "cell_type": "code",
      "execution_count": null,
      "metadata": {
        "id": "6Mo1sKJh0v13"
      },
      "outputs": [],
      "source": [
        "len(color_stations)"
      ]
    },
    {
      "cell_type": "code",
      "execution_count": null,
      "metadata": {
        "id": "peod0ei91lIO"
      },
      "outputs": [],
      "source": [
        "fig, axs = plt.subplots(5, 3)\n",
        "fig.set_size_inches(18.5, 10.5)\n",
        "axs[0, 0].scatter(x=range(len(factors[0])), y=np.transpose(factors[0])[0], c=color_stations)\n",
        "axs[0, 1].scatter(x=range(len(factors[1])), y=np.transpose(factors[1])[0], c=color_stations)\n",
        "axs[0, 2].plot(np.transpose(factors[2])[0])\n",
        "\n",
        "axs[1, 0].scatter(x=range(len(factors[0])), y=np.transpose(factors[0])[1], c=color_stations)\n",
        "axs[1, 1].scatter(x=range(len(factors[1])), y=np.transpose(factors[1])[1], c=color_stations)\n",
        "axs[1, 2].plot(np.transpose(factors[2])[1])\n",
        "\n",
        "axs[2, 0].scatter(x=range(len(factors[0])), y=np.transpose(factors[0])[2], c=color_stations)\n",
        "axs[2, 1].scatter(x=range(len(factors[1])), y=np.transpose(factors[1])[2], c=color_stations)\n",
        "axs[2, 2].plot(np.transpose(factors[2])[2])\n",
        "\n",
        "axs[3, 0].scatter(x=range(len(factors[0])), y=np.transpose(factors[0])[3], c=color_stations)\n",
        "axs[3, 1].scatter(x=range(len(factors[1])), y=np.transpose(factors[1])[3], c=color_stations)\n",
        "axs[3, 2].plot(np.transpose(factors[2])[3])\n",
        "\n",
        "axs[4, 0].scatter(x=range(len(factors[0])), y=np.transpose(factors[0])[4], c=color_stations)\n",
        "axs[4, 1].scatter(x=range(len(factors[1])), y=np.transpose(factors[1])[4], c=color_stations)\n",
        "axs[4, 2].plot(np.transpose(factors[2])[4])"
      ]
    },
    {
      "cell_type": "code",
      "execution_count": null,
      "metadata": {
        "id": "e3lorkE9vXDW"
      },
      "outputs": [],
      "source": [
        "factors[2].shape"
      ]
    },
    {
      "cell_type": "code",
      "execution_count": null,
      "metadata": {
        "id": "9prrd64vXnYB"
      },
      "outputs": [],
      "source": [
        "type(factors[2])"
      ]
    },
    {
      "cell_type": "code",
      "execution_count": null,
      "metadata": {
        "id": "vrhyP1WEYyLd"
      },
      "outputs": [],
      "source": [
        "from google.colab import files"
      ]
    },
    {
      "cell_type": "code",
      "execution_count": null,
      "metadata": {
        "id": "7eeIEG7SX_5B"
      },
      "outputs": [],
      "source": [
        "# convert array into dataframe\n",
        "result_df = pd.DataFrame(factors[2])"
      ]
    },
    {
      "cell_type": "code",
      "execution_count": null,
      "metadata": {
        "id": "V1BK-9tPZJt1"
      },
      "outputs": [],
      "source": [
        "result_df['timestamp'] = pd.to_datetime(total_hours)"
      ]
    },
    {
      "cell_type": "code",
      "execution_count": null,
      "metadata": {
        "id": "7ZwVi0KMYJ7h"
      },
      "outputs": [],
      "source": [
        "# result_df.to_csv('filename.csv')\n",
        "# files.download('filename.csv')"
      ]
    },
    {
      "cell_type": "code",
      "execution_count": null,
      "metadata": {
        "id": "cISDzBSJYMXT"
      },
      "outputs": [],
      "source": []
    }
  ],
  "metadata": {
    "accelerator": "TPU",
    "colab": {
      "machine_shape": "hm",
      "provenance": []
    },
    "kernelspec": {
      "display_name": "Python 3",
      "name": "python3"
    },
    "language_info": {
      "codemirror_mode": {
        "name": "ipython",
        "version": 3
      },
      "file_extension": ".py",
      "mimetype": "text/x-python",
      "name": "python",
      "nbconvert_exporter": "python",
      "pygments_lexer": "ipython3",
      "version": "3.10.6"
    },
    "orig_nbformat": 4
  },
  "nbformat": 4,
  "nbformat_minor": 0
}
