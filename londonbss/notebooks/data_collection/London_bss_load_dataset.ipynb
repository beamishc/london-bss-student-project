{
  "nbformat": 4,
  "nbformat_minor": 0,
  "metadata": {
    "colab": {
      "provenance": []
    },
    "kernelspec": {
      "name": "python3",
      "display_name": "Python 3"
    },
    "language_info": {
      "name": "python"
    }
  },
  "cells": [
    {
      "cell_type": "code",
      "execution_count": 28,
      "metadata": {
        "colab": {
          "base_uri": "https://localhost:8080/"
        },
        "id": "2L8VIvzfE4d2",
        "outputId": "20e7c80f-3ec8-444a-e334-f50f8f76e398"
      },
      "outputs": [
        {
          "output_type": "stream",
          "name": "stdout",
          "text": [
            "Drive already mounted at /content/drive; to attempt to forcibly remount, call drive.mount(\"/content/drive\", force_remount=True).\n"
          ]
        }
      ],
      "source": [
        "import pandas as pd\n",
        "import numpy as np\n",
        "from bs4 import BeautifulSoup\n",
        "import requests\n",
        "import io\n",
        "from datetime import datetime\n",
        "import matplotlib.pyplot as plt\n",
        "import seaborn as sns\n",
        "from google.colab import drive\n",
        "drive.mount('/content/drive')"
      ]
    },
    {
      "cell_type": "code",
      "source": [
        "import tensorflow as tf"
      ],
      "metadata": {
        "id": "Fyn6PFx3FXH_"
      },
      "execution_count": 29,
      "outputs": []
    },
    {
      "cell_type": "code",
      "source": [
        "import os\n",
        "os.chdir('/content/drive/MyDrive/Colab Notebooks')"
      ],
      "metadata": {
        "id": "NvL5t9-9E9hU"
      },
      "execution_count": 30,
      "outputs": []
    },
    {
      "cell_type": "code",
      "source": [
        "ls"
      ],
      "metadata": {
        "colab": {
          "base_uri": "https://localhost:8080/"
        },
        "id": "to6mHvaUE-9E",
        "outputId": "1da021f5-03fa-4ccc-eebf-f2a55ba2ce4f"
      },
      "execution_count": 31,
      "outputs": [
        {
          "output_type": "stream",
          "name": "stdout",
          "text": [
            "cifar_classification.ipynb\n",
            "\u001b[0m\u001b[01;34mdata-transfer-learning\u001b[0m/\n",
            "filename.csv\n",
            "intuitions_on_convolutions.ipynb\n",
            "\u001b[01;34mlondon-bss-colab\u001b[0m/\n",
            "Untitled0.ipynb\n",
            "\u001b[01;34mW6-D5-C2-data-first-transformer\u001b[0m/\n",
            "\u001b[01;34mW6-D5-C3-data-transformer-finetuning-challenge\u001b[0m/\n",
            "Your-first-Transformers.ipynb\n"
          ]
        }
      ]
    },
    {
      "cell_type": "code",
      "source": [
        "path_dataset_3d='london-bss-colab/3darray_3mo'"
      ],
      "metadata": {
        "id": "b444Cd0iFLwq"
      },
      "execution_count": 32,
      "outputs": []
    },
    {
      "cell_type": "code",
      "source": [
        "## 3d Array"
      ],
      "metadata": {
        "id": "NjmH5LRZaP5r"
      },
      "execution_count": 33,
      "outputs": []
    },
    {
      "cell_type": "code",
      "source": [
        "dataset_3darray=tf.data.Dataset.load(path_dataset_3d)"
      ],
      "metadata": {
        "id": "3fRwYz4ME_Nf"
      },
      "execution_count": 34,
      "outputs": []
    },
    {
      "cell_type": "code",
      "source": [
        "dataset_3darray"
      ],
      "metadata": {
        "colab": {
          "base_uri": "https://localhost:8080/"
        },
        "id": "MoppOPmeFV3e",
        "outputId": "dd9cc559-eca7-475c-b54c-834a9e7c932a"
      },
      "execution_count": 35,
      "outputs": [
        {
          "output_type": "execute_result",
          "data": {
            "text/plain": [
              "<_LoadDataset element_spec=TensorSpec(shape=(804, 804, 2175), dtype=tf.uint8, name=None)>"
            ]
          },
          "metadata": {},
          "execution_count": 35
        }
      ]
    },
    {
      "cell_type": "code",
      "source": [
        "## Core"
      ],
      "metadata": {
        "id": "bmlQnvbzF7Bm"
      },
      "execution_count": 36,
      "outputs": []
    },
    {
      "cell_type": "code",
      "source": [
        "path_dataset_core='london-bss-colab/core_folder_3mo'"
      ],
      "metadata": {
        "id": "hzeCxKHlaZWT"
      },
      "execution_count": 37,
      "outputs": []
    },
    {
      "cell_type": "code",
      "source": [
        "dataset_core=tf.data.Dataset.load(path_dataset_core)"
      ],
      "metadata": {
        "id": "KKVrOioYabcp"
      },
      "execution_count": 38,
      "outputs": []
    },
    {
      "cell_type": "code",
      "source": [
        "## Factors\n"
      ],
      "metadata": {
        "id": "XBz1wZzsaiW8"
      },
      "execution_count": 39,
      "outputs": []
    },
    {
      "cell_type": "code",
      "source": [
        "path_factors='london-bss-colab/factors_folder_3mo'"
      ],
      "metadata": {
        "id": "09Q18y4iewIl"
      },
      "execution_count": 41,
      "outputs": []
    },
    {
      "cell_type": "code",
      "source": [
        "## Read csvs in the folder"
      ],
      "metadata": {
        "id": "_Q6gp7fCezhm"
      },
      "execution_count": 42,
      "outputs": []
    },
    {
      "cell_type": "code",
      "source": [],
      "metadata": {
        "id": "j7BDyvEJe_h3"
      },
      "execution_count": null,
      "outputs": []
    }
  ]
}