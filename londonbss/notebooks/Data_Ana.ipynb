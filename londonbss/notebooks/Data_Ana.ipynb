{
 "cells": [
  {
   "cell_type": "code",
   "execution_count": 13,
   "metadata": {},
   "outputs": [],
   "source": [
    "import numpy as np\n",
    "import tensorly as tl\n",
    "from tensorly.decomposition import tucker\n",
    "from tensorly.decomposition import parafac\n",
    "import matplotlib.pyplot as plt"
   ]
  },
  {
   "cell_type": "code",
   "execution_count": 14,
   "metadata": {},
   "outputs": [],
   "source": [
    "tensor = tl.tensor([[ 0.,  0.,  0.,  0.,  0.,  0.,  0.,  0.,  0.,  0.,  0.,  0.],\n",
    "                    [ 0.,  0.,  0.,  0.,  1.,  1.,  1.,  1.,  0.,  0.,  0.,  0.],\n",
    "                    [ 0.,  0.,  0.,  0.,  1.,  1.,  1.,  1.,  0.,  0.,  0.,  0.],\n",
    "                    [ 0.,  0.,  0.,  0.,  1.,  1.,  1.,  1.,  0.,  0.,  0.,  0.],\n",
    "                    [ 0.,  1.,  1.,  1.,  1.,  1.,  1.,  1.,  1.,  1.,  1.,  0.],\n",
    "                    [ 0.,  1.,  1.,  1.,  1.,  1.,  1.,  1.,  1.,  1.,  1.,  0.],\n",
    "                    [ 0.,  1.,  1.,  1.,  1.,  1.,  1.,  1.,  1.,  1.,  1.,  0.],\n",
    "                    [ 0.,  1.,  1.,  1.,  1.,  1.,  1.,  1.,  1.,  1.,  1.,  0.],\n",
    "                    [ 0.,  0.,  0.,  0.,  1.,  1.,  1.,  1.,  0.,  0.,  0.,  0.],\n",
    "                    [ 0.,  0.,  0.,  0.,  1.,  1.,  1.,  1.,  0.,  0.,  0.,  0.],\n",
    "                    [ 0.,  0.,  0.,  0.,  1.,  1.,  1.,  1.,  0.,  0.,  0.,  0.],\n",
    "                    [ 0.,  0.,  0.,  0.,  0.,  0.,  0.,  0.,  0.,  0.,  0.,  0.]])"
   ]
  },
  {
   "cell_type": "code",
   "execution_count": 15,
   "metadata": {},
   "outputs": [
    {
     "data": {
      "image/png": "[encoded data removed]",
      "text/plain": [
       "<Figure size 480x480 with 2 Axes>"
      ]
     },
     "metadata": {},
     "output_type": "display_data"
    }
   ],
   "source": [
    "plt.matshow(tensor)\n",
    "plt.colorbar()\n",
    "plt.show()"
   ]
  },
  {
   "cell_type": "code",
   "execution_count": 22,
   "metadata": {},
   "outputs": [],
   "source": [
    "factors = parafac(tensor, rank=2)"
   ]
  },
  {
   "cell_type": "code",
   "execution_count": 23,
   "metadata": {},
   "outputs": [],
   "source": [
    "tensor_rec = tl.cp_to_tensor(factors)"
   ]
  },
  {
   "cell_type": "code",
   "execution_count": 24,
   "metadata": {},
   "outputs": [
    {
     "data": {
      "image/png": "[encoded data removed]",
      "text/plain": [
       "<Figure size 480x480 with 2 Axes>"
      ]
     },
     "metadata": {},
     "output_type": "display_data"
    }
   ],
   "source": [
    "plt.matshow(tensor_rec)\n",
    "plt.colorbar()\n",
    "plt.show()"
   ]
  },
  {
   "cell_type": "code",
   "execution_count": 25,
   "metadata": {},
   "outputs": [],
   "source": [
    "import pandas as pd\n",
    "import numpy as np\n",
    "from bs4 import BeautifulSoup\n",
    "import requests\n",
    "import io\n",
    "from datetime import datetime\n",
    "import matplotlib.pyplot as plt\n",
    "import seaborn as sns"
   ]
  },
  {
   "cell_type": "code",
   "execution_count": 26,
   "metadata": {},
   "outputs": [],
   "source": [
    "def read_url(url):\n",
    "    s=requests.get(url).content\n",
    "    c=pd.read_csv(io.StringIO(s.decode('utf-8')))\n",
    "    return c"
   ]
  },
  {
   "cell_type": "code",
   "execution_count": 34,
   "metadata": {},
   "outputs": [],
   "source": [
    "file_path = '../../raw_data/'\n",
    "list_files = pd.read_csv(file_path+'tripcsvbame_1month.csv')\n",
    "list_files['usage-stats/'] = list_files['usage-stats/'].apply(lambda x : x.strip())"
   ]
  },
  {
   "cell_type": "code",
   "execution_count": 38,
   "metadata": {},
   "outputs": [
    {
     "data": {
      "text/html": [
       "<div>\n",
       "<style scoped>\n",
       "    .dataframe tbody tr th:only-of-type {\n",
       "        vertical-align: middle;\n",
       "    }\n",
       "\n",
       "    .dataframe tbody tr th {\n",
       "        vertical-align: top;\n",
       "    }\n",
       "\n",
       "    .dataframe thead th {\n",
       "        text-align: right;\n",
       "    }\n",
       "</style>\n",
       "<table border=\"1\" class=\"dataframe\">\n",
       "  <thead>\n",
       "    <tr style=\"text-align: right;\">\n",
       "      <th></th>\n",
       "      <th>Number</th>\n",
       "      <th>Start date</th>\n",
       "      <th>Start station number</th>\n",
       "      <th>Start station</th>\n",
       "      <th>End date</th>\n",
       "      <th>End station number</th>\n",
       "      <th>End station</th>\n",
       "      <th>Bike number</th>\n",
       "      <th>Bike model</th>\n",
       "      <th>Total duration</th>\n",
       "      <th>Total duration (ms)</th>\n",
       "    </tr>\n",
       "  </thead>\n",
       "  <tbody>\n",
       "    <tr>\n",
       "      <th>0</th>\n",
       "      <td>127804092</td>\n",
       "      <td>2023-01-08 23:59</td>\n",
       "      <td>200252</td>\n",
       "      <td>Bow Church Station, Bow</td>\n",
       "      <td>2023-01-09 00:05</td>\n",
       "      <td>200249</td>\n",
       "      <td>Queen Mary's, Mile End</td>\n",
       "      <td>30139</td>\n",
       "      <td>CLASSIC</td>\n",
       "      <td>6m 46s</td>\n",
       "      <td>406323</td>\n",
       "    </tr>\n",
       "    <tr>\n",
       "      <th>1</th>\n",
       "      <td>127804093</td>\n",
       "      <td>2023-01-08 23:59</td>\n",
       "      <td>960</td>\n",
       "      <td>Hop Exchange, The Borough</td>\n",
       "      <td>2023-01-09 00:06</td>\n",
       "      <td>22180</td>\n",
       "      <td>Cheapside, Bank</td>\n",
       "      <td>52971</td>\n",
       "      <td>CLASSIC</td>\n",
       "      <td>7m 15s</td>\n",
       "      <td>435048</td>\n",
       "    </tr>\n",
       "    <tr>\n",
       "      <th>2</th>\n",
       "      <td>127804087</td>\n",
       "      <td>2023-01-08 23:58</td>\n",
       "      <td>1152</td>\n",
       "      <td>Marylebone Lane, Marylebone</td>\n",
       "      <td>2023-01-09 00:03</td>\n",
       "      <td>1164</td>\n",
       "      <td>Portland Place, Marylebone</td>\n",
       "      <td>30873</td>\n",
       "      <td>CLASSIC</td>\n",
       "      <td>5m 9s</td>\n",
       "      <td>309267</td>\n",
       "    </tr>\n",
       "    <tr>\n",
       "      <th>3</th>\n",
       "      <td>127804088</td>\n",
       "      <td>2023-01-08 23:58</td>\n",
       "      <td>300051</td>\n",
       "      <td>Hibbert Street, Battersea</td>\n",
       "      <td>2023-01-09 00:03</td>\n",
       "      <td>200187</td>\n",
       "      <td>Morie Street, Wandsworth</td>\n",
       "      <td>55190</td>\n",
       "      <td>CLASSIC</td>\n",
       "      <td>5m 9s</td>\n",
       "      <td>309019</td>\n",
       "    </tr>\n",
       "    <tr>\n",
       "      <th>4</th>\n",
       "      <td>127804089</td>\n",
       "      <td>2023-01-08 23:58</td>\n",
       "      <td>1201</td>\n",
       "      <td>Bank of England Museum, Bank</td>\n",
       "      <td>2023-01-09 00:13</td>\n",
       "      <td>22166</td>\n",
       "      <td>Albert Gardens, Stepney</td>\n",
       "      <td>53576</td>\n",
       "      <td>CLASSIC</td>\n",
       "      <td>15m 1s</td>\n",
       "      <td>901787</td>\n",
       "    </tr>\n",
       "    <tr>\n",
       "      <th>...</th>\n",
       "      <td>...</td>\n",
       "      <td>...</td>\n",
       "      <td>...</td>\n",
       "      <td>...</td>\n",
       "      <td>...</td>\n",
       "      <td>...</td>\n",
       "      <td>...</td>\n",
       "      <td>...</td>\n",
       "      <td>...</td>\n",
       "      <td>...</td>\n",
       "      <td>...</td>\n",
       "    </tr>\n",
       "    <tr>\n",
       "      <th>155441</th>\n",
       "      <td>128230322</td>\n",
       "      <td>2023-01-30 00:03</td>\n",
       "      <td>1113</td>\n",
       "      <td>Trebovir Road, Earl's Court</td>\n",
       "      <td>2023-01-30 00:10</td>\n",
       "      <td>200181</td>\n",
       "      <td>Richmond Way, Shepherd's Bush</td>\n",
       "      <td>52852</td>\n",
       "      <td>CLASSIC</td>\n",
       "      <td>7m 9s</td>\n",
       "      <td>429495</td>\n",
       "    </tr>\n",
       "    <tr>\n",
       "      <th>155442</th>\n",
       "      <td>128230320</td>\n",
       "      <td>2023-01-30 00:01</td>\n",
       "      <td>2666</td>\n",
       "      <td>Howick Place, Westminster</td>\n",
       "      <td>2023-01-30 00:23</td>\n",
       "      <td>200256</td>\n",
       "      <td>Sutton Street, Shadwell</td>\n",
       "      <td>51794</td>\n",
       "      <td>CLASSIC</td>\n",
       "      <td>21m 49s</td>\n",
       "      <td>1309664</td>\n",
       "    </tr>\n",
       "    <tr>\n",
       "      <th>155443</th>\n",
       "      <td>128230321</td>\n",
       "      <td>2023-01-30 00:01</td>\n",
       "      <td>1090</td>\n",
       "      <td>Warren Street Station, Euston</td>\n",
       "      <td>2023-01-30 00:08</td>\n",
       "      <td>1225</td>\n",
       "      <td>George Street, Marylebone</td>\n",
       "      <td>56197</td>\n",
       "      <td>CLASSIC</td>\n",
       "      <td>6m 55s</td>\n",
       "      <td>415212</td>\n",
       "    </tr>\n",
       "    <tr>\n",
       "      <th>155444</th>\n",
       "      <td>128230318</td>\n",
       "      <td>2023-01-30 00:00</td>\n",
       "      <td>300242</td>\n",
       "      <td>Allington Street, Victoria</td>\n",
       "      <td>2023-01-30 00:13</td>\n",
       "      <td>300075</td>\n",
       "      <td>Upcerne Road, West Chelsea</td>\n",
       "      <td>57886</td>\n",
       "      <td>CLASSIC</td>\n",
       "      <td>13m 6s</td>\n",
       "      <td>786492</td>\n",
       "    </tr>\n",
       "    <tr>\n",
       "      <th>155445</th>\n",
       "      <td>128230319</td>\n",
       "      <td>2023-01-30 00:00</td>\n",
       "      <td>300070</td>\n",
       "      <td>Imperial Wharf Station, Sands End</td>\n",
       "      <td>2023-01-30 00:31</td>\n",
       "      <td>300053</td>\n",
       "      <td>Stephendale Road, Sands End</td>\n",
       "      <td>60578</td>\n",
       "      <td>PBSC_EBIKE</td>\n",
       "      <td>31m 15s</td>\n",
       "      <td>1875083</td>\n",
       "    </tr>\n",
       "  </tbody>\n",
       "</table>\n",
       "<p>667093 rows × 11 columns</p>\n",
       "</div>"
      ],
      "text/plain": [
       "           Number        Start date  Start station number  \\\n",
       "0       127804092  2023-01-08 23:59                200252   \n",
       "1       127804093  2023-01-08 23:59                   960   \n",
       "2       127804087  2023-01-08 23:58                  1152   \n",
       "3       127804088  2023-01-08 23:58                300051   \n",
       "4       127804089  2023-01-08 23:58                  1201   \n",
       "...           ...               ...                   ...   \n",
       "155441  128230322  2023-01-30 00:03                  1113   \n",
       "155442  128230320  2023-01-30 00:01                  2666   \n",
       "155443  128230321  2023-01-30 00:01                  1090   \n",
       "155444  128230318  2023-01-30 00:00                300242   \n",
       "155445  128230319  2023-01-30 00:00                300070   \n",
       "\n",
       "                            Start station          End date  \\\n",
       "0                 Bow Church Station, Bow  2023-01-09 00:05   \n",
       "1               Hop Exchange, The Borough  2023-01-09 00:06   \n",
       "2             Marylebone Lane, Marylebone  2023-01-09 00:03   \n",
       "3               Hibbert Street, Battersea  2023-01-09 00:03   \n",
       "4            Bank of England Museum, Bank  2023-01-09 00:13   \n",
       "...                                   ...               ...   \n",
       "155441        Trebovir Road, Earl's Court  2023-01-30 00:10   \n",
       "155442          Howick Place, Westminster  2023-01-30 00:23   \n",
       "155443      Warren Street Station, Euston  2023-01-30 00:08   \n",
       "155444         Allington Street, Victoria  2023-01-30 00:13   \n",
       "155445  Imperial Wharf Station, Sands End  2023-01-30 00:31   \n",
       "\n",
       "        End station number                    End station  Bike number  \\\n",
       "0                   200249         Queen Mary's, Mile End        30139   \n",
       "1                    22180                Cheapside, Bank        52971   \n",
       "2                     1164     Portland Place, Marylebone        30873   \n",
       "3                   200187       Morie Street, Wandsworth        55190   \n",
       "4                    22166        Albert Gardens, Stepney        53576   \n",
       "...                    ...                            ...          ...   \n",
       "155441              200181  Richmond Way, Shepherd's Bush        52852   \n",
       "155442              200256        Sutton Street, Shadwell        51794   \n",
       "155443                1225      George Street, Marylebone        56197   \n",
       "155444              300075     Upcerne Road, West Chelsea        57886   \n",
       "155445              300053    Stephendale Road, Sands End        60578   \n",
       "\n",
       "        Bike model Total duration  Total duration (ms)  \n",
       "0          CLASSIC         6m 46s               406323  \n",
       "1          CLASSIC         7m 15s               435048  \n",
       "2          CLASSIC          5m 9s               309267  \n",
       "3          CLASSIC          5m 9s               309019  \n",
       "4          CLASSIC         15m 1s               901787  \n",
       "...            ...            ...                  ...  \n",
       "155441     CLASSIC          7m 9s               429495  \n",
       "155442     CLASSIC        21m 49s              1309664  \n",
       "155443     CLASSIC         6m 55s               415212  \n",
       "155444     CLASSIC         13m 6s               786492  \n",
       "155445  PBSC_EBIKE        31m 15s              1875083  \n",
       "\n",
       "[667093 rows x 11 columns]"
      ]
     },
     "execution_count": 38,
     "metadata": {},
     "output_type": "execute_result"
    }
   ],
   "source": [
    "frames=[]\n",
    "link=\"https://cycling.data.tfl.gov.uk/usage-stats/\"\n",
    "\n",
    "for file in list_files['usage-stats/']:\n",
    "   url = link+file\n",
    "   frames.append(read_url(url))\n",
    "\n",
    "result = pd.concat(frames)\n",
    "result"
   ]
  },
  {
   "cell_type": "code",
   "execution_count": 39,
   "metadata": {},
   "outputs": [
    {
     "data": {
      "text/plain": [
       "Index(['Number', 'Start date', 'Start station number', 'Start station',\n",
       "       'End date', 'End station number', 'End station', 'Bike number',\n",
       "       'Bike model', 'Total duration', 'Total duration (ms)'],\n",
       "      dtype='object')"
      ]
     },
     "execution_count": 39,
     "metadata": {},
     "output_type": "execute_result"
    }
   ],
   "source": [
    "result.columns"
   ]
  },
  {
   "cell_type": "code",
   "execution_count": 40,
   "metadata": {},
   "outputs": [],
   "source": [
    "result['Total duration (ms)'] = result['Total duration (ms)']/1000"
   ]
  },
  {
   "cell_type": "code",
   "execution_count": 41,
   "metadata": {},
   "outputs": [
    {
     "data": {
      "text/plain": [
       "Index(['rentalid', 'startdate', 'so_id', 'startstationname', 'End date',\n",
       "       'sd_id', 'endstationname', 'Bike number', 'Bike model',\n",
       "       'Total duration', 'duration'],\n",
       "      dtype='object')"
      ]
     },
     "execution_count": 41,
     "metadata": {},
     "output_type": "execute_result"
    }
   ],
   "source": [
    "dict_columns = {\n",
    "    \"Number\": \"rentalid\",\n",
    "    \"Total duration (ms)\": \"duration\",\n",
    "    \"Start station\" : 'startstationname',\n",
    "    'End station': 'endstationname',\n",
    "    'Start date': 'startdate',\n",
    "    'Start station number':'so_id',\n",
    "    'End station number':'sd_id'\n",
    "}\n",
    "result_general = result.rename(columns=dict_columns)\n",
    "result_general.columns"
   ]
  },
  {
   "cell_type": "code",
   "execution_count": 42,
   "metadata": {},
   "outputs": [
    {
     "name": "stderr",
     "output_type": "stream",
     "text": [
      "/tmp/ipykernel_9246/1801855731.py:2: SettingWithCopyWarning: \n",
      "A value is trying to be set on a copy of a slice from a DataFrame.\n",
      "Try using .loc[row_indexer,col_indexer] = value instead\n",
      "\n",
      "See the caveats in the documentation: https://pandas.pydata.org/pandas-docs/stable/user_guide/indexing.html#returning-a-view-versus-a-copy\n",
      "  result_final['startdate'] = result_final['startdate'].apply(lambda x: datetime.strptime(x, '%Y-%m-%d %H:%M'))\n"
     ]
    }
   ],
   "source": [
    "result_final = result_general[['startdate','endstationname','startstationname','duration']]\n",
    "result_final['startdate'] = result_final['startdate'].apply(lambda x: datetime.strptime(x, '%Y-%m-%d %H:%M'))"
   ]
  },
  {
   "cell_type": "code",
   "execution_count": 43,
   "metadata": {},
   "outputs": [],
   "source": [
    "results_f = result_final[result_final['duration']<3600]"
   ]
  },
  {
   "cell_type": "code",
   "execution_count": 44,
   "metadata": {},
   "outputs": [
    {
     "name": "stdout",
     "output_type": "stream",
     "text": [
      "<class 'pandas.core.frame.DataFrame'>\n",
      "Index: 656993 entries, 0 to 155445\n",
      "Data columns (total 4 columns):\n",
      " #   Column            Non-Null Count   Dtype         \n",
      "---  ------            --------------   -----         \n",
      " 0   startdate         656993 non-null  datetime64[ns]\n",
      " 1   endstationname    656993 non-null  object        \n",
      " 2   startstationname  656993 non-null  object        \n",
      " 3   duration          656993 non-null  float64       \n",
      "dtypes: datetime64[ns](1), float64(1), object(2)\n",
      "memory usage: 25.1+ MB\n"
     ]
    }
   ],
   "source": [
    "results_f.info()"
   ]
  },
  {
   "cell_type": "code",
   "execution_count": 45,
   "metadata": {},
   "outputs": [
    {
     "data": {
      "text/html": [
       "<div>\n",
       "<style scoped>\n",
       "    .dataframe tbody tr th:only-of-type {\n",
       "        vertical-align: middle;\n",
       "    }\n",
       "\n",
       "    .dataframe tbody tr th {\n",
       "        vertical-align: top;\n",
       "    }\n",
       "\n",
       "    .dataframe thead th {\n",
       "        text-align: right;\n",
       "    }\n",
       "</style>\n",
       "<table border=\"1\" class=\"dataframe\">\n",
       "  <thead>\n",
       "    <tr style=\"text-align: right;\">\n",
       "      <th></th>\n",
       "      <th>startdate</th>\n",
       "      <th>startstationname</th>\n",
       "      <th>endstationname</th>\n",
       "      <th>Nooftrips</th>\n",
       "    </tr>\n",
       "  </thead>\n",
       "  <tbody>\n",
       "    <tr>\n",
       "      <th>0</th>\n",
       "      <td>2023-01-02 00:00:00</td>\n",
       "      <td>Ackroyd Drive, Bow</td>\n",
       "      <td>Alpha Grove, Millwall</td>\n",
       "      <td>1</td>\n",
       "    </tr>\n",
       "    <tr>\n",
       "      <th>1</th>\n",
       "      <td>2023-01-02 00:00:00</td>\n",
       "      <td>Ackroyd Drive, Bow</td>\n",
       "      <td>Devons Road, Bow</td>\n",
       "      <td>1</td>\n",
       "    </tr>\n",
       "    <tr>\n",
       "      <th>2</th>\n",
       "      <td>2023-01-02 00:00:00</td>\n",
       "      <td>Albert Embankment, Vauxhall</td>\n",
       "      <td>Park Street, Bankside</td>\n",
       "      <td>2</td>\n",
       "    </tr>\n",
       "    <tr>\n",
       "      <th>3</th>\n",
       "      <td>2023-01-02 00:00:00</td>\n",
       "      <td>Albert Embankment, Vauxhall</td>\n",
       "      <td>Thorndike Close, West Chelsea</td>\n",
       "      <td>1</td>\n",
       "    </tr>\n",
       "    <tr>\n",
       "      <th>4</th>\n",
       "      <td>2023-01-02 00:00:00</td>\n",
       "      <td>Bancroft Road, Bethnal Green</td>\n",
       "      <td>Bancroft Road, Bethnal Green</td>\n",
       "      <td>2</td>\n",
       "    </tr>\n",
       "    <tr>\n",
       "      <th>...</th>\n",
       "      <td>...</td>\n",
       "      <td>...</td>\n",
       "      <td>...</td>\n",
       "      <td>...</td>\n",
       "    </tr>\n",
       "    <tr>\n",
       "      <th>611524</th>\n",
       "      <td>2023-02-05 23:00:00</td>\n",
       "      <td>Westbourne Park Road, Portobello</td>\n",
       "      <td>Hereford Road, Bayswater</td>\n",
       "      <td>2</td>\n",
       "    </tr>\n",
       "    <tr>\n",
       "      <th>611525</th>\n",
       "      <td>2023-02-05 23:00:00</td>\n",
       "      <td>Westferry DLR, Limehouse</td>\n",
       "      <td>Tanner Street, Bermondsey</td>\n",
       "      <td>1</td>\n",
       "    </tr>\n",
       "    <tr>\n",
       "      <th>611526</th>\n",
       "      <td>2023-02-05 23:00:00</td>\n",
       "      <td>Westminster Pier, Westminster</td>\n",
       "      <td>Kennington Road  , Vauxhall</td>\n",
       "      <td>1</td>\n",
       "    </tr>\n",
       "    <tr>\n",
       "      <th>611527</th>\n",
       "      <td>2023-02-05 23:00:00</td>\n",
       "      <td>World's End Place, West Chelsea</td>\n",
       "      <td>Queen's Gate (South), South Kensington</td>\n",
       "      <td>1</td>\n",
       "    </tr>\n",
       "    <tr>\n",
       "      <th>611528</th>\n",
       "      <td>2023-02-05 23:00:00</td>\n",
       "      <td>York Hall, Bethnal Green</td>\n",
       "      <td>Gunmakers Lane, Old Ford</td>\n",
       "      <td>1</td>\n",
       "    </tr>\n",
       "  </tbody>\n",
       "</table>\n",
       "<p>611529 rows × 4 columns</p>\n",
       "</div>"
      ],
      "text/plain": [
       "                 startdate                  startstationname  \\\n",
       "0      2023-01-02 00:00:00                Ackroyd Drive, Bow   \n",
       "1      2023-01-02 00:00:00                Ackroyd Drive, Bow   \n",
       "2      2023-01-02 00:00:00       Albert Embankment, Vauxhall   \n",
       "3      2023-01-02 00:00:00       Albert Embankment, Vauxhall   \n",
       "4      2023-01-02 00:00:00      Bancroft Road, Bethnal Green   \n",
       "...                    ...                               ...   \n",
       "611524 2023-02-05 23:00:00  Westbourne Park Road, Portobello   \n",
       "611525 2023-02-05 23:00:00          Westferry DLR, Limehouse   \n",
       "611526 2023-02-05 23:00:00     Westminster Pier, Westminster   \n",
       "611527 2023-02-05 23:00:00   World's End Place, West Chelsea   \n",
       "611528 2023-02-05 23:00:00          York Hall, Bethnal Green   \n",
       "\n",
       "                                endstationname  Nooftrips  \n",
       "0                        Alpha Grove, Millwall          1  \n",
       "1                             Devons Road, Bow          1  \n",
       "2                        Park Street, Bankside          2  \n",
       "3                Thorndike Close, West Chelsea          1  \n",
       "4                 Bancroft Road, Bethnal Green          2  \n",
       "...                                        ...        ...  \n",
       "611524                Hereford Road, Bayswater          2  \n",
       "611525               Tanner Street, Bermondsey          1  \n",
       "611526             Kennington Road  , Vauxhall          1  \n",
       "611527  Queen's Gate (South), South Kensington          1  \n",
       "611528                Gunmakers Lane, Old Ford          1  \n",
       "\n",
       "[611529 rows x 4 columns]"
      ]
     },
     "execution_count": 45,
     "metadata": {},
     "output_type": "execute_result"
    }
   ],
   "source": [
    "new_result = results_f.set_index('startdate').groupby([pd.Grouper(freq='h'), 'startstationname', 'endstationname']).count()\n",
    "new_result = new_result.rename(columns={'duration':'Nooftrips'})\n",
    "df = new_result.reset_index()\n",
    "df = df.sort_values(by=['startdate'])\n",
    "df = new_result.reset_index()\n",
    "df"
   ]
  },
  {
   "cell_type": "code",
   "execution_count": 50,
   "metadata": {},
   "outputs": [
    {
     "ename": "TypeError",
     "evalue": "datetime64 type does not support sum operations",
     "output_type": "error",
     "traceback": [
      "\u001b[0;31m---------------------------------------------------------------------------\u001b[0m",
      "\u001b[0;31mTypeError\u001b[0m                                 Traceback (most recent call last)",
      "Cell \u001b[0;32mIn[50], line 1\u001b[0m\n\u001b[0;32m----> 1\u001b[0m df\u001b[39m.\u001b[39;49mgroupby(\u001b[39m'\u001b[39;49m\u001b[39mstartstationname\u001b[39;49m\u001b[39m'\u001b[39;49m)\u001b[39m.\u001b[39;49msum()\n",
      "File \u001b[0;32m~/.pyenv/versions/3.10.6/envs/london-bss/lib/python3.10/site-packages/pandas/core/groupby/groupby.py:2263\u001b[0m, in \u001b[0;36mGroupBy.sum\u001b[0;34m(self, numeric_only, min_count, engine, engine_kwargs)\u001b[0m\n\u001b[1;32m   2258\u001b[0m \u001b[39melse\u001b[39;00m:\n\u001b[1;32m   2259\u001b[0m     \u001b[39m# If we are grouping on categoricals we want unobserved categories to\u001b[39;00m\n\u001b[1;32m   2260\u001b[0m     \u001b[39m# return zero, rather than the default of NaN which the reindexing in\u001b[39;00m\n\u001b[1;32m   2261\u001b[0m     \u001b[39m# _agg_general() returns. GH #31422\u001b[39;00m\n\u001b[1;32m   2262\u001b[0m     \u001b[39mwith\u001b[39;00m com\u001b[39m.\u001b[39mtemp_setattr(\u001b[39mself\u001b[39m, \u001b[39m\"\u001b[39m\u001b[39mobserved\u001b[39m\u001b[39m\"\u001b[39m, \u001b[39mTrue\u001b[39;00m):\n\u001b[0;32m-> 2263\u001b[0m         result \u001b[39m=\u001b[39m \u001b[39mself\u001b[39;49m\u001b[39m.\u001b[39;49m_agg_general(\n\u001b[1;32m   2264\u001b[0m             numeric_only\u001b[39m=\u001b[39;49mnumeric_only,\n\u001b[1;32m   2265\u001b[0m             min_count\u001b[39m=\u001b[39;49mmin_count,\n\u001b[1;32m   2266\u001b[0m             alias\u001b[39m=\u001b[39;49m\u001b[39m\"\u001b[39;49m\u001b[39msum\u001b[39;49m\u001b[39m\"\u001b[39;49m,\n\u001b[1;32m   2267\u001b[0m             npfunc\u001b[39m=\u001b[39;49mnp\u001b[39m.\u001b[39;49msum,\n\u001b[1;32m   2268\u001b[0m         )\n\u001b[1;32m   2270\u001b[0m     \u001b[39mreturn\u001b[39;00m \u001b[39mself\u001b[39m\u001b[39m.\u001b[39m_reindex_output(result, fill_value\u001b[39m=\u001b[39m\u001b[39m0\u001b[39m)\n",
      "File \u001b[0;32m~/.pyenv/versions/3.10.6/envs/london-bss/lib/python3.10/site-packages/pandas/core/groupby/groupby.py:1422\u001b[0m, in \u001b[0;36mGroupBy._agg_general\u001b[0;34m(self, numeric_only, min_count, alias, npfunc)\u001b[0m\n\u001b[1;32m   1413\u001b[0m \u001b[39m@final\u001b[39m\n\u001b[1;32m   1414\u001b[0m \u001b[39mdef\u001b[39;00m \u001b[39m_agg_general\u001b[39m(\n\u001b[1;32m   1415\u001b[0m     \u001b[39mself\u001b[39m,\n\u001b[0;32m   (...)\u001b[0m\n\u001b[1;32m   1420\u001b[0m     npfunc: Callable,\n\u001b[1;32m   1421\u001b[0m ):\n\u001b[0;32m-> 1422\u001b[0m     result \u001b[39m=\u001b[39m \u001b[39mself\u001b[39;49m\u001b[39m.\u001b[39;49m_cython_agg_general(\n\u001b[1;32m   1423\u001b[0m         how\u001b[39m=\u001b[39;49malias,\n\u001b[1;32m   1424\u001b[0m         alt\u001b[39m=\u001b[39;49mnpfunc,\n\u001b[1;32m   1425\u001b[0m         numeric_only\u001b[39m=\u001b[39;49mnumeric_only,\n\u001b[1;32m   1426\u001b[0m         min_count\u001b[39m=\u001b[39;49mmin_count,\n\u001b[1;32m   1427\u001b[0m     )\n\u001b[1;32m   1428\u001b[0m     \u001b[39mreturn\u001b[39;00m result\u001b[39m.\u001b[39m__finalize__(\u001b[39mself\u001b[39m\u001b[39m.\u001b[39mobj, method\u001b[39m=\u001b[39m\u001b[39m\"\u001b[39m\u001b[39mgroupby\u001b[39m\u001b[39m\"\u001b[39m)\n",
      "File \u001b[0;32m~/.pyenv/versions/3.10.6/envs/london-bss/lib/python3.10/site-packages/pandas/core/groupby/groupby.py:1507\u001b[0m, in \u001b[0;36mGroupBy._cython_agg_general\u001b[0;34m(self, how, alt, numeric_only, min_count, **kwargs)\u001b[0m\n\u001b[1;32m   1503\u001b[0m         result \u001b[39m=\u001b[39m \u001b[39mself\u001b[39m\u001b[39m.\u001b[39m_agg_py_fallback(values, ndim\u001b[39m=\u001b[39mdata\u001b[39m.\u001b[39mndim, alt\u001b[39m=\u001b[39malt)\n\u001b[1;32m   1505\u001b[0m     \u001b[39mreturn\u001b[39;00m result\n\u001b[0;32m-> 1507\u001b[0m new_mgr \u001b[39m=\u001b[39m data\u001b[39m.\u001b[39;49mgrouped_reduce(array_func)\n\u001b[1;32m   1508\u001b[0m res \u001b[39m=\u001b[39m \u001b[39mself\u001b[39m\u001b[39m.\u001b[39m_wrap_agged_manager(new_mgr)\n\u001b[1;32m   1509\u001b[0m out \u001b[39m=\u001b[39m \u001b[39mself\u001b[39m\u001b[39m.\u001b[39m_wrap_aggregated_output(res)\n",
      "File \u001b[0;32m~/.pyenv/versions/3.10.6/envs/london-bss/lib/python3.10/site-packages/pandas/core/internals/managers.py:1506\u001b[0m, in \u001b[0;36mBlockManager.grouped_reduce\u001b[0;34m(self, func)\u001b[0m\n\u001b[1;32m   1504\u001b[0m             result_blocks \u001b[39m=\u001b[39m extend_blocks(applied, result_blocks)\n\u001b[1;32m   1505\u001b[0m     \u001b[39melse\u001b[39;00m:\n\u001b[0;32m-> 1506\u001b[0m         applied \u001b[39m=\u001b[39m blk\u001b[39m.\u001b[39;49mapply(func)\n\u001b[1;32m   1507\u001b[0m         result_blocks \u001b[39m=\u001b[39m extend_blocks(applied, result_blocks)\n\u001b[1;32m   1509\u001b[0m \u001b[39mif\u001b[39;00m \u001b[39mlen\u001b[39m(result_blocks) \u001b[39m==\u001b[39m \u001b[39m0\u001b[39m:\n",
      "File \u001b[0;32m~/.pyenv/versions/3.10.6/envs/london-bss/lib/python3.10/site-packages/pandas/core/internals/blocks.py:329\u001b[0m, in \u001b[0;36mBlock.apply\u001b[0;34m(self, func, **kwargs)\u001b[0m\n\u001b[1;32m    323\u001b[0m \u001b[39m@final\u001b[39m\n\u001b[1;32m    324\u001b[0m \u001b[39mdef\u001b[39;00m \u001b[39mapply\u001b[39m(\u001b[39mself\u001b[39m, func, \u001b[39m*\u001b[39m\u001b[39m*\u001b[39mkwargs) \u001b[39m-\u001b[39m\u001b[39m>\u001b[39m \u001b[39mlist\u001b[39m[Block]:\n\u001b[1;32m    325\u001b[0m \u001b[39m    \u001b[39m\u001b[39m\"\"\"\u001b[39;00m\n\u001b[1;32m    326\u001b[0m \u001b[39m    apply the function to my values; return a block if we are not\u001b[39;00m\n\u001b[1;32m    327\u001b[0m \u001b[39m    one\u001b[39;00m\n\u001b[1;32m    328\u001b[0m \u001b[39m    \"\"\"\u001b[39;00m\n\u001b[0;32m--> 329\u001b[0m     result \u001b[39m=\u001b[39m func(\u001b[39mself\u001b[39;49m\u001b[39m.\u001b[39;49mvalues, \u001b[39m*\u001b[39;49m\u001b[39m*\u001b[39;49mkwargs)\n\u001b[1;32m    331\u001b[0m     \u001b[39mreturn\u001b[39;00m \u001b[39mself\u001b[39m\u001b[39m.\u001b[39m_split_op_result(result)\n",
      "File \u001b[0;32m~/.pyenv/versions/3.10.6/envs/london-bss/lib/python3.10/site-packages/pandas/core/groupby/groupby.py:1490\u001b[0m, in \u001b[0;36mGroupBy._cython_agg_general.<locals>.array_func\u001b[0;34m(values)\u001b[0m\n\u001b[1;32m   1488\u001b[0m \u001b[39mdef\u001b[39;00m \u001b[39marray_func\u001b[39m(values: ArrayLike) \u001b[39m-\u001b[39m\u001b[39m>\u001b[39m ArrayLike:\n\u001b[1;32m   1489\u001b[0m     \u001b[39mtry\u001b[39;00m:\n\u001b[0;32m-> 1490\u001b[0m         result \u001b[39m=\u001b[39m \u001b[39mself\u001b[39;49m\u001b[39m.\u001b[39;49mgrouper\u001b[39m.\u001b[39;49m_cython_operation(\n\u001b[1;32m   1491\u001b[0m             \u001b[39m\"\u001b[39;49m\u001b[39maggregate\u001b[39;49m\u001b[39m\"\u001b[39;49m,\n\u001b[1;32m   1492\u001b[0m             values,\n\u001b[1;32m   1493\u001b[0m             how,\n\u001b[1;32m   1494\u001b[0m             axis\u001b[39m=\u001b[39;49mdata\u001b[39m.\u001b[39;49mndim \u001b[39m-\u001b[39;49m \u001b[39m1\u001b[39;49m,\n\u001b[1;32m   1495\u001b[0m             min_count\u001b[39m=\u001b[39;49mmin_count,\n\u001b[1;32m   1496\u001b[0m             \u001b[39m*\u001b[39;49m\u001b[39m*\u001b[39;49mkwargs,\n\u001b[1;32m   1497\u001b[0m         )\n\u001b[1;32m   1498\u001b[0m     \u001b[39mexcept\u001b[39;00m \u001b[39mNotImplementedError\u001b[39;00m:\n\u001b[1;32m   1499\u001b[0m         \u001b[39m# generally if we have numeric_only=False\u001b[39;00m\n\u001b[1;32m   1500\u001b[0m         \u001b[39m# and non-applicable functions\u001b[39;00m\n\u001b[1;32m   1501\u001b[0m         \u001b[39m# try to python agg\u001b[39;00m\n\u001b[1;32m   1502\u001b[0m         \u001b[39m# TODO: shouldn't min_count matter?\u001b[39;00m\n\u001b[1;32m   1503\u001b[0m         result \u001b[39m=\u001b[39m \u001b[39mself\u001b[39m\u001b[39m.\u001b[39m_agg_py_fallback(values, ndim\u001b[39m=\u001b[39mdata\u001b[39m.\u001b[39mndim, alt\u001b[39m=\u001b[39malt)\n",
      "File \u001b[0;32m~/.pyenv/versions/3.10.6/envs/london-bss/lib/python3.10/site-packages/pandas/core/groupby/ops.py:959\u001b[0m, in \u001b[0;36mBaseGrouper._cython_operation\u001b[0;34m(self, kind, values, how, axis, min_count, **kwargs)\u001b[0m\n\u001b[1;32m    957\u001b[0m ids, _, _ \u001b[39m=\u001b[39m \u001b[39mself\u001b[39m\u001b[39m.\u001b[39mgroup_info\n\u001b[1;32m    958\u001b[0m ngroups \u001b[39m=\u001b[39m \u001b[39mself\u001b[39m\u001b[39m.\u001b[39mngroups\n\u001b[0;32m--> 959\u001b[0m \u001b[39mreturn\u001b[39;00m cy_op\u001b[39m.\u001b[39;49mcython_operation(\n\u001b[1;32m    960\u001b[0m     values\u001b[39m=\u001b[39;49mvalues,\n\u001b[1;32m    961\u001b[0m     axis\u001b[39m=\u001b[39;49maxis,\n\u001b[1;32m    962\u001b[0m     min_count\u001b[39m=\u001b[39;49mmin_count,\n\u001b[1;32m    963\u001b[0m     comp_ids\u001b[39m=\u001b[39;49mids,\n\u001b[1;32m    964\u001b[0m     ngroups\u001b[39m=\u001b[39;49mngroups,\n\u001b[1;32m    965\u001b[0m     \u001b[39m*\u001b[39;49m\u001b[39m*\u001b[39;49mkwargs,\n\u001b[1;32m    966\u001b[0m )\n",
      "File \u001b[0;32m~/.pyenv/versions/3.10.6/envs/london-bss/lib/python3.10/site-packages/pandas/core/groupby/ops.py:645\u001b[0m, in \u001b[0;36mWrappedCythonOp.cython_operation\u001b[0;34m(self, values, axis, min_count, comp_ids, ngroups, **kwargs)\u001b[0m\n\u001b[1;32m    641\u001b[0m is_numeric \u001b[39m=\u001b[39m is_numeric_dtype(dtype)\n\u001b[1;32m    643\u001b[0m \u001b[39m# can we do this operation with our cython functions\u001b[39;00m\n\u001b[1;32m    644\u001b[0m \u001b[39m# if not raise NotImplementedError\u001b[39;00m\n\u001b[0;32m--> 645\u001b[0m \u001b[39mself\u001b[39;49m\u001b[39m.\u001b[39;49m_disallow_invalid_ops(dtype, is_numeric)\n\u001b[1;32m    647\u001b[0m \u001b[39mif\u001b[39;00m \u001b[39mnot\u001b[39;00m \u001b[39misinstance\u001b[39m(values, np\u001b[39m.\u001b[39mndarray):\n\u001b[1;32m    648\u001b[0m     \u001b[39m# i.e. ExtensionArray\u001b[39;00m\n\u001b[1;32m    649\u001b[0m     \u001b[39mreturn\u001b[39;00m \u001b[39mself\u001b[39m\u001b[39m.\u001b[39m_ea_wrap_cython_operation(\n\u001b[1;32m    650\u001b[0m         values,\n\u001b[1;32m    651\u001b[0m         min_count\u001b[39m=\u001b[39mmin_count,\n\u001b[0;32m   (...)\u001b[0m\n\u001b[1;32m    654\u001b[0m         \u001b[39m*\u001b[39m\u001b[39m*\u001b[39mkwargs,\n\u001b[1;32m    655\u001b[0m     )\n",
      "File \u001b[0;32m~/.pyenv/versions/3.10.6/envs/london-bss/lib/python3.10/site-packages/pandas/core/groupby/ops.py:257\u001b[0m, in \u001b[0;36mWrappedCythonOp._disallow_invalid_ops\u001b[0;34m(self, dtype, is_numeric)\u001b[0m\n\u001b[1;32m    254\u001b[0m \u001b[39melif\u001b[39;00m is_datetime64_any_dtype(dtype):\n\u001b[1;32m    255\u001b[0m     \u001b[39m# Adding/multiplying datetimes is not valid\u001b[39;00m\n\u001b[1;32m    256\u001b[0m     \u001b[39mif\u001b[39;00m how \u001b[39min\u001b[39;00m [\u001b[39m\"\u001b[39m\u001b[39msum\u001b[39m\u001b[39m\"\u001b[39m, \u001b[39m\"\u001b[39m\u001b[39mprod\u001b[39m\u001b[39m\"\u001b[39m, \u001b[39m\"\u001b[39m\u001b[39mcumsum\u001b[39m\u001b[39m\"\u001b[39m, \u001b[39m\"\u001b[39m\u001b[39mcumprod\u001b[39m\u001b[39m\"\u001b[39m]:\n\u001b[0;32m--> 257\u001b[0m         \u001b[39mraise\u001b[39;00m \u001b[39mTypeError\u001b[39;00m(\u001b[39mf\u001b[39m\u001b[39m\"\u001b[39m\u001b[39mdatetime64 type does not support \u001b[39m\u001b[39m{\u001b[39;00mhow\u001b[39m}\u001b[39;00m\u001b[39m operations\u001b[39m\u001b[39m\"\u001b[39m)\n\u001b[1;32m    258\u001b[0m \u001b[39melif\u001b[39;00m is_period_dtype(dtype):\n\u001b[1;32m    259\u001b[0m     \u001b[39m# Adding/multiplying Periods is not valid\u001b[39;00m\n\u001b[1;32m    260\u001b[0m     \u001b[39mif\u001b[39;00m how \u001b[39min\u001b[39;00m [\u001b[39m\"\u001b[39m\u001b[39msum\u001b[39m\u001b[39m\"\u001b[39m, \u001b[39m\"\u001b[39m\u001b[39mprod\u001b[39m\u001b[39m\"\u001b[39m, \u001b[39m\"\u001b[39m\u001b[39mcumsum\u001b[39m\u001b[39m\"\u001b[39m, \u001b[39m\"\u001b[39m\u001b[39mcumprod\u001b[39m\u001b[39m\"\u001b[39m]:\n",
      "\u001b[0;31mTypeError\u001b[0m: datetime64 type does not support sum operations"
     ]
    }
   ],
   "source": [
    "df.groupby('startstationname').sum()"
   ]
  },
  {
   "cell_type": "code",
   "execution_count": null,
   "metadata": {},
   "outputs": [],
   "source": []
  }
 ],
 "metadata": {
  "kernelspec": {
   "display_name": "london-bss",
   "language": "python",
   "name": "python3"
  },
  "language_info": {
   "codemirror_mode": {
    "name": "ipython",
    "version": 3
   },
   "file_extension": ".py",
   "mimetype": "text/x-python",
   "name": "python",
   "nbconvert_exporter": "python",
   "pygments_lexer": "ipython3",
   "version": "3.10.6"
  },
  "orig_nbformat": 4
 },
 "nbformat": 4,
 "nbformat_minor": 2
}
