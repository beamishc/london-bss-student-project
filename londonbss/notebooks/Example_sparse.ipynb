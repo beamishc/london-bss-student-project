{
 "cells": [
  {
   "cell_type": "code",
   "execution_count": 2,
   "metadata": {},
   "outputs": [],
   "source": [
    "import gzip\n",
    "import os\n",
    "from urllib.request import urlretrieve\n",
    "import numpy as np\n",
    "import sparse\n",
    "import pandas as pd\n",
    "%matplotlib inline\n",
    "\n",
    "def download_files():\n",
    "    \"Download the file if they don't already exist.\"\n",
    "    for filename in ['nips.tns.gz',\n",
    "                     'mode-1-papers.map.gz',\n",
    "                     'mode-2-authors.map.gz',\n",
    "                     'mode-3-words.map.gz',\n",
    "                     'mode-4-years.map.gz']:\n",
    "        url = 'https://s3.us-east-2.amazonaws.com/frostt/frostt_data/nips/' + filename\n",
    "        if not os.path.exists(filename):\n",
    "            urlretrieve(url, filename)\n",
    "\n",
    "            \n",
    "def load_data(path):\n",
    "    \"\"\"Load the sparse tensor dataset at `path`\"\"\"\n",
    "    values = []\n",
    "    coords = []\n",
    "    with gzip.open(path, 'rb') as f:\n",
    "        for line in f:\n",
    "            data = line.strip().split(b' ')\n",
    "            coords.append([int(i) - 1 for i in data[:-1]])\n",
    "            values.append(float(data[-1]))\n",
    "    coords = np.array(coords, dtype=np.int32).T\n",
    "    values = np.array(values, dtype=np.float64)\n",
    "    return sparse.COO(coords, data=values)\n",
    "\n",
    "\n",
    "def load_mode(path):\n",
    "    \"\"\"Load the axis information for the mode file at `path`\"\"\"\n",
    "    with gzip.open(path, 'rt') as f:\n",
    "        return pd.Series(f.read().splitlines())"
   ]
  },
  {
   "cell_type": "code",
   "execution_count": 3,
   "metadata": {},
   "outputs": [],
   "source": [
    "download_files()"
   ]
  },
  {
   "cell_type": "code",
   "execution_count": 4,
   "metadata": {},
   "outputs": [],
   "source": [
    "values = []\n",
    "coords = []"
   ]
  },
  {
   "cell_type": "code",
   "execution_count": 5,
   "metadata": {},
   "outputs": [],
   "source": [
    "with gzip.open('nips.tns.gz', 'rb') as f:\n",
    "    for line in f:\n",
    "        data = line.strip().split(b' ')\n",
    "        coords.append([int(i) - 1 for i in data[:-1]])\n",
    "        values.append(float(data[-1]))"
   ]
  },
  {
   "cell_type": "code",
   "execution_count": 6,
   "metadata": {},
   "outputs": [
    {
     "data": {
      "text/plain": [
       "[b'2482', b'2079', b'13967', b'17', b'2']"
      ]
     },
     "execution_count": 6,
     "metadata": {},
     "output_type": "execute_result"
    }
   ],
   "source": [
    "data"
   ]
  },
  {
   "cell_type": "code",
   "execution_count": 7,
   "metadata": {},
   "outputs": [],
   "source": [
    "coords = np.array(coords, dtype=np.int32).T\n",
    "values = np.array(values, dtype=np.float64)"
   ]
  },
  {
   "cell_type": "code",
   "execution_count": 9,
   "metadata": {},
   "outputs": [
    {
     "data": {
      "text/plain": [
       "4"
      ]
     },
     "execution_count": 9,
     "metadata": {},
     "output_type": "execute_result"
    }
   ],
   "source": [
    "len(coords)"
   ]
  },
  {
   "cell_type": "code",
   "execution_count": 34,
   "metadata": {},
   "outputs": [
    {
     "data": {
      "text/plain": [
       "(4, 9304827)"
      ]
     },
     "execution_count": 34,
     "metadata": {},
     "output_type": "execute_result"
    }
   ],
   "source": [
    "coords.shape"
   ]
  },
  {
   "cell_type": "code",
   "execution_count": 26,
   "metadata": {},
   "outputs": [
    {
     "data": {
      "text/plain": [
       "9304827"
      ]
     },
     "execution_count": 26,
     "metadata": {},
     "output_type": "execute_result"
    }
   ],
   "source": [
    "len(values)"
   ]
  },
  {
   "cell_type": "code",
   "execution_count": 35,
   "metadata": {},
   "outputs": [
    {
     "data": {
      "text/plain": [
       "(9304827,)"
      ]
     },
     "execution_count": 35,
     "metadata": {},
     "output_type": "execute_result"
    }
   ],
   "source": [
    "values.shape"
   ]
  },
  {
   "cell_type": "code",
   "execution_count": 27,
   "metadata": {},
   "outputs": [],
   "source": [
    "tensor = sparse.COO(coords, data=values)"
   ]
  },
  {
   "cell_type": "code",
   "execution_count": 37,
   "metadata": {},
   "outputs": [
    {
     "name": "stdout",
     "output_type": "stream",
     "text": [
      "<COO: shape=(2482, 2862, 14036, 17), dtype=float64, nnz=3101609, fill_value=0.0>\n"
     ]
    }
   ],
   "source": [
    "print(tensor)"
   ]
  },
  {
   "cell_type": "code",
   "execution_count": 36,
   "metadata": {},
   "outputs": [
    {
     "data": {
      "text/plain": [
       "0.074438616"
      ]
     },
     "execution_count": 36,
     "metadata": {},
     "output_type": "execute_result"
    }
   ],
   "source": [
    "tensor.nbytes / 1e9  "
   ]
  },
  {
   "cell_type": "code",
   "execution_count": null,
   "metadata": {},
   "outputs": [],
   "source": []
  }
 ],
 "metadata": {
  "kernelspec": {
   "display_name": "london-bss",
   "language": "python",
   "name": "python3"
  },
  "language_info": {
   "codemirror_mode": {
    "name": "ipython",
    "version": 3
   },
   "file_extension": ".py",
   "mimetype": "text/x-python",
   "name": "python",
   "nbconvert_exporter": "python",
   "pygments_lexer": "ipython3",
   "version": "3.10.6"
  },
  "orig_nbformat": 4
 },
 "nbformat": 4,
 "nbformat_minor": 2
}
