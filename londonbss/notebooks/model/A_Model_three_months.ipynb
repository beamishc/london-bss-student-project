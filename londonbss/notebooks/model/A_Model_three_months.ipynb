{
  "nbformat": 4,
  "nbformat_minor": 0,
  "metadata": {
    "colab": {
      "provenance": []
    },
    "kernelspec": {
      "name": "python3",
      "display_name": "Python 3"
    },
    "language_info": {
      "name": "python"
    },
    "accelerator": "TPU"
  },
  "cells": [
    {
      "cell_type": "code",
      "execution_count": 1,
      "metadata": {
        "colab": {
          "base_uri": "https://localhost:8080/"
        },
        "id": "SqZAQj7eJ80T",
        "outputId": "66d43b93-06e2-4b3d-b953-9efb2ad9e915"
      },
      "outputs": [
        {
          "output_type": "stream",
          "name": "stdout",
          "text": [
            "Drive already mounted at /content/drive; to attempt to forcibly remount, call drive.mount(\"/content/drive\", force_remount=True).\n"
          ]
        }
      ],
      "source": [
        "import pandas as pd\n",
        "import numpy as np\n",
        "from bs4 import BeautifulSoup\n",
        "import requests\n",
        "import io\n",
        "from datetime import datetime\n",
        "import matplotlib.pyplot as plt\n",
        "import seaborn as sns\n",
        "from google.colab import drive\n",
        "drive.mount('/content/drive')"
      ]
    },
    {
      "cell_type": "code",
      "source": [
        "import tensorflow as tf"
      ],
      "metadata": {
        "id": "jvFlgdnjKDA6"
      },
      "execution_count": 2,
      "outputs": []
    },
    {
      "cell_type": "code",
      "source": [
        "import os\n",
        "os.chdir('/content/drive/MyDrive/Colab Notebooks')"
      ],
      "metadata": {
        "id": "U2srpE1aKedb"
      },
      "execution_count": 3,
      "outputs": []
    },
    {
      "cell_type": "code",
      "source": [
        "# Factors\n",
        "path_dataset_3d='Tensor_decom_sample/data_3month/factors_folder_3mo/'"
      ],
      "metadata": {
        "id": "ASQrL3yDKjIH"
      },
      "execution_count": 4,
      "outputs": []
    },
    {
      "cell_type": "code",
      "source": [
        "factor_2 = pd.read_csv(path_dataset_3d + \"2.csv\")"
      ],
      "metadata": {
        "id": "UnTTEM9BKkpK"
      },
      "execution_count": 5,
      "outputs": []
    },
    {
      "cell_type": "code",
      "source": [
        "factor_2.shape"
      ],
      "metadata": {
        "colab": {
          "base_uri": "https://localhost:8080/"
        },
        "id": "C-8Vv2iOLa-k",
        "outputId": "e4a905e7-9669-409f-86dd-14d991027971"
      },
      "execution_count": 6,
      "outputs": [
        {
          "output_type": "execute_result",
          "data": {
            "text/plain": [
              "(2175, 36)"
            ]
          },
          "metadata": {},
          "execution_count": 6
        }
      ]
    },
    {
      "cell_type": "code",
      "source": [
        "factor_2.set_index(factor_2.columns[0], inplace=True)\n",
        "factor_2.shape"
      ],
      "metadata": {
        "colab": {
          "base_uri": "https://localhost:8080/"
        },
        "id": "hCJg-3VbLc7n",
        "outputId": "fe9b1943-8da1-49e5-c6f4-5e437c7c30be"
      },
      "execution_count": 7,
      "outputs": [
        {
          "output_type": "execute_result",
          "data": {
            "text/plain": [
              "(2175, 35)"
            ]
          },
          "metadata": {},
          "execution_count": 7
        }
      ]
    },
    {
      "cell_type": "code",
      "source": [
        "# Load features data\n",
        "path_features = 'Tensor_decom_sample/data/'"
      ],
      "metadata": {
        "id": "aWtQ8b5ULg3Z"
      },
      "execution_count": 8,
      "outputs": []
    },
    {
      "cell_type": "code",
      "source": [
        "weather_data = pd.read_csv(path_features + 'final_weather_3month.csv')\n",
        "weather_data.set_index(weather_data.columns[0],inplace=True)"
      ],
      "metadata": {
        "id": "WJUYfVfNMF2U"
      },
      "execution_count": 9,
      "outputs": []
    },
    {
      "cell_type": "code",
      "source": [
        "weather_data.head()"
      ],
      "metadata": {
        "colab": {
          "base_uri": "https://localhost:8080/",
          "height": 477
        },
        "id": "IBvBWkoNMWEo",
        "outputId": "6509d00d-edc7-4ae2-88f8-e92ee4efafd3"
      },
      "execution_count": 10,
      "outputs": [
        {
          "output_type": "execute_result",
          "data": {
            "text/plain": [
              "                      timestamp  temperature  precipitation  rainfall  \\\n",
              "Unnamed: 0                                                              \n",
              "0           2023-01-02 00:00:00          8.1            0.4       0.4   \n",
              "1           2023-01-02 01:00:00          7.8            0.3       0.3   \n",
              "2           2023-01-02 02:00:00          7.5            0.1       0.1   \n",
              "3           2023-01-02 03:00:00          7.3            0.0       0.0   \n",
              "4           2023-01-02 04:00:00          7.1            0.0       0.0   \n",
              "\n",
              "            snowfall  cloudcover  wind_speed  wind_direction      date  \\\n",
              "Unnamed: 0                                                               \n",
              "0                0.0         100         6.6             248  1/2/2023   \n",
              "1                0.0         100         7.2             233  1/2/2023   \n",
              "2                0.0         100        10.4             224  1/2/2023   \n",
              "3                0.0          95        13.6             220  1/2/2023   \n",
              "4                0.0         100        13.8             219  1/2/2023   \n",
              "\n",
              "           sunrise_datetime  ... event_start_date event_end_date  \\\n",
              "Unnamed: 0                   ...                                   \n",
              "0             1/2/2023 9:06  ...         1/2/2023       1/2/2023   \n",
              "1             1/2/2023 9:06  ...         1/2/2023       1/2/2023   \n",
              "2             1/2/2023 9:06  ...         1/2/2023       1/2/2023   \n",
              "3             1/2/2023 9:06  ...         1/2/2023       1/2/2023   \n",
              "4             1/2/2023 9:06  ...         1/2/2023       1/2/2023   \n",
              "\n",
              "           event_location event_latitude event_longitude elisabeth_line  \\\n",
              "Unnamed: 0                                                                \n",
              "0               Hyde Park      51.507388       -0.165571           True   \n",
              "1               Hyde Park      51.507388       -0.165571           True   \n",
              "2               Hyde Park      51.507388       -0.165571           True   \n",
              "3               Hyde Park      51.507388       -0.165571           True   \n",
              "4               Hyde Park      51.507388       -0.165571           True   \n",
              "\n",
              "            lockdown   school_holidays  strike  weekday  \n",
              "Unnamed: 0                                               \n",
              "0              False  winter_half_term     NaN        0  \n",
              "1              False  winter_half_term     NaN        0  \n",
              "2              False  winter_half_term     NaN        0  \n",
              "3              False  winter_half_term     NaN        0  \n",
              "4              False  winter_half_term     NaN        0  \n",
              "\n",
              "[5 rows x 23 columns]"
            ],
            "text/html": [
              "\n",
              "  <div id=\"df-7575972e-84d6-4354-af30-b73696f6b234\" class=\"colab-df-container\">\n",
              "    <div>\n",
              "<style scoped>\n",
              "    .dataframe tbody tr th:only-of-type {\n",
              "        vertical-align: middle;\n",
              "    }\n",
              "\n",
              "    .dataframe tbody tr th {\n",
              "        vertical-align: top;\n",
              "    }\n",
              "\n",
              "    .dataframe thead th {\n",
              "        text-align: right;\n",
              "    }\n",
              "</style>\n",
              "<table border=\"1\" class=\"dataframe\">\n",
              "  <thead>\n",
              "    <tr style=\"text-align: right;\">\n",
              "      <th></th>\n",
              "      <th>timestamp</th>\n",
              "      <th>temperature</th>\n",
              "      <th>precipitation</th>\n",
              "      <th>rainfall</th>\n",
              "      <th>snowfall</th>\n",
              "      <th>cloudcover</th>\n",
              "      <th>wind_speed</th>\n",
              "      <th>wind_direction</th>\n",
              "      <th>date</th>\n",
              "      <th>sunrise_datetime</th>\n",
              "      <th>...</th>\n",
              "      <th>event_start_date</th>\n",
              "      <th>event_end_date</th>\n",
              "      <th>event_location</th>\n",
              "      <th>event_latitude</th>\n",
              "      <th>event_longitude</th>\n",
              "      <th>elisabeth_line</th>\n",
              "      <th>lockdown</th>\n",
              "      <th>school_holidays</th>\n",
              "      <th>strike</th>\n",
              "      <th>weekday</th>\n",
              "    </tr>\n",
              "    <tr>\n",
              "      <th>Unnamed: 0</th>\n",
              "      <th></th>\n",
              "      <th></th>\n",
              "      <th></th>\n",
              "      <th></th>\n",
              "      <th></th>\n",
              "      <th></th>\n",
              "      <th></th>\n",
              "      <th></th>\n",
              "      <th></th>\n",
              "      <th></th>\n",
              "      <th></th>\n",
              "      <th></th>\n",
              "      <th></th>\n",
              "      <th></th>\n",
              "      <th></th>\n",
              "      <th></th>\n",
              "      <th></th>\n",
              "      <th></th>\n",
              "      <th></th>\n",
              "      <th></th>\n",
              "      <th></th>\n",
              "    </tr>\n",
              "  </thead>\n",
              "  <tbody>\n",
              "    <tr>\n",
              "      <th>0</th>\n",
              "      <td>2023-01-02 00:00:00</td>\n",
              "      <td>8.1</td>\n",
              "      <td>0.4</td>\n",
              "      <td>0.4</td>\n",
              "      <td>0.0</td>\n",
              "      <td>100</td>\n",
              "      <td>6.6</td>\n",
              "      <td>248</td>\n",
              "      <td>1/2/2023</td>\n",
              "      <td>1/2/2023 9:06</td>\n",
              "      <td>...</td>\n",
              "      <td>1/2/2023</td>\n",
              "      <td>1/2/2023</td>\n",
              "      <td>Hyde Park</td>\n",
              "      <td>51.507388</td>\n",
              "      <td>-0.165571</td>\n",
              "      <td>True</td>\n",
              "      <td>False</td>\n",
              "      <td>winter_half_term</td>\n",
              "      <td>NaN</td>\n",
              "      <td>0</td>\n",
              "    </tr>\n",
              "    <tr>\n",
              "      <th>1</th>\n",
              "      <td>2023-01-02 01:00:00</td>\n",
              "      <td>7.8</td>\n",
              "      <td>0.3</td>\n",
              "      <td>0.3</td>\n",
              "      <td>0.0</td>\n",
              "      <td>100</td>\n",
              "      <td>7.2</td>\n",
              "      <td>233</td>\n",
              "      <td>1/2/2023</td>\n",
              "      <td>1/2/2023 9:06</td>\n",
              "      <td>...</td>\n",
              "      <td>1/2/2023</td>\n",
              "      <td>1/2/2023</td>\n",
              "      <td>Hyde Park</td>\n",
              "      <td>51.507388</td>\n",
              "      <td>-0.165571</td>\n",
              "      <td>True</td>\n",
              "      <td>False</td>\n",
              "      <td>winter_half_term</td>\n",
              "      <td>NaN</td>\n",
              "      <td>0</td>\n",
              "    </tr>\n",
              "    <tr>\n",
              "      <th>2</th>\n",
              "      <td>2023-01-02 02:00:00</td>\n",
              "      <td>7.5</td>\n",
              "      <td>0.1</td>\n",
              "      <td>0.1</td>\n",
              "      <td>0.0</td>\n",
              "      <td>100</td>\n",
              "      <td>10.4</td>\n",
              "      <td>224</td>\n",
              "      <td>1/2/2023</td>\n",
              "      <td>1/2/2023 9:06</td>\n",
              "      <td>...</td>\n",
              "      <td>1/2/2023</td>\n",
              "      <td>1/2/2023</td>\n",
              "      <td>Hyde Park</td>\n",
              "      <td>51.507388</td>\n",
              "      <td>-0.165571</td>\n",
              "      <td>True</td>\n",
              "      <td>False</td>\n",
              "      <td>winter_half_term</td>\n",
              "      <td>NaN</td>\n",
              "      <td>0</td>\n",
              "    </tr>\n",
              "    <tr>\n",
              "      <th>3</th>\n",
              "      <td>2023-01-02 03:00:00</td>\n",
              "      <td>7.3</td>\n",
              "      <td>0.0</td>\n",
              "      <td>0.0</td>\n",
              "      <td>0.0</td>\n",
              "      <td>95</td>\n",
              "      <td>13.6</td>\n",
              "      <td>220</td>\n",
              "      <td>1/2/2023</td>\n",
              "      <td>1/2/2023 9:06</td>\n",
              "      <td>...</td>\n",
              "      <td>1/2/2023</td>\n",
              "      <td>1/2/2023</td>\n",
              "      <td>Hyde Park</td>\n",
              "      <td>51.507388</td>\n",
              "      <td>-0.165571</td>\n",
              "      <td>True</td>\n",
              "      <td>False</td>\n",
              "      <td>winter_half_term</td>\n",
              "      <td>NaN</td>\n",
              "      <td>0</td>\n",
              "    </tr>\n",
              "    <tr>\n",
              "      <th>4</th>\n",
              "      <td>2023-01-02 04:00:00</td>\n",
              "      <td>7.1</td>\n",
              "      <td>0.0</td>\n",
              "      <td>0.0</td>\n",
              "      <td>0.0</td>\n",
              "      <td>100</td>\n",
              "      <td>13.8</td>\n",
              "      <td>219</td>\n",
              "      <td>1/2/2023</td>\n",
              "      <td>1/2/2023 9:06</td>\n",
              "      <td>...</td>\n",
              "      <td>1/2/2023</td>\n",
              "      <td>1/2/2023</td>\n",
              "      <td>Hyde Park</td>\n",
              "      <td>51.507388</td>\n",
              "      <td>-0.165571</td>\n",
              "      <td>True</td>\n",
              "      <td>False</td>\n",
              "      <td>winter_half_term</td>\n",
              "      <td>NaN</td>\n",
              "      <td>0</td>\n",
              "    </tr>\n",
              "  </tbody>\n",
              "</table>\n",
              "<p>5 rows × 23 columns</p>\n",
              "</div>\n",
              "    <div class=\"colab-df-buttons\">\n",
              "\n",
              "  <div class=\"colab-df-container\">\n",
              "    <button class=\"colab-df-convert\" onclick=\"convertToInteractive('df-7575972e-84d6-4354-af30-b73696f6b234')\"\n",
              "            title=\"Convert this dataframe to an interactive table.\"\n",
              "            style=\"display:none;\">\n",
              "\n",
              "  <svg xmlns=\"http://www.w3.org/2000/svg\" height=\"24px\" viewBox=\"0 -960 960 960\">\n",
              "    <path d=\"M120-120v-720h720v720H120Zm60-500h600v-160H180v160Zm220 220h160v-160H400v160Zm0 220h160v-160H400v160ZM180-400h160v-160H180v160Zm440 0h160v-160H620v160ZM180-180h160v-160H180v160Zm440 0h160v-160H620v160Z\"/>\n",
              "  </svg>\n",
              "    </button>\n",
              "\n",
              "  <style>\n",
              "    .colab-df-container {\n",
              "      display:flex;\n",
              "      gap: 12px;\n",
              "    }\n",
              "\n",
              "    .colab-df-convert {\n",
              "      background-color: #E8F0FE;\n",
              "      border: none;\n",
              "      border-radius: 50%;\n",
              "      cursor: pointer;\n",
              "      display: none;\n",
              "      fill: #1967D2;\n",
              "      height: 32px;\n",
              "      padding: 0 0 0 0;\n",
              "      width: 32px;\n",
              "    }\n",
              "\n",
              "    .colab-df-convert:hover {\n",
              "      background-color: #E2EBFA;\n",
              "      box-shadow: 0px 1px 2px rgba(60, 64, 67, 0.3), 0px 1px 3px 1px rgba(60, 64, 67, 0.15);\n",
              "      fill: #174EA6;\n",
              "    }\n",
              "\n",
              "    .colab-df-buttons div {\n",
              "      margin-bottom: 4px;\n",
              "    }\n",
              "\n",
              "    [theme=dark] .colab-df-convert {\n",
              "      background-color: #3B4455;\n",
              "      fill: #D2E3FC;\n",
              "    }\n",
              "\n",
              "    [theme=dark] .colab-df-convert:hover {\n",
              "      background-color: #434B5C;\n",
              "      box-shadow: 0px 1px 3px 1px rgba(0, 0, 0, 0.15);\n",
              "      filter: drop-shadow(0px 1px 2px rgba(0, 0, 0, 0.3));\n",
              "      fill: #FFFFFF;\n",
              "    }\n",
              "  </style>\n",
              "\n",
              "    <script>\n",
              "      const buttonEl =\n",
              "        document.querySelector('#df-7575972e-84d6-4354-af30-b73696f6b234 button.colab-df-convert');\n",
              "      buttonEl.style.display =\n",
              "        google.colab.kernel.accessAllowed ? 'block' : 'none';\n",
              "\n",
              "      async function convertToInteractive(key) {\n",
              "        const element = document.querySelector('#df-7575972e-84d6-4354-af30-b73696f6b234');\n",
              "        const dataTable =\n",
              "          await google.colab.kernel.invokeFunction('convertToInteractive',\n",
              "                                                    [key], {});\n",
              "        if (!dataTable) return;\n",
              "\n",
              "        const docLinkHtml = 'Like what you see? Visit the ' +\n",
              "          '<a target=\"_blank\" href=https://colab.research.google.com/notebooks/data_table.ipynb>data table notebook</a>'\n",
              "          + ' to learn more about interactive tables.';\n",
              "        element.innerHTML = '';\n",
              "        dataTable['output_type'] = 'display_data';\n",
              "        await google.colab.output.renderOutput(dataTable, element);\n",
              "        const docLink = document.createElement('div');\n",
              "        docLink.innerHTML = docLinkHtml;\n",
              "        element.appendChild(docLink);\n",
              "      }\n",
              "    </script>\n",
              "  </div>\n",
              "\n",
              "\n",
              "<div id=\"df-8e93778d-68d3-4a12-ba3f-718bd81ef796\">\n",
              "  <button class=\"colab-df-quickchart\" onclick=\"quickchart('df-8e93778d-68d3-4a12-ba3f-718bd81ef796')\"\n",
              "            title=\"Suggest charts.\"\n",
              "            style=\"display:none;\">\n",
              "\n",
              "<svg xmlns=\"http://www.w3.org/2000/svg\" height=\"24px\"viewBox=\"0 0 24 24\"\n",
              "     width=\"24px\">\n",
              "    <g>\n",
              "        <path d=\"M19 3H5c-1.1 0-2 .9-2 2v14c0 1.1.9 2 2 2h14c1.1 0 2-.9 2-2V5c0-1.1-.9-2-2-2zM9 17H7v-7h2v7zm4 0h-2V7h2v10zm4 0h-2v-4h2v4z\"/>\n",
              "    </g>\n",
              "</svg>\n",
              "  </button>\n",
              "\n",
              "<style>\n",
              "  .colab-df-quickchart {\n",
              "      --bg-color: #E8F0FE;\n",
              "      --fill-color: #1967D2;\n",
              "      --hover-bg-color: #E2EBFA;\n",
              "      --hover-fill-color: #174EA6;\n",
              "      --disabled-fill-color: #AAA;\n",
              "      --disabled-bg-color: #DDD;\n",
              "  }\n",
              "\n",
              "  [theme=dark] .colab-df-quickchart {\n",
              "      --bg-color: #3B4455;\n",
              "      --fill-color: #D2E3FC;\n",
              "      --hover-bg-color: #434B5C;\n",
              "      --hover-fill-color: #FFFFFF;\n",
              "      --disabled-bg-color: #3B4455;\n",
              "      --disabled-fill-color: #666;\n",
              "  }\n",
              "\n",
              "  .colab-df-quickchart {\n",
              "    background-color: var(--bg-color);\n",
              "    border: none;\n",
              "    border-radius: 50%;\n",
              "    cursor: pointer;\n",
              "    display: none;\n",
              "    fill: var(--fill-color);\n",
              "    height: 32px;\n",
              "    padding: 0;\n",
              "    width: 32px;\n",
              "  }\n",
              "\n",
              "  .colab-df-quickchart:hover {\n",
              "    background-color: var(--hover-bg-color);\n",
              "    box-shadow: 0 1px 2px rgba(60, 64, 67, 0.3), 0 1px 3px 1px rgba(60, 64, 67, 0.15);\n",
              "    fill: var(--button-hover-fill-color);\n",
              "  }\n",
              "\n",
              "  .colab-df-quickchart-complete:disabled,\n",
              "  .colab-df-quickchart-complete:disabled:hover {\n",
              "    background-color: var(--disabled-bg-color);\n",
              "    fill: var(--disabled-fill-color);\n",
              "    box-shadow: none;\n",
              "  }\n",
              "\n",
              "  .colab-df-spinner {\n",
              "    border: 2px solid var(--fill-color);\n",
              "    border-color: transparent;\n",
              "    border-bottom-color: var(--fill-color);\n",
              "    animation:\n",
              "      spin 1s steps(1) infinite;\n",
              "  }\n",
              "\n",
              "  @keyframes spin {\n",
              "    0% {\n",
              "      border-color: transparent;\n",
              "      border-bottom-color: var(--fill-color);\n",
              "      border-left-color: var(--fill-color);\n",
              "    }\n",
              "    20% {\n",
              "      border-color: transparent;\n",
              "      border-left-color: var(--fill-color);\n",
              "      border-top-color: var(--fill-color);\n",
              "    }\n",
              "    30% {\n",
              "      border-color: transparent;\n",
              "      border-left-color: var(--fill-color);\n",
              "      border-top-color: var(--fill-color);\n",
              "      border-right-color: var(--fill-color);\n",
              "    }\n",
              "    40% {\n",
              "      border-color: transparent;\n",
              "      border-right-color: var(--fill-color);\n",
              "      border-top-color: var(--fill-color);\n",
              "    }\n",
              "    60% {\n",
              "      border-color: transparent;\n",
              "      border-right-color: var(--fill-color);\n",
              "    }\n",
              "    80% {\n",
              "      border-color: transparent;\n",
              "      border-right-color: var(--fill-color);\n",
              "      border-bottom-color: var(--fill-color);\n",
              "    }\n",
              "    90% {\n",
              "      border-color: transparent;\n",
              "      border-bottom-color: var(--fill-color);\n",
              "    }\n",
              "  }\n",
              "</style>\n",
              "\n",
              "  <script>\n",
              "    async function quickchart(key) {\n",
              "      const quickchartButtonEl =\n",
              "        document.querySelector('#' + key + ' button');\n",
              "      quickchartButtonEl.disabled = true;  // To prevent multiple clicks.\n",
              "      quickchartButtonEl.classList.add('colab-df-spinner');\n",
              "      try {\n",
              "        const charts = await google.colab.kernel.invokeFunction(\n",
              "            'suggestCharts', [key], {});\n",
              "      } catch (error) {\n",
              "        console.error('Error during call to suggestCharts:', error);\n",
              "      }\n",
              "      quickchartButtonEl.classList.remove('colab-df-spinner');\n",
              "      quickchartButtonEl.classList.add('colab-df-quickchart-complete');\n",
              "    }\n",
              "    (() => {\n",
              "      let quickchartButtonEl =\n",
              "        document.querySelector('#df-8e93778d-68d3-4a12-ba3f-718bd81ef796 button');\n",
              "      quickchartButtonEl.style.display =\n",
              "        google.colab.kernel.accessAllowed ? 'block' : 'none';\n",
              "    })();\n",
              "  </script>\n",
              "</div>\n",
              "    </div>\n",
              "  </div>\n"
            ]
          },
          "metadata": {},
          "execution_count": 10
        }
      ]
    },
    {
      "cell_type": "code",
      "source": [
        "weather_data.dtypes"
      ],
      "metadata": {
        "colab": {
          "base_uri": "https://localhost:8080/"
        },
        "id": "dtUdhPRlMX0s",
        "outputId": "f492f577-9b76-4404-fd70-9e74a12e9930"
      },
      "execution_count": 11,
      "outputs": [
        {
          "output_type": "execute_result",
          "data": {
            "text/plain": [
              "timestamp            object\n",
              "temperature         float64\n",
              "precipitation       float64\n",
              "rainfall            float64\n",
              "snowfall            float64\n",
              "cloudcover            int64\n",
              "wind_speed          float64\n",
              "wind_direction        int64\n",
              "date                 object\n",
              "sunrise_datetime     object\n",
              "sunset_datetime      object\n",
              "encoding             object\n",
              "event_title          object\n",
              "event_start_date     object\n",
              "event_end_date       object\n",
              "event_location       object\n",
              "event_latitude      float64\n",
              "event_longitude     float64\n",
              "elisabeth_line         bool\n",
              "lockdown               bool\n",
              "school_holidays      object\n",
              "strike               object\n",
              "weekday               int64\n",
              "dtype: object"
            ]
          },
          "metadata": {},
          "execution_count": 11
        }
      ]
    },
    {
      "cell_type": "code",
      "source": [
        "#Cleaning Data\n",
        "weather_data.drop(columns=['date','sunrise_datetime','sunset_datetime','event_start_date','event_end_date'], inplace=True)\n",
        "weather_data.rename(columns={'encoding':'daylight'}, inplace=True)"
      ],
      "metadata": {
        "id": "IVUPTeuJM9o9"
      },
      "execution_count": 12,
      "outputs": []
    },
    {
      "cell_type": "code",
      "source": [
        "weather_data.info()"
      ],
      "metadata": {
        "colab": {
          "base_uri": "https://localhost:8080/"
        },
        "id": "wolCoHHsNbCs",
        "outputId": "24b8c485-0a35-469e-af76-d5009534fc33"
      },
      "execution_count": 13,
      "outputs": [
        {
          "output_type": "stream",
          "name": "stdout",
          "text": [
            "<class 'pandas.core.frame.DataFrame'>\n",
            "Int64Index: 2175 entries, 0 to 2174\n",
            "Data columns (total 18 columns):\n",
            " #   Column           Non-Null Count  Dtype  \n",
            "---  ------           --------------  -----  \n",
            " 0   timestamp        2175 non-null   object \n",
            " 1   temperature      2175 non-null   float64\n",
            " 2   precipitation    2175 non-null   float64\n",
            " 3   rainfall         2175 non-null   float64\n",
            " 4   snowfall         2175 non-null   float64\n",
            " 5   cloudcover       2175 non-null   int64  \n",
            " 6   wind_speed       2175 non-null   float64\n",
            " 7   wind_direction   2175 non-null   int64  \n",
            " 8   daylight         2175 non-null   object \n",
            " 9   event_title      24 non-null     object \n",
            " 10  event_location   24 non-null     object \n",
            " 11  event_latitude   24 non-null     float64\n",
            " 12  event_longitude  24 non-null     float64\n",
            " 13  elisabeth_line   2175 non-null   bool   \n",
            " 14  lockdown         2175 non-null   bool   \n",
            " 15  school_holidays  285 non-null    object \n",
            " 16  strike           360 non-null    object \n",
            " 17  weekday          2175 non-null   int64  \n",
            "dtypes: bool(2), float64(7), int64(3), object(6)\n",
            "memory usage: 293.1+ KB\n"
          ]
        }
      ]
    },
    {
      "cell_type": "code",
      "source": [
        "weather_data['timestamp'] = weather_data['timestamp'].apply(lambda x : datetime.strptime(x,'%Y-%m-%d %H:%M:%S'))"
      ],
      "metadata": {
        "id": "-goBkFQtTYKD"
      },
      "execution_count": 14,
      "outputs": []
    },
    {
      "cell_type": "code",
      "source": [
        "weather_data['month'] = weather_data['timestamp'].apply(lambda x: x.month)\n",
        "weather_data['hour'] = weather_data['timestamp'].apply(lambda x: x.hour)"
      ],
      "metadata": {
        "id": "jAHzg7cFNf-E"
      },
      "execution_count": 15,
      "outputs": []
    },
    {
      "cell_type": "code",
      "source": [
        "weather_data.info()"
      ],
      "metadata": {
        "colab": {
          "base_uri": "https://localhost:8080/"
        },
        "id": "DtmNHBigT7Zn",
        "outputId": "1abf75ee-0ab2-43ce-95e0-87c262aa4d87"
      },
      "execution_count": 16,
      "outputs": [
        {
          "output_type": "stream",
          "name": "stdout",
          "text": [
            "<class 'pandas.core.frame.DataFrame'>\n",
            "Int64Index: 2175 entries, 0 to 2174\n",
            "Data columns (total 20 columns):\n",
            " #   Column           Non-Null Count  Dtype         \n",
            "---  ------           --------------  -----         \n",
            " 0   timestamp        2175 non-null   datetime64[ns]\n",
            " 1   temperature      2175 non-null   float64       \n",
            " 2   precipitation    2175 non-null   float64       \n",
            " 3   rainfall         2175 non-null   float64       \n",
            " 4   snowfall         2175 non-null   float64       \n",
            " 5   cloudcover       2175 non-null   int64         \n",
            " 6   wind_speed       2175 non-null   float64       \n",
            " 7   wind_direction   2175 non-null   int64         \n",
            " 8   daylight         2175 non-null   object        \n",
            " 9   event_title      24 non-null     object        \n",
            " 10  event_location   24 non-null     object        \n",
            " 11  event_latitude   24 non-null     float64       \n",
            " 12  event_longitude  24 non-null     float64       \n",
            " 13  elisabeth_line   2175 non-null   bool          \n",
            " 14  lockdown         2175 non-null   bool          \n",
            " 15  school_holidays  285 non-null    object        \n",
            " 16  strike           360 non-null    object        \n",
            " 17  weekday          2175 non-null   int64         \n",
            " 18  month            2175 non-null   int64         \n",
            " 19  hour             2175 non-null   int64         \n",
            "dtypes: bool(2), datetime64[ns](1), float64(7), int64(5), object(5)\n",
            "memory usage: 327.1+ KB\n"
          ]
        }
      ]
    },
    {
      "cell_type": "code",
      "source": [
        "#Dropping lat & lon as of now\n",
        "features = weather_data.drop(columns=['timestamp','event_latitude','event_longitude'])"
      ],
      "metadata": {
        "id": "Y1ek-k_xO5YE"
      },
      "execution_count": 17,
      "outputs": []
    },
    {
      "cell_type": "code",
      "source": [
        "features.info()"
      ],
      "metadata": {
        "colab": {
          "base_uri": "https://localhost:8080/"
        },
        "id": "atyOwvWlR7Ph",
        "outputId": "457a6107-6426-4a53-862f-9a7016ef68d2"
      },
      "execution_count": 18,
      "outputs": [
        {
          "output_type": "stream",
          "name": "stdout",
          "text": [
            "<class 'pandas.core.frame.DataFrame'>\n",
            "Int64Index: 2175 entries, 0 to 2174\n",
            "Data columns (total 17 columns):\n",
            " #   Column           Non-Null Count  Dtype  \n",
            "---  ------           --------------  -----  \n",
            " 0   temperature      2175 non-null   float64\n",
            " 1   precipitation    2175 non-null   float64\n",
            " 2   rainfall         2175 non-null   float64\n",
            " 3   snowfall         2175 non-null   float64\n",
            " 4   cloudcover       2175 non-null   int64  \n",
            " 5   wind_speed       2175 non-null   float64\n",
            " 6   wind_direction   2175 non-null   int64  \n",
            " 7   daylight         2175 non-null   object \n",
            " 8   event_title      24 non-null     object \n",
            " 9   event_location   24 non-null     object \n",
            " 10  elisabeth_line   2175 non-null   bool   \n",
            " 11  lockdown         2175 non-null   bool   \n",
            " 12  school_holidays  285 non-null    object \n",
            " 13  strike           360 non-null    object \n",
            " 14  weekday          2175 non-null   int64  \n",
            " 15  month            2175 non-null   int64  \n",
            " 16  hour             2175 non-null   int64  \n",
            "dtypes: bool(2), float64(5), int64(5), object(5)\n",
            "memory usage: 276.1+ KB\n"
          ]
        }
      ]
    },
    {
      "cell_type": "code",
      "source": [
        "#Filling NA values\n",
        "features['event_title'] = features['event_title'].fillna('No_Event')\n",
        "features['event_location'] = features['event_location'].fillna('No_Location')\n",
        "features['school_holidays'] = features['school_holidays'].fillna('school_term')\n",
        "features['strike'] = features['strike'].fillna('no_strike')"
      ],
      "metadata": {
        "id": "SO49ennmUt4J"
      },
      "execution_count": 19,
      "outputs": []
    },
    {
      "cell_type": "code",
      "source": [
        "features.info()"
      ],
      "metadata": {
        "colab": {
          "base_uri": "https://localhost:8080/"
        },
        "id": "mVzcjANSVIth",
        "outputId": "a41d07c6-5558-463d-ed5e-eb1d51b106ac"
      },
      "execution_count": 20,
      "outputs": [
        {
          "output_type": "stream",
          "name": "stdout",
          "text": [
            "<class 'pandas.core.frame.DataFrame'>\n",
            "Int64Index: 2175 entries, 0 to 2174\n",
            "Data columns (total 17 columns):\n",
            " #   Column           Non-Null Count  Dtype  \n",
            "---  ------           --------------  -----  \n",
            " 0   temperature      2175 non-null   float64\n",
            " 1   precipitation    2175 non-null   float64\n",
            " 2   rainfall         2175 non-null   float64\n",
            " 3   snowfall         2175 non-null   float64\n",
            " 4   cloudcover       2175 non-null   int64  \n",
            " 5   wind_speed       2175 non-null   float64\n",
            " 6   wind_direction   2175 non-null   int64  \n",
            " 7   daylight         2175 non-null   object \n",
            " 8   event_title      2175 non-null   object \n",
            " 9   event_location   2175 non-null   object \n",
            " 10  elisabeth_line   2175 non-null   bool   \n",
            " 11  lockdown         2175 non-null   bool   \n",
            " 12  school_holidays  2175 non-null   object \n",
            " 13  strike           2175 non-null   object \n",
            " 14  weekday          2175 non-null   int64  \n",
            " 15  month            2175 non-null   int64  \n",
            " 16  hour             2175 non-null   int64  \n",
            "dtypes: bool(2), float64(5), int64(5), object(5)\n",
            "memory usage: 276.1+ KB\n"
          ]
        }
      ]
    },
    {
      "cell_type": "code",
      "source": [
        "# Scaling\n",
        "from sklearn.preprocessing import StandardScaler"
      ],
      "metadata": {
        "id": "erq93rl0VMpn"
      },
      "execution_count": 21,
      "outputs": []
    },
    {
      "cell_type": "code",
      "source": [
        "columns_scaling = ['temperature', 'precipitation', 'rainfall', 'snowfall', 'cloudcover','wind_speed', 'wind_direction']\n",
        "scaler = StandardScaler()\n",
        "scaler.fit(features[columns_scaling])\n",
        "features[columns_scaling] = scaler.transform(features[columns_scaling])"
      ],
      "metadata": {
        "id": "Z9xx9aH4WRWU"
      },
      "execution_count": 22,
      "outputs": []
    },
    {
      "cell_type": "code",
      "source": [
        "features.head()"
      ],
      "metadata": {
        "colab": {
          "base_uri": "https://localhost:8080/",
          "height": 361
        },
        "id": "xQj6WVJwVwYp",
        "outputId": "4a5fea02-fc3b-491e-c201-e5c6a3303784"
      },
      "execution_count": 23,
      "outputs": [
        {
          "output_type": "execute_result",
          "data": {
            "text/plain": [
              "            temperature  precipitation  rainfall  snowfall  cloudcover  \\\n",
              "Unnamed: 0                                                               \n",
              "0              0.516812       1.402752  1.490698 -0.087814    0.959138   \n",
              "1              0.441843       0.964707  1.030606 -0.087814    0.959138   \n",
              "2              0.366873       0.088616  0.110422 -0.087814    0.959138   \n",
              "3              0.316894      -0.349429 -0.349670 -0.087814    0.818127   \n",
              "4              0.266914      -0.349429 -0.349670 -0.087814    0.959138   \n",
              "\n",
              "            wind_speed  wind_direction   daylight        event_title  \\\n",
              "Unnamed: 0                                                             \n",
              "0            -1.177432        0.457910  nighttime  Winter Wonderland   \n",
              "1            -1.101724        0.302944  nighttime  Winter Wonderland   \n",
              "2            -0.697947        0.209965  nighttime  Winter Wonderland   \n",
              "3            -0.294171        0.168641  nighttime  Winter Wonderland   \n",
              "4            -0.268935        0.158309  nighttime  Winter Wonderland   \n",
              "\n",
              "           event_location  elisabeth_line  lockdown   school_holidays  \\\n",
              "Unnamed: 0                                                              \n",
              "0               Hyde Park            True     False  winter_half_term   \n",
              "1               Hyde Park            True     False  winter_half_term   \n",
              "2               Hyde Park            True     False  winter_half_term   \n",
              "3               Hyde Park            True     False  winter_half_term   \n",
              "4               Hyde Park            True     False  winter_half_term   \n",
              "\n",
              "               strike  weekday  month  hour  \n",
              "Unnamed: 0                                   \n",
              "0           no_strike        0      1     0  \n",
              "1           no_strike        0      1     1  \n",
              "2           no_strike        0      1     2  \n",
              "3           no_strike        0      1     3  \n",
              "4           no_strike        0      1     4  "
            ],
            "text/html": [
              "\n",
              "  <div id=\"df-4c5a62c4-bebd-4264-a989-094f4e44950c\" class=\"colab-df-container\">\n",
              "    <div>\n",
              "<style scoped>\n",
              "    .dataframe tbody tr th:only-of-type {\n",
              "        vertical-align: middle;\n",
              "    }\n",
              "\n",
              "    .dataframe tbody tr th {\n",
              "        vertical-align: top;\n",
              "    }\n",
              "\n",
              "    .dataframe thead th {\n",
              "        text-align: right;\n",
              "    }\n",
              "</style>\n",
              "<table border=\"1\" class=\"dataframe\">\n",
              "  <thead>\n",
              "    <tr style=\"text-align: right;\">\n",
              "      <th></th>\n",
              "      <th>temperature</th>\n",
              "      <th>precipitation</th>\n",
              "      <th>rainfall</th>\n",
              "      <th>snowfall</th>\n",
              "      <th>cloudcover</th>\n",
              "      <th>wind_speed</th>\n",
              "      <th>wind_direction</th>\n",
              "      <th>daylight</th>\n",
              "      <th>event_title</th>\n",
              "      <th>event_location</th>\n",
              "      <th>elisabeth_line</th>\n",
              "      <th>lockdown</th>\n",
              "      <th>school_holidays</th>\n",
              "      <th>strike</th>\n",
              "      <th>weekday</th>\n",
              "      <th>month</th>\n",
              "      <th>hour</th>\n",
              "    </tr>\n",
              "    <tr>\n",
              "      <th>Unnamed: 0</th>\n",
              "      <th></th>\n",
              "      <th></th>\n",
              "      <th></th>\n",
              "      <th></th>\n",
              "      <th></th>\n",
              "      <th></th>\n",
              "      <th></th>\n",
              "      <th></th>\n",
              "      <th></th>\n",
              "      <th></th>\n",
              "      <th></th>\n",
              "      <th></th>\n",
              "      <th></th>\n",
              "      <th></th>\n",
              "      <th></th>\n",
              "      <th></th>\n",
              "      <th></th>\n",
              "    </tr>\n",
              "  </thead>\n",
              "  <tbody>\n",
              "    <tr>\n",
              "      <th>0</th>\n",
              "      <td>0.516812</td>\n",
              "      <td>1.402752</td>\n",
              "      <td>1.490698</td>\n",
              "      <td>-0.087814</td>\n",
              "      <td>0.959138</td>\n",
              "      <td>-1.177432</td>\n",
              "      <td>0.457910</td>\n",
              "      <td>nighttime</td>\n",
              "      <td>Winter Wonderland</td>\n",
              "      <td>Hyde Park</td>\n",
              "      <td>True</td>\n",
              "      <td>False</td>\n",
              "      <td>winter_half_term</td>\n",
              "      <td>no_strike</td>\n",
              "      <td>0</td>\n",
              "      <td>1</td>\n",
              "      <td>0</td>\n",
              "    </tr>\n",
              "    <tr>\n",
              "      <th>1</th>\n",
              "      <td>0.441843</td>\n",
              "      <td>0.964707</td>\n",
              "      <td>1.030606</td>\n",
              "      <td>-0.087814</td>\n",
              "      <td>0.959138</td>\n",
              "      <td>-1.101724</td>\n",
              "      <td>0.302944</td>\n",
              "      <td>nighttime</td>\n",
              "      <td>Winter Wonderland</td>\n",
              "      <td>Hyde Park</td>\n",
              "      <td>True</td>\n",
              "      <td>False</td>\n",
              "      <td>winter_half_term</td>\n",
              "      <td>no_strike</td>\n",
              "      <td>0</td>\n",
              "      <td>1</td>\n",
              "      <td>1</td>\n",
              "    </tr>\n",
              "    <tr>\n",
              "      <th>2</th>\n",
              "      <td>0.366873</td>\n",
              "      <td>0.088616</td>\n",
              "      <td>0.110422</td>\n",
              "      <td>-0.087814</td>\n",
              "      <td>0.959138</td>\n",
              "      <td>-0.697947</td>\n",
              "      <td>0.209965</td>\n",
              "      <td>nighttime</td>\n",
              "      <td>Winter Wonderland</td>\n",
              "      <td>Hyde Park</td>\n",
              "      <td>True</td>\n",
              "      <td>False</td>\n",
              "      <td>winter_half_term</td>\n",
              "      <td>no_strike</td>\n",
              "      <td>0</td>\n",
              "      <td>1</td>\n",
              "      <td>2</td>\n",
              "    </tr>\n",
              "    <tr>\n",
              "      <th>3</th>\n",
              "      <td>0.316894</td>\n",
              "      <td>-0.349429</td>\n",
              "      <td>-0.349670</td>\n",
              "      <td>-0.087814</td>\n",
              "      <td>0.818127</td>\n",
              "      <td>-0.294171</td>\n",
              "      <td>0.168641</td>\n",
              "      <td>nighttime</td>\n",
              "      <td>Winter Wonderland</td>\n",
              "      <td>Hyde Park</td>\n",
              "      <td>True</td>\n",
              "      <td>False</td>\n",
              "      <td>winter_half_term</td>\n",
              "      <td>no_strike</td>\n",
              "      <td>0</td>\n",
              "      <td>1</td>\n",
              "      <td>3</td>\n",
              "    </tr>\n",
              "    <tr>\n",
              "      <th>4</th>\n",
              "      <td>0.266914</td>\n",
              "      <td>-0.349429</td>\n",
              "      <td>-0.349670</td>\n",
              "      <td>-0.087814</td>\n",
              "      <td>0.959138</td>\n",
              "      <td>-0.268935</td>\n",
              "      <td>0.158309</td>\n",
              "      <td>nighttime</td>\n",
              "      <td>Winter Wonderland</td>\n",
              "      <td>Hyde Park</td>\n",
              "      <td>True</td>\n",
              "      <td>False</td>\n",
              "      <td>winter_half_term</td>\n",
              "      <td>no_strike</td>\n",
              "      <td>0</td>\n",
              "      <td>1</td>\n",
              "      <td>4</td>\n",
              "    </tr>\n",
              "  </tbody>\n",
              "</table>\n",
              "</div>\n",
              "    <div class=\"colab-df-buttons\">\n",
              "\n",
              "  <div class=\"colab-df-container\">\n",
              "    <button class=\"colab-df-convert\" onclick=\"convertToInteractive('df-4c5a62c4-bebd-4264-a989-094f4e44950c')\"\n",
              "            title=\"Convert this dataframe to an interactive table.\"\n",
              "            style=\"display:none;\">\n",
              "\n",
              "  <svg xmlns=\"http://www.w3.org/2000/svg\" height=\"24px\" viewBox=\"0 -960 960 960\">\n",
              "    <path d=\"M120-120v-720h720v720H120Zm60-500h600v-160H180v160Zm220 220h160v-160H400v160Zm0 220h160v-160H400v160ZM180-400h160v-160H180v160Zm440 0h160v-160H620v160ZM180-180h160v-160H180v160Zm440 0h160v-160H620v160Z\"/>\n",
              "  </svg>\n",
              "    </button>\n",
              "\n",
              "  <style>\n",
              "    .colab-df-container {\n",
              "      display:flex;\n",
              "      gap: 12px;\n",
              "    }\n",
              "\n",
              "    .colab-df-convert {\n",
              "      background-color: #E8F0FE;\n",
              "      border: none;\n",
              "      border-radius: 50%;\n",
              "      cursor: pointer;\n",
              "      display: none;\n",
              "      fill: #1967D2;\n",
              "      height: 32px;\n",
              "      padding: 0 0 0 0;\n",
              "      width: 32px;\n",
              "    }\n",
              "\n",
              "    .colab-df-convert:hover {\n",
              "      background-color: #E2EBFA;\n",
              "      box-shadow: 0px 1px 2px rgba(60, 64, 67, 0.3), 0px 1px 3px 1px rgba(60, 64, 67, 0.15);\n",
              "      fill: #174EA6;\n",
              "    }\n",
              "\n",
              "    .colab-df-buttons div {\n",
              "      margin-bottom: 4px;\n",
              "    }\n",
              "\n",
              "    [theme=dark] .colab-df-convert {\n",
              "      background-color: #3B4455;\n",
              "      fill: #D2E3FC;\n",
              "    }\n",
              "\n",
              "    [theme=dark] .colab-df-convert:hover {\n",
              "      background-color: #434B5C;\n",
              "      box-shadow: 0px 1px 3px 1px rgba(0, 0, 0, 0.15);\n",
              "      filter: drop-shadow(0px 1px 2px rgba(0, 0, 0, 0.3));\n",
              "      fill: #FFFFFF;\n",
              "    }\n",
              "  </style>\n",
              "\n",
              "    <script>\n",
              "      const buttonEl =\n",
              "        document.querySelector('#df-4c5a62c4-bebd-4264-a989-094f4e44950c button.colab-df-convert');\n",
              "      buttonEl.style.display =\n",
              "        google.colab.kernel.accessAllowed ? 'block' : 'none';\n",
              "\n",
              "      async function convertToInteractive(key) {\n",
              "        const element = document.querySelector('#df-4c5a62c4-bebd-4264-a989-094f4e44950c');\n",
              "        const dataTable =\n",
              "          await google.colab.kernel.invokeFunction('convertToInteractive',\n",
              "                                                    [key], {});\n",
              "        if (!dataTable) return;\n",
              "\n",
              "        const docLinkHtml = 'Like what you see? Visit the ' +\n",
              "          '<a target=\"_blank\" href=https://colab.research.google.com/notebooks/data_table.ipynb>data table notebook</a>'\n",
              "          + ' to learn more about interactive tables.';\n",
              "        element.innerHTML = '';\n",
              "        dataTable['output_type'] = 'display_data';\n",
              "        await google.colab.output.renderOutput(dataTable, element);\n",
              "        const docLink = document.createElement('div');\n",
              "        docLink.innerHTML = docLinkHtml;\n",
              "        element.appendChild(docLink);\n",
              "      }\n",
              "    </script>\n",
              "  </div>\n",
              "\n",
              "\n",
              "<div id=\"df-08f4333a-e86a-4876-8595-132a8034f55b\">\n",
              "  <button class=\"colab-df-quickchart\" onclick=\"quickchart('df-08f4333a-e86a-4876-8595-132a8034f55b')\"\n",
              "            title=\"Suggest charts.\"\n",
              "            style=\"display:none;\">\n",
              "\n",
              "<svg xmlns=\"http://www.w3.org/2000/svg\" height=\"24px\"viewBox=\"0 0 24 24\"\n",
              "     width=\"24px\">\n",
              "    <g>\n",
              "        <path d=\"M19 3H5c-1.1 0-2 .9-2 2v14c0 1.1.9 2 2 2h14c1.1 0 2-.9 2-2V5c0-1.1-.9-2-2-2zM9 17H7v-7h2v7zm4 0h-2V7h2v10zm4 0h-2v-4h2v4z\"/>\n",
              "    </g>\n",
              "</svg>\n",
              "  </button>\n",
              "\n",
              "<style>\n",
              "  .colab-df-quickchart {\n",
              "      --bg-color: #E8F0FE;\n",
              "      --fill-color: #1967D2;\n",
              "      --hover-bg-color: #E2EBFA;\n",
              "      --hover-fill-color: #174EA6;\n",
              "      --disabled-fill-color: #AAA;\n",
              "      --disabled-bg-color: #DDD;\n",
              "  }\n",
              "\n",
              "  [theme=dark] .colab-df-quickchart {\n",
              "      --bg-color: #3B4455;\n",
              "      --fill-color: #D2E3FC;\n",
              "      --hover-bg-color: #434B5C;\n",
              "      --hover-fill-color: #FFFFFF;\n",
              "      --disabled-bg-color: #3B4455;\n",
              "      --disabled-fill-color: #666;\n",
              "  }\n",
              "\n",
              "  .colab-df-quickchart {\n",
              "    background-color: var(--bg-color);\n",
              "    border: none;\n",
              "    border-radius: 50%;\n",
              "    cursor: pointer;\n",
              "    display: none;\n",
              "    fill: var(--fill-color);\n",
              "    height: 32px;\n",
              "    padding: 0;\n",
              "    width: 32px;\n",
              "  }\n",
              "\n",
              "  .colab-df-quickchart:hover {\n",
              "    background-color: var(--hover-bg-color);\n",
              "    box-shadow: 0 1px 2px rgba(60, 64, 67, 0.3), 0 1px 3px 1px rgba(60, 64, 67, 0.15);\n",
              "    fill: var(--button-hover-fill-color);\n",
              "  }\n",
              "\n",
              "  .colab-df-quickchart-complete:disabled,\n",
              "  .colab-df-quickchart-complete:disabled:hover {\n",
              "    background-color: var(--disabled-bg-color);\n",
              "    fill: var(--disabled-fill-color);\n",
              "    box-shadow: none;\n",
              "  }\n",
              "\n",
              "  .colab-df-spinner {\n",
              "    border: 2px solid var(--fill-color);\n",
              "    border-color: transparent;\n",
              "    border-bottom-color: var(--fill-color);\n",
              "    animation:\n",
              "      spin 1s steps(1) infinite;\n",
              "  }\n",
              "\n",
              "  @keyframes spin {\n",
              "    0% {\n",
              "      border-color: transparent;\n",
              "      border-bottom-color: var(--fill-color);\n",
              "      border-left-color: var(--fill-color);\n",
              "    }\n",
              "    20% {\n",
              "      border-color: transparent;\n",
              "      border-left-color: var(--fill-color);\n",
              "      border-top-color: var(--fill-color);\n",
              "    }\n",
              "    30% {\n",
              "      border-color: transparent;\n",
              "      border-left-color: var(--fill-color);\n",
              "      border-top-color: var(--fill-color);\n",
              "      border-right-color: var(--fill-color);\n",
              "    }\n",
              "    40% {\n",
              "      border-color: transparent;\n",
              "      border-right-color: var(--fill-color);\n",
              "      border-top-color: var(--fill-color);\n",
              "    }\n",
              "    60% {\n",
              "      border-color: transparent;\n",
              "      border-right-color: var(--fill-color);\n",
              "    }\n",
              "    80% {\n",
              "      border-color: transparent;\n",
              "      border-right-color: var(--fill-color);\n",
              "      border-bottom-color: var(--fill-color);\n",
              "    }\n",
              "    90% {\n",
              "      border-color: transparent;\n",
              "      border-bottom-color: var(--fill-color);\n",
              "    }\n",
              "  }\n",
              "</style>\n",
              "\n",
              "  <script>\n",
              "    async function quickchart(key) {\n",
              "      const quickchartButtonEl =\n",
              "        document.querySelector('#' + key + ' button');\n",
              "      quickchartButtonEl.disabled = true;  // To prevent multiple clicks.\n",
              "      quickchartButtonEl.classList.add('colab-df-spinner');\n",
              "      try {\n",
              "        const charts = await google.colab.kernel.invokeFunction(\n",
              "            'suggestCharts', [key], {});\n",
              "      } catch (error) {\n",
              "        console.error('Error during call to suggestCharts:', error);\n",
              "      }\n",
              "      quickchartButtonEl.classList.remove('colab-df-spinner');\n",
              "      quickchartButtonEl.classList.add('colab-df-quickchart-complete');\n",
              "    }\n",
              "    (() => {\n",
              "      let quickchartButtonEl =\n",
              "        document.querySelector('#df-08f4333a-e86a-4876-8595-132a8034f55b button');\n",
              "      quickchartButtonEl.style.display =\n",
              "        google.colab.kernel.accessAllowed ? 'block' : 'none';\n",
              "    })();\n",
              "  </script>\n",
              "</div>\n",
              "    </div>\n",
              "  </div>\n"
            ]
          },
          "metadata": {},
          "execution_count": 23
        }
      ]
    },
    {
      "cell_type": "code",
      "source": [
        "# Encoding\n",
        "from sklearn.preprocessing import OrdinalEncoder\n",
        "from sklearn.preprocessing import OneHotEncoder"
      ],
      "metadata": {
        "id": "LTNgnarJVyC0"
      },
      "execution_count": 24,
      "outputs": []
    },
    {
      "cell_type": "code",
      "source": [
        "#Columns\n",
        "columns_ordinal_encoding = [\"daylight\",'lockdown','elisabeth_line']\n",
        "# Instantiate the Ordinal Encoder\n",
        "ordinal_encoder = OrdinalEncoder()\n",
        "# Fit it\n",
        "ordinal_encoder.fit(features[columns_ordinal_encoding])\n",
        "features[columns_ordinal_encoding] = ordinal_encoder.transform(features[columns_ordinal_encoding])"
      ],
      "metadata": {
        "id": "bECTdmQPW-9G"
      },
      "execution_count": 25,
      "outputs": []
    },
    {
      "cell_type": "code",
      "source": [
        "features.head()"
      ],
      "metadata": {
        "colab": {
          "base_uri": "https://localhost:8080/",
          "height": 361
        },
        "id": "9RLgrWmXXPyQ",
        "outputId": "be5404e9-8d62-4698-a902-fa801b2b34c0"
      },
      "execution_count": 26,
      "outputs": [
        {
          "output_type": "execute_result",
          "data": {
            "text/plain": [
              "            temperature  precipitation  rainfall  snowfall  cloudcover  \\\n",
              "Unnamed: 0                                                               \n",
              "0              0.516812       1.402752  1.490698 -0.087814    0.959138   \n",
              "1              0.441843       0.964707  1.030606 -0.087814    0.959138   \n",
              "2              0.366873       0.088616  0.110422 -0.087814    0.959138   \n",
              "3              0.316894      -0.349429 -0.349670 -0.087814    0.818127   \n",
              "4              0.266914      -0.349429 -0.349670 -0.087814    0.959138   \n",
              "\n",
              "            wind_speed  wind_direction  daylight        event_title  \\\n",
              "Unnamed: 0                                                            \n",
              "0            -1.177432        0.457910       1.0  Winter Wonderland   \n",
              "1            -1.101724        0.302944       1.0  Winter Wonderland   \n",
              "2            -0.697947        0.209965       1.0  Winter Wonderland   \n",
              "3            -0.294171        0.168641       1.0  Winter Wonderland   \n",
              "4            -0.268935        0.158309       1.0  Winter Wonderland   \n",
              "\n",
              "           event_location  elisabeth_line  lockdown   school_holidays  \\\n",
              "Unnamed: 0                                                              \n",
              "0               Hyde Park             0.0       0.0  winter_half_term   \n",
              "1               Hyde Park             0.0       0.0  winter_half_term   \n",
              "2               Hyde Park             0.0       0.0  winter_half_term   \n",
              "3               Hyde Park             0.0       0.0  winter_half_term   \n",
              "4               Hyde Park             0.0       0.0  winter_half_term   \n",
              "\n",
              "               strike  weekday  month  hour  \n",
              "Unnamed: 0                                   \n",
              "0           no_strike        0      1     0  \n",
              "1           no_strike        0      1     1  \n",
              "2           no_strike        0      1     2  \n",
              "3           no_strike        0      1     3  \n",
              "4           no_strike        0      1     4  "
            ],
            "text/html": [
              "\n",
              "  <div id=\"df-48eaa408-75f4-4b66-9ca0-576b482f9d53\" class=\"colab-df-container\">\n",
              "    <div>\n",
              "<style scoped>\n",
              "    .dataframe tbody tr th:only-of-type {\n",
              "        vertical-align: middle;\n",
              "    }\n",
              "\n",
              "    .dataframe tbody tr th {\n",
              "        vertical-align: top;\n",
              "    }\n",
              "\n",
              "    .dataframe thead th {\n",
              "        text-align: right;\n",
              "    }\n",
              "</style>\n",
              "<table border=\"1\" class=\"dataframe\">\n",
              "  <thead>\n",
              "    <tr style=\"text-align: right;\">\n",
              "      <th></th>\n",
              "      <th>temperature</th>\n",
              "      <th>precipitation</th>\n",
              "      <th>rainfall</th>\n",
              "      <th>snowfall</th>\n",
              "      <th>cloudcover</th>\n",
              "      <th>wind_speed</th>\n",
              "      <th>wind_direction</th>\n",
              "      <th>daylight</th>\n",
              "      <th>event_title</th>\n",
              "      <th>event_location</th>\n",
              "      <th>elisabeth_line</th>\n",
              "      <th>lockdown</th>\n",
              "      <th>school_holidays</th>\n",
              "      <th>strike</th>\n",
              "      <th>weekday</th>\n",
              "      <th>month</th>\n",
              "      <th>hour</th>\n",
              "    </tr>\n",
              "    <tr>\n",
              "      <th>Unnamed: 0</th>\n",
              "      <th></th>\n",
              "      <th></th>\n",
              "      <th></th>\n",
              "      <th></th>\n",
              "      <th></th>\n",
              "      <th></th>\n",
              "      <th></th>\n",
              "      <th></th>\n",
              "      <th></th>\n",
              "      <th></th>\n",
              "      <th></th>\n",
              "      <th></th>\n",
              "      <th></th>\n",
              "      <th></th>\n",
              "      <th></th>\n",
              "      <th></th>\n",
              "      <th></th>\n",
              "    </tr>\n",
              "  </thead>\n",
              "  <tbody>\n",
              "    <tr>\n",
              "      <th>0</th>\n",
              "      <td>0.516812</td>\n",
              "      <td>1.402752</td>\n",
              "      <td>1.490698</td>\n",
              "      <td>-0.087814</td>\n",
              "      <td>0.959138</td>\n",
              "      <td>-1.177432</td>\n",
              "      <td>0.457910</td>\n",
              "      <td>1.0</td>\n",
              "      <td>Winter Wonderland</td>\n",
              "      <td>Hyde Park</td>\n",
              "      <td>0.0</td>\n",
              "      <td>0.0</td>\n",
              "      <td>winter_half_term</td>\n",
              "      <td>no_strike</td>\n",
              "      <td>0</td>\n",
              "      <td>1</td>\n",
              "      <td>0</td>\n",
              "    </tr>\n",
              "    <tr>\n",
              "      <th>1</th>\n",
              "      <td>0.441843</td>\n",
              "      <td>0.964707</td>\n",
              "      <td>1.030606</td>\n",
              "      <td>-0.087814</td>\n",
              "      <td>0.959138</td>\n",
              "      <td>-1.101724</td>\n",
              "      <td>0.302944</td>\n",
              "      <td>1.0</td>\n",
              "      <td>Winter Wonderland</td>\n",
              "      <td>Hyde Park</td>\n",
              "      <td>0.0</td>\n",
              "      <td>0.0</td>\n",
              "      <td>winter_half_term</td>\n",
              "      <td>no_strike</td>\n",
              "      <td>0</td>\n",
              "      <td>1</td>\n",
              "      <td>1</td>\n",
              "    </tr>\n",
              "    <tr>\n",
              "      <th>2</th>\n",
              "      <td>0.366873</td>\n",
              "      <td>0.088616</td>\n",
              "      <td>0.110422</td>\n",
              "      <td>-0.087814</td>\n",
              "      <td>0.959138</td>\n",
              "      <td>-0.697947</td>\n",
              "      <td>0.209965</td>\n",
              "      <td>1.0</td>\n",
              "      <td>Winter Wonderland</td>\n",
              "      <td>Hyde Park</td>\n",
              "      <td>0.0</td>\n",
              "      <td>0.0</td>\n",
              "      <td>winter_half_term</td>\n",
              "      <td>no_strike</td>\n",
              "      <td>0</td>\n",
              "      <td>1</td>\n",
              "      <td>2</td>\n",
              "    </tr>\n",
              "    <tr>\n",
              "      <th>3</th>\n",
              "      <td>0.316894</td>\n",
              "      <td>-0.349429</td>\n",
              "      <td>-0.349670</td>\n",
              "      <td>-0.087814</td>\n",
              "      <td>0.818127</td>\n",
              "      <td>-0.294171</td>\n",
              "      <td>0.168641</td>\n",
              "      <td>1.0</td>\n",
              "      <td>Winter Wonderland</td>\n",
              "      <td>Hyde Park</td>\n",
              "      <td>0.0</td>\n",
              "      <td>0.0</td>\n",
              "      <td>winter_half_term</td>\n",
              "      <td>no_strike</td>\n",
              "      <td>0</td>\n",
              "      <td>1</td>\n",
              "      <td>3</td>\n",
              "    </tr>\n",
              "    <tr>\n",
              "      <th>4</th>\n",
              "      <td>0.266914</td>\n",
              "      <td>-0.349429</td>\n",
              "      <td>-0.349670</td>\n",
              "      <td>-0.087814</td>\n",
              "      <td>0.959138</td>\n",
              "      <td>-0.268935</td>\n",
              "      <td>0.158309</td>\n",
              "      <td>1.0</td>\n",
              "      <td>Winter Wonderland</td>\n",
              "      <td>Hyde Park</td>\n",
              "      <td>0.0</td>\n",
              "      <td>0.0</td>\n",
              "      <td>winter_half_term</td>\n",
              "      <td>no_strike</td>\n",
              "      <td>0</td>\n",
              "      <td>1</td>\n",
              "      <td>4</td>\n",
              "    </tr>\n",
              "  </tbody>\n",
              "</table>\n",
              "</div>\n",
              "    <div class=\"colab-df-buttons\">\n",
              "\n",
              "  <div class=\"colab-df-container\">\n",
              "    <button class=\"colab-df-convert\" onclick=\"convertToInteractive('df-48eaa408-75f4-4b66-9ca0-576b482f9d53')\"\n",
              "            title=\"Convert this dataframe to an interactive table.\"\n",
              "            style=\"display:none;\">\n",
              "\n",
              "  <svg xmlns=\"http://www.w3.org/2000/svg\" height=\"24px\" viewBox=\"0 -960 960 960\">\n",
              "    <path d=\"M120-120v-720h720v720H120Zm60-500h600v-160H180v160Zm220 220h160v-160H400v160Zm0 220h160v-160H400v160ZM180-400h160v-160H180v160Zm440 0h160v-160H620v160ZM180-180h160v-160H180v160Zm440 0h160v-160H620v160Z\"/>\n",
              "  </svg>\n",
              "    </button>\n",
              "\n",
              "  <style>\n",
              "    .colab-df-container {\n",
              "      display:flex;\n",
              "      gap: 12px;\n",
              "    }\n",
              "\n",
              "    .colab-df-convert {\n",
              "      background-color: #E8F0FE;\n",
              "      border: none;\n",
              "      border-radius: 50%;\n",
              "      cursor: pointer;\n",
              "      display: none;\n",
              "      fill: #1967D2;\n",
              "      height: 32px;\n",
              "      padding: 0 0 0 0;\n",
              "      width: 32px;\n",
              "    }\n",
              "\n",
              "    .colab-df-convert:hover {\n",
              "      background-color: #E2EBFA;\n",
              "      box-shadow: 0px 1px 2px rgba(60, 64, 67, 0.3), 0px 1px 3px 1px rgba(60, 64, 67, 0.15);\n",
              "      fill: #174EA6;\n",
              "    }\n",
              "\n",
              "    .colab-df-buttons div {\n",
              "      margin-bottom: 4px;\n",
              "    }\n",
              "\n",
              "    [theme=dark] .colab-df-convert {\n",
              "      background-color: #3B4455;\n",
              "      fill: #D2E3FC;\n",
              "    }\n",
              "\n",
              "    [theme=dark] .colab-df-convert:hover {\n",
              "      background-color: #434B5C;\n",
              "      box-shadow: 0px 1px 3px 1px rgba(0, 0, 0, 0.15);\n",
              "      filter: drop-shadow(0px 1px 2px rgba(0, 0, 0, 0.3));\n",
              "      fill: #FFFFFF;\n",
              "    }\n",
              "  </style>\n",
              "\n",
              "    <script>\n",
              "      const buttonEl =\n",
              "        document.querySelector('#df-48eaa408-75f4-4b66-9ca0-576b482f9d53 button.colab-df-convert');\n",
              "      buttonEl.style.display =\n",
              "        google.colab.kernel.accessAllowed ? 'block' : 'none';\n",
              "\n",
              "      async function convertToInteractive(key) {\n",
              "        const element = document.querySelector('#df-48eaa408-75f4-4b66-9ca0-576b482f9d53');\n",
              "        const dataTable =\n",
              "          await google.colab.kernel.invokeFunction('convertToInteractive',\n",
              "                                                    [key], {});\n",
              "        if (!dataTable) return;\n",
              "\n",
              "        const docLinkHtml = 'Like what you see? Visit the ' +\n",
              "          '<a target=\"_blank\" href=https://colab.research.google.com/notebooks/data_table.ipynb>data table notebook</a>'\n",
              "          + ' to learn more about interactive tables.';\n",
              "        element.innerHTML = '';\n",
              "        dataTable['output_type'] = 'display_data';\n",
              "        await google.colab.output.renderOutput(dataTable, element);\n",
              "        const docLink = document.createElement('div');\n",
              "        docLink.innerHTML = docLinkHtml;\n",
              "        element.appendChild(docLink);\n",
              "      }\n",
              "    </script>\n",
              "  </div>\n",
              "\n",
              "\n",
              "<div id=\"df-fcef2d89-0455-4d0f-9b92-cdc9bceb1b1f\">\n",
              "  <button class=\"colab-df-quickchart\" onclick=\"quickchart('df-fcef2d89-0455-4d0f-9b92-cdc9bceb1b1f')\"\n",
              "            title=\"Suggest charts.\"\n",
              "            style=\"display:none;\">\n",
              "\n",
              "<svg xmlns=\"http://www.w3.org/2000/svg\" height=\"24px\"viewBox=\"0 0 24 24\"\n",
              "     width=\"24px\">\n",
              "    <g>\n",
              "        <path d=\"M19 3H5c-1.1 0-2 .9-2 2v14c0 1.1.9 2 2 2h14c1.1 0 2-.9 2-2V5c0-1.1-.9-2-2-2zM9 17H7v-7h2v7zm4 0h-2V7h2v10zm4 0h-2v-4h2v4z\"/>\n",
              "    </g>\n",
              "</svg>\n",
              "  </button>\n",
              "\n",
              "<style>\n",
              "  .colab-df-quickchart {\n",
              "      --bg-color: #E8F0FE;\n",
              "      --fill-color: #1967D2;\n",
              "      --hover-bg-color: #E2EBFA;\n",
              "      --hover-fill-color: #174EA6;\n",
              "      --disabled-fill-color: #AAA;\n",
              "      --disabled-bg-color: #DDD;\n",
              "  }\n",
              "\n",
              "  [theme=dark] .colab-df-quickchart {\n",
              "      --bg-color: #3B4455;\n",
              "      --fill-color: #D2E3FC;\n",
              "      --hover-bg-color: #434B5C;\n",
              "      --hover-fill-color: #FFFFFF;\n",
              "      --disabled-bg-color: #3B4455;\n",
              "      --disabled-fill-color: #666;\n",
              "  }\n",
              "\n",
              "  .colab-df-quickchart {\n",
              "    background-color: var(--bg-color);\n",
              "    border: none;\n",
              "    border-radius: 50%;\n",
              "    cursor: pointer;\n",
              "    display: none;\n",
              "    fill: var(--fill-color);\n",
              "    height: 32px;\n",
              "    padding: 0;\n",
              "    width: 32px;\n",
              "  }\n",
              "\n",
              "  .colab-df-quickchart:hover {\n",
              "    background-color: var(--hover-bg-color);\n",
              "    box-shadow: 0 1px 2px rgba(60, 64, 67, 0.3), 0 1px 3px 1px rgba(60, 64, 67, 0.15);\n",
              "    fill: var(--button-hover-fill-color);\n",
              "  }\n",
              "\n",
              "  .colab-df-quickchart-complete:disabled,\n",
              "  .colab-df-quickchart-complete:disabled:hover {\n",
              "    background-color: var(--disabled-bg-color);\n",
              "    fill: var(--disabled-fill-color);\n",
              "    box-shadow: none;\n",
              "  }\n",
              "\n",
              "  .colab-df-spinner {\n",
              "    border: 2px solid var(--fill-color);\n",
              "    border-color: transparent;\n",
              "    border-bottom-color: var(--fill-color);\n",
              "    animation:\n",
              "      spin 1s steps(1) infinite;\n",
              "  }\n",
              "\n",
              "  @keyframes spin {\n",
              "    0% {\n",
              "      border-color: transparent;\n",
              "      border-bottom-color: var(--fill-color);\n",
              "      border-left-color: var(--fill-color);\n",
              "    }\n",
              "    20% {\n",
              "      border-color: transparent;\n",
              "      border-left-color: var(--fill-color);\n",
              "      border-top-color: var(--fill-color);\n",
              "    }\n",
              "    30% {\n",
              "      border-color: transparent;\n",
              "      border-left-color: var(--fill-color);\n",
              "      border-top-color: var(--fill-color);\n",
              "      border-right-color: var(--fill-color);\n",
              "    }\n",
              "    40% {\n",
              "      border-color: transparent;\n",
              "      border-right-color: var(--fill-color);\n",
              "      border-top-color: var(--fill-color);\n",
              "    }\n",
              "    60% {\n",
              "      border-color: transparent;\n",
              "      border-right-color: var(--fill-color);\n",
              "    }\n",
              "    80% {\n",
              "      border-color: transparent;\n",
              "      border-right-color: var(--fill-color);\n",
              "      border-bottom-color: var(--fill-color);\n",
              "    }\n",
              "    90% {\n",
              "      border-color: transparent;\n",
              "      border-bottom-color: var(--fill-color);\n",
              "    }\n",
              "  }\n",
              "</style>\n",
              "\n",
              "  <script>\n",
              "    async function quickchart(key) {\n",
              "      const quickchartButtonEl =\n",
              "        document.querySelector('#' + key + ' button');\n",
              "      quickchartButtonEl.disabled = true;  // To prevent multiple clicks.\n",
              "      quickchartButtonEl.classList.add('colab-df-spinner');\n",
              "      try {\n",
              "        const charts = await google.colab.kernel.invokeFunction(\n",
              "            'suggestCharts', [key], {});\n",
              "      } catch (error) {\n",
              "        console.error('Error during call to suggestCharts:', error);\n",
              "      }\n",
              "      quickchartButtonEl.classList.remove('colab-df-spinner');\n",
              "      quickchartButtonEl.classList.add('colab-df-quickchart-complete');\n",
              "    }\n",
              "    (() => {\n",
              "      let quickchartButtonEl =\n",
              "        document.querySelector('#df-fcef2d89-0455-4d0f-9b92-cdc9bceb1b1f button');\n",
              "      quickchartButtonEl.style.display =\n",
              "        google.colab.kernel.accessAllowed ? 'block' : 'none';\n",
              "    })();\n",
              "  </script>\n",
              "</div>\n",
              "    </div>\n",
              "  </div>\n"
            ]
          },
          "metadata": {},
          "execution_count": 26
        }
      ]
    },
    {
      "cell_type": "code",
      "source": [
        "#Columns\n",
        "columns_onehot_encoding = ['event_title','event_location','school_holidays','strike']\n",
        "# Instantiate the OneHotEncoder\n",
        "ohe = OneHotEncoder(sparse = False)\n",
        "# Fit encoder\n",
        "ohe.fit(features[['event_title']])\n",
        "features[ohe.get_feature_names_out()] = ohe.transform(features[['event_title']])"
      ],
      "metadata": {
        "colab": {
          "base_uri": "https://localhost:8080/"
        },
        "id": "_RaAUw9WXR4v",
        "outputId": "527453ed-3252-416b-9b17-93546374f019"
      },
      "execution_count": 27,
      "outputs": [
        {
          "output_type": "stream",
          "name": "stderr",
          "text": [
            "/usr/local/lib/python3.10/dist-packages/sklearn/preprocessing/_encoders.py:868: FutureWarning: `sparse` was renamed to `sparse_output` in version 1.2 and will be removed in 1.4. `sparse_output` is ignored unless you leave `sparse` to its default value.\n",
            "  warnings.warn(\n"
          ]
        }
      ]
    },
    {
      "cell_type": "code",
      "source": [
        "# Instantiate the OneHotEncoder\n",
        "ohe = OneHotEncoder(sparse = False)\n",
        "# Fit encoder\n",
        "ohe.fit(features[['event_location']])\n",
        "features[ohe.get_feature_names_out()] = ohe.transform(features[['event_location']])\n",
        "\n",
        "# Instantiate the OneHotEncoder\n",
        "ohe = OneHotEncoder(sparse = False)\n",
        "# Fit encoder\n",
        "ohe.fit(features[['school_holidays']])\n",
        "features[ohe.get_feature_names_out()] = ohe.transform(features[['school_holidays']])\n",
        "\n",
        "# Instantiate the OneHotEncoder\n",
        "ohe = OneHotEncoder(sparse = False)\n",
        "# Fit encoder\n",
        "ohe.fit(features[['strike']])\n",
        "features[ohe.get_feature_names_out()] = ohe.transform(features[['strike']])"
      ],
      "metadata": {
        "colab": {
          "base_uri": "https://localhost:8080/"
        },
        "id": "ydxtzpeuYnfV",
        "outputId": "ba20c379-4a21-474e-f096-dc1917794220"
      },
      "execution_count": 28,
      "outputs": [
        {
          "output_type": "stream",
          "name": "stderr",
          "text": [
            "/usr/local/lib/python3.10/dist-packages/sklearn/preprocessing/_encoders.py:868: FutureWarning: `sparse` was renamed to `sparse_output` in version 1.2 and will be removed in 1.4. `sparse_output` is ignored unless you leave `sparse` to its default value.\n",
            "  warnings.warn(\n",
            "/usr/local/lib/python3.10/dist-packages/sklearn/preprocessing/_encoders.py:868: FutureWarning: `sparse` was renamed to `sparse_output` in version 1.2 and will be removed in 1.4. `sparse_output` is ignored unless you leave `sparse` to its default value.\n",
            "  warnings.warn(\n",
            "/usr/local/lib/python3.10/dist-packages/sklearn/preprocessing/_encoders.py:868: FutureWarning: `sparse` was renamed to `sparse_output` in version 1.2 and will be removed in 1.4. `sparse_output` is ignored unless you leave `sparse` to its default value.\n",
            "  warnings.warn(\n"
          ]
        }
      ]
    },
    {
      "cell_type": "code",
      "source": [
        "features.info()"
      ],
      "metadata": {
        "colab": {
          "base_uri": "https://localhost:8080/"
        },
        "id": "N8h_nGR7ZCcb",
        "outputId": "8587700b-4b2c-4baf-bae1-22f217b62056"
      },
      "execution_count": 29,
      "outputs": [
        {
          "output_type": "stream",
          "name": "stdout",
          "text": [
            "<class 'pandas.core.frame.DataFrame'>\n",
            "Int64Index: 2175 entries, 0 to 2174\n",
            "Data columns (total 27 columns):\n",
            " #   Column                            Non-Null Count  Dtype  \n",
            "---  ------                            --------------  -----  \n",
            " 0   temperature                       2175 non-null   float64\n",
            " 1   precipitation                     2175 non-null   float64\n",
            " 2   rainfall                          2175 non-null   float64\n",
            " 3   snowfall                          2175 non-null   float64\n",
            " 4   cloudcover                        2175 non-null   float64\n",
            " 5   wind_speed                        2175 non-null   float64\n",
            " 6   wind_direction                    2175 non-null   float64\n",
            " 7   daylight                          2175 non-null   float64\n",
            " 8   event_title                       2175 non-null   object \n",
            " 9   event_location                    2175 non-null   object \n",
            " 10  elisabeth_line                    2175 non-null   float64\n",
            " 11  lockdown                          2175 non-null   float64\n",
            " 12  school_holidays                   2175 non-null   object \n",
            " 13  strike                            2175 non-null   object \n",
            " 14  weekday                           2175 non-null   int64  \n",
            " 15  month                             2175 non-null   int64  \n",
            " 16  hour                              2175 non-null   int64  \n",
            " 17  event_title_No_Event              2175 non-null   float64\n",
            " 18  event_title_Winter Wonderland     2175 non-null   float64\n",
            " 19  event_location_Hyde Park          2175 non-null   float64\n",
            " 20  event_location_No_Location        2175 non-null   float64\n",
            " 21  school_holidays_school_term       2175 non-null   float64\n",
            " 22  school_holidays_spring_half_term  2175 non-null   float64\n",
            " 23  school_holidays_winter_half_term  2175 non-null   float64\n",
            " 24  strike_no_strike                  2175 non-null   float64\n",
            " 25  strike_train                      2175 non-null   float64\n",
            " 26  strike_tube                       2175 non-null   float64\n",
            "dtypes: float64(20), int64(3), object(4)\n",
            "memory usage: 475.8+ KB\n"
          ]
        }
      ]
    },
    {
      "cell_type": "code",
      "source": [
        "final_features = features.drop(columns=columns_onehot_encoding)"
      ],
      "metadata": {
        "id": "fxC2OXk9ZDsL"
      },
      "execution_count": 30,
      "outputs": []
    },
    {
      "cell_type": "code",
      "source": [
        "final_features.info()"
      ],
      "metadata": {
        "colab": {
          "base_uri": "https://localhost:8080/"
        },
        "id": "MJOTWlqwZX7H",
        "outputId": "d88874ef-26e3-4457-d335-0c7fa5b35c9b"
      },
      "execution_count": 31,
      "outputs": [
        {
          "output_type": "stream",
          "name": "stdout",
          "text": [
            "<class 'pandas.core.frame.DataFrame'>\n",
            "Int64Index: 2175 entries, 0 to 2174\n",
            "Data columns (total 23 columns):\n",
            " #   Column                            Non-Null Count  Dtype  \n",
            "---  ------                            --------------  -----  \n",
            " 0   temperature                       2175 non-null   float64\n",
            " 1   precipitation                     2175 non-null   float64\n",
            " 2   rainfall                          2175 non-null   float64\n",
            " 3   snowfall                          2175 non-null   float64\n",
            " 4   cloudcover                        2175 non-null   float64\n",
            " 5   wind_speed                        2175 non-null   float64\n",
            " 6   wind_direction                    2175 non-null   float64\n",
            " 7   daylight                          2175 non-null   float64\n",
            " 8   elisabeth_line                    2175 non-null   float64\n",
            " 9   lockdown                          2175 non-null   float64\n",
            " 10  weekday                           2175 non-null   int64  \n",
            " 11  month                             2175 non-null   int64  \n",
            " 12  hour                              2175 non-null   int64  \n",
            " 13  event_title_No_Event              2175 non-null   float64\n",
            " 14  event_title_Winter Wonderland     2175 non-null   float64\n",
            " 15  event_location_Hyde Park          2175 non-null   float64\n",
            " 16  event_location_No_Location        2175 non-null   float64\n",
            " 17  school_holidays_school_term       2175 non-null   float64\n",
            " 18  school_holidays_spring_half_term  2175 non-null   float64\n",
            " 19  school_holidays_winter_half_term  2175 non-null   float64\n",
            " 20  strike_no_strike                  2175 non-null   float64\n",
            " 21  strike_train                      2175 non-null   float64\n",
            " 22  strike_tube                       2175 non-null   float64\n",
            "dtypes: float64(20), int64(3)\n",
            "memory usage: 407.8 KB\n"
          ]
        }
      ]
    },
    {
      "cell_type": "code",
      "source": [
        "final_features.drop(columns=['strike_no_strike'], inplace=True)"
      ],
      "metadata": {
        "id": "VmsDTgb5uPlE"
      },
      "execution_count": 32,
      "outputs": []
    },
    {
      "cell_type": "code",
      "source": [
        "final_features.drop(columns=['event_title_No_Event'], inplace=True)"
      ],
      "metadata": {
        "id": "nru9Zk6ev1kX"
      },
      "execution_count": 34,
      "outputs": []
    },
    {
      "cell_type": "code",
      "source": [
        "final_features.drop(columns=['event_location_No_Location'], inplace=True)"
      ],
      "metadata": {
        "id": "zsvLgq1Tv8Ul"
      },
      "execution_count": 36,
      "outputs": []
    },
    {
      "cell_type": "code",
      "source": [
        "# Heatmap of pairwise correlations\n",
        "correlation_matrix = final_features.corr()\n",
        "column_names = correlation_matrix.columns\n",
        "sns.heatmap(correlation_matrix, xticklabels=column_names, yticklabels=column_names,cmap= \"bwr\");"
      ],
      "metadata": {
        "colab": {
          "base_uri": "https://localhost:8080/",
          "height": 655
        },
        "id": "ad8gFUasZnmK",
        "outputId": "adf662de-fcaf-430d-da28-c710d0bc0f93"
      },
      "execution_count": 37,
      "outputs": [
        {
          "output_type": "display_data",
          "data": {
            "text/plain": [
              "<Figure size 640x480 with 2 Axes>"
            ],
            "image/png": "[encoded data removed]"
          },
          "metadata": {}
        }
      ]
    },
    {
      "cell_type": "code",
      "source": [
        "final_features.shape"
      ],
      "metadata": {
        "colab": {
          "base_uri": "https://localhost:8080/"
        },
        "id": "UzOTjThnZ9aQ",
        "outputId": "14e19da3-e855-4ef1-8543-27c8733af20e"
      },
      "execution_count": 47,
      "outputs": [
        {
          "output_type": "execute_result",
          "data": {
            "text/plain": [
              "(2175, 23)"
            ]
          },
          "metadata": {},
          "execution_count": 47
        }
      ]
    },
    {
      "cell_type": "code",
      "source": [
        "factor_2.shape"
      ],
      "metadata": {
        "colab": {
          "base_uri": "https://localhost:8080/"
        },
        "id": "deoZg0EnaOi9",
        "outputId": "2f3cdf08-6471-40c5-e0a4-20d5be57976c"
      },
      "execution_count": 48,
      "outputs": [
        {
          "output_type": "execute_result",
          "data": {
            "text/plain": [
              "(2175, 35)"
            ]
          },
          "metadata": {},
          "execution_count": 48
        }
      ]
    },
    {
      "cell_type": "code",
      "source": [
        "y = factor_2"
      ],
      "metadata": {
        "id": "wN_cHHtyaUNT"
      },
      "execution_count": 49,
      "outputs": []
    },
    {
      "cell_type": "code",
      "source": [
        "y.shape"
      ],
      "metadata": {
        "colab": {
          "base_uri": "https://localhost:8080/"
        },
        "id": "BxUhW6Zhe-2c",
        "outputId": "7b4a6e9b-89b7-4066-a59a-e4e8b8cdcaf8"
      },
      "execution_count": 50,
      "outputs": [
        {
          "output_type": "execute_result",
          "data": {
            "text/plain": [
              "(2175, 35)"
            ]
          },
          "metadata": {},
          "execution_count": 50
        }
      ]
    },
    {
      "cell_type": "code",
      "source": [
        "X = final_features"
      ],
      "metadata": {
        "id": "5TFKBp6XfYnC"
      },
      "execution_count": 51,
      "outputs": []
    },
    {
      "cell_type": "code",
      "source": [
        "X.shape"
      ],
      "metadata": {
        "colab": {
          "base_uri": "https://localhost:8080/"
        },
        "id": "M848rBqlfk5p",
        "outputId": "b70764ef-112a-4859-84bc-f7a33cefcf1c"
      },
      "execution_count": 52,
      "outputs": [
        {
          "output_type": "execute_result",
          "data": {
            "text/plain": [
              "(2175, 23)"
            ]
          },
          "metadata": {},
          "execution_count": 52
        }
      ]
    },
    {
      "cell_type": "code",
      "source": [
        "from sklearn.model_selection import train_test_split\n",
        "\n",
        "X_train, X_test, y_train, y_test = train_test_split(X, y, test_size=0.20)"
      ],
      "metadata": {
        "id": "vt0oaLQHfmBJ"
      },
      "execution_count": 53,
      "outputs": []
    },
    {
      "cell_type": "code",
      "source": [
        "X_train =  X_train.to_numpy()\n",
        "X_test = X_test.to_numpy()\n",
        "y_train = y_train.to_numpy()\n",
        "y_test =  y_test.to_numpy()"
      ],
      "metadata": {
        "id": "2e1-ydZdfpq5"
      },
      "execution_count": 54,
      "outputs": []
    },
    {
      "cell_type": "code",
      "source": [
        "X_train = X_train.reshape((X_train.shape[0], 1, X_train.shape[1]))\n",
        "X_test = X_test.reshape((X_test.shape[0], 1, X_test.shape[1]))"
      ],
      "metadata": {
        "id": "LyKK08DHgDWP"
      },
      "execution_count": 55,
      "outputs": []
    },
    {
      "cell_type": "code",
      "source": [
        "# 0- Imports\n",
        "from tensorflow.keras.optimizers import Adam\n",
        "from tensorflow.keras import layers, models\n",
        "from tensorflow.keras.layers import Normalization\n",
        "from tensorflow.keras.models import Sequential\n",
        "from tensorflow.keras.layers import Dense, SimpleRNN, Flatten"
      ],
      "metadata": {
        "id": "dDzmBBuvgGLV"
      },
      "execution_count": 56,
      "outputs": []
    },
    {
      "cell_type": "code",
      "source": [
        "# 1- RNN Architecture\n",
        "model = Sequential()\n",
        "model.add(layers.LSTM(units=1000, activation='tanh',input_shape=(X_train.shape[1],X_train.shape[2])))\n",
        "model.add(layers.Dense(800))\n",
        "model.add(layers.Dense(600))\n",
        "model.add(layers.Dense(450))\n",
        "model.add(layers.Dense(230))\n",
        "model.add(layers.Dense(90))\n",
        "model.add(layers.Dense(35, activation=\"linear\"))"
      ],
      "metadata": {
        "id": "G1xY9tTogIWm"
      },
      "execution_count": 57,
      "outputs": []
    },
    {
      "cell_type": "code",
      "source": [
        "# 2- Compilation\n",
        "model.compile(loss='mae',\n",
        "              optimizer=Adam(learning_rate=0.01),metrics=['accuracy']) # very high lr so we can converge with such a small dataset"
      ],
      "metadata": {
        "id": "xk5D1Ld4gSqf"
      },
      "execution_count": 58,
      "outputs": []
    },
    {
      "cell_type": "code",
      "source": [
        "from tensorflow.keras.callbacks import EarlyStopping\n",
        "\n",
        "es = EarlyStopping(patience=10, restore_best_weights=True)\n",
        "\n",
        "# 3- Fit\n",
        "history = model.fit(X_train, y_train, epochs=50, verbose=1, validation_split=0.2,callbacks=[es])"
      ],
      "metadata": {
        "colab": {
          "base_uri": "https://localhost:8080/"
        },
        "id": "r0ClFQ8AgfzB",
        "outputId": "a3bf1827-c1ae-4d10-a194-289f04820e82"
      },
      "execution_count": 59,
      "outputs": [
        {
          "output_type": "stream",
          "name": "stdout",
          "text": [
            "Epoch 1/50\n",
            "44/44 [==============================] - 10s 133ms/step - loss: 19.1043 - accuracy: 0.0323 - val_loss: 0.9484 - val_accuracy: 0.0172\n",
            "Epoch 2/50\n",
            "44/44 [==============================] - 7s 161ms/step - loss: 0.2972 - accuracy: 0.0244 - val_loss: 0.1730 - val_accuracy: 0.0259\n",
            "Epoch 3/50\n",
            "44/44 [==============================] - 6s 142ms/step - loss: 0.0662 - accuracy: 0.0244 - val_loss: 0.0422 - val_accuracy: 0.0374\n",
            "Epoch 4/50\n",
            "44/44 [==============================] - 7s 155ms/step - loss: 0.0519 - accuracy: 0.0330 - val_loss: 0.0544 - val_accuracy: 0.0431\n",
            "Epoch 5/50\n",
            "44/44 [==============================] - 6s 130ms/step - loss: 0.0392 - accuracy: 0.0216 - val_loss: 0.0294 - val_accuracy: 0.0402\n",
            "Epoch 6/50\n",
            "44/44 [==============================] - 5s 112ms/step - loss: 0.0404 - accuracy: 0.0280 - val_loss: 0.0301 - val_accuracy: 0.0115\n",
            "Epoch 7/50\n",
            "44/44 [==============================] - 7s 153ms/step - loss: 0.0256 - accuracy: 0.0251 - val_loss: 0.0403 - val_accuracy: 0.0172\n",
            "Epoch 8/50\n",
            "44/44 [==============================] - 5s 113ms/step - loss: 0.0266 - accuracy: 0.0302 - val_loss: 0.0422 - val_accuracy: 0.0057\n",
            "Epoch 9/50\n",
            "44/44 [==============================] - 5s 114ms/step - loss: 0.0316 - accuracy: 0.0230 - val_loss: 0.0255 - val_accuracy: 0.0546\n",
            "Epoch 10/50\n",
            "44/44 [==============================] - 7s 161ms/step - loss: 0.0200 - accuracy: 0.0338 - val_loss: 0.0199 - val_accuracy: 0.0546\n",
            "Epoch 11/50\n",
            "44/44 [==============================] - 5s 108ms/step - loss: 0.0199 - accuracy: 0.0323 - val_loss: 0.0545 - val_accuracy: 0.0259\n",
            "Epoch 12/50\n",
            "44/44 [==============================] - 5s 121ms/step - loss: 0.0299 - accuracy: 0.0230 - val_loss: 0.0220 - val_accuracy: 0.0316\n",
            "Epoch 13/50\n",
            "44/44 [==============================] - 6s 145ms/step - loss: 0.0190 - accuracy: 0.0287 - val_loss: 0.0193 - val_accuracy: 0.0747\n",
            "Epoch 14/50\n",
            "44/44 [==============================] - 5s 115ms/step - loss: 0.0222 - accuracy: 0.0323 - val_loss: 0.0279 - val_accuracy: 0.0230\n",
            "Epoch 15/50\n",
            "44/44 [==============================] - 6s 133ms/step - loss: 0.1488 - accuracy: 0.0244 - val_loss: 0.1028 - val_accuracy: 0.0230\n",
            "Epoch 16/50\n",
            "44/44 [==============================] - 6s 138ms/step - loss: 0.0335 - accuracy: 0.0273 - val_loss: 0.0188 - val_accuracy: 0.0172\n",
            "Epoch 17/50\n",
            "44/44 [==============================] - 5s 116ms/step - loss: 0.0175 - accuracy: 0.0424 - val_loss: 0.0193 - val_accuracy: 0.0546\n",
            "Epoch 18/50\n",
            "44/44 [==============================] - 6s 141ms/step - loss: 0.0172 - accuracy: 0.0223 - val_loss: 0.0194 - val_accuracy: 0.0374\n",
            "Epoch 19/50\n",
            "44/44 [==============================] - 5s 123ms/step - loss: 0.0165 - accuracy: 0.0251 - val_loss: 0.0186 - val_accuracy: 0.0517\n",
            "Epoch 20/50\n",
            "44/44 [==============================] - 5s 108ms/step - loss: 0.0168 - accuracy: 0.0345 - val_loss: 0.0193 - val_accuracy: 0.0690\n",
            "Epoch 21/50\n",
            "44/44 [==============================] - 6s 148ms/step - loss: 0.0171 - accuracy: 0.0323 - val_loss: 0.0175 - val_accuracy: 0.0144\n",
            "Epoch 22/50\n",
            "44/44 [==============================] - 5s 113ms/step - loss: 0.0162 - accuracy: 0.0230 - val_loss: 0.0170 - val_accuracy: 0.0575\n",
            "Epoch 23/50\n",
            "44/44 [==============================] - 5s 108ms/step - loss: 0.0162 - accuracy: 0.0417 - val_loss: 0.0170 - val_accuracy: 0.0230\n",
            "Epoch 24/50\n",
            "44/44 [==============================] - 7s 154ms/step - loss: 0.0162 - accuracy: 0.0338 - val_loss: 0.0178 - val_accuracy: 0.0374\n",
            "Epoch 25/50\n",
            "44/44 [==============================] - 5s 109ms/step - loss: 0.0164 - accuracy: 0.0287 - val_loss: 0.0164 - val_accuracy: 0.0115\n",
            "Epoch 26/50\n",
            "44/44 [==============================] - 5s 116ms/step - loss: 0.0166 - accuracy: 0.0424 - val_loss: 0.0171 - val_accuracy: 0.0172\n",
            "Epoch 27/50\n",
            "44/44 [==============================] - 7s 149ms/step - loss: 0.0168 - accuracy: 0.0338 - val_loss: 0.0170 - val_accuracy: 0.0144\n",
            "Epoch 28/50\n",
            "44/44 [==============================] - 5s 115ms/step - loss: 0.0162 - accuracy: 0.0381 - val_loss: 0.0170 - val_accuracy: 0.0316\n",
            "Epoch 29/50\n",
            "44/44 [==============================] - 5s 123ms/step - loss: 0.0162 - accuracy: 0.0431 - val_loss: 0.0185 - val_accuracy: 0.0230\n",
            "Epoch 30/50\n",
            "44/44 [==============================] - 6s 145ms/step - loss: 0.0172 - accuracy: 0.0323 - val_loss: 0.0199 - val_accuracy: 0.0345\n",
            "Epoch 31/50\n",
            "44/44 [==============================] - 5s 114ms/step - loss: 0.0168 - accuracy: 0.0244 - val_loss: 0.0171 - val_accuracy: 0.0057\n",
            "Epoch 32/50\n",
            "44/44 [==============================] - 6s 142ms/step - loss: 0.0158 - accuracy: 0.0359 - val_loss: 0.0176 - val_accuracy: 0.0201\n",
            "Epoch 33/50\n",
            "44/44 [==============================] - 6s 129ms/step - loss: 0.0163 - accuracy: 0.0381 - val_loss: 0.0158 - val_accuracy: 0.0489\n",
            "Epoch 34/50\n",
            "44/44 [==============================] - 5s 112ms/step - loss: 0.0161 - accuracy: 0.0338 - val_loss: 0.0163 - val_accuracy: 0.0230\n",
            "Epoch 35/50\n",
            "44/44 [==============================] - 7s 161ms/step - loss: 0.0161 - accuracy: 0.0388 - val_loss: 0.0172 - val_accuracy: 0.0431\n",
            "Epoch 36/50\n",
            "44/44 [==============================] - 5s 113ms/step - loss: 0.0165 - accuracy: 0.0467 - val_loss: 0.0175 - val_accuracy: 0.0201\n",
            "Epoch 37/50\n",
            "44/44 [==============================] - 5s 117ms/step - loss: 0.0161 - accuracy: 0.0388 - val_loss: 0.0157 - val_accuracy: 0.0144\n",
            "Epoch 38/50\n",
            "44/44 [==============================] - 7s 153ms/step - loss: 0.0169 - accuracy: 0.0366 - val_loss: 0.0165 - val_accuracy: 0.0086\n",
            "Epoch 39/50\n",
            "44/44 [==============================] - 5s 110ms/step - loss: 0.0161 - accuracy: 0.0330 - val_loss: 0.0161 - val_accuracy: 0.0345\n",
            "Epoch 40/50\n",
            "44/44 [==============================] - 6s 128ms/step - loss: 0.0162 - accuracy: 0.0409 - val_loss: 0.0173 - val_accuracy: 0.0489\n",
            "Epoch 41/50\n",
            "44/44 [==============================] - 6s 140ms/step - loss: 0.0166 - accuracy: 0.0323 - val_loss: 0.0164 - val_accuracy: 0.0172\n",
            "Epoch 42/50\n",
            "44/44 [==============================] - 5s 113ms/step - loss: 0.0158 - accuracy: 0.0338 - val_loss: 0.0163 - val_accuracy: 0.0489\n",
            "Epoch 43/50\n",
            "44/44 [==============================] - 6s 137ms/step - loss: 0.0160 - accuracy: 0.0338 - val_loss: 0.0155 - val_accuracy: 0.0316\n",
            "Epoch 44/50\n",
            "44/44 [==============================] - 5s 123ms/step - loss: 0.0158 - accuracy: 0.0445 - val_loss: 0.0167 - val_accuracy: 0.0345\n",
            "Epoch 45/50\n",
            "44/44 [==============================] - 5s 109ms/step - loss: 0.0159 - accuracy: 0.0330 - val_loss: 0.0158 - val_accuracy: 0.0230\n",
            "Epoch 46/50\n",
            "44/44 [==============================] - 6s 139ms/step - loss: 0.0171 - accuracy: 0.0244 - val_loss: 0.0168 - val_accuracy: 0.0287\n",
            "Epoch 47/50\n",
            "44/44 [==============================] - 5s 118ms/step - loss: 0.0161 - accuracy: 0.0417 - val_loss: 0.0163 - val_accuracy: 0.0287\n",
            "Epoch 48/50\n",
            "44/44 [==============================] - 5s 107ms/step - loss: 0.0157 - accuracy: 0.0453 - val_loss: 0.0170 - val_accuracy: 0.0431\n",
            "Epoch 49/50\n",
            "44/44 [==============================] - 6s 141ms/step - loss: 0.0159 - accuracy: 0.0409 - val_loss: 0.0154 - val_accuracy: 0.0115\n",
            "Epoch 50/50\n",
            "44/44 [==============================] - 5s 118ms/step - loss: 0.0159 - accuracy: 0.0489 - val_loss: 0.0179 - val_accuracy: 0.0287\n"
          ]
        }
      ]
    },
    {
      "cell_type": "code",
      "source": [
        "# 4- Predict\n",
        "model.evaluate(X_test,y_test)"
      ],
      "metadata": {
        "colab": {
          "base_uri": "https://localhost:8080/"
        },
        "id": "IpqVrC4hgh4k",
        "outputId": "d20f7415-e39f-43bb-b496-b2b7e382dd44"
      },
      "execution_count": 60,
      "outputs": [
        {
          "output_type": "stream",
          "name": "stdout",
          "text": [
            "14/14 [==============================] - 0s 21ms/step - loss: 0.0173 - accuracy: 0.0483\n"
          ]
        },
        {
          "output_type": "execute_result",
          "data": {
            "text/plain": [
              "[0.01733575202524662, 0.04827586188912392]"
            ]
          },
          "metadata": {},
          "execution_count": 60
        }
      ]
    },
    {
      "cell_type": "code",
      "source": [
        "from matplotlib import pyplot"
      ],
      "metadata": {
        "id": "FdjSsD9AhwjY"
      },
      "execution_count": 61,
      "outputs": []
    },
    {
      "cell_type": "code",
      "source": [
        "# plot history\n",
        "pyplot.plot(history.history['loss'][1:], label='train')\n",
        "pyplot.plot(history.history['val_loss'][1:], label='test')\n",
        "pyplot.legend()\n",
        "pyplot.show()"
      ],
      "metadata": {
        "colab": {
          "base_uri": "https://localhost:8080/",
          "height": 430
        },
        "id": "d1FUtbRNh-ZD",
        "outputId": "ab7fff89-c3c0-4fe6-cb1e-f3b7c82a12b9"
      },
      "execution_count": 62,
      "outputs": [
        {
          "output_type": "display_data",
          "data": {
            "text/plain": [
              "<Figure size 640x480 with 1 Axes>"
            ],
            "image/png": "[encoded data removed]"
          },
          "metadata": {}
        }
      ]
    },
    {
      "cell_type": "code",
      "source": [],
      "metadata": {
        "id": "Mssf-wZih_it"
      },
      "execution_count": null,
      "outputs": []
    }
  ]
}