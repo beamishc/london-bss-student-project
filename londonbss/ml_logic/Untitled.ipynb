{
 "cells": [
  {
   "cell_type": "code",
   "execution_count": 1,
   "id": "de743a22",
   "metadata": {},
   "outputs": [],
   "source": [
    "%load_ext autoreload\n",
    "%autoreload 2"
   ]
  },
  {
   "cell_type": "code",
   "execution_count": 2,
   "id": "6f57b3d4",
   "metadata": {},
   "outputs": [
    {
     "name": "stdout",
     "output_type": "stream",
     "text": [
      "\u001b[34m\n",
      "Loading TensorFlow...\u001b[0m\n"
     ]
    },
    {
     "name": "stderr",
     "output_type": "stream",
     "text": [
      "2023-09-05 15:24:00.723435: I tensorflow/core/platform/cpu_feature_guard.cc:193] This TensorFlow binary is optimized with oneAPI Deep Neural Network Library (oneDNN) to use the following CPU instructions in performance-critical operations:  AVX2 FMA\n",
      "To enable them in other operations, rebuild TensorFlow with the appropriate compiler flags.\n",
      "2023-09-05 15:24:01.477142: E tensorflow/stream_executor/cuda/cuda_blas.cc:2981] Unable to register cuBLAS factory: Attempting to register factory for plugin cuBLAS when one has already been registered\n",
      "2023-09-05 15:24:02.538147: W tensorflow/stream_executor/platform/default/dso_loader.cc:64] Could not load dynamic library 'libnvinfer.so.7'; dlerror: libnvinfer.so.7: cannot open shared object file: No such file or directory\n",
      "2023-09-05 15:24:02.538366: W tensorflow/stream_executor/platform/default/dso_loader.cc:64] Could not load dynamic library 'libnvinfer_plugin.so.7'; dlerror: libnvinfer_plugin.so.7: cannot open shared object file: No such file or directory\n",
      "2023-09-05 15:24:02.538377: W tensorflow/compiler/tf2tensorrt/utils/py_utils.cc:38] TF-TRT Warning: Cannot dlopen some TensorRT libraries. If you would like to use Nvidia GPU with TensorRT, please make sure the missing libraries mentioned above are installed properly.\n"
     ]
    },
    {
     "name": "stdout",
     "output_type": "stream",
     "text": [
      "\n",
      "✅ TensorFlow loaded (2.95s)\n"
     ]
    }
   ],
   "source": [
    "from londonbss.ml_logic.main import preprocess, train, evaluate\n",
    "from londonbss.ml_logic.registry import load_model\n",
    "import pandas as pd\n",
    "import matplotlib.pyplot as plt\n",
    "import seaborn as sns\n",
    "from londonbss.params import *"
   ]
  },
  {
   "cell_type": "code",
   "execution_count": 3,
   "id": "55f026ec",
   "metadata": {},
   "outputs": [
    {
     "name": "stdout",
     "output_type": "stream",
     "text": [
      "\u001b[35m\n",
      " ⭐️ Use case: preprocess\u001b[0m\n",
      "\u001b[34m\n",
      "Load data from local CSV...\u001b[0m\n",
      "Data loaded, with shape (9829137, 4)\n",
      "✅ data cleaned\n",
      "✅ Balance matrix created\n"
     ]
    },
    {
     "name": "stderr",
     "output_type": "stream",
     "text": [
      "/home/sebasmar/code/elsebasmar/london-bss/londonbss/ml_logic/data.py:121: PerformanceWarning: DataFrame is highly fragmented.  This is usually the result of calling `frame.insert` many times, which has poor performance.  Consider joining all columns at once using pd.concat(axis=1) instead. To get a de-fragmented frame, use `newframe = frame.copy()`\n",
      "  df['hour'] = df.index.hour\n",
      "/home/sebasmar/code/elsebasmar/london-bss/londonbss/ml_logic/data.py:123: PerformanceWarning: DataFrame is highly fragmented.  This is usually the result of calling `frame.insert` many times, which has poor performance.  Consider joining all columns at once using pd.concat(axis=1) instead. To get a de-fragmented frame, use `newframe = frame.copy()`\n",
      "  df['day'] = df.index.day\n",
      "/home/sebasmar/code/elsebasmar/london-bss/londonbss/ml_logic/data.py:124: PerformanceWarning: DataFrame is highly fragmented.  This is usually the result of calling `frame.insert` many times, which has poor performance.  Consider joining all columns at once using pd.concat(axis=1) instead. To get a de-fragmented frame, use `newframe = frame.copy()`\n",
      "  df['month'] = df.index.month\n"
     ]
    },
    {
     "name": "stdout",
     "output_type": "stream",
     "text": [
      "\u001b[34m\n",
      "Save data to BigQuery @ wagon-bootcamp-396316.londonbss.processed_trips_full_data_2...:\u001b[0m\n",
      "✅ Data saved to bigquery, with shape (8684, 824)\n",
      "✅ preprocess() done \n",
      "\n"
     ]
    }
   ],
   "source": [
    "# preprocess()"
   ]
  },
  {
   "cell_type": "code",
   "execution_count": 3,
   "id": "0585d8bb",
   "metadata": {},
   "outputs": [
    {
     "name": "stdout",
     "output_type": "stream",
     "text": [
      "\u001b[35m\n",
      "⭐️ Use case: train\u001b[0m\n",
      "\u001b[34m\n",
      "Loading preprocessed validation data...\u001b[0m\n",
      "\u001b[34m\n",
      "Load data from local CSV...\u001b[0m\n",
      "Data loaded, with shape (8684, 825)\n",
      "\u001b[35m\n",
      "✅ Train and test sets created\u001b[0m\n",
      "\u001b[34m\n",
      "Shape of Entire dataset : (8684, 10)\u001b[0m\n",
      "\u001b[34mShape of Training dataset : (6948, 10)\u001b[0m\n",
      "\u001b[34mShape of Test dataset : (1760, 10)\u001b[0m\n",
      "\u001b[35m\n",
      "✅ Validation train and test sets created\u001b[0m\n",
      "\u001b[34m\n",
      "Shape of Validation dataset : (6948, 10)\u001b[0m\n",
      "\u001b[34mShape of Val. Train dataset : (5559, 10)\u001b[0m\n",
      "\u001b[34mShape of Val. Test dataset : (1413, 10)\u001b[0m\n",
      "\u001b[35m\n",
      "✅ y scaled\u001b[0m\n"
     ]
    },
    {
     "name": "stderr",
     "output_type": "stream",
     "text": [
      "/home/sebasmar/code/elsebasmar/london-bss/londonbss/ml_logic/main.py:141: SettingWithCopyWarning: \n",
      "A value is trying to be set on a copy of a slice from a DataFrame.\n",
      "Try using .loc[row_indexer,col_indexer] = value instead\n",
      "\n",
      "See the caveats in the documentation: https://pandas.pydata.org/pandas-docs/stable/user_guide/indexing.html#returning-a-view-versus-a-copy\n",
      "  val_train[station] = Robust_scale.transform(val_train[[station]])\n",
      "/home/sebasmar/code/elsebasmar/london-bss/londonbss/ml_logic/main.py:142: SettingWithCopyWarning: \n",
      "A value is trying to be set on a copy of a slice from a DataFrame.\n",
      "Try using .loc[row_indexer,col_indexer] = value instead\n",
      "\n",
      "See the caveats in the documentation: https://pandas.pydata.org/pandas-docs/stable/user_guide/indexing.html#returning-a-view-versus-a-copy\n",
      "  val_test[station] = Robust_scale.transform(val_test[[station]])\n",
      "/home/sebasmar/code/elsebasmar/london-bss/londonbss/ml_logic/main.py:143: SettingWithCopyWarning: \n",
      "A value is trying to be set on a copy of a slice from a DataFrame.\n",
      "Try using .loc[row_indexer,col_indexer] = value instead\n",
      "\n",
      "See the caveats in the documentation: https://pandas.pydata.org/pandas-docs/stable/user_guide/indexing.html#returning-a-view-versus-a-copy\n",
      "  test[station] = Robust_scale.transform(test[[station]])\n"
     ]
    },
    {
     "name": "stdout",
     "output_type": "stream",
     "text": [
      "\u001b[35m\n",
      "✅ X and y created\u001b[0m\n",
      "\u001b[34mValidation Train data size:\u001b[0m\n",
      "(5535, 24, 9) (5535,)\n",
      "\u001b[34mValidation Test data size:\u001b[0m\n",
      "(1389, 24, 9) (1389,)\n",
      "\u001b[34mTest data size:\u001b[0m\n",
      "(1736, 24, 9) (1736,)\n",
      "\u001b[34m\n",
      "Load latest model from GCS...\u001b[0m\n",
      "\n",
      "❌ No model found in GCS bucket london-bss-project\n"
     ]
    },
    {
     "name": "stderr",
     "output_type": "stream",
     "text": [
      "2023-09-05 15:24:15.331220: I tensorflow/stream_executor/cuda/cuda_gpu_executor.cc:966] could not open file to read NUMA node: /sys/bus/pci/devices/0000:01:00.0/numa_node\n",
      "Your kernel may have been built without NUMA support.\n",
      "2023-09-05 15:24:15.551207: W tensorflow/stream_executor/platform/default/dso_loader.cc:64] Could not load dynamic library 'libcudnn.so.8'; dlerror: libcudnn.so.8: cannot open shared object file: No such file or directory\n",
      "2023-09-05 15:24:15.551262: W tensorflow/core/common_runtime/gpu/gpu_device.cc:1934] Cannot dlopen some GPU libraries. Please make sure the missing libraries mentioned above are installed properly if you would like to use GPU. Follow the guide at https://www.tensorflow.org/install/gpu for how to download and setup the required libraries for your platform.\n",
      "Skipping registering GPU devices...\n",
      "2023-09-05 15:24:15.552803: I tensorflow/core/platform/cpu_feature_guard.cc:193] This TensorFlow binary is optimized with oneAPI Deep Neural Network Library (oneDNN) to use the following CPU instructions in performance-critical operations:  AVX2 FMA\n",
      "To enable them in other operations, rebuild TensorFlow with the appropriate compiler flags.\n"
     ]
    },
    {
     "name": "stdout",
     "output_type": "stream",
     "text": [
      "\n",
      "✅ Model initialized\n",
      "\n",
      "✅ Model compiled\n",
      "\u001b[34m\n",
      "Training model...\u001b[0m\n",
      "Epoch 1/10\n",
      "277/277 [==============================] - 10s 23ms/step - loss: 4.5192 - mae: 1.2119 - val_loss: 16.3020 - val_mae: 2.2646\n",
      "Epoch 2/10\n",
      "277/277 [==============================] - 6s 22ms/step - loss: 4.3617 - mae: 1.1878 - val_loss: 15.4255 - val_mae: 2.2623\n",
      "Epoch 3/10\n",
      "277/277 [==============================] - 6s 22ms/step - loss: 4.0792 - mae: 1.1708 - val_loss: 14.4297 - val_mae: 2.1948\n",
      "Epoch 4/10\n",
      "277/277 [==============================] - 6s 21ms/step - loss: 3.9671 - mae: 1.1699 - val_loss: 15.5636 - val_mae: 2.2320\n",
      "Epoch 5/10\n",
      "277/277 [==============================] - 6s 21ms/step - loss: 3.7395 - mae: 1.1525 - val_loss: 15.8942 - val_mae: 2.2873\n",
      "Epoch 6/10\n",
      "277/277 [==============================] - 6s 22ms/step - loss: 3.9342 - mae: 1.1627 - val_loss: 14.6185 - val_mae: 2.2289\n",
      "Epoch 7/10\n",
      "277/277 [==============================] - 6s 21ms/step - loss: 3.8603 - mae: 1.1692 - val_loss: 14.7881 - val_mae: 2.1913\n",
      "Epoch 8/10\n",
      "277/277 [==============================] - 6s 22ms/step - loss: 3.4556 - mae: 1.1330 - val_loss: 13.3986 - val_mae: 2.1139\n",
      "Epoch 9/10\n",
      "277/277 [==============================] - 6s 21ms/step - loss: 3.3361 - mae: 1.1251 - val_loss: 13.5811 - val_mae: 2.1194\n",
      "Epoch 10/10\n",
      "277/277 [==============================] - 6s 21ms/step - loss: 3.3545 - mae: 1.1290 - val_loss: 12.1097 - val_mae: 2.1077\n",
      "\n",
      "✅ Model trained on 5535 rows with min val MAE: 2.11\n",
      "✅ Results saved locally\n",
      "✅ Model saved locally\n",
      "✅ Model saved to GCS\n",
      "✅ train() done for f{station} \n",
      "\n"
     ]
    },
    {
     "data": {
      "text/plain": [
       "2.1076505184173584"
      ]
     },
     "execution_count": 3,
     "metadata": {},
     "output_type": "execute_result"
    }
   ],
   "source": [
    "train()"
   ]
  },
  {
   "cell_type": "code",
   "execution_count": 4,
   "id": "405c9ed0",
   "metadata": {},
   "outputs": [
    {
     "name": "stdout",
     "output_type": "stream",
     "text": [
      "\u001b[35m\n",
      "⭐️ Use case: evaluate\u001b[0m\n",
      "\u001b[34m\n",
      "Load latest model from GCS...\u001b[0m\n",
      "✅ Latest model downloaded from cloud storage\n",
      "✅ load_model() done \n",
      "\n",
      "\u001b[34m\n",
      "Load data from local CSV...\u001b[0m\n",
      "Data loaded, with shape (8684, 825)\n",
      "\u001b[35m\n",
      "✅ Train and test sets created\u001b[0m\n",
      "\u001b[34m\n",
      "Shape of Entire dataset : (8684, 10)\u001b[0m\n",
      "\u001b[34mShape of Training dataset : (6948, 10)\u001b[0m\n",
      "\u001b[34mShape of Test dataset : (1760, 10)\u001b[0m\n",
      "\u001b[35m\n",
      "✅ Validation train and test sets created\u001b[0m\n",
      "\u001b[34m\n",
      "Shape of Validation dataset : (6948, 10)\u001b[0m\n",
      "\u001b[34mShape of Val. Train dataset : (5559, 10)\u001b[0m\n",
      "\u001b[34mShape of Val. Test dataset : (1413, 10)\u001b[0m\n",
      "\u001b[35m\n",
      "✅ y scaled\u001b[0m\n"
     ]
    },
    {
     "name": "stderr",
     "output_type": "stream",
     "text": [
      "/home/sebasmar/code/elsebasmar/london-bss/londonbss/ml_logic/main.py:302: SettingWithCopyWarning: \n",
      "A value is trying to be set on a copy of a slice from a DataFrame.\n",
      "Try using .loc[row_indexer,col_indexer] = value instead\n",
      "\n",
      "See the caveats in the documentation: https://pandas.pydata.org/pandas-docs/stable/user_guide/indexing.html#returning-a-view-versus-a-copy\n",
      "  val_train[station] = Robust_scale.transform(val_train[[station]])\n",
      "/home/sebasmar/code/elsebasmar/london-bss/londonbss/ml_logic/main.py:303: SettingWithCopyWarning: \n",
      "A value is trying to be set on a copy of a slice from a DataFrame.\n",
      "Try using .loc[row_indexer,col_indexer] = value instead\n",
      "\n",
      "See the caveats in the documentation: https://pandas.pydata.org/pandas-docs/stable/user_guide/indexing.html#returning-a-view-versus-a-copy\n",
      "  val_test[station] = Robust_scale.transform(val_test[[station]])\n",
      "/home/sebasmar/code/elsebasmar/london-bss/londonbss/ml_logic/main.py:304: SettingWithCopyWarning: \n",
      "A value is trying to be set on a copy of a slice from a DataFrame.\n",
      "Try using .loc[row_indexer,col_indexer] = value instead\n",
      "\n",
      "See the caveats in the documentation: https://pandas.pydata.org/pandas-docs/stable/user_guide/indexing.html#returning-a-view-versus-a-copy\n",
      "  test[station] = Robust_scale.transform(test[[station]])\n"
     ]
    },
    {
     "name": "stdout",
     "output_type": "stream",
     "text": [
      "\u001b[35m\n",
      "✅ X and y created\u001b[0m\n",
      "\u001b[34mValidation Train data size:\u001b[0m\n",
      "(5535, 24, 9) (5535,)\n",
      "\u001b[34mValidation Test data size:\u001b[0m\n",
      "(1389, 24, 9) (1389,)\n",
      "\u001b[34mTest data size:\u001b[0m\n",
      "(1736, 24, 9) (1736,)\n",
      "\u001b[34m\n",
      "Evaluating model on 1736 rows...\u001b[0m\n",
      "✅ Model evaluated, MAE: 1.62\n",
      "✅ Results saved locally\n",
      "✅ evaluate() done \n",
      "\n"
     ]
    }
   ],
   "source": [
    "df = evaluate()"
   ]
  },
  {
   "cell_type": "code",
   "execution_count": 5,
   "id": "94404a1b",
   "metadata": {},
   "outputs": [
    {
     "data": {
      "text/plain": [
       "(1736, 24, 9)"
      ]
     },
     "execution_count": 5,
     "metadata": {},
     "output_type": "execute_result"
    }
   ],
   "source": [
    "df.shape"
   ]
  },
  {
   "cell_type": "code",
   "execution_count": 17,
   "id": "4fdad3c5",
   "metadata": {},
   "outputs": [
    {
     "data": {
      "text/plain": [
       "'local'"
      ]
     },
     "execution_count": 17,
     "metadata": {},
     "output_type": "execute_result"
    }
   ],
   "source": [
    "MODEL_TARGET"
   ]
  },
  {
   "cell_type": "code",
   "execution_count": null,
   "id": "01144d13",
   "metadata": {},
   "outputs": [],
   "source": []
  }
 ],
 "metadata": {
  "kernelspec": {
   "display_name": "Python 3 (ipykernel)",
   "language": "python",
   "name": "python3"
  },
  "language_info": {
   "codemirror_mode": {
    "name": "ipython",
    "version": 3
   },
   "file_extension": ".py",
   "mimetype": "text/x-python",
   "name": "python",
   "nbconvert_exporter": "python",
   "pygments_lexer": "ipython3",
   "version": "3.10.6"
  }
 },
 "nbformat": 4,
 "nbformat_minor": 5
}
