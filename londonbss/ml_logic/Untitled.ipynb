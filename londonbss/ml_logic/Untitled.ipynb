{
 "cells": [
  {
   "cell_type": "code",
   "execution_count": 1,
   "id": "de743a22",
   "metadata": {},
   "outputs": [],
   "source": [
    "%load_ext autoreload\n",
    "%autoreload 2"
   ]
  },
  {
   "cell_type": "code",
   "execution_count": 2,
   "id": "6f57b3d4",
   "metadata": {},
   "outputs": [
    {
     "name": "stdout",
     "output_type": "stream",
     "text": [
      "\u001b[34m\n",
      "Loading TensorFlow...\u001b[0m\n"
     ]
    },
    {
     "name": "stderr",
     "output_type": "stream",
     "text": [
      "2023-09-05 13:12:23.952585: I tensorflow/core/platform/cpu_feature_guard.cc:193] This TensorFlow binary is optimized with oneAPI Deep Neural Network Library (oneDNN) to use the following CPU instructions in performance-critical operations:  AVX2 FMA\n",
      "To enable them in other operations, rebuild TensorFlow with the appropriate compiler flags.\n",
      "2023-09-05 13:12:24.179408: E tensorflow/stream_executor/cuda/cuda_blas.cc:2981] Unable to register cuBLAS factory: Attempting to register factory for plugin cuBLAS when one has already been registered\n",
      "2023-09-05 13:12:24.923369: W tensorflow/stream_executor/platform/default/dso_loader.cc:64] Could not load dynamic library 'libnvinfer.so.7'; dlerror: libnvinfer.so.7: cannot open shared object file: No such file or directory\n",
      "2023-09-05 13:12:24.923476: W tensorflow/stream_executor/platform/default/dso_loader.cc:64] Could not load dynamic library 'libnvinfer_plugin.so.7'; dlerror: libnvinfer_plugin.so.7: cannot open shared object file: No such file or directory\n",
      "2023-09-05 13:12:24.923483: W tensorflow/compiler/tf2tensorrt/utils/py_utils.cc:38] TF-TRT Warning: Cannot dlopen some TensorRT libraries. If you would like to use Nvidia GPU with TensorRT, please make sure the missing libraries mentioned above are installed properly.\n"
     ]
    },
    {
     "name": "stdout",
     "output_type": "stream",
     "text": [
      "\n",
      "✅ TensorFlow loaded (1.83s)\n"
     ]
    }
   ],
   "source": [
    "from londonbss.ml_logic.main import preprocess, train, evaluate\n",
    "from londonbss.ml_logic.registry import load_model\n",
    "import pandas as pd\n",
    "import matplotlib.pyplot as plt\n",
    "import seaborn as sns\n",
    "from londonbss.params import *"
   ]
  },
  {
   "cell_type": "code",
   "execution_count": 3,
   "id": "55f026ec",
   "metadata": {},
   "outputs": [],
   "source": [
    "#preprocess()"
   ]
  },
  {
   "cell_type": "code",
   "execution_count": 4,
   "id": "0585d8bb",
   "metadata": {},
   "outputs": [
    {
     "name": "stdout",
     "output_type": "stream",
     "text": [
      "\u001b[35m\n",
      "⭐️ Use case: train\u001b[0m\n",
      "\u001b[34m\n",
      "Loading preprocessed validation data...\u001b[0m\n",
      "\u001b[34m\n",
      "Load data from local CSV...\u001b[0m\n",
      "Data loaded, with shape (8684, 825)\n",
      "\u001b[35m\n",
      "✅ Train and test sets created\u001b[0m\n",
      "\u001b[34m\n",
      "Shape of Entire dataset : (8684, 10)\u001b[0m\n",
      "\u001b[34mShape of Training dataset : (6948, 10)\u001b[0m\n",
      "\u001b[34mShape of Test dataset : (1760, 10)\u001b[0m\n",
      "\u001b[35m\n",
      "✅ Validation train and test sets created\u001b[0m\n",
      "\u001b[34m\n",
      "Shape of Validation dataset : (6948, 10)\u001b[0m\n",
      "\u001b[34mShape of Val. Train dataset : (5559, 10)\u001b[0m\n",
      "\u001b[34mShape of Val. Test dataset : (1413, 10)\u001b[0m\n",
      "\u001b[35m\n",
      "✅ y scaled\u001b[0m\n"
     ]
    },
    {
     "name": "stderr",
     "output_type": "stream",
     "text": [
      "/home/sebasmar/code/elsebasmar/london-bss/londonbss/ml_logic/main.py:141: SettingWithCopyWarning: \n",
      "A value is trying to be set on a copy of a slice from a DataFrame.\n",
      "Try using .loc[row_indexer,col_indexer] = value instead\n",
      "\n",
      "See the caveats in the documentation: https://pandas.pydata.org/pandas-docs/stable/user_guide/indexing.html#returning-a-view-versus-a-copy\n",
      "  val_train[station] = Robust_scale.transform(val_train[[station]])\n",
      "/home/sebasmar/code/elsebasmar/london-bss/londonbss/ml_logic/main.py:142: SettingWithCopyWarning: \n",
      "A value is trying to be set on a copy of a slice from a DataFrame.\n",
      "Try using .loc[row_indexer,col_indexer] = value instead\n",
      "\n",
      "See the caveats in the documentation: https://pandas.pydata.org/pandas-docs/stable/user_guide/indexing.html#returning-a-view-versus-a-copy\n",
      "  val_test[station] = Robust_scale.transform(val_test[[station]])\n",
      "/home/sebasmar/code/elsebasmar/london-bss/londonbss/ml_logic/main.py:143: SettingWithCopyWarning: \n",
      "A value is trying to be set on a copy of a slice from a DataFrame.\n",
      "Try using .loc[row_indexer,col_indexer] = value instead\n",
      "\n",
      "See the caveats in the documentation: https://pandas.pydata.org/pandas-docs/stable/user_guide/indexing.html#returning-a-view-versus-a-copy\n",
      "  test[station] = Robust_scale.transform(test[[station]])\n"
     ]
    },
    {
     "name": "stdout",
     "output_type": "stream",
     "text": [
      "\u001b[35m\n",
      "✅ X and y created\u001b[0m\n",
      "\u001b[34mValidation Train data size:\u001b[0m\n",
      "(5535, 24, 9) (5535,)\n",
      "\u001b[34mValidation Test data size:\u001b[0m\n",
      "(1389, 24, 9) (1389,)\n",
      "\u001b[34mTest data size:\u001b[0m\n",
      "(1736, 24, 9) (1736,)\n"
     ]
    },
    {
     "name": "stderr",
     "output_type": "stream",
     "text": [
      "2023-09-05 12:48:53.348002: I tensorflow/stream_executor/cuda/cuda_gpu_executor.cc:966] could not open file to read NUMA node: /sys/bus/pci/devices/0000:01:00.0/numa_node\n",
      "Your kernel may have been built without NUMA support.\n",
      "2023-09-05 12:48:53.373342: W tensorflow/stream_executor/platform/default/dso_loader.cc:64] Could not load dynamic library 'libcudnn.so.8'; dlerror: libcudnn.so.8: cannot open shared object file: No such file or directory\n",
      "2023-09-05 12:48:53.373362: W tensorflow/core/common_runtime/gpu/gpu_device.cc:1934] Cannot dlopen some GPU libraries. Please make sure the missing libraries mentioned above are installed properly if you would like to use GPU. Follow the guide at https://www.tensorflow.org/install/gpu for how to download and setup the required libraries for your platform.\n",
      "Skipping registering GPU devices...\n",
      "2023-09-05 12:48:53.374121: I tensorflow/core/platform/cpu_feature_guard.cc:193] This TensorFlow binary is optimized with oneAPI Deep Neural Network Library (oneDNN) to use the following CPU instructions in performance-critical operations:  AVX2 FMA\n",
      "To enable them in other operations, rebuild TensorFlow with the appropriate compiler flags.\n"
     ]
    },
    {
     "name": "stdout",
     "output_type": "stream",
     "text": [
      "\n",
      "✅ Model initialized\n",
      "\n",
      "✅ Model compiled\n",
      "\u001b[34m\n",
      "Training model...\u001b[0m\n",
      "Epoch 1/10\n",
      "277/277 [==============================] - 10s 23ms/step - loss: 4.7389 - mae: 1.2040 - val_loss: 16.9836 - val_mae: 2.3561\n",
      "Epoch 2/10\n",
      "277/277 [==============================] - 6s 21ms/step - loss: 4.3921 - mae: 1.2022 - val_loss: 16.1282 - val_mae: 2.2968\n",
      "Epoch 3/10\n",
      "277/277 [==============================] - 6s 22ms/step - loss: 4.4316 - mae: 1.1921 - val_loss: 16.2185 - val_mae: 2.2977\n",
      "Epoch 4/10\n",
      "277/277 [==============================] - 6s 21ms/step - loss: 4.3173 - mae: 1.1895 - val_loss: 16.0542 - val_mae: 2.2427\n",
      "Epoch 5/10\n",
      "277/277 [==============================] - 6s 21ms/step - loss: 3.9896 - mae: 1.1838 - val_loss: 16.3406 - val_mae: 2.3375\n",
      "Epoch 6/10\n",
      "277/277 [==============================] - 6s 21ms/step - loss: 4.1076 - mae: 1.1721 - val_loss: 15.7063 - val_mae: 2.2618\n",
      "Epoch 7/10\n",
      "277/277 [==============================] - 6s 21ms/step - loss: 3.6790 - mae: 1.1709 - val_loss: 14.7974 - val_mae: 2.2217\n",
      "Epoch 8/10\n",
      "277/277 [==============================] - 6s 21ms/step - loss: 3.5180 - mae: 1.1449 - val_loss: 13.5961 - val_mae: 2.1663\n",
      "Epoch 9/10\n",
      "277/277 [==============================] - 6s 21ms/step - loss: 3.0978 - mae: 1.0839 - val_loss: 14.0600 - val_mae: 2.1529\n",
      "Epoch 10/10\n",
      "277/277 [==============================] - 6s 21ms/step - loss: 3.2111 - mae: 1.0889 - val_loss: 12.0533 - val_mae: 2.0323\n",
      "\n",
      "✅ Model trained on 5535 rows with min val MAE: 2.03\n",
      "✅ Results saved locally\n",
      "✅ Model saved locally\n",
      "✅ train() done for f{station} \n",
      "\n"
     ]
    }
   ],
   "source": [
    "# df = train()"
   ]
  },
  {
   "cell_type": "code",
   "execution_count": 3,
   "id": "405c9ed0",
   "metadata": {},
   "outputs": [
    {
     "name": "stdout",
     "output_type": "stream",
     "text": [
      "\u001b[35m\n",
      "⭐️ Use case: evaluate\u001b[0m\n",
      "None\n",
      "✅ load_model() done \n",
      "\n"
     ]
    }
   ],
   "source": [
    "df = evaluate()"
   ]
  },
  {
   "cell_type": "code",
   "execution_count": 6,
   "id": "cf2ded80",
   "metadata": {},
   "outputs": [],
   "source": [
    "import os\n",
    "import glob"
   ]
  },
  {
   "cell_type": "code",
   "execution_count": 7,
   "id": "8bd83171",
   "metadata": {},
   "outputs": [
    {
     "data": {
      "text/plain": [
       "['/home/sebasmar/code/elsebasmar/london-bss/training_outputs/models/20230905-124956-abbey_orchard_street__westminster.h5']"
      ]
     },
     "execution_count": 7,
     "metadata": {},
     "output_type": "execute_result"
    }
   ],
   "source": [
    "local_model_directory = os.path.join(LOCAL_REGISTRY_PATH, \"models\")\n",
    "glob.glob(f\"{local_model_directory}/*\")"
   ]
  },
  {
   "cell_type": "code",
   "execution_count": 3,
   "id": "fbff7161",
   "metadata": {},
   "outputs": [
    {
     "name": "stdout",
     "output_type": "stream",
     "text": [
      "\u001b[34m\n",
      "Load latest model from local registry...\u001b[0m\n"
     ]
    },
    {
     "data": {
      "text/plain": [
       "'/home/sebasmar/code/elsebasmar/london-bss/training_outputs/models/20230905-124956-abbey_orchard_street__westminster.h5'"
      ]
     },
     "execution_count": 3,
     "metadata": {},
     "output_type": "execute_result"
    }
   ],
   "source": [
    "load_model(stage='Production',n_station='ssda')"
   ]
  },
  {
   "cell_type": "code",
   "execution_count": null,
   "id": "65804d07",
   "metadata": {},
   "outputs": [],
   "source": []
  }
 ],
 "metadata": {
  "kernelspec": {
   "display_name": "Python 3 (ipykernel)",
   "language": "python",
   "name": "python3"
  },
  "language_info": {
   "codemirror_mode": {
    "name": "ipython",
    "version": 3
   },
   "file_extension": ".py",
   "mimetype": "text/x-python",
   "name": "python",
   "nbconvert_exporter": "python",
   "pygments_lexer": "ipython3",
   "version": "3.10.6"
  }
 },
 "nbformat": 4,
 "nbformat_minor": 5
}
