{
 "cells": [
  {
   "cell_type": "code",
   "execution_count": 1,
   "id": "de743a22",
   "metadata": {},
   "outputs": [],
   "source": [
    "%load_ext autoreload\n",
    "%autoreload 2"
   ]
  },
  {
   "cell_type": "code",
   "execution_count": 2,
   "id": "6f57b3d4",
   "metadata": {},
   "outputs": [
    {
     "name": "stdout",
     "output_type": "stream",
     "text": [
      "\u001b[34m\n",
      "Loading TensorFlow...\u001b[0m\n"
     ]
    },
    {
     "name": "stderr",
     "output_type": "stream",
     "text": [
      "2023-09-06 18:01:31.369084: I tensorflow/core/platform/cpu_feature_guard.cc:193] This TensorFlow binary is optimized with oneAPI Deep Neural Network Library (oneDNN) to use the following CPU instructions in performance-critical operations:  AVX2 FMA\n",
      "To enable them in other operations, rebuild TensorFlow with the appropriate compiler flags.\n",
      "2023-09-06 18:01:31.834035: E tensorflow/stream_executor/cuda/cuda_blas.cc:2981] Unable to register cuBLAS factory: Attempting to register factory for plugin cuBLAS when one has already been registered\n",
      "2023-09-06 18:01:32.571869: W tensorflow/stream_executor/platform/default/dso_loader.cc:64] Could not load dynamic library 'libnvinfer.so.7'; dlerror: libnvinfer.so.7: cannot open shared object file: No such file or directory\n",
      "2023-09-06 18:01:32.571949: W tensorflow/stream_executor/platform/default/dso_loader.cc:64] Could not load dynamic library 'libnvinfer_plugin.so.7'; dlerror: libnvinfer_plugin.so.7: cannot open shared object file: No such file or directory\n",
      "2023-09-06 18:01:32.571956: W tensorflow/compiler/tf2tensorrt/utils/py_utils.cc:38] TF-TRT Warning: Cannot dlopen some TensorRT libraries. If you would like to use Nvidia GPU with TensorRT, please make sure the missing libraries mentioned above are installed properly.\n"
     ]
    },
    {
     "name": "stdout",
     "output_type": "stream",
     "text": [
      "\n",
      "✅ TensorFlow loaded (2.27s)\n"
     ]
    }
   ],
   "source": [
    "from londonbss.ml_logic.main import preprocess, train, evaluate, processing, processing_pred\n",
    "from londonbss.ml_logic.features  import get_raw_features\n",
    "from londonbss.ml_logic.registry import load_model\n",
    "from londonbss.ml_logic.preproc import fit_transform_features\n",
    "from londonbss.ml_logic.model import test_adf\n",
    "import pandas as pd\n",
    "import matplotlib.pyplot as plt\n",
    "import seaborn as sns\n",
    "from londonbss.params import *"
   ]
  },
  {
   "cell_type": "code",
   "execution_count": 3,
   "id": "55f026ec",
   "metadata": {},
   "outputs": [
    {
     "name": "stdout",
     "output_type": "stream",
     "text": [
      "\u001b[35m\n",
      " ⭐️ Use case: preprocess\u001b[0m\n",
      "\u001b[34m\n",
      "Load data from BigQuery server...\u001b[0m\n"
     ]
    },
    {
     "ename": "KeyboardInterrupt",
     "evalue": "",
     "output_type": "error",
     "traceback": [
      "\u001b[0;31m---------------------------------------------------------------------------\u001b[0m",
      "\u001b[0;31mKeyboardInterrupt\u001b[0m                         Traceback (most recent call last)",
      "Cell \u001b[0;32mIn[3], line 1\u001b[0m\n\u001b[0;32m----> 1\u001b[0m y,X \u001b[39m=\u001b[39m preprocess(min_date\u001b[39m=\u001b[39;49m\u001b[39m'\u001b[39;49m\u001b[39m2018-01-01\u001b[39;49m\u001b[39m'\u001b[39;49m, max_date\u001b[39m=\u001b[39;49m\u001b[39m'\u001b[39;49m\u001b[39m2023-01-01\u001b[39;49m\u001b[39m'\u001b[39;49m)\n",
      "File \u001b[0;32m~/code/elsebasmar/london-bss/londonbss/ml_logic/main.py:39\u001b[0m, in \u001b[0;36mpreprocess\u001b[0;34m(min_date, max_date)\u001b[0m\n\u001b[1;32m     37\u001b[0m \u001b[39m# Retrieve data using `get_data_with_cache`\u001b[39;00m\n\u001b[1;32m     38\u001b[0m data_query_cache_path \u001b[39m=\u001b[39m Path(LOCAL_DATA_PATH)\u001b[39m.\u001b[39mjoinpath(\u001b[39m\"\u001b[39m\u001b[39mbq\u001b[39m\u001b[39m\"\u001b[39m, \u001b[39mf\u001b[39m\u001b[39m\"\u001b[39m\u001b[39mquery_\u001b[39m\u001b[39m{\u001b[39;00mmin_date\u001b[39m}\u001b[39;00m\u001b[39m_\u001b[39m\u001b[39m{\u001b[39;00mmax_date\u001b[39m}\u001b[39;00m\u001b[39m_\u001b[39m\u001b[39m{\u001b[39;00mDATA_SIZE\u001b[39m}\u001b[39;00m\u001b[39m.csv\u001b[39m\u001b[39m\"\u001b[39m)\n\u001b[0;32m---> 39\u001b[0m data_query \u001b[39m=\u001b[39m get_data_with_cache(\n\u001b[1;32m     40\u001b[0m     query\u001b[39m=\u001b[39;49mquery,\n\u001b[1;32m     41\u001b[0m     gcp_project\u001b[39m=\u001b[39;49mGCP_PROJECT,\n\u001b[1;32m     42\u001b[0m     cache_path\u001b[39m=\u001b[39;49mdata_query_cache_path,\n\u001b[1;32m     43\u001b[0m     data_has_header\u001b[39m=\u001b[39;49m\u001b[39mTrue\u001b[39;49;00m\n\u001b[1;32m     44\u001b[0m )\n\u001b[1;32m     46\u001b[0m \u001b[39m# Process data\u001b[39;00m\n\u001b[1;32m     47\u001b[0m data_clean \u001b[39m=\u001b[39m clean_data(data_query)\n",
      "File \u001b[0;32m~/code/elsebasmar/london-bss/londonbss/ml_logic/data.py:27\u001b[0m, in \u001b[0;36mget_data_with_cache\u001b[0;34m(gcp_project, query, cache_path, data_has_header)\u001b[0m\n\u001b[1;32m     25\u001b[0m query_job \u001b[39m=\u001b[39m client\u001b[39m.\u001b[39mquery(query)\n\u001b[1;32m     26\u001b[0m result \u001b[39m=\u001b[39m query_job\u001b[39m.\u001b[39mresult()\n\u001b[0;32m---> 27\u001b[0m df \u001b[39m=\u001b[39m result\u001b[39m.\u001b[39;49mto_dataframe()\n\u001b[1;32m     28\u001b[0m \u001b[39m# Store as CSV if the BQ query returned at least one valid line\u001b[39;00m\n\u001b[1;32m     29\u001b[0m \u001b[39mif\u001b[39;00m df\u001b[39m.\u001b[39mshape[\u001b[39m0\u001b[39m] \u001b[39m>\u001b[39m \u001b[39m1\u001b[39m:\n",
      "File \u001b[0;32m~/.pyenv/versions/3.10.6/envs/london-bss/lib/python3.10/site-packages/google/cloud/bigquery/table.py:2155\u001b[0m, in \u001b[0;36mRowIterator.to_dataframe\u001b[0;34m(self, bqstorage_client, dtypes, progress_bar_type, create_bqstorage_client, geography_as_object, bool_dtype, int_dtype, float_dtype, string_dtype, date_dtype, datetime_dtype, time_dtype, timestamp_dtype)\u001b[0m\n\u001b[1;32m   2152\u001b[0m     create_bqstorage_client \u001b[39m=\u001b[39m \u001b[39mFalse\u001b[39;00m\n\u001b[1;32m   2153\u001b[0m     bqstorage_client \u001b[39m=\u001b[39m \u001b[39mNone\u001b[39;00m\n\u001b[0;32m-> 2155\u001b[0m record_batch \u001b[39m=\u001b[39m \u001b[39mself\u001b[39;49m\u001b[39m.\u001b[39;49mto_arrow(\n\u001b[1;32m   2156\u001b[0m     progress_bar_type\u001b[39m=\u001b[39;49mprogress_bar_type,\n\u001b[1;32m   2157\u001b[0m     bqstorage_client\u001b[39m=\u001b[39;49mbqstorage_client,\n\u001b[1;32m   2158\u001b[0m     create_bqstorage_client\u001b[39m=\u001b[39;49mcreate_bqstorage_client,\n\u001b[1;32m   2159\u001b[0m )\n\u001b[1;32m   2161\u001b[0m \u001b[39m# Default date dtype is `db_dtypes.DateDtype()` that could cause out of bounds error,\u001b[39;00m\n\u001b[1;32m   2162\u001b[0m \u001b[39m# when pyarrow converts date values to nanosecond precision. To avoid the error, we\u001b[39;00m\n\u001b[1;32m   2163\u001b[0m \u001b[39m# set the date_as_object parameter to True, if necessary.\u001b[39;00m\n\u001b[1;32m   2164\u001b[0m date_as_object \u001b[39m=\u001b[39m \u001b[39mFalse\u001b[39;00m\n",
      "File \u001b[0;32m~/.pyenv/versions/3.10.6/envs/london-bss/lib/python3.10/site-packages/google/cloud/bigquery/table.py:1825\u001b[0m, in \u001b[0;36mRowIterator.to_arrow\u001b[0;34m(self, progress_bar_type, bqstorage_client, create_bqstorage_client)\u001b[0m\n\u001b[1;32m   1820\u001b[0m progress_bar \u001b[39m=\u001b[39m get_progress_bar(\n\u001b[1;32m   1821\u001b[0m     progress_bar_type, \u001b[39m\"\u001b[39m\u001b[39mDownloading\u001b[39m\u001b[39m\"\u001b[39m, \u001b[39mself\u001b[39m\u001b[39m.\u001b[39mtotal_rows, \u001b[39m\"\u001b[39m\u001b[39mrows\u001b[39m\u001b[39m\"\u001b[39m\n\u001b[1;32m   1822\u001b[0m )\n\u001b[1;32m   1824\u001b[0m record_batches \u001b[39m=\u001b[39m []\n\u001b[0;32m-> 1825\u001b[0m \u001b[39mfor\u001b[39;00m record_batch \u001b[39min\u001b[39;00m \u001b[39mself\u001b[39m\u001b[39m.\u001b[39mto_arrow_iterable(\n\u001b[1;32m   1826\u001b[0m     bqstorage_client\u001b[39m=\u001b[39mbqstorage_client\n\u001b[1;32m   1827\u001b[0m ):\n\u001b[1;32m   1828\u001b[0m     record_batches\u001b[39m.\u001b[39mappend(record_batch)\n\u001b[1;32m   1830\u001b[0m     \u001b[39mif\u001b[39;00m progress_bar \u001b[39mis\u001b[39;00m \u001b[39mnot\u001b[39;00m \u001b[39mNone\u001b[39;00m:\n\u001b[1;32m   1831\u001b[0m         \u001b[39m# In some cases, the number of total rows is not populated\u001b[39;00m\n\u001b[1;32m   1832\u001b[0m         \u001b[39m# until the first page of rows is fetched. Update the\u001b[39;00m\n\u001b[1;32m   1833\u001b[0m         \u001b[39m# progress bar's total to keep an accurate count.\u001b[39;00m\n",
      "File \u001b[0;32m~/.pyenv/versions/3.10.6/envs/london-bss/lib/python3.10/site-packages/google/cloud/bigquery/table.py:1688\u001b[0m, in \u001b[0;36mRowIterator._to_page_iterable\u001b[0;34m(self, bqstorage_download, tabledata_list_download, bqstorage_client)\u001b[0m\n\u001b[1;32m   1681\u001b[0m     bqstorage_client \u001b[39m=\u001b[39m \u001b[39mNone\u001b[39;00m\n\u001b[1;32m   1683\u001b[0m result_pages \u001b[39m=\u001b[39m (\n\u001b[1;32m   1684\u001b[0m     bqstorage_download()\n\u001b[1;32m   1685\u001b[0m     \u001b[39mif\u001b[39;00m bqstorage_client \u001b[39mis\u001b[39;00m \u001b[39mnot\u001b[39;00m \u001b[39mNone\u001b[39;00m\n\u001b[1;32m   1686\u001b[0m     \u001b[39melse\u001b[39;00m tabledata_list_download()\n\u001b[1;32m   1687\u001b[0m )\n\u001b[0;32m-> 1688\u001b[0m \u001b[39myield from\u001b[39;00m result_pages\n",
      "File \u001b[0;32m~/.pyenv/versions/3.10.6/envs/london-bss/lib/python3.10/site-packages/google/cloud/bigquery/_pandas_helpers.py:953\u001b[0m, in \u001b[0;36m_download_table_bqstorage\u001b[0;34m(project_id, table, bqstorage_client, preserve_order, selected_fields, page_to_item, max_queue_size)\u001b[0m\n\u001b[1;32m    950\u001b[0m     future\u001b[39m.\u001b[39mresult()\n\u001b[1;32m    952\u001b[0m \u001b[39mtry\u001b[39;00m:\n\u001b[0;32m--> 953\u001b[0m     frame \u001b[39m=\u001b[39m worker_queue\u001b[39m.\u001b[39;49mget(timeout\u001b[39m=\u001b[39;49m_PROGRESS_INTERVAL)\n\u001b[1;32m    954\u001b[0m     \u001b[39myield\u001b[39;00m frame\n\u001b[1;32m    955\u001b[0m \u001b[39mexcept\u001b[39;00m queue\u001b[39m.\u001b[39mEmpty:  \u001b[39m# pragma: NO COVER\u001b[39;00m\n",
      "File \u001b[0;32m~/.pyenv/versions/3.10.6/lib/python3.10/queue.py:180\u001b[0m, in \u001b[0;36mQueue.get\u001b[0;34m(self, block, timeout)\u001b[0m\n\u001b[1;32m    178\u001b[0m         \u001b[39mif\u001b[39;00m remaining \u001b[39m<\u001b[39m\u001b[39m=\u001b[39m \u001b[39m0.0\u001b[39m:\n\u001b[1;32m    179\u001b[0m             \u001b[39mraise\u001b[39;00m Empty\n\u001b[0;32m--> 180\u001b[0m         \u001b[39mself\u001b[39;49m\u001b[39m.\u001b[39;49mnot_empty\u001b[39m.\u001b[39;49mwait(remaining)\n\u001b[1;32m    181\u001b[0m item \u001b[39m=\u001b[39m \u001b[39mself\u001b[39m\u001b[39m.\u001b[39m_get()\n\u001b[1;32m    182\u001b[0m \u001b[39mself\u001b[39m\u001b[39m.\u001b[39mnot_full\u001b[39m.\u001b[39mnotify()\n",
      "File \u001b[0;32m~/.pyenv/versions/3.10.6/lib/python3.10/threading.py:324\u001b[0m, in \u001b[0;36mCondition.wait\u001b[0;34m(self, timeout)\u001b[0m\n\u001b[1;32m    322\u001b[0m \u001b[39melse\u001b[39;00m:\n\u001b[1;32m    323\u001b[0m     \u001b[39mif\u001b[39;00m timeout \u001b[39m>\u001b[39m \u001b[39m0\u001b[39m:\n\u001b[0;32m--> 324\u001b[0m         gotit \u001b[39m=\u001b[39m waiter\u001b[39m.\u001b[39;49macquire(\u001b[39mTrue\u001b[39;49;00m, timeout)\n\u001b[1;32m    325\u001b[0m     \u001b[39melse\u001b[39;00m:\n\u001b[1;32m    326\u001b[0m         gotit \u001b[39m=\u001b[39m waiter\u001b[39m.\u001b[39macquire(\u001b[39mFalse\u001b[39;00m)\n",
      "\u001b[0;31mKeyboardInterrupt\u001b[0m: "
     ]
    }
   ],
   "source": [
    "y,X = preprocess(min_date='2018-01-01', max_date='2023-01-01')"
   ]
  },
  {
   "cell_type": "code",
   "execution_count": null,
   "id": "1ea443fc",
   "metadata": {},
   "outputs": [],
   "source": [
    "stations = [\"hop_exchange__the_borough\",\n",
    "\"st_jamess_square__st_jamess\",\n",
    "\"holborn_circus__holborn\",\n",
    "\"queen_street_1__bank\",\n",
    "\"brushfield_street__liverpool_street\",\n",
    "\"whitehall_place__strand\",\n",
    "\"soho_square___soho\",\n",
    "\"newgate_street___st_pauls\",\n",
    "\"queen_street_2__bank\",\n",
    "\"st_bride_street__holborn\",\n",
    "\"william_iv_street__strand\",\n",
    "\"green_park_station__mayfair\",\n",
    "\"jubilee_gardens__south_bank\",\n",
    "\"little_argyll_street__west_end\",\n",
    "\"pall_mall_east__west_end\",\n",
    "\"cheapside__bank\",\n",
    "\"finsbury_circus__liverpool_street\",\n",
    "\"waterloo_station_2__waterloo\",\n",
    "\"lancaster_gate___bayswater\",\n",
    "\"boston_place__marylebone\",\n",
    "\"cloudesley_road__angel\",\n",
    "\"knightsbridge__hyde_park\",\n",
    "\"bayswater_road__hyde_park\",\n",
    "\"wenlock_road___hoxton\",\n",
    "\"eagle_wharf_road__hoxton\",\n",
    "\"macclesfield_rd__st_lukes\",\n",
    "\"st_johns_wood_church__the_regents_park\",\n",
    "\"doric_way___somers_town\",\n",
    "\"notting_hill_gate_station__notting_hill\",\n",
    "\"claremont_square__angel\",\n",
    "\"st_johns_wood_road__st_johns_wood\",\n",
    "\"river_street___clerkenwell\",\n",
    "\"city_road__angel\",\n",
    "\"hardwick_street__clerkenwell\"\n",
    "]"
   ]
  },
  {
   "cell_type": "code",
   "execution_count": null,
   "id": "3b2b8f4b",
   "metadata": {},
   "outputs": [],
   "source": [
    "station_sele = 'wormwood_street__liverpool_street'"
   ]
  },
  {
   "cell_type": "code",
   "execution_count": null,
   "id": "387fb593",
   "metadata": {},
   "outputs": [],
   "source": [
    "processing(min_date='2020-01-01', max_date='2023-01-01',station=station_sele)"
   ]
  },
  {
   "cell_type": "code",
   "execution_count": null,
   "id": "d0462634",
   "metadata": {},
   "outputs": [],
   "source": [
    "train(min_date='2020-01-01', max_date='2023-01-01',station=station_sele)"
   ]
  },
  {
   "cell_type": "code",
   "execution_count": null,
   "id": "1ad3c355",
   "metadata": {},
   "outputs": [],
   "source": [
    "processing_pred(min_date='2020-01-01', max_date='2023-01-01',station=station_sele)"
   ]
  },
  {
   "cell_type": "code",
   "execution_count": null,
   "metadata": {},
   "outputs": [],
   "source": [
    "pred , actual = evaluate(min_date='2020-01-01', max_date='2023-01-01',station=station_sele)"
   ]
  },
  {
   "cell_type": "code",
   "execution_count": null,
   "id": "754f2e22",
   "metadata": {},
   "outputs": [],
   "source": [
    "actual = actual.iloc[:-21]"
   ]
  },
  {
   "cell_type": "code",
   "execution_count": null,
   "id": "fe03defa",
   "metadata": {},
   "outputs": [],
   "source": [
    "plt.figure(figsize=(30, 10))\n",
    "plt.plot(pd.DataFrame(pred).reset_index()['predicted_mean'], label='predicted')\n",
    "plt.plot(actual.reset_index()[actual.columns[0]], label='actual')\n",
    "plt.legend()"
   ]
  },
  {
   "cell_type": "code",
   "execution_count": null,
   "id": "f606d92f",
   "metadata": {},
   "outputs": [],
   "source": []
  },
  {
   "cell_type": "code",
   "execution_count": null,
   "id": "30f1a66b",
   "metadata": {},
   "outputs": [],
   "source": []
  }
 ],
 "metadata": {
  "kernelspec": {
   "display_name": "Python 3 (ipykernel)",
   "language": "python",
   "name": "python3"
  },
  "language_info": {
   "codemirror_mode": {
    "name": "ipython",
    "version": 3
   },
   "file_extension": ".py",
   "mimetype": "text/x-python",
   "name": "python",
   "nbconvert_exporter": "python",
   "pygments_lexer": "ipython3",
   "version": "3.10.6"
  }
 },
 "nbformat": 4,
 "nbformat_minor": 5
}
