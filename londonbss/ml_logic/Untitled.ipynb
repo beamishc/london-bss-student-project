{
 "cells": [
  {
   "cell_type": "code",
   "execution_count": 6,
   "id": "de743a22",
   "metadata": {},
   "outputs": [
    {
     "name": "stdout",
     "output_type": "stream",
     "text": [
      "The autoreload extension is already loaded. To reload it, use:\n",
      "  %reload_ext autoreload\n"
     ]
    }
   ],
   "source": [
    "%load_ext autoreload\n",
    "%autoreload 2"
   ]
  },
  {
   "cell_type": "code",
   "execution_count": 7,
   "id": "6f57b3d4",
   "metadata": {},
   "outputs": [],
   "source": [
    "from londonbss.ml_logic.main2 import preprocess, train, evaluate, processing, processing_pred\n",
    "from londonbss.ml_logic.features  import get_raw_features\n",
    "from londonbss.ml_logic.registry import load_model\n",
    "from londonbss.ml_logic.preproc import fit_transform_features\n",
    "from londonbss.ml_logic.model import test_adf\n",
    "import pandas as pd\n",
    "import matplotlib.pyplot as plt\n",
    "import seaborn as sns\n",
    "from londonbss.params import *"
   ]
  },
  {
   "cell_type": "code",
   "execution_count": null,
   "id": "55f026ec",
   "metadata": {},
   "outputs": [],
   "source": [
    "preprocess(min_date='2018-01-01', max_date='2023-01-01')"
   ]
  },
  {
   "cell_type": "code",
   "execution_count": null,
   "id": "1ea443fc",
   "metadata": {},
   "outputs": [],
   "source": [
    "stations = [\"hop_exchange__the_borough\",\n",
    "\"st_jamess_square__st_jamess\",\n",
    "\"holborn_circus__holborn\",\n",
    "\"queen_street_1__bank\",\n",
    "\"brushfield_street__liverpool_street\",\n",
    "\"whitehall_place__strand\",\n",
    "\"soho_square___soho\",\n",
    "\"newgate_street___st_pauls\",\n",
    "\"queen_street_2__bank\",\n",
    "\"st_bride_street__holborn\",\n",
    "\"william_iv_street__strand\",\n",
    "\"green_park_station__mayfair\",\n",
    "\"jubilee_gardens__south_bank\",\n",
    "\"little_argyll_street__west_end\",\n",
    "\"pall_mall_east__west_end\",\n",
    "\"cheapside__bank\",\n",
    "\"finsbury_circus__liverpool_street\",\n",
    "\"waterloo_station_2__waterloo\",\n",
    "\"lancaster_gate___bayswater\",\n",
    "\"boston_place__marylebone\",\n",
    "\"cloudesley_road__angel\",\n",
    "\"knightsbridge__hyde_park\",\n",
    "\"bayswater_road__hyde_park\",\n",
    "\"wenlock_road___hoxton\",\n",
    "\"eagle_wharf_road__hoxton\",\n",
    "\"macclesfield_rd__st_lukes\",\n",
    "\"st_johns_wood_church__the_regents_park\",\n",
    "\"doric_way___somers_town\",\n",
    "\"notting_hill_gate_station__notting_hill\",\n",
    "\"claremont_square__angel\",\n",
    "\"st_johns_wood_road__st_johns_wood\",\n",
    "\"river_street___clerkenwell\",\n",
    "\"city_road__angel\",\n",
    "\"hardwick_street__clerkenwell\"\n",
    "]"
   ]
  },
  {
   "cell_type": "code",
   "execution_count": 8,
   "id": "3b2b8f4b",
   "metadata": {},
   "outputs": [],
   "source": [
    "station_sele = 'wormwood_street__liverpool_street'"
   ]
  },
  {
   "cell_type": "code",
   "execution_count": 9,
   "id": "387fb593",
   "metadata": {},
   "outputs": [
    {
     "name": "stdout",
     "output_type": "stream",
     "text": [
      "\u001b[35m\n",
      "⭐️ Processing Data Starting ...\u001b[0m\n",
      "\u001b[34m\n",
      "Loading preprocessed data...\u001b[0m\n",
      "\u001b[34m\n",
      "Load data from BigQuery server...\u001b[0m\n",
      "\u001b[34m\n",
      "Load data from local CSV...\u001b[0m\n",
      "Data loaded, with shape (26564, 860)\n",
      "\u001b[34m\n",
      "Load data from BigQuery server...\u001b[0m\n",
      "Data loaded, with shape (45194, 24)\n",
      "\u001b[35m\n",
      "✅ Xs processed\u001b[0m\n",
      "\u001b[34m\n",
      "Save data to BigQuery @ wagon-bootcamp-396316.londonbss.processed_all_wormwood_street__liverpool_street_full_data_4...:\u001b[0m\n",
      "✅ Data saved to bigquery, with shape (43825, 24)\n",
      "\u001b[35m\n",
      "✅ Data Merged Done\u001b[0m\n"
     ]
    }
   ],
   "source": [
    "processing(min_date='2018-01-01', max_date='2023-01-01',station=station_sele)"
   ]
  },
  {
   "cell_type": "code",
   "execution_count": 10,
   "id": "d0462634",
   "metadata": {},
   "outputs": [
    {
     "name": "stdout",
     "output_type": "stream",
     "text": [
      "\u001b[35m\n",
      "⭐️ Training Starting ...\u001b[0m\n",
      "\u001b[34m\n",
      "Loading preprocessed validation data...\u001b[0m\n",
      "\u001b[34m\n",
      "Load data from BigQuery server...\u001b[0m\n",
      "Data loaded, with shape (43825, 25)\n",
      "\u001b[35m\n",
      "✅ Train dataset loaded\u001b[0m\n"
     ]
    }
   ],
   "source": [
    "train(min_date='2018-01-01', max_date='2023-01-01',station=station_sele)"
   ]
  },
  {
   "cell_type": "code",
   "execution_count": null,
   "id": "1ad3c355",
   "metadata": {},
   "outputs": [],
   "source": [
    "processing_pred(min_date='2020-01-01', max_date='2023-01-01',station=station_sele)"
   ]
  },
  {
   "cell_type": "code",
   "execution_count": null,
   "metadata": {},
   "outputs": [],
   "source": [
    "pred , actual = evaluate(min_date='2020-01-01', max_date='2023-01-01',station=station_sele)"
   ]
  },
  {
   "cell_type": "code",
   "execution_count": null,
   "id": "754f2e22",
   "metadata": {},
   "outputs": [],
   "source": [
    "actual = actual.iloc[:-21]"
   ]
  },
  {
   "cell_type": "code",
   "execution_count": null,
   "id": "fe03defa",
   "metadata": {},
   "outputs": [],
   "source": [
    "plt.figure(figsize=(30, 10))\n",
    "plt.plot(pd.DataFrame(pred).reset_index()['predicted_mean'], label='predicted')\n",
    "plt.plot(actual.reset_index()[actual.columns[0]], label='actual')\n",
    "plt.legend()"
   ]
  },
  {
   "cell_type": "code",
   "execution_count": null,
   "id": "f606d92f",
   "metadata": {},
   "outputs": [],
   "source": []
  },
  {
   "cell_type": "code",
   "execution_count": null,
   "id": "30f1a66b",
   "metadata": {},
   "outputs": [],
   "source": []
  }
 ],
 "metadata": {
  "kernelspec": {
   "display_name": "Python 3 (ipykernel)",
   "language": "python",
   "name": "python3"
  },
  "language_info": {
   "codemirror_mode": {
    "name": "ipython",
    "version": 3
   },
   "file_extension": ".py",
   "mimetype": "text/x-python",
   "name": "python",
   "nbconvert_exporter": "python",
   "pygments_lexer": "ipython3",
   "version": "3.10.6"
  }
 },
 "nbformat": 4,
 "nbformat_minor": 5
}
