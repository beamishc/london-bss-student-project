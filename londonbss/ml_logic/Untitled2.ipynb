{
 "cells": [
  {
   "cell_type": "code",
   "execution_count": 14,
   "id": "de743a22",
   "metadata": {},
   "outputs": [
    {
     "name": "stdout",
     "output_type": "stream",
     "text": [
      "\u001b[34m\n",
      "Loading TensorFlow...\u001b[0m\n",
      "\n",
      "✅ TensorFlow loaded (0.0s)\n",
      "The autoreload extension is already loaded. To reload it, use:\n",
      "  %reload_ext autoreload\n"
     ]
    }
   ],
   "source": [
    "%load_ext autoreload\n",
    "%autoreload 2"
   ]
  },
  {
   "cell_type": "code",
   "execution_count": 18,
   "id": "6f57b3d4",
   "metadata": {},
   "outputs": [],
   "source": [
    "from londonbss.ml_logic.main import preprocess, train, evaluate\n",
    "from londonbss.ml_logic.registry import load_model\n",
    "import pandas as pd\n",
    "import matplotlib.pyplot as plt\n",
    "import seaborn as sns\n",
    "from londonbss.params import *"
   ]
  },
  {
   "cell_type": "code",
   "execution_count": 26,
   "id": "55f026ec",
   "metadata": {},
   "outputs": [
    {
     "name": "stdout",
     "output_type": "stream",
     "text": [
      "\u001b[35m\n",
      " ⭐️ Use case: preprocess\u001b[0m\n",
      "\u001b[34m\n",
      "Load data from local CSV...\u001b[0m\n",
      "Data loaded, with shape (9829137, 4)\n",
      "✅ data cleaned\n",
      "✅ Balance matrix created\n",
      "\u001b[34m\n",
      "Save data to BigQuery @ wagon-bootcamp-396316.londonbss.processed_trips_full_data_2...:\u001b[0m\n"
     ]
    },
    {
     "name": "stderr",
     "output_type": "stream",
     "text": [
      "/Users/thammadoltansrivorarat/code/elsebasmar/london-bss/londonbss/ml_logic/data.py:121: PerformanceWarning: DataFrame is highly fragmented.  This is usually the result of calling `frame.insert` many times, which has poor performance.  Consider joining all columns at once using pd.concat(axis=1) instead. To get a de-fragmented frame, use `newframe = frame.copy()`\n",
      "  df['hour'] = df.index.hour\n",
      "/Users/thammadoltansrivorarat/code/elsebasmar/london-bss/londonbss/ml_logic/data.py:123: PerformanceWarning: DataFrame is highly fragmented.  This is usually the result of calling `frame.insert` many times, which has poor performance.  Consider joining all columns at once using pd.concat(axis=1) instead. To get a de-fragmented frame, use `newframe = frame.copy()`\n",
      "  df['day'] = df.index.day\n",
      "/Users/thammadoltansrivorarat/code/elsebasmar/london-bss/londonbss/ml_logic/data.py:124: PerformanceWarning: DataFrame is highly fragmented.  This is usually the result of calling `frame.insert` many times, which has poor performance.  Consider joining all columns at once using pd.concat(axis=1) instead. To get a de-fragmented frame, use `newframe = frame.copy()`\n",
      "  df['month'] = df.index.month\n"
     ]
    },
    {
     "name": "stdout",
     "output_type": "stream",
     "text": [
      "✅ Data saved to bigquery, with shape (8684, 824)\n",
      "✅ preprocess() done \n",
      "\n"
     ]
    }
   ],
   "source": [
    "preprocess()"
   ]
  },
  {
   "cell_type": "code",
   "execution_count": 27,
   "id": "0585d8bb",
   "metadata": {},
   "outputs": [
    {
     "name": "stdout",
     "output_type": "stream",
     "text": [
      "\u001b[35m\n",
      "⭐️ Use case: train\u001b[0m\n",
      "\u001b[34m\n",
      "Loading preprocessed validation data...\u001b[0m\n",
      "\u001b[34m\n",
      "Load data from local CSV...\u001b[0m\n",
      "Data loaded, with shape (8684, 825)\n",
      "\u001b[35m\n",
      "✅ Train and test sets created\u001b[0m\n",
      "\u001b[34m\n",
      "Shape of Entire dataset : (8684, 10)\u001b[0m\n",
      "\u001b[34mShape of Training dataset : (6948, 10)\u001b[0m\n",
      "\u001b[34mShape of Test dataset : (1760, 10)\u001b[0m\n",
      "\u001b[35m\n",
      "✅ Validation train and test sets created\u001b[0m\n",
      "\u001b[34m\n",
      "Shape of Validation dataset : (6948, 10)\u001b[0m\n",
      "\u001b[34mShape of Val. Train dataset : (5559, 10)\u001b[0m\n",
      "\u001b[34mShape of Val. Test dataset : (1413, 10)\u001b[0m\n",
      "\u001b[35m\n",
      "✅ y scaled\u001b[0m\n"
     ]
    },
    {
     "name": "stderr",
     "output_type": "stream",
     "text": [
      "/Users/thammadoltansrivorarat/code/elsebasmar/london-bss/londonbss/ml_logic/main.py:141: SettingWithCopyWarning: \n",
      "A value is trying to be set on a copy of a slice from a DataFrame.\n",
      "Try using .loc[row_indexer,col_indexer] = value instead\n",
      "\n",
      "See the caveats in the documentation: https://pandas.pydata.org/pandas-docs/stable/user_guide/indexing.html#returning-a-view-versus-a-copy\n",
      "  val_train[station] = Robust_scale.transform(val_train[[station]])\n",
      "/Users/thammadoltansrivorarat/code/elsebasmar/london-bss/londonbss/ml_logic/main.py:142: SettingWithCopyWarning: \n",
      "A value is trying to be set on a copy of a slice from a DataFrame.\n",
      "Try using .loc[row_indexer,col_indexer] = value instead\n",
      "\n",
      "See the caveats in the documentation: https://pandas.pydata.org/pandas-docs/stable/user_guide/indexing.html#returning-a-view-versus-a-copy\n",
      "  val_test[station] = Robust_scale.transform(val_test[[station]])\n",
      "/Users/thammadoltansrivorarat/code/elsebasmar/london-bss/londonbss/ml_logic/main.py:143: SettingWithCopyWarning: \n",
      "A value is trying to be set on a copy of a slice from a DataFrame.\n",
      "Try using .loc[row_indexer,col_indexer] = value instead\n",
      "\n",
      "See the caveats in the documentation: https://pandas.pydata.org/pandas-docs/stable/user_guide/indexing.html#returning-a-view-versus-a-copy\n",
      "  test[station] = Robust_scale.transform(test[[station]])\n"
     ]
    },
    {
     "name": "stdout",
     "output_type": "stream",
     "text": [
      "\u001b[35m\n",
      "✅ X and y created\u001b[0m\n",
      "\u001b[34mValidation Train data size:\u001b[0m\n",
      "(5535, 24, 9) (5535,)\n",
      "\u001b[34mValidation Test data size:\u001b[0m\n",
      "(1389, 24, 9) (1389,)\n",
      "\u001b[34mTest data size:\u001b[0m\n",
      "(1736, 24, 9) (1736,)\n",
      "\u001b[34m\n",
      "Load latest model from local registry...\u001b[0m\n",
      "\u001b[34m\n",
      "Load latest model from disk...\u001b[0m\n",
      "✅ Model loaded from local disk\n",
      "\n",
      "✅ Model compiled\n",
      "\u001b[34m\n",
      "Training model...\u001b[0m\n",
      "Epoch 1/50\n"
     ]
    },
    {
     "name": "stderr",
     "output_type": "stream",
     "text": [
      "2023-09-05 15:28:06.229696: I tensorflow/core/grappler/optimizers/custom_graph_optimizer_registry.cc:113] Plugin optimizer for device_type GPU is enabled.\n",
      "2023-09-05 15:28:06.532325: I tensorflow/core/grappler/optimizers/custom_graph_optimizer_registry.cc:113] Plugin optimizer for device_type GPU is enabled.\n",
      "2023-09-05 15:28:06.559503: I tensorflow/core/grappler/optimizers/custom_graph_optimizer_registry.cc:113] Plugin optimizer for device_type GPU is enabled.\n",
      "2023-09-05 15:28:06.950312: I tensorflow/core/grappler/optimizers/custom_graph_optimizer_registry.cc:113] Plugin optimizer for device_type GPU is enabled.\n",
      "2023-09-05 15:28:06.970311: I tensorflow/core/grappler/optimizers/custom_graph_optimizer_registry.cc:113] Plugin optimizer for device_type GPU is enabled.\n"
     ]
    },
    {
     "name": "stdout",
     "output_type": "stream",
     "text": [
      "277/277 [==============================] - ETA: 0s - loss: 46.6253 - mae: 3.7491"
     ]
    },
    {
     "name": "stderr",
     "output_type": "stream",
     "text": [
      "2023-09-05 15:28:16.379995: I tensorflow/core/grappler/optimizers/custom_graph_optimizer_registry.cc:113] Plugin optimizer for device_type GPU is enabled.\n",
      "2023-09-05 15:28:16.481132: I tensorflow/core/grappler/optimizers/custom_graph_optimizer_registry.cc:113] Plugin optimizer for device_type GPU is enabled.\n",
      "2023-09-05 15:28:16.492747: I tensorflow/core/grappler/optimizers/custom_graph_optimizer_registry.cc:113] Plugin optimizer for device_type GPU is enabled.\n"
     ]
    },
    {
     "name": "stdout",
     "output_type": "stream",
     "text": [
      "277/277 [==============================] - 13s 38ms/step - loss: 46.6253 - mae: 3.7491 - val_loss: 299.2489 - val_mae: 8.4053\n",
      "Epoch 2/50\n",
      "277/277 [==============================] - 9s 32ms/step - loss: 40.6245 - mae: 3.5400 - val_loss: 281.1928 - val_mae: 8.0484\n",
      "Epoch 3/50\n",
      "277/277 [==============================] - 9s 32ms/step - loss: 38.2046 - mae: 3.4292 - val_loss: 315.6917 - val_mae: 8.3737\n",
      "Epoch 4/50\n",
      "277/277 [==============================] - 9s 32ms/step - loss: 39.2137 - mae: 3.5109 - val_loss: 313.7576 - val_mae: 8.3296\n",
      "Epoch 5/50\n",
      "277/277 [==============================] - 9s 31ms/step - loss: 39.0077 - mae: 3.5122 - val_loss: 332.1552 - val_mae: 8.5287\n",
      "Epoch 6/50\n",
      "277/277 [==============================] - 9s 31ms/step - loss: 34.9619 - mae: 3.2722 - val_loss: 302.3018 - val_mae: 8.4370\n",
      "Epoch 7/50\n",
      "277/277 [==============================] - 9s 32ms/step - loss: 71.3561 - mae: 4.8294 - val_loss: 343.3228 - val_mae: 9.8360\n",
      "Epoch 8/50\n",
      "277/277 [==============================] - 9s 31ms/step - loss: 66.2060 - mae: 4.6269 - val_loss: 367.2709 - val_mae: 9.1263\n",
      "Epoch 9/50\n",
      "277/277 [==============================] - 9s 31ms/step - loss: 63.8820 - mae: 4.5264 - val_loss: 369.0143 - val_mae: 8.8996\n",
      "Epoch 10/50\n",
      "277/277 [==============================] - 9s 33ms/step - loss: 60.4077 - mae: 4.4673 - val_loss: 377.3124 - val_mae: 9.2404\n",
      "Epoch 11/50\n",
      "277/277 [==============================] - 9s 33ms/step - loss: 59.2419 - mae: 4.4126 - val_loss: 423.6708 - val_mae: 9.4691\n",
      "Epoch 12/50\n",
      "277/277 [==============================] - ETA: 0s - loss: 63.3974 - mae: 4.3206Restoring model weights from the end of the best epoch: 2.\n",
      "277/277 [==============================] - 9s 31ms/step - loss: 63.3974 - mae: 4.3206 - val_loss: 369.6299 - val_mae: 9.5113\n",
      "Epoch 12: early stopping\n",
      "\n",
      "✅ Model trained on 5535 rows with min val MAE: 8.05\n",
      "✅ Results saved locally\n",
      "✅ Model saved locally\n",
      "✅ train() done for f{station} \n",
      "\n"
     ]
    }
   ],
   "source": [
    "train(station='waterloo_station_3__waterloo')"
   ]
  },
  {
   "cell_type": "code",
   "execution_count": 21,
   "id": "405c9ed0",
   "metadata": {},
   "outputs": [
    {
     "name": "stdout",
     "output_type": "stream",
     "text": [
      "\u001b[35m\n",
      "⭐️ Use case: evaluate\u001b[0m\n",
      "\u001b[34m\n",
      "Load latest model from local registry...\u001b[0m\n",
      "\u001b[34m\n",
      "Load latest model from disk...\u001b[0m\n",
      "✅ Model loaded from local disk\n",
      "✅ load_model() done \n",
      "\n"
     ]
    }
   ],
   "source": [
    "df = evaluate()"
   ]
  },
  {
   "cell_type": "code",
   "execution_count": 6,
   "id": "cf2ded80",
   "metadata": {},
   "outputs": [],
   "source": [
    "import os\n",
    "import glob"
   ]
  },
  {
   "cell_type": "code",
   "execution_count": 7,
   "id": "8bd83171",
   "metadata": {},
   "outputs": [
    {
     "data": {
      "text/plain": [
       "['/home/sebasmar/code/elsebasmar/london-bss/training_outputs/models/20230905-124956-abbey_orchard_street__westminster.h5']"
      ]
     },
     "execution_count": 7,
     "metadata": {},
     "output_type": "execute_result"
    }
   ],
   "source": [
    "local_model_directory = os.path.join(LOCAL_REGISTRY_PATH, \"models\")\n",
    "glob.glob(f\"{local_model_directory}/*\")"
   ]
  },
  {
   "cell_type": "code",
   "execution_count": 3,
   "id": "fbff7161",
   "metadata": {},
   "outputs": [
    {
     "name": "stdout",
     "output_type": "stream",
     "text": [
      "\u001b[34m\n",
      "Load latest model from local registry...\u001b[0m\n"
     ]
    },
    {
     "data": {
      "text/plain": [
       "'/home/sebasmar/code/elsebasmar/london-bss/training_outputs/models/20230905-124956-abbey_orchard_street__westminster.h5'"
      ]
     },
     "execution_count": 3,
     "metadata": {},
     "output_type": "execute_result"
    }
   ],
   "source": [
    "load_model(stage='Production',n_station='ssda')"
   ]
  },
  {
   "cell_type": "code",
   "execution_count": 29,
   "id": "91976ef7",
   "metadata": {},
   "outputs": [],
   "source": [
    "import glob"
   ]
  },
  {
   "cell_type": "code",
   "execution_count": 30,
   "id": "65804d07",
   "metadata": {},
   "outputs": [],
   "source": [
    "local_model_directory = os.path.join(LOCAL_REGISTRY_PATH, \"models\")\n",
    "local_model_paths = glob.glob(f\"{local_model_directory}/*\")"
   ]
  },
  {
   "cell_type": "code",
   "execution_count": 66,
   "id": "415ad658",
   "metadata": {},
   "outputs": [],
   "source": [
    "arr=[]\n",
    "pair=[]"
   ]
  },
  {
   "cell_type": "code",
   "execution_count": 67,
   "id": "3b82e5b2",
   "metadata": {},
   "outputs": [],
   "source": [
    "for i in range(len(local_model_paths)):\n",
    "    spl=local_model_paths[i].split('/')\n",
    "    end=spl[-1]\n",
    "    cur=end.split('-')\n",
    "    pair.append((cur[0],cur[1],cur[2][:-3],i))"
   ]
  },
  {
   "cell_type": "code",
   "execution_count": 68,
   "id": "21e735fe",
   "metadata": {},
   "outputs": [],
   "source": [
    "pair.sort()"
   ]
  },
  {
   "cell_type": "code",
   "execution_count": 69,
   "id": "1b55c9cb",
   "metadata": {},
   "outputs": [
    {
     "data": {
      "text/plain": [
       "[('20230905', '124956', 'abbey_orchard_street__westminster', 6),\n",
       " ('20230905', '144006', 'abbey_orchard_street__westminster', 2),\n",
       " ('20230905', '144747', 'hyde_park_corner__hyde_park', 1),\n",
       " ('20230905', '145050', 'hop_exchange__the_borough', 4),\n",
       " ('20230905', '145346', 'albert_gate__hyde_park', 5),\n",
       " ('20230905', '145616', 'belgrove_street___kings_cross', 11),\n",
       " ('20230905', '145830', 'waterloo_station_3__waterloo', 7),\n",
       " ('20230905', '150630', 'hyde_park_corner__hyde_park', 10),\n",
       " ('20230905', '151607', 'hop_exchange__the_borough', 0),\n",
       " ('20230905', '151925', 'albert_gate__hyde_park', 8),\n",
       " ('20230905', '152608', 'belgrove_street___kings_cross', 9),\n",
       " ('20230905', '152954', 'waterloo_station_3__waterloo', 3)]"
      ]
     },
     "execution_count": 69,
     "metadata": {},
     "output_type": "execute_result"
    }
   ],
   "source": [
    "pair"
   ]
  },
  {
   "cell_type": "code",
   "execution_count": 56,
   "id": "6720a373",
   "metadata": {},
   "outputs": [
    {
     "data": {
      "text/plain": [
       "['/Users/thammadoltansrivorarat/code/elsebasmar/london-bss/training_outputs/models/20230905-151607-hop_exchange__the_borough.h5',\n",
       " '/Users/thammadoltansrivorarat/code/elsebasmar/london-bss/training_outputs/models/20230905-144747-hyde_park_corner__hyde_park.h5',\n",
       " '/Users/thammadoltansrivorarat/code/elsebasmar/london-bss/training_outputs/models/20230905-144006-abbey_orchard_street__westminster.h5',\n",
       " '/Users/thammadoltansrivorarat/code/elsebasmar/london-bss/training_outputs/models/20230905-152954-waterloo_station_3__waterloo.h5',\n",
       " '/Users/thammadoltansrivorarat/code/elsebasmar/london-bss/training_outputs/models/20230905-145050-hop_exchange__the_borough.h5',\n",
       " '/Users/thammadoltansrivorarat/code/elsebasmar/london-bss/training_outputs/models/20230905-145346-albert_gate__hyde_park.h5',\n",
       " '/Users/thammadoltansrivorarat/code/elsebasmar/london-bss/training_outputs/models/20230905-124956-abbey_orchard_street__westminster.h5',\n",
       " '/Users/thammadoltansrivorarat/code/elsebasmar/london-bss/training_outputs/models/20230905-145830-waterloo_station_3__waterloo.h5',\n",
       " '/Users/thammadoltansrivorarat/code/elsebasmar/london-bss/training_outputs/models/20230905-151925-albert_gate__hyde_park.h5',\n",
       " '/Users/thammadoltansrivorarat/code/elsebasmar/london-bss/training_outputs/models/20230905-152608-belgrove_street___kings_cross.h5',\n",
       " '/Users/thammadoltansrivorarat/code/elsebasmar/london-bss/training_outputs/models/20230905-150630-hyde_park_corner__hyde_park.h5',\n",
       " '/Users/thammadoltansrivorarat/code/elsebasmar/london-bss/training_outputs/models/20230905-145616-belgrove_street___kings_cross.h5']"
      ]
     },
     "execution_count": 56,
     "metadata": {},
     "output_type": "execute_result"
    }
   ],
   "source": [
    "local_model_paths"
   ]
  },
  {
   "cell_type": "code",
   "execution_count": 74,
   "id": "27a7bd04",
   "metadata": {},
   "outputs": [],
   "source": [
    "import streamlit as st\n",
    "from tensorflow.keras.models import load_model\n",
    "\n",
    "model=load_model('../../training_outputs/models/20230905-150630-hyde_park_corner__hyde_park.h5')"
   ]
  },
  {
   "cell_type": "code",
   "execution_count": 75,
   "id": "e6edd50d",
   "metadata": {},
   "outputs": [
    {
     "data": {
      "text/plain": [
       "<keras.engine.sequential.Sequential at 0x2d94bd000>"
      ]
     },
     "execution_count": 75,
     "metadata": {},
     "output_type": "execute_result"
    }
   ],
   "source": [
    "model.predict()"
   ]
  },
  {
   "cell_type": "code",
   "execution_count": null,
   "id": "ac151da2",
   "metadata": {},
   "outputs": [],
   "source": []
  }
 ],
 "metadata": {
  "kernelspec": {
   "display_name": "Python 3 (ipykernel)",
   "language": "python",
   "name": "python3"
  },
  "language_info": {
   "codemirror_mode": {
    "name": "ipython",
    "version": 3
   },
   "file_extension": ".py",
   "mimetype": "text/x-python",
   "name": "python",
   "nbconvert_exporter": "python",
   "pygments_lexer": "ipython3",
   "version": "3.10.6"
  }
 },
 "nbformat": 4,
 "nbformat_minor": 5
}
