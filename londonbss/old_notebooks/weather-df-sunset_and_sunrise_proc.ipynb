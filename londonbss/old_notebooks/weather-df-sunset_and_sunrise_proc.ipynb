{
 "cells": [
  {
   "cell_type": "markdown",
   "id": "e48e1c85-6146-4e89-bda7-3c2dc5779c1e",
   "metadata": {},
   "source": [
    "### Preprocessing sunrise and sunset time to encode it as daytime or nighttime"
   ]
  },
  {
   "cell_type": "code",
   "execution_count": 1,
   "id": "590ea402",
   "metadata": {},
   "outputs": [],
   "source": [
    "import requests\n",
    "import pandas as pd\n",
    "import dateutil.parser"
   ]
  },
  {
   "cell_type": "code",
   "execution_count": 2,
   "id": "882a2c53-0412-4906-a6de-d1b0514fa893",
   "metadata": {},
   "outputs": [],
   "source": [
    "#1.  Get data from the api"
   ]
  },
  {
   "cell_type": "code",
   "execution_count": 3,
   "id": "0ec4d048-6431-499c-8bdd-9140de57ce41",
   "metadata": {},
   "outputs": [],
   "source": [
    "url = 'https://archive-api.open-meteo.com/v1/archive'\n",
    "\n",
    "params_daily_dict ={\n",
    "        \"latitude\":\"51.5085\", #London latitude - should remain hardcoded\n",
    "        \"longitude\":\"-0.1780971\", #London longitude -should remain hardcoded\n",
    "        \"start_date\":\"2023-08-20\", #could be defined in .env and used in the other files\n",
    "        \"end_date\":\"2023-08-23\", #could be defined in .env and used in the other files\n",
    "        \"timezone\":\"Europe/London\", #Europe/London - specific to this api\n",
    "        \"daily\":\"sunrise,sunset\" # specific to this api\n",
    "}\n",
    "\n",
    "daily_weather_response = requests.get(\n",
    "        'https://archive-api.open-meteo.com/v1/archive',\n",
    "        params=params_daily_dict).json()\n",
    "\n",
    "sunset_time = daily_weather_response[\"daily\"][\"sunset\"]\n",
    "sunrise_time = daily_weather_response[\"daily\"][\"sunrise\"]"
   ]
  },
  {
   "cell_type": "code",
   "execution_count": 4,
   "id": "d8d6f757-c86a-4339-b5ed-8d8881f97c65",
   "metadata": {},
   "outputs": [],
   "source": [
    "daily_data = pd.DataFrame()"
   ]
  },
  {
   "cell_type": "code",
   "execution_count": 5,
   "id": "31d1954d-be12-4523-bef9-150e368e651d",
   "metadata": {},
   "outputs": [],
   "source": [
    "daily_data[\"sunrise\"] = sunrise_time\n",
    "daily_data[\"sunset\"] = sunset_time"
   ]
  },
  {
   "cell_type": "code",
   "execution_count": 6,
   "id": "435339ca-b9df-4846-9a46-167a6adf9a32",
   "metadata": {},
   "outputs": [
    {
     "data": {
      "text/html": [
       "<div>\n",
       "<style scoped>\n",
       "    .dataframe tbody tr th:only-of-type {\n",
       "        vertical-align: middle;\n",
       "    }\n",
       "\n",
       "    .dataframe tbody tr th {\n",
       "        vertical-align: top;\n",
       "    }\n",
       "\n",
       "    .dataframe thead th {\n",
       "        text-align: right;\n",
       "    }\n",
       "</style>\n",
       "<table border=\"1\" class=\"dataframe\">\n",
       "  <thead>\n",
       "    <tr style=\"text-align: right;\">\n",
       "      <th></th>\n",
       "      <th>sunrise</th>\n",
       "      <th>sunset</th>\n",
       "    </tr>\n",
       "  </thead>\n",
       "  <tbody>\n",
       "    <tr>\n",
       "      <th>0</th>\n",
       "      <td>2023-08-20T05:54</td>\n",
       "      <td>2023-08-20T20:14</td>\n",
       "    </tr>\n",
       "    <tr>\n",
       "      <th>1</th>\n",
       "      <td>2023-08-21T05:55</td>\n",
       "      <td>2023-08-21T20:12</td>\n",
       "    </tr>\n",
       "    <tr>\n",
       "      <th>2</th>\n",
       "      <td>2023-08-22T05:57</td>\n",
       "      <td>2023-08-22T20:10</td>\n",
       "    </tr>\n",
       "    <tr>\n",
       "      <th>3</th>\n",
       "      <td>2023-08-23T05:58</td>\n",
       "      <td>2023-08-23T20:07</td>\n",
       "    </tr>\n",
       "  </tbody>\n",
       "</table>\n",
       "</div>"
      ],
      "text/plain": [
       "            sunrise            sunset\n",
       "0  2023-08-20T05:54  2023-08-20T20:14\n",
       "1  2023-08-21T05:55  2023-08-21T20:12\n",
       "2  2023-08-22T05:57  2023-08-22T20:10\n",
       "3  2023-08-23T05:58  2023-08-23T20:07"
      ]
     },
     "execution_count": 6,
     "metadata": {},
     "output_type": "execute_result"
    }
   ],
   "source": [
    "daily_data.head()"
   ]
  },
  {
   "cell_type": "code",
   "execution_count": 7,
   "id": "62bd23dd-5361-4be3-96ec-d0827ceb8236",
   "metadata": {},
   "outputs": [],
   "source": [
    "#1bis transform the time into datetime"
   ]
  },
  {
   "cell_type": "code",
   "execution_count": 8,
   "id": "336a6972-01be-44e4-991a-4fde6fe6b6f2",
   "metadata": {},
   "outputs": [],
   "source": [
    "def date_parser(time):\n",
    "    date_parser = dateutil.parser.isoparse(time)\n",
    "    return date_parser"
   ]
  },
  {
   "cell_type": "code",
   "execution_count": 9,
   "id": "2c635f45-5434-4a4a-adeb-f643506d4c11",
   "metadata": {},
   "outputs": [],
   "source": [
    "daily_data[\"sunrise_datetime\"] = daily_data.apply(lambda x: date_parser(x[\"sunrise\"]), axis = 1)"
   ]
  },
  {
   "cell_type": "code",
   "execution_count": 10,
   "id": "59b1a1d8-0608-4df5-8874-7e4c5c0e4c35",
   "metadata": {},
   "outputs": [],
   "source": [
    "daily_data[\"sunset_datetime\"] = daily_data.apply(lambda x: date_parser(x[\"sunset\"]), axis = 1)"
   ]
  },
  {
   "cell_type": "code",
   "execution_count": 11,
   "id": "f81bda66-934d-4578-8cf2-dc8bd285e439",
   "metadata": {},
   "outputs": [
    {
     "data": {
      "text/html": [
       "<div>\n",
       "<style scoped>\n",
       "    .dataframe tbody tr th:only-of-type {\n",
       "        vertical-align: middle;\n",
       "    }\n",
       "\n",
       "    .dataframe tbody tr th {\n",
       "        vertical-align: top;\n",
       "    }\n",
       "\n",
       "    .dataframe thead th {\n",
       "        text-align: right;\n",
       "    }\n",
       "</style>\n",
       "<table border=\"1\" class=\"dataframe\">\n",
       "  <thead>\n",
       "    <tr style=\"text-align: right;\">\n",
       "      <th></th>\n",
       "      <th>sunrise</th>\n",
       "      <th>sunset</th>\n",
       "      <th>sunrise_datetime</th>\n",
       "      <th>sunset_datetime</th>\n",
       "    </tr>\n",
       "  </thead>\n",
       "  <tbody>\n",
       "    <tr>\n",
       "      <th>0</th>\n",
       "      <td>2023-08-20T05:54</td>\n",
       "      <td>2023-08-20T20:14</td>\n",
       "      <td>2023-08-20 05:54:00</td>\n",
       "      <td>2023-08-20 20:14:00</td>\n",
       "    </tr>\n",
       "    <tr>\n",
       "      <th>1</th>\n",
       "      <td>2023-08-21T05:55</td>\n",
       "      <td>2023-08-21T20:12</td>\n",
       "      <td>2023-08-21 05:55:00</td>\n",
       "      <td>2023-08-21 20:12:00</td>\n",
       "    </tr>\n",
       "    <tr>\n",
       "      <th>2</th>\n",
       "      <td>2023-08-22T05:57</td>\n",
       "      <td>2023-08-22T20:10</td>\n",
       "      <td>2023-08-22 05:57:00</td>\n",
       "      <td>2023-08-22 20:10:00</td>\n",
       "    </tr>\n",
       "    <tr>\n",
       "      <th>3</th>\n",
       "      <td>2023-08-23T05:58</td>\n",
       "      <td>2023-08-23T20:07</td>\n",
       "      <td>2023-08-23 05:58:00</td>\n",
       "      <td>2023-08-23 20:07:00</td>\n",
       "    </tr>\n",
       "  </tbody>\n",
       "</table>\n",
       "</div>"
      ],
      "text/plain": [
       "            sunrise            sunset    sunrise_datetime     sunset_datetime\n",
       "0  2023-08-20T05:54  2023-08-20T20:14 2023-08-20 05:54:00 2023-08-20 20:14:00\n",
       "1  2023-08-21T05:55  2023-08-21T20:12 2023-08-21 05:55:00 2023-08-21 20:12:00\n",
       "2  2023-08-22T05:57  2023-08-22T20:10 2023-08-22 05:57:00 2023-08-22 20:10:00\n",
       "3  2023-08-23T05:58  2023-08-23T20:07 2023-08-23 05:58:00 2023-08-23 20:07:00"
      ]
     },
     "execution_count": 11,
     "metadata": {},
     "output_type": "execute_result"
    }
   ],
   "source": [
    "daily_data"
   ]
  },
  {
   "cell_type": "code",
   "execution_count": 12,
   "id": "6e2a1174-5de4-4420-8af7-73bd481e199d",
   "metadata": {},
   "outputs": [
    {
     "data": {
      "text/plain": [
       "0    False\n",
       "1    False\n",
       "2    False\n",
       "3    False\n",
       "dtype: bool"
      ]
     },
     "execution_count": 12,
     "metadata": {},
     "output_type": "execute_result"
    }
   ],
   "source": [
    "daily_data[\"sunset_datetime\"] < daily_data[\"sunrise_datetime\"]"
   ]
  },
  {
   "cell_type": "code",
   "execution_count": 13,
   "id": "1c86d4a5-f84b-4765-9d29-70c2a61bffbc",
   "metadata": {},
   "outputs": [],
   "source": [
    "#2.  Idea: \n",
    "    ## 2.1  hours before sunrise time should be encoded as \"nighttime\"\n",
    "    ## 2.2 hours after sunset time should be encoded as \"nightime\"\n",
    "    ## 2.3 hours between sunrise and sunset should be encoded as \"daytime\"\n",
    "    ## 2.4 the hour when sun rises should be encoded as \"nightime\"\n",
    "    ## 2.5 the hour when the sun sets shouldbe encoded as \"daytime\""
   ]
  },
  {
   "cell_type": "code",
   "execution_count": 14,
   "id": "f89bc015-82c9-4623-92a9-df5d3b121c72",
   "metadata": {},
   "outputs": [],
   "source": [
    "def daytime_encoding(time_test, sunrise_datetime, sunset_datetime):\n",
    "    if time_test < sunrise_datetime:\n",
    "        daytime_encoding = \"nighttime\"\n",
    "    elif time_test >= sunrise_datetime and time_test < sunset_datetime:\n",
    "        daytime_encoding = \"daytime\"\n",
    "    else:\n",
    "        daytime_encoding = \"nighttime\"\n",
    "    return daytime_encoding"
   ]
  },
  {
   "cell_type": "code",
   "execution_count": null,
   "id": "ed85ffd7-3552-4350-9760-85e7c4480b61",
   "metadata": {},
   "outputs": [],
   "source": [
    "#3. Add encoded data to an additional column in the weather_data df"
   ]
  },
  {
   "cell_type": "code",
   "execution_count": null,
   "id": "ee417d4e-cae0-44a6-a108-1a7fe2e4f954",
   "metadata": {},
   "outputs": [],
   "source": [
    "daily_data[\"encoding\"] = daily_data.apply(lambda x: daytime_encoding(x[\"test_time\"], x[\"sunrise_datetime\"], x[\"sunset_datetime\"]), axis = 1)"
   ]
  },
  {
   "cell_type": "code",
   "execution_count": null,
   "id": "9d0dadc1-eb80-4cb1-be52-a5db5195afc3",
   "metadata": {},
   "outputs": [],
   "source": [
    "daily_data"
   ]
  },
  {
   "cell_type": "code",
   "execution_count": null,
   "id": "11306b88-c968-4bd8-8d40-2e8afcceed0e",
   "metadata": {},
   "outputs": [],
   "source": []
  }
 ],
 "metadata": {
  "kernelspec": {
   "display_name": "Python 3 (ipykernel)",
   "language": "python",
   "name": "python3"
  },
  "language_info": {
   "codemirror_mode": {
    "name": "ipython",
    "version": 3
   },
   "file_extension": ".py",
   "mimetype": "text/x-python",
   "name": "python",
   "nbconvert_exporter": "python",
   "pygments_lexer": "ipython3",
   "version": "3.10.6"
  }
 },
 "nbformat": 4,
 "nbformat_minor": 5
}
